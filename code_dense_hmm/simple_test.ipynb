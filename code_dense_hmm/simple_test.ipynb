{
 "cells": [
  {
   "cell_type": "code",
   "execution_count": 49,
   "metadata": {
    "collapsed": true,
    "pycharm": {
     "name": "#%%\n"
    }
   },
   "outputs": [],
   "source": [
    "import numpy as np\n",
    "from hmmlearn import hmm\n",
    "from models import StandardHMM, DenseHMM"
   ]
  },
  {
   "cell_type": "code",
   "execution_count": 50,
   "outputs": [],
   "source": [
    "import ssm\n",
    "from ssm.util import find_permutation"
   ],
   "metadata": {
    "collapsed": false,
    "pycharm": {
     "name": "#%%\n"
    }
   }
  },
  {
   "cell_type": "code",
   "execution_count": 51,
   "outputs": [],
   "source": [
    "n = 4\n",
    "n_features = 20\n",
    "T = 10000\n",
    "np.random.seed(2022)"
   ],
   "metadata": {
    "collapsed": false,
    "pycharm": {
     "name": "#%%\n"
    }
   }
  },
  {
   "cell_type": "code",
   "execution_count": 52,
   "outputs": [
    {
     "name": "stdout",
     "output_type": "stream",
     "text": [
      "[[0.19654409 0.07287817 0.56800767 0.16257008]\n",
      " [0.35182895 0.14605805 0.25343227 0.24868073]\n",
      " [0.3189469  0.59131471 0.03110439 0.05863401]\n",
      " [0.033737   0.13675546 0.81950126 0.01000628]]\n",
      "[[0.06002488 0.00627282 0.00646954 0.06255808 0.00159528 0.01993377\n",
      "  0.10949811 0.01015476 0.00419833 0.01563687 0.02446125 0.00833843\n",
      "  0.19119066 0.00175563 0.07709793 0.00869842 0.06116333 0.14065\n",
      "  0.00936557 0.18093636]\n",
      " [0.0033018  0.00271772 0.00969413 0.01354555 0.02550351 0.06218624\n",
      "  0.06372731 0.03839945 0.00328873 0.19621213 0.00266308 0.10978371\n",
      "  0.00264011 0.00836001 0.00613285 0.00802059 0.23290171 0.00228911\n",
      "  0.01652552 0.19210673]\n",
      " [0.0037348  0.0015001  0.04392505 0.00349651 0.0206727  0.02746123\n",
      "  0.18878684 0.00213588 0.00185537 0.18799384 0.01289951 0.09617844\n",
      "  0.0100129  0.00937158 0.11202101 0.03504082 0.06540799 0.00217776\n",
      "  0.16858827 0.00673939]\n",
      " [0.00899809 0.06936065 0.01246044 0.0045815  0.00216479 0.13178157\n",
      "  0.04762684 0.1621241  0.04749894 0.00399227 0.01995184 0.00549064\n",
      "  0.23403878 0.01679487 0.00308328 0.15807878 0.06430662 0.00229327\n",
      "  0.00301463 0.0023581 ]]\n"
     ]
    }
   ],
   "source": [
    "startprob = np.random.uniform(size=n)\n",
    "startprob /= startprob.sum()\n",
    "# A = np.repeat(startprob[np.newaxis,:], n, axis=0)\n",
    "A = np.exp(np.random.uniform(0, 5, size=(n, n)))\n",
    "A /= A.sum(axis=1)[:, np.newaxis]\n",
    "print(A)\n",
    "\n",
    "B = np.exp(np.random.uniform(0, 5, size=(n,  n_features)))\n",
    "B /= B.sum(axis=1)[:, np.newaxis]\n",
    "print(B)"
   ],
   "metadata": {
    "collapsed": false,
    "pycharm": {
     "name": "#%%\n"
    }
   }
  },
  {
   "cell_type": "code",
   "execution_count": 53,
   "outputs": [],
   "source": [
    "def my_hmm_sampler(pi, A, B, T):\n",
    "    X = [np.random.choice(np.arange(n), 1, replace=True, p=pi)]\n",
    "    for t in range(T-1):\n",
    "        X.append(np.random.choice(np.arange(n), 1, replace=True, p=A[X[t][0],  :]))\n",
    "    Y = np.concatenate([np.random.choice(np.arange(n_features), 1, replace=True, p=B[s[0],  :]) for  s  in X]).reshape(-1,  1)\n",
    "    return X, Y\n",
    "\n",
    "Y_true, X_true = my_hmm_sampler(startprob, A, B, T)"
   ],
   "metadata": {
    "collapsed": false,
    "pycharm": {
     "name": "#%%\n"
    }
   }
  },
  {
   "cell_type": "code",
   "execution_count": 54,
   "outputs": [],
   "source": [
    "# import  pandas  as pd\n",
    "# pd.DataFrame({\"Y\":Y_true, \"X\":X_true[:,0]}).value_counts().sort_index()"
   ],
   "metadata": {
    "collapsed": false,
    "pycharm": {
     "name": "#%%\n"
    }
   }
  },
  {
   "cell_type": "code",
   "execution_count": 55,
   "outputs": [],
   "source": [
    "# print(Y_true, X_true )"
   ],
   "metadata": {
    "collapsed": false,
    "pycharm": {
     "name": "#%%\n"
    }
   }
  },
  {
   "cell_type": "code",
   "execution_count": 56,
   "outputs": [],
   "source": [
    "standardhmm = StandardHMM(n, init_params=None, em_iter=1000)\n",
    "densehmm = DenseHMM(n)"
   ],
   "metadata": {
    "collapsed": false,
    "pycharm": {
     "name": "#%%\n"
    }
   }
  },
  {
   "cell_type": "code",
   "execution_count": 57,
   "outputs": [
    {
     "name": "stdout",
     "output_type": "stream",
     "text": [
      "CPU times: user 13.9 s, sys: 4.93 ms, total: 13.9 s\n",
      "Wall time: 13.9 s\n"
     ]
    },
    {
     "data": {
      "text/plain": "MultinomialHMM(n_components=4, n_iter=1000,\n               random_state=RandomState(MT19937) at 0x7F6D15681440)",
      "text/html": "<style>#sk-container-id-2 {color: black;background-color: white;}#sk-container-id-2 pre{padding: 0;}#sk-container-id-2 div.sk-toggleable {background-color: white;}#sk-container-id-2 label.sk-toggleable__label {cursor: pointer;display: block;width: 100%;margin-bottom: 0;padding: 0.3em;box-sizing: border-box;text-align: center;}#sk-container-id-2 label.sk-toggleable__label-arrow:before {content: \"▸\";float: left;margin-right: 0.25em;color: #696969;}#sk-container-id-2 label.sk-toggleable__label-arrow:hover:before {color: black;}#sk-container-id-2 div.sk-estimator:hover label.sk-toggleable__label-arrow:before {color: black;}#sk-container-id-2 div.sk-toggleable__content {max-height: 0;max-width: 0;overflow: hidden;text-align: left;background-color: #f0f8ff;}#sk-container-id-2 div.sk-toggleable__content pre {margin: 0.2em;color: black;border-radius: 0.25em;background-color: #f0f8ff;}#sk-container-id-2 input.sk-toggleable__control:checked~div.sk-toggleable__content {max-height: 200px;max-width: 100%;overflow: auto;}#sk-container-id-2 input.sk-toggleable__control:checked~label.sk-toggleable__label-arrow:before {content: \"▾\";}#sk-container-id-2 div.sk-estimator input.sk-toggleable__control:checked~label.sk-toggleable__label {background-color: #d4ebff;}#sk-container-id-2 div.sk-label input.sk-toggleable__control:checked~label.sk-toggleable__label {background-color: #d4ebff;}#sk-container-id-2 input.sk-hidden--visually {border: 0;clip: rect(1px 1px 1px 1px);clip: rect(1px, 1px, 1px, 1px);height: 1px;margin: -1px;overflow: hidden;padding: 0;position: absolute;width: 1px;}#sk-container-id-2 div.sk-estimator {font-family: monospace;background-color: #f0f8ff;border: 1px dotted black;border-radius: 0.25em;box-sizing: border-box;margin-bottom: 0.5em;}#sk-container-id-2 div.sk-estimator:hover {background-color: #d4ebff;}#sk-container-id-2 div.sk-parallel-item::after {content: \"\";width: 100%;border-bottom: 1px solid gray;flex-grow: 1;}#sk-container-id-2 div.sk-label:hover label.sk-toggleable__label {background-color: #d4ebff;}#sk-container-id-2 div.sk-serial::before {content: \"\";position: absolute;border-left: 1px solid gray;box-sizing: border-box;top: 0;bottom: 0;left: 50%;z-index: 0;}#sk-container-id-2 div.sk-serial {display: flex;flex-direction: column;align-items: center;background-color: white;padding-right: 0.2em;padding-left: 0.2em;position: relative;}#sk-container-id-2 div.sk-item {position: relative;z-index: 1;}#sk-container-id-2 div.sk-parallel {display: flex;align-items: stretch;justify-content: center;background-color: white;position: relative;}#sk-container-id-2 div.sk-item::before, #sk-container-id-2 div.sk-parallel-item::before {content: \"\";position: absolute;border-left: 1px solid gray;box-sizing: border-box;top: 0;bottom: 0;left: 50%;z-index: -1;}#sk-container-id-2 div.sk-parallel-item {display: flex;flex-direction: column;z-index: 1;position: relative;background-color: white;}#sk-container-id-2 div.sk-parallel-item:first-child::after {align-self: flex-end;width: 50%;}#sk-container-id-2 div.sk-parallel-item:last-child::after {align-self: flex-start;width: 50%;}#sk-container-id-2 div.sk-parallel-item:only-child::after {width: 0;}#sk-container-id-2 div.sk-dashed-wrapped {border: 1px dashed gray;margin: 0 0.4em 0.5em 0.4em;box-sizing: border-box;padding-bottom: 0.4em;background-color: white;}#sk-container-id-2 div.sk-label label {font-family: monospace;font-weight: bold;display: inline-block;line-height: 1.2em;}#sk-container-id-2 div.sk-label-container {text-align: center;}#sk-container-id-2 div.sk-container {/* jupyter's `normalize.less` sets `[hidden] { display: none; }` but bootstrap.min.css set `[hidden] { display: none !important; }` so we also need the `!important` here to be able to override the default hidden behavior on the sphinx rendered scikit-learn.org. See: https://github.com/scikit-learn/scikit-learn/issues/21755 */display: inline-block !important;position: relative;}#sk-container-id-2 div.sk-text-repr-fallback {display: none;}</style><div id=\"sk-container-id-2\" class=\"sk-top-container\"><div class=\"sk-text-repr-fallback\"><pre>MultinomialHMM(n_components=4, n_iter=1000,\n               random_state=RandomState(MT19937) at 0x7F6D15681440)</pre><b>In a Jupyter environment, please rerun this cell to show the HTML representation or trust the notebook. <br />On GitHub, the HTML representation is unable to render, please try loading this page with nbviewer.org.</b></div><div class=\"sk-container\" hidden><div class=\"sk-item\"><div class=\"sk-estimator sk-toggleable\"><input class=\"sk-toggleable__control sk-hidden--visually\" id=\"sk-estimator-id-2\" type=\"checkbox\" checked><label for=\"sk-estimator-id-2\" class=\"sk-toggleable__label sk-toggleable__label-arrow\">MultinomialHMM</label><div class=\"sk-toggleable__content\"><pre>MultinomialHMM(n_components=4, n_iter=1000,\n               random_state=RandomState(MT19937) at 0x7F6D15681440)</pre></div></div></div></div></div>"
     },
     "execution_count": 57,
     "metadata": {},
     "output_type": "execute_result"
    }
   ],
   "source": [
    "hmml = hmm.MultinomialHMM(n, n_iter=1000)\n",
    "%time hmml.fit(X_true)"
   ],
   "metadata": {
    "collapsed": false,
    "pycharm": {
     "name": "#%%\n"
    }
   }
  },
  {
   "cell_type": "code",
   "execution_count": null,
   "outputs": [],
   "source": [
    "%time standardhmm.fit(X_true, [T])\n",
    "%time densehmm.fit_coocs(X_true, [T])"
   ],
   "metadata": {
    "collapsed": false,
    "pycharm": {
     "name": "#%%\n",
     "is_executing": true
    }
   }
  },
  {
   "cell_type": "code",
   "execution_count": null,
   "outputs": [],
   "source": [
    "print(standardhmm.transmat_.round(2))\n",
    "print(standardhmm.emissionprob_.round(2))"
   ],
   "metadata": {
    "collapsed": false,
    "pycharm": {
     "name": "#%%\n",
     "is_executing": true
    }
   }
  },
  {
   "cell_type": "code",
   "execution_count": null,
   "outputs": [],
   "source": [
    "Y_true = np.concatenate(Y_true)"
   ],
   "metadata": {
    "collapsed": false,
    "pycharm": {
     "name": "#%%\n",
     "is_executing": true
    }
   }
  },
  {
   "cell_type": "code",
   "execution_count": null,
   "outputs": [],
   "source": [
    "perm = find_permutation(standardhmm.predict(X_true.transpose()),Y_true)\n",
    "(Y_true == np.array([perm[i] for i in standardhmm.predict(X_true.transpose())])).mean()"
   ],
   "metadata": {
    "collapsed": false,
    "pycharm": {
     "name": "#%%\n",
     "is_executing": true
    }
   }
  },
  {
   "cell_type": "code",
   "execution_count": null,
   "outputs": [],
   "source": [
    "print(densehmm.transmat_.round(2))\n",
    "print(densehmm.emissionprob_.round(2))\n",
    "perm = find_permutation(densehmm.predict(X_true.transpose()),Y_true)\n",
    "(Y_true == np.array([perm[i] for i in densehmm.predict(X_true.transpose())])).mean()"
   ],
   "metadata": {
    "collapsed": false,
    "pycharm": {
     "name": "#%%\n",
     "is_executing": true
    }
   }
  },
  {
   "cell_type": "code",
   "execution_count": null,
   "outputs": [],
   "source": [
    "print(hmml.transmat_.round(2))\n",
    "print(hmml.emissionprob_.round(2))\n",
    "perm = find_permutation(hmml.predict(X_true.transpose()),Y_true)\n",
    "(Y_true == np.array([perm[i] for i in hmml.predict(X_true.transpose())])).mean()"
   ],
   "metadata": {
    "collapsed": false,
    "pycharm": {
     "name": "#%%\n",
     "is_executing": true
    }
   }
  },
  {
   "cell_type": "code",
   "execution_count": null,
   "outputs": [],
   "source": [
    "perm = find_permutation(densehmm.predict(X_true.transpose()),Y_true)\n",
    "perm"
   ],
   "metadata": {
    "collapsed": false,
    "pycharm": {
     "name": "#%%\n",
     "is_executing": true
    }
   }
  },
  {
   "cell_type": "code",
   "execution_count": null,
   "outputs": [],
   "source": [
    "print(A.round(2))"
   ],
   "metadata": {
    "collapsed": false,
    "pycharm": {
     "name": "#%%\n",
     "is_executing": true
    }
   }
  },
  {
   "cell_type": "code",
   "execution_count": null,
   "outputs": [],
   "source": [
    "ssm_hmm = ssm.HMM(n, 1, observations=\"categorical\")\n",
    "ssm_hmm.observations.__init__(K=n, D=1, C=n_features)\n",
    "ssm_hmm.fit(X_true)\n",
    "\n",
    "most_likely_states = ssm_hmm.most_likely_states(X_true)\n",
    "ssm_hmm.permute(find_permutation(Y_true, most_likely_states))\n",
    "print(ssm_hmm.transitions.transition_matrix.round(2))"
   ],
   "metadata": {
    "collapsed": false,
    "pycharm": {
     "name": "#%%\n",
     "is_executing": true
    }
   }
  },
  {
   "cell_type": "code",
   "execution_count": null,
   "outputs": [],
   "source": [
    "(ssm_hmm.most_likely_states(X_true) == Y_true).mean()"
   ],
   "metadata": {
    "collapsed": false,
    "pycharm": {
     "name": "#%%\n",
     "is_executing": true
    }
   }
  },
  {
   "cell_type": "code",
   "execution_count": null,
   "outputs": [],
   "source": [
    "# from hmmlearn import _hmmc as _hmmcmod\n",
    "# stats = standardhmm._initialize_sufficient_statistics(1, T)\n",
    "# X=X_true\n",
    "# total_logprob = 0\n",
    "#\n",
    "# # Iterate over all sequences\n",
    "#\n",
    "#\n",
    "# stats['nobs'] = 0\n",
    "#\n",
    "# # Compute posteriors by forward-backward algorithm\n",
    "# framelogprob = standardhmm._compute_log_likelihood(X[0:T].transpose())\n",
    "# logprob, fwdlattice = standardhmm._do_forward_log_pass(framelogprob)\n",
    "# fwdlattice = _hmmcmod.forward_log(standardhmm.startprob_, standardhmm.transmat_, framelogprob)\n",
    "# # print(logprob)\n",
    "# # print(fwdlattice)\n",
    "# stats['all_logprobs'][0] = logprob # logprob = probability of X[i:j]\n",
    "#\n",
    "# total_logprob += logprob\n",
    "# bwdlattice = _hmmcmod.backward_log(standardhmm.startprob_, standardhmm.transmat_, framelogprob)\n",
    "# posteriors = standardhmm._compute_posteriors_log(fwdlattice, bwdlattice)\n",
    "#\n",
    "# # Pad posteriors with zeros such that its length equals max_seqlen\n",
    "# posteriors = 1\n",
    "#\n",
    "# n_samples, n_components = framelogprob.shape\n",
    "# # when the sample is of length 1, it contains no transitions\n",
    "# # so there is no reason to update our trans. matrix estimate\n",
    "#\n",
    "#\n",
    "# # Compute pairwise gammas and log_xi_sum\n",
    "# cur_gamma_pairwise = np.zeros_like(stats['bar_gamma_pairwise'])\n",
    "# log_xi_sum = np.full((n_components, n_components), -np.inf)\n",
    "# log_xi_sum = _hmmcmod.compute_log_xi_sum(fwdlattice,\n",
    "#                           standardhmm.transmat_,\n",
    "#                           bwdlattice, framelogprob)"
   ],
   "metadata": {
    "collapsed": false,
    "pycharm": {
     "name": "#%%\n",
     "is_executing": true
    }
   }
  },
  {
   "cell_type": "code",
   "execution_count": null,
   "outputs": [],
   "source": [
    "# log_xi_sum"
   ],
   "metadata": {
    "collapsed": false,
    "pycharm": {
     "name": "#%%\n",
     "is_executing": true
    }
   }
  }
 ],
 "metadata": {
  "kernelspec": {
   "display_name": "Python 3",
   "language": "python",
   "name": "python3"
  },
  "language_info": {
   "codemirror_mode": {
    "name": "ipython",
    "version": 2
   },
   "file_extension": ".py",
   "mimetype": "text/x-python",
   "name": "python",
   "nbconvert_exporter": "python",
   "pygments_lexer": "ipython2",
   "version": "2.7.6"
  }
 },
 "nbformat": 4,
 "nbformat_minor": 0
}