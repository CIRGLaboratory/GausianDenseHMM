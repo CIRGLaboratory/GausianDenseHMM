{
 "cells": [
  {
   "cell_type": "code",
   "execution_count": 1,
   "metadata": {
    "collapsed": true,
    "pycharm": {
     "name": "#%%\n"
    }
   },
   "outputs": [
    {
     "name": "stderr",
     "output_type": "stream",
     "text": [
      "2022-08-08 14:04:20.129865: W tensorflow/stream_executor/platform/default/dso_loader.cc:64] Could not load dynamic library 'libcudart.so.11.0'; dlerror: libcudart.so.11.0: cannot open shared object file: No such file or directory\n",
      "2022-08-08 14:04:20.129925: I tensorflow/stream_executor/cuda/cudart_stub.cc:29] Ignore above cudart dlerror if you do not have a GPU set up on your machine.\n"
     ]
    },
    {
     "name": "stdout",
     "output_type": "stream",
     "text": [
      "WARNING:tensorflow:From /ziob/klaudia/miniconda3/envs/hmm/lib/python3.10/site-packages/tensorflow/python/compat/v2_compat.py:107: disable_resource_variables (from tensorflow.python.ops.variable_scope) is deprecated and will be removed in a future version.\n",
      "Instructions for updating:\n",
      "non-resource variables are not supported in the long term\n"
     ]
    }
   ],
   "source": [
    "import numpy as np\n",
    "import itertools\n",
    "from hmmlearn import hmm\n",
    "from models_gaussian import StandardGaussianHMM, GaussianDenseHMM, HMMLoggingMonitor\n",
    "import time\n",
    "from tqdm import tqdm\n",
    "from ssm.util import find_permutation\n",
    "import pickle\n",
    "import json\n",
    "from pathlib import Path\n",
    "import wandb\n",
    "from utils import dtv, permute_embeddings, compute_stationary,  empirical_coocs\n",
    "import scipy.stats as stats\n",
    "import matplotlib.pyplot as plt\n",
    "import seaborn as sns\n",
    "from scipy.special import erf\n",
    "from sklearn.cluster import KMeans"
   ]
  },
  {
   "cell_type": "code",
   "execution_count": 2,
   "outputs": [],
   "source": [
    "np.random.seed(2022)\n",
    "\n",
    "simple_model = {\"mu\": 10,\n",
    "                \"sigma\": 1}\n",
    "\n",
    "complicated_model = {\"mu\": 5,\n",
    "                     \"sigma\": 2}\n",
    "\n",
    "data_sizes = [(100, 400, 4)]  # (s, T, n) TODO:  fill\n",
    "\n",
    "ls = (2, 3, 4,  5)\n",
    "ms = (4, 8, 12, 64, 128)"
   ],
   "metadata": {
    "collapsed": false,
    "pycharm": {
     "name": "#%%\n"
    }
   }
  },
  {
   "cell_type": "code",
   "execution_count": 3,
   "outputs": [],
   "source": [
    "def prepare_params(n, simple_model=True):\n",
    "    A = np.exp(np.random.uniform(0, 5, size=(n, n)))\n",
    "    A /= A.sum(axis=1)[:, np.newaxis]\n",
    "\n",
    "    pi = compute_stationary(A)\n",
    "\n",
    "    if simple_model:\n",
    "        mu = np.arange(n) * 10\n",
    "        sigma = np.ones(shape=n)\n",
    "    else:\n",
    "        mu = np.random.uniform(0, n * 3, size=n)\n",
    "        sigma = np.random.uniform(.5, 1.75, size=n)\n",
    "    return pi, A, mu, sigma\n",
    "\n",
    "\n",
    "def my_hmm_sampler(pi, A, mu, sigma, T):\n",
    "    n = pi.shape[0]\n",
    "    X = [np.random.choice(np.arange(n), 1, replace=True, p=pi)]\n",
    "    for t in range(T - 1):\n",
    "        X.append(np.random.choice(np.arange(n), 1, replace=True, p=A[X[t][0], :]))\n",
    "    Y = np.concatenate([np.random.normal(mu[s[0]], sigma[s[0]], 1) for s in X]).reshape(-1, 1)\n",
    "    return X, Y\n",
    "\n",
    "\n",
    "def init_experiment(dsize, simple_model):\n",
    "    s = dsize[0]\n",
    "    T = dsize[1]\n",
    "    n = dsize[2]\n",
    "    pi, A, mu, sigma = prepare_params(n, simple_model)\n",
    "\n",
    "    data = [my_hmm_sampler(pi, A, mu, sigma, T) for _ in range(s)]\n",
    "    X_true = np.concatenate([np.concatenate(y[0]) for y in data])  # states\n",
    "    Y_true = np.concatenate([x[1] for x in data])  # observations\n",
    "    lengths = [len(x[1]) for x in data]\n",
    "\n",
    "    return s, T, n, pi, A, mu, sigma, X_true, Y_true, lengths"
   ],
   "metadata": {
    "collapsed": false,
    "pycharm": {
     "name": "#%%\n"
    }
   }
  },
  {
   "cell_type": "code",
   "execution_count": 4,
   "outputs": [],
   "source": [
    "def to_discrete_q(X, m):\n",
    "    nodes = np.concatenate([np.quantile(X, [i / m for i in range(1, m)]), np.array([np.infty])])\n",
    "    return (X > nodes.reshape(1, -1)).sum(axis=-1).reshape(-1, 1), nodes.reshape(-1)\n",
    "\n",
    "def to_discrete(X, m):\n",
    "    kmeans = KMeans(n_clusters=m, random_state=0).fit(Y_true)\n",
    "    nodes_tmp = np.sort(kmeans.cluster_centers_, axis=0)\n",
    "    nodes = np.concatenate([(nodes_tmp[1:] + nodes_tmp[:-1]) / 2, np.array([[np.infty]])])\n",
    "    return (X > nodes.reshape(1, -1)).sum(axis=-1).reshape(-1, 1), nodes.reshape(-1)\n",
    "\n",
    "def empirical_cooc_prob(Xd, m, lengths):\n",
    "    freqs, gt_omega_emp = empirical_coocs(Xd, m, lengths=lengths)\n",
    "    return np.reshape(gt_omega_emp, newshape=(m, m))\n",
    "\n",
    "def normal_cooc_prob(means, covars, Qs, A):\n",
    "    A_stationary = compute_stationary(A, False)\n",
    "    B_scalars_tmp = .5 * (1 + erf((Qs[:-1, np.newaxis] - np.transpose(means)) / np.transpose(covars) / np.sqrt(2)))\n",
    "    B_scalars_tmp = np.concatenate([np.zeros((1, B_scalars_tmp.shape[1])), B_scalars_tmp, np.ones((1, B_scalars_tmp.shape[1]))], axis=0)\n",
    "    B_scalars = np.transpose(B_scalars_tmp[1:, :] - B_scalars_tmp[:-1, :])\n",
    "    theta = A * A_stationary[:, None]\n",
    "    return np.matmul(np.transpose(B_scalars), np.matmul(theta, B_scalars))"
   ],
   "metadata": {
    "collapsed": false,
    "pycharm": {
     "name": "#%%\n"
    }
   }
  },
  {
   "cell_type": "code",
   "execution_count": 5,
   "outputs": [],
   "source": [
    "def visualize_distribution(mu, sigma, n, simple_model):\n",
    "    x = np.linspace(min(mu) - 3 * max(sigma), max(mu) + 3 * max(sigma), 10000)\n",
    "    for i in range(n):\n",
    "        plt.plot(x, stats.norm.pdf(x, mu[i], sigma[i]), label=str(i))\n",
    "    plt.title(f\"Normal PDFs n={n}-s={s}-T={T}-simple={simple_model}\")\n",
    "    plt.show()\n",
    "\n",
    "def visualize_matrix(mat, title=\"\", vmax=1):\n",
    "    sns.heatmap(mat, cmap=\"hot\", vmax=vmax)\n",
    "    plt.title(title)\n",
    "    plt.show()"
   ],
   "metadata": {
    "collapsed": false,
    "pycharm": {
     "name": "#%%\n"
    }
   }
  },
  {
   "cell_type": "code",
   "execution_count": 6,
   "outputs": [],
   "source": [
    "M=10\n",
    "EM_ITER = 20\n",
    "l = 8\n",
    "ITER = 100000\n",
    "TOLERANCE = 1e-4\n",
    "\n",
    "def em_scheduler(max_lr, it):\n",
    "    if it <= np.ceil(ITER / 3):\n",
    "        return max_lr * np.cos(3 * (np.ceil(ITER / 3) - it) * np.pi * .33 / ITER)\n",
    "    else:\n",
    "        return max_lr * np.cos((it - np.ceil(ITER / 3)) * np.pi * .66 / ITER)  ** 2\n",
    "\n",
    "mstep_cofig = {\"cooc_lr\": 0.1, \"cooc_epochs\": ITER, \"l_uz\": 10,\n",
    "               \"em_lr\":  0.01, \"em_epochs\":20, 'loss_type': 'square', \"scheduler\": em_scheduler}\n",
    "s, T, n, pi, A, mu, sigma, X_true, Y_true, lengths = init_experiment(dsize=(100, 100, 10), simple_model=True)"
   ],
   "metadata": {
    "collapsed": false,
    "pycharm": {
     "name": "#%%\n"
    }
   }
  },
  {
   "cell_type": "code",
   "execution_count": 7,
   "outputs": [
    {
     "name": "stderr",
     "output_type": "stream",
     "text": [
      "\u001B[34m\u001B[1mwandb\u001B[0m: Currently logged in as: \u001B[33mkabalce\u001B[0m (\u001B[33mcirglaboratory\u001B[0m). Use \u001B[1m`wandb login --relogin`\u001B[0m to force relogin\n"
     ]
    },
    {
     "data": {
      "text/plain": "<IPython.core.display.HTML object>",
      "text/html": "wandb version 0.13.1 is available!  To upgrade, please run:\n $ pip install wandb --upgrade"
     },
     "metadata": {},
     "output_type": "display_data"
    },
    {
     "data": {
      "text/plain": "<IPython.core.display.HTML object>",
      "text/html": "Tracking run with wandb version 0.12.21"
     },
     "metadata": {},
     "output_type": "display_data"
    },
    {
     "data": {
      "text/plain": "<IPython.core.display.HTML object>",
      "text/html": "Run data is saved locally in <code>/ziob/klaudia/recommender_system/src/models/gaussian_dense_hmm/dense-hmm/code_dense_hmm/wandb/run-20220808_140452-1kztwlco</code>"
     },
     "metadata": {},
     "output_type": "display_data"
    },
    {
     "data": {
      "text/plain": "<IPython.core.display.HTML object>",
      "text/html": "Syncing run <strong><a href=\"https://wandb.ai/cirglaboratory/gaussian-dense-hmm/runs/1kztwlco\" target=\"_blank\">PDFs</a></strong> to <a href=\"https://wandb.ai/cirglaboratory/gaussian-dense-hmm\" target=\"_blank\">Weights & Biases</a> (<a href=\"https://wandb.me/run\" target=\"_blank\">docs</a>)<br/>"
     },
     "metadata": {},
     "output_type": "display_data"
    },
    {
     "data": {
      "text/plain": "<IPython.core.display.HTML object>",
      "text/html": "Finishing last run (ID:1kztwlco) before initializing another..."
     },
     "metadata": {},
     "output_type": "display_data"
    },
    {
     "data": {
      "text/plain": "<IPython.core.display.HTML object>",
      "text/html": "Waiting for W&B process to finish... <strong style=\"color:green\">(success).</strong>"
     },
     "metadata": {},
     "output_type": "display_data"
    },
    {
     "data": {
      "text/plain": "VBox(children=(Label(value='0.000 MB of 0.000 MB uploaded (0.000 MB deduped)\\r'), FloatProgress(value=1.0, max…",
      "application/vnd.jupyter.widget-view+json": {
       "version_major": 2,
       "version_minor": 0,
       "model_id": "894591e2358f4dbf8bfff84ad5090915"
      }
     },
     "metadata": {},
     "output_type": "display_data"
    },
    {
     "data": {
      "text/plain": "<IPython.core.display.HTML object>",
      "text/html": "Synced <strong style=\"color:#cdcd00\">PDFs</strong>: <a href=\"https://wandb.ai/cirglaboratory/gaussian-dense-hmm/runs/1kztwlco\" target=\"_blank\">https://wandb.ai/cirglaboratory/gaussian-dense-hmm/runs/1kztwlco</a><br/>Synced 6 W&B file(s), 0 media file(s), 0 artifact file(s) and 1 other file(s)"
     },
     "metadata": {},
     "output_type": "display_data"
    },
    {
     "data": {
      "text/plain": "<IPython.core.display.HTML object>",
      "text/html": "Find logs at: <code>./wandb/run-20220808_140452-1kztwlco/logs</code>"
     },
     "metadata": {},
     "output_type": "display_data"
    },
    {
     "data": {
      "text/plain": "<IPython.core.display.HTML object>",
      "text/html": "Successfully finished last run (ID:1kztwlco). Initializing new run:<br/>"
     },
     "metadata": {},
     "output_type": "display_data"
    },
    {
     "data": {
      "text/plain": "<IPython.core.display.HTML object>",
      "text/html": "wandb version 0.13.1 is available!  To upgrade, please run:\n $ pip install wandb --upgrade"
     },
     "metadata": {},
     "output_type": "display_data"
    },
    {
     "data": {
      "text/plain": "<IPython.core.display.HTML object>",
      "text/html": "Tracking run with wandb version 0.12.21"
     },
     "metadata": {},
     "output_type": "display_data"
    },
    {
     "data": {
      "text/plain": "<IPython.core.display.HTML object>",
      "text/html": "Run data is saved locally in <code>/ziob/klaudia/recommender_system/src/models/gaussian_dense_hmm/dense-hmm/code_dense_hmm/wandb/run-20220808_140510-3le4u9wr</code>"
     },
     "metadata": {},
     "output_type": "display_data"
    },
    {
     "data": {
      "text/plain": "<IPython.core.display.HTML object>",
      "text/html": "Syncing run <strong><a href=\"https://wandb.ai/cirglaboratory/gaussian-dense-hmm/runs/3le4u9wr\" target=\"_blank\">dense--l=8-lr=0.1-epochs=100000-Mon Aug  8 14:05:10 2022</a></strong> to <a href=\"https://wandb.ai/cirglaboratory/gaussian-dense-hmm\" target=\"_blank\">Weights & Biases</a> (<a href=\"https://wandb.me/run\" target=\"_blank\">docs</a>)<br/>"
     },
     "metadata": {},
     "output_type": "display_data"
    },
    {
     "data": {
      "text/html": "<button onClick=\"this.nextSibling.style.display='block';this.style.display='none';\">Display W&B run</button><iframe src=\"https://wandb.ai/cirglaboratory/gaussian-dense-hmm/runs/3le4u9wr?jupyter=true\" style=\"border:none;width:100%;height:420px;display:none;\"></iframe>",
      "text/plain": "<wandb.sdk.wandb_run.Run at 0x7f11c33fe860>"
     },
     "execution_count": 7,
     "metadata": {},
     "output_type": "execute_result"
    }
   ],
   "source": [
    "t = time.localtime()\n",
    "\n",
    "true_values = {\n",
    "    \"states\": X_true,\n",
    "    \"transmat\": A,\n",
    "    \"startprob\": pi,\n",
    "    \"means\": mu,\n",
    "    \"covars\": sigma\n",
    "}\n",
    "\n",
    "wandb_params = {\n",
    "    \"init\": {\n",
    "        \"project\": \"gaussian-dense-hmm\",\n",
    "        \"entity\": \"cirglaboratory\",\n",
    "        \"save_code\": True,\n",
    "        \"group\": f\"benchmark-{t.tm_year}-{t.tm_mon}-{t.tm_mday}-debug3\",\n",
    "        \"job_type\": f\"n={n}-s={s}-T={T}-simple={simple_model}\",\n",
    "        \"name\": f\"PDFs\",\n",
    "        \"reinit\": True\n",
    "    },\n",
    "    \"config\": {\n",
    "        \"n\": n,\n",
    "        \"s\": s,\n",
    "        \"T\": T,\n",
    "        \"model\": None,\n",
    "        \"m\": None,\n",
    "        \"l\": None,\n",
    "        \"lr\":  0,\n",
    "        \"em_epochs\":  0,\n",
    "        \"em_iter\": EM_ITER,\n",
    "        \"cooc_epochs\": ITER,\n",
    "        \"epochs\": 0,\n",
    "        \"simple_model\": simple_model\n",
    "    }\n",
    "}\n",
    "\n",
    "wandb.init(**wandb_params[\"init\"], config=wandb_params[\"config\"])\n",
    "\n",
    "wandb_params[\"init\"].update({\"job_type\": f\"n={n}-s={s}-T={s}-simple={simple_model}\",\n",
    "                             \"name\": f\"dense--l={l}-lr={mstep_cofig['cooc_lr']}-epochs={mstep_cofig['cooc_epochs']}-{time.asctime()}\"})\n",
    "wandb_params[\"config\"].update(dict(model=\"dense_cooc_em_penalty\", m=n, l=l, lr=mstep_cofig['cooc_lr'], em_epochs=10,\n",
    "                                   em_iter=EM_ITER, cooc_epochs=mstep_cofig['cooc_epochs'], epochs=mstep_cofig['cooc_epochs'],\n",
    "                                   loss_type='square', scheduler=True))\n",
    "\n",
    "wandb.init(**wandb_params[\"init\"], config=wandb_params[\"config\"])\n"
   ],
   "metadata": {
    "collapsed": false,
    "pycharm": {
     "name": "#%%\n"
    }
   }
  },
  {
   "cell_type": "code",
   "execution_count": 8,
   "outputs": [],
   "source": [
    "Y_disc, nodes = to_discrete(Y_true, m=n)"
   ],
   "metadata": {
    "collapsed": false,
    "pycharm": {
     "name": "#%%\n"
    }
   }
  },
  {
   "cell_type": "code",
   "execution_count": 9,
   "outputs": [
    {
     "data": {
      "text/plain": "array([ 5.01796503, 15.04382063, 25.07544038, 35.06153989, 44.96899836,\n       54.97948219, 64.98741535, 74.97333303, 84.98663314,         inf])"
     },
     "execution_count": 9,
     "metadata": {},
     "output_type": "execute_result"
    }
   ],
   "source": [
    "nodes"
   ],
   "metadata": {
    "collapsed": false,
    "pycharm": {
     "name": "#%%\n"
    }
   }
  },
  {
   "cell_type": "code",
   "execution_count": 10,
   "outputs": [
    {
     "data": {
      "text/plain": "<Figure size 432x288 with 1 Axes>",
      "image/png": "[encoded data removed]"
     },
     "metadata": {
      "needs_background": "light"
     },
     "output_type": "display_data"
    }
   ],
   "source": [
    "# Y_disc, nodes = to_discrete_q(Y_true, m=4)\n",
    "\n",
    "plt.vlines(nodes, np.zeros(nodes.shape), np.ones(nodes.shape) * 0.33, color=\"blue\", alpha = 0.8)\n",
    "plt.hist(Y_true, bins=[i for i in range(100)], color=\"black\", density=True)\n",
    "x = np.linspace(min(mu) - 3 * max(sigma), max(mu) + 3*max(sigma), 10000)\n",
    "for i in range(n):\n",
    "    plt.plot(x, stats.norm.pdf(x, mu[i], sigma[i]), label=str(i), color=\"red\")\n",
    "plt.title(\"Distributions and nodes\")\n",
    "plt.show()"
   ],
   "metadata": {
    "collapsed": false,
    "pycharm": {
     "name": "#%%\n"
    }
   }
  },
  {
   "cell_type": "code",
   "execution_count": 11,
   "outputs": [],
   "source": [
    "omega_emp = empirical_cooc_prob(Y_disc, n, lengths)"
   ],
   "metadata": {
    "collapsed": false,
    "pycharm": {
     "name": "#%%\n"
    }
   }
  },
  {
   "cell_type": "code",
   "execution_count": 12,
   "outputs": [],
   "source": [
    "omega_gt = normal_cooc_prob(mu, sigma, nodes, A)"
   ],
   "metadata": {
    "collapsed": false,
    "pycharm": {
     "name": "#%%\n"
    }
   }
  },
  {
   "cell_type": "code",
   "execution_count": 13,
   "outputs": [],
   "source": [
    "# omega_emp = np.exp(omega_emp)\n",
    "# omega_gt = np.exp(omega_gt)"
   ],
   "metadata": {
    "collapsed": false,
    "pycharm": {
     "name": "#%%\n"
    }
   }
  },
  {
   "cell_type": "code",
   "execution_count": 14,
   "outputs": [
    {
     "data": {
      "text/plain": "<Figure size 432x288 with 2 Axes>",
      "image/png": "[encoded data removed]"
     },
     "metadata": {
      "needs_background": "light"
     },
     "output_type": "display_data"
    },
    {
     "data": {
      "text/plain": "<Figure size 432x288 with 2 Axes>",
      "image/png": "[encoded data removed]"
     },
     "metadata": {
      "needs_background": "light"
     },
     "output_type": "display_data"
    },
    {
     "data": {
      "text/plain": "<Figure size 432x288 with 2 Axes>",
      "image/png": "[encoded data removed]"
     },
     "metadata": {
      "needs_background": "light"
     },
     "output_type": "display_data"
    }
   ],
   "source": [
    "vmax = max(omega_emp.max(), omega_gt.max(), (omega_emp - omega_gt).max())\n",
    "visualize_matrix(omega_emp, title=\"Empirical coocurences\", vmax=vmax)\n",
    "visualize_matrix(omega_gt, title=\"GT distribution coocurences\",  vmax=vmax)\n",
    "visualize_matrix(abs(omega_gt - omega_emp), title=\"Coocurences error from simulation\", vmax=vmax)"
   ],
   "metadata": {
    "collapsed": false,
    "pycharm": {
     "name": "#%%\n"
    }
   }
  },
  {
   "cell_type": "code",
   "execution_count": 15,
   "outputs": [
    {
     "data": {
      "text/plain": "array([ 5.01796503, 15.04382063, 25.07544038, 35.06153989, 44.96899836,\n       54.97948219, 64.98741535, 74.97333303, 84.98663314,         inf])"
     },
     "execution_count": 15,
     "metadata": {},
     "output_type": "execute_result"
    }
   ],
   "source": [
    "nodes"
   ],
   "metadata": {
    "collapsed": false,
    "pycharm": {
     "name": "#%%\n"
    }
   }
  },
  {
   "cell_type": "code",
   "execution_count": 16,
   "outputs": [
    {
     "data": {
      "text/plain": "<IPython.core.display.HTML object>",
      "text/html": "Finishing last run (ID:3le4u9wr) before initializing another..."
     },
     "metadata": {},
     "output_type": "display_data"
    },
    {
     "data": {
      "text/plain": "<IPython.core.display.HTML object>",
      "text/html": "Waiting for W&B process to finish... <strong style=\"color:green\">(success).</strong>"
     },
     "metadata": {},
     "output_type": "display_data"
    },
    {
     "data": {
      "text/plain": "VBox(children=(Label(value='0.052 MB of 0.052 MB uploaded (0.000 MB deduped)\\r'), FloatProgress(value=1.0, max…",
      "application/vnd.jupyter.widget-view+json": {
       "version_major": 2,
       "version_minor": 0,
       "model_id": "e73afb3046114ee7991d367a6ec042be"
      }
     },
     "metadata": {},
     "output_type": "display_data"
    },
    {
     "data": {
      "text/plain": "<IPython.core.display.HTML object>",
      "text/html": "Synced <strong style=\"color:#cdcd00\">dense--l=8-lr=0.1-epochs=100000-Mon Aug  8 14:05:10 2022</strong>: <a href=\"https://wandb.ai/cirglaboratory/gaussian-dense-hmm/runs/3le4u9wr\" target=\"_blank\">https://wandb.ai/cirglaboratory/gaussian-dense-hmm/runs/3le4u9wr</a><br/>Synced 6 W&B file(s), 0 media file(s), 0 artifact file(s) and 0 other file(s)"
     },
     "metadata": {},
     "output_type": "display_data"
    },
    {
     "data": {
      "text/plain": "<IPython.core.display.HTML object>",
      "text/html": "Find logs at: <code>./wandb/run-20220808_140510-3le4u9wr/logs</code>"
     },
     "metadata": {},
     "output_type": "display_data"
    },
    {
     "data": {
      "text/plain": "<IPython.core.display.HTML object>",
      "text/html": "Successfully finished last run (ID:3le4u9wr). Initializing new run:<br/>"
     },
     "metadata": {},
     "output_type": "display_data"
    },
    {
     "data": {
      "text/plain": "<IPython.core.display.HTML object>",
      "text/html": "wandb version 0.13.1 is available!  To upgrade, please run:\n $ pip install wandb --upgrade"
     },
     "metadata": {},
     "output_type": "display_data"
    },
    {
     "data": {
      "text/plain": "<IPython.core.display.HTML object>",
      "text/html": "Tracking run with wandb version 0.12.21"
     },
     "metadata": {},
     "output_type": "display_data"
    },
    {
     "data": {
      "text/plain": "<IPython.core.display.HTML object>",
      "text/html": "Run data is saved locally in <code>/ziob/klaudia/recommender_system/src/models/gaussian_dense_hmm/dense-hmm/code_dense_hmm/wandb/run-20220808_140537-gbo9zodd</code>"
     },
     "metadata": {},
     "output_type": "display_data"
    },
    {
     "data": {
      "text/plain": "<IPython.core.display.HTML object>",
      "text/html": "Syncing run <strong><a href=\"https://wandb.ai/cirglaboratory/gaussian-dense-hmm/runs/gbo9zodd\" target=\"_blank\">dense--l=8-lr=0.3-epochs=100000-Mon Aug  8 14:05:37 2022</a></strong> to <a href=\"https://wandb.ai/cirglaboratory/gaussian-dense-hmm\" target=\"_blank\">Weights & Biases</a> (<a href=\"https://wandb.me/run\" target=\"_blank\">docs</a>)<br/>"
     },
     "metadata": {},
     "output_type": "display_data"
    },
    {
     "name": "stderr",
     "output_type": "stream",
     "text": [
      "2022-08-08 14:06:04.618023: W tensorflow/stream_executor/platform/default/dso_loader.cc:64] Could not load dynamic library 'libcuda.so.1'; dlerror: libcuda.so.1: cannot open shared object file: No such file or directory\n",
      "2022-08-08 14:06:04.618059: W tensorflow/stream_executor/cuda/cuda_driver.cc:269] failed call to cuInit: UNKNOWN ERROR (303)\n",
      "2022-08-08 14:06:04.618079: I tensorflow/stream_executor/cuda/cuda_diagnostics.cc:156] kernel driver does not appear to be running on this host (cymestmp): /proc/driver/nvidia/version does not exist\n",
      "2022-08-08 14:06:04.621846: I tensorflow/core/platform/cpu_feature_guard.cc:193] This TensorFlow binary is optimized with oneAPI Deep Neural Network Library (oneDNN) to use the following CPU instructions in performance-critical operations:  AVX2 FMA\n",
      "To enable them in other operations, rebuild TensorFlow with the appropriate compiler flags.\n",
      "2022-08-08 14:06:04.639197: I tensorflow/compiler/mlir/mlir_graph_optimization_pass.cc:354] MLIR V1 optimization pass is not enabled\n",
      "         1      -50657.9104             +nan\n",
      "         2      -47386.8423       +3271.0681\n",
      "         3      -47431.3514         -44.5092\n",
      "         4      -47447.5926         -16.2411\n",
      "         5      -47400.3034         +47.2892\n",
      "         6      -47370.1763         +30.1270\n",
      "         7      -47364.9692          +5.2072\n",
      "         8      -47374.6913          -9.7222\n",
      "         9      -47390.2418         -15.5505\n",
      "        10      -47407.5282         -17.2864\n",
      "        11      -47425.0482         -17.5200\n",
      "        12      -47442.1968         -17.1486\n",
      "        13      -47458.4508         -16.2539\n",
      "        14      -47472.6069         -14.1561\n",
      "        15      -47480.8229          -8.2160\n"
     ]
    },
    {
     "ename": "KeyboardInterrupt",
     "evalue": "",
     "output_type": "error",
     "traceback": [
      "\u001B[0;31m---------------------------------------------------------------------------\u001B[0m",
      "\u001B[0;31mKeyboardInterrupt\u001B[0m                         Traceback (most recent call last)",
      "Input \u001B[0;32mIn [16]\u001B[0m, in \u001B[0;36m<cell line: 1>\u001B[0;34m()\u001B[0m\n\u001B[1;32m     14\u001B[0m densehmm\u001B[38;5;241m.\u001B[39mmeans_ \u001B[38;5;241m=\u001B[39m mu\u001B[38;5;241m.\u001B[39mreshape(\u001B[38;5;241m-\u001B[39m\u001B[38;5;241m1\u001B[39m, \u001B[38;5;241m1\u001B[39m)\n\u001B[1;32m     15\u001B[0m start \u001B[38;5;241m=\u001B[39m time\u001B[38;5;241m.\u001B[39mperf_counter()\n\u001B[0;32m---> 16\u001B[0m \u001B[43mdensehmm\u001B[49m\u001B[38;5;241;43m.\u001B[39;49m\u001B[43mfit_coocs\u001B[49m\u001B[43m(\u001B[49m\u001B[43mY_true\u001B[49m\u001B[43m,\u001B[49m\u001B[43m \u001B[49m\u001B[43mlengths\u001B[49m\u001B[43m)\u001B[49m\n\u001B[1;32m     17\u001B[0m \u001B[38;5;66;03m# densehmm.fit(Y_true, lengths)\u001B[39;00m\n\u001B[1;32m     18\u001B[0m time_tmp \u001B[38;5;241m=\u001B[39m time\u001B[38;5;241m.\u001B[39mperf_counter() \u001B[38;5;241m-\u001B[39m start\n",
      "File \u001B[0;32m/ziob/klaudia/recommender_system/src/models/gaussian_dense_hmm/dense-hmm/code_dense_hmm/models_gaussian.py:1130\u001B[0m, in \u001B[0;36mGaussianDenseHMM.fit_coocs\u001B[0;34m(self, X, lengths, val, val_lengths, gt_AB)\u001B[0m\n\u001B[1;32m   1127\u001B[0m     gt_omega \u001B[38;5;241m=\u001B[39m np\u001B[38;5;241m.\u001B[39mmatmul(B\u001B[38;5;241m.\u001B[39mT, np\u001B[38;5;241m.\u001B[39mmatmul(theta, B))\n\u001B[1;32m   1129\u001B[0m gt_omega \u001B[38;5;241m=\u001B[39m gt_omega_emp \u001B[38;5;28;01mif\u001B[39;00m gt_omega \u001B[38;5;129;01mis\u001B[39;00m \u001B[38;5;28;01mNone\u001B[39;00m \u001B[38;5;28;01melse\u001B[39;00m gt_omega\n\u001B[0;32m-> 1130\u001B[0m log_dict \u001B[38;5;241m=\u001B[39m \u001B[38;5;28;43mself\u001B[39;49m\u001B[38;5;241;43m.\u001B[39;49m\u001B[43m_fit_coocs\u001B[49m\u001B[43m(\u001B[49m\u001B[43mgt_omega\u001B[49m\u001B[43m,\u001B[49m\u001B[43m \u001B[49m\u001B[43mX\u001B[49m\u001B[43m,\u001B[49m\u001B[43m \u001B[49m\u001B[43mlengths\u001B[49m\u001B[43m,\u001B[49m\u001B[43m \u001B[49m\u001B[43mval_lengths\u001B[49m\u001B[43m)\u001B[49m\n\u001B[1;32m   1132\u001B[0m log_dict[\u001B[38;5;124m'\u001B[39m\u001B[38;5;124mcooc_logprobs\u001B[39m\u001B[38;5;124m'\u001B[39m] \u001B[38;5;241m=\u001B[39m \u001B[38;5;28mself\u001B[39m\u001B[38;5;241m.\u001B[39mscore_individual_sequences(X, lengths)[\u001B[38;5;241m0\u001B[39m]\n\u001B[1;32m   1133\u001B[0m \u001B[38;5;28;01mif\u001B[39;00m val \u001B[38;5;129;01mis\u001B[39;00m \u001B[38;5;129;01mnot\u001B[39;00m \u001B[38;5;28;01mNone\u001B[39;00m \u001B[38;5;129;01mand\u001B[39;00m val_lengths \u001B[38;5;129;01mis\u001B[39;00m \u001B[38;5;129;01mnot\u001B[39;00m \u001B[38;5;28;01mNone\u001B[39;00m:\n",
      "File \u001B[0;32m/ziob/klaudia/recommender_system/src/models/gaussian_dense_hmm/dense-hmm/code_dense_hmm/models_gaussian.py:1161\u001B[0m, in \u001B[0;36mGaussianDenseHMM._fit_coocs\u001B[0;34m(self, omega_gt, X, lengths, val_lengths)\u001B[0m\n\u001B[1;32m   1158\u001B[0m losses \u001B[38;5;241m=\u001B[39m []\n\u001B[1;32m   1160\u001B[0m \u001B[38;5;28;01mfor\u001B[39;00m epoch \u001B[38;5;129;01min\u001B[39;00m \u001B[38;5;28mrange\u001B[39m(\u001B[38;5;28mself\u001B[39m\u001B[38;5;241m.\u001B[39mcooc_epochs):\n\u001B[0;32m-> 1161\u001B[0m     A, A_stat \u001B[38;5;241m=\u001B[39m \u001B[43mget_ABA_stationary\u001B[49m\u001B[43m(\u001B[49m\u001B[43m)\u001B[49m\n\u001B[1;32m   1162\u001B[0m     feed_dict[A_stationary_] \u001B[38;5;241m=\u001B[39m A_stat\n\u001B[1;32m   1163\u001B[0m     feed_dict[\u001B[38;5;28mself\u001B[39m\u001B[38;5;241m.\u001B[39mlr_cooc_placeholder] \u001B[38;5;241m=\u001B[39m np\u001B[38;5;241m.\u001B[39mfloat64(\u001B[38;5;28mself\u001B[39m\u001B[38;5;241m.\u001B[39mscheduler(\u001B[38;5;28mself\u001B[39m\u001B[38;5;241m.\u001B[39mcooc_lr, epoch))\n",
      "File \u001B[0;32m/ziob/klaudia/recommender_system/src/models/gaussian_dense_hmm/dense-hmm/code_dense_hmm/models_gaussian.py:1151\u001B[0m, in \u001B[0;36mGaussianDenseHMM._fit_coocs.<locals>.get_ABA_stationary\u001B[0;34m()\u001B[0m\n\u001B[1;32m   1150\u001B[0m \u001B[38;5;28;01mdef\u001B[39;00m \u001B[38;5;21mget_ABA_stationary\u001B[39m():\n\u001B[0;32m-> 1151\u001B[0m     A \u001B[38;5;241m=\u001B[39m \u001B[38;5;28;43mself\u001B[39;49m\u001B[38;5;241;43m.\u001B[39;49m\u001B[43msession\u001B[49m\u001B[38;5;241;43m.\u001B[39;49m\u001B[43mrun\u001B[49m\u001B[43m(\u001B[49m\u001B[43mA_\u001B[49m\u001B[43m)\u001B[49m\n\u001B[1;32m   1152\u001B[0m     \u001B[38;5;66;03m# TODO: As Tf v1 does not support eigenvector computation for\u001B[39;00m\n\u001B[1;32m   1153\u001B[0m     \u001B[38;5;66;03m# non-symmetric matrices, need to do this with numpy and feed\u001B[39;00m\n\u001B[1;32m   1154\u001B[0m     \u001B[38;5;66;03m# the result into the graph\u001B[39;00m\n\u001B[1;32m   1155\u001B[0m     \u001B[38;5;28;01mreturn\u001B[39;00m A, compute_stationary(A, verbose\u001B[38;5;241m=\u001B[39m\u001B[38;5;28;01mFalse\u001B[39;00m)\n",
      "File \u001B[0;32m/ziob/klaudia/miniconda3/envs/hmm/lib/python3.10/site-packages/tensorflow/python/client/session.py:967\u001B[0m, in \u001B[0;36mBaseSession.run\u001B[0;34m(self, fetches, feed_dict, options, run_metadata)\u001B[0m\n\u001B[1;32m    964\u001B[0m run_metadata_ptr \u001B[38;5;241m=\u001B[39m tf_session\u001B[38;5;241m.\u001B[39mTF_NewBuffer() \u001B[38;5;28;01mif\u001B[39;00m run_metadata \u001B[38;5;28;01melse\u001B[39;00m \u001B[38;5;28;01mNone\u001B[39;00m\n\u001B[1;32m    966\u001B[0m \u001B[38;5;28;01mtry\u001B[39;00m:\n\u001B[0;32m--> 967\u001B[0m   result \u001B[38;5;241m=\u001B[39m \u001B[38;5;28;43mself\u001B[39;49m\u001B[38;5;241;43m.\u001B[39;49m\u001B[43m_run\u001B[49m\u001B[43m(\u001B[49m\u001B[38;5;28;43;01mNone\u001B[39;49;00m\u001B[43m,\u001B[49m\u001B[43m \u001B[49m\u001B[43mfetches\u001B[49m\u001B[43m,\u001B[49m\u001B[43m \u001B[49m\u001B[43mfeed_dict\u001B[49m\u001B[43m,\u001B[49m\u001B[43m \u001B[49m\u001B[43moptions_ptr\u001B[49m\u001B[43m,\u001B[49m\n\u001B[1;32m    968\u001B[0m \u001B[43m                     \u001B[49m\u001B[43mrun_metadata_ptr\u001B[49m\u001B[43m)\u001B[49m\n\u001B[1;32m    969\u001B[0m   \u001B[38;5;28;01mif\u001B[39;00m run_metadata:\n\u001B[1;32m    970\u001B[0m     proto_data \u001B[38;5;241m=\u001B[39m tf_session\u001B[38;5;241m.\u001B[39mTF_GetBuffer(run_metadata_ptr)\n",
      "File \u001B[0;32m/ziob/klaudia/miniconda3/envs/hmm/lib/python3.10/site-packages/tensorflow/python/client/session.py:1190\u001B[0m, in \u001B[0;36mBaseSession._run\u001B[0;34m(self, handle, fetches, feed_dict, options, run_metadata)\u001B[0m\n\u001B[1;32m   1187\u001B[0m \u001B[38;5;66;03m# We only want to really perform the run if fetches or targets are provided,\u001B[39;00m\n\u001B[1;32m   1188\u001B[0m \u001B[38;5;66;03m# or if the call is a partial run that specifies feeds.\u001B[39;00m\n\u001B[1;32m   1189\u001B[0m \u001B[38;5;28;01mif\u001B[39;00m final_fetches \u001B[38;5;129;01mor\u001B[39;00m final_targets \u001B[38;5;129;01mor\u001B[39;00m (handle \u001B[38;5;129;01mand\u001B[39;00m feed_dict_tensor):\n\u001B[0;32m-> 1190\u001B[0m   results \u001B[38;5;241m=\u001B[39m \u001B[38;5;28;43mself\u001B[39;49m\u001B[38;5;241;43m.\u001B[39;49m\u001B[43m_do_run\u001B[49m\u001B[43m(\u001B[49m\u001B[43mhandle\u001B[49m\u001B[43m,\u001B[49m\u001B[43m \u001B[49m\u001B[43mfinal_targets\u001B[49m\u001B[43m,\u001B[49m\u001B[43m \u001B[49m\u001B[43mfinal_fetches\u001B[49m\u001B[43m,\u001B[49m\n\u001B[1;32m   1191\u001B[0m \u001B[43m                         \u001B[49m\u001B[43mfeed_dict_tensor\u001B[49m\u001B[43m,\u001B[49m\u001B[43m \u001B[49m\u001B[43moptions\u001B[49m\u001B[43m,\u001B[49m\u001B[43m \u001B[49m\u001B[43mrun_metadata\u001B[49m\u001B[43m)\u001B[49m\n\u001B[1;32m   1192\u001B[0m \u001B[38;5;28;01melse\u001B[39;00m:\n\u001B[1;32m   1193\u001B[0m   results \u001B[38;5;241m=\u001B[39m []\n",
      "File \u001B[0;32m/ziob/klaudia/miniconda3/envs/hmm/lib/python3.10/site-packages/tensorflow/python/client/session.py:1370\u001B[0m, in \u001B[0;36mBaseSession._do_run\u001B[0;34m(self, handle, target_list, fetch_list, feed_dict, options, run_metadata)\u001B[0m\n\u001B[1;32m   1367\u001B[0m   \u001B[38;5;28;01mreturn\u001B[39;00m \u001B[38;5;28mself\u001B[39m\u001B[38;5;241m.\u001B[39m_call_tf_sessionprun(handle, feed_dict, fetch_list)\n\u001B[1;32m   1369\u001B[0m \u001B[38;5;28;01mif\u001B[39;00m handle \u001B[38;5;129;01mis\u001B[39;00m \u001B[38;5;28;01mNone\u001B[39;00m:\n\u001B[0;32m-> 1370\u001B[0m   \u001B[38;5;28;01mreturn\u001B[39;00m \u001B[38;5;28;43mself\u001B[39;49m\u001B[38;5;241;43m.\u001B[39;49m\u001B[43m_do_call\u001B[49m\u001B[43m(\u001B[49m\u001B[43m_run_fn\u001B[49m\u001B[43m,\u001B[49m\u001B[43m \u001B[49m\u001B[43mfeeds\u001B[49m\u001B[43m,\u001B[49m\u001B[43m \u001B[49m\u001B[43mfetches\u001B[49m\u001B[43m,\u001B[49m\u001B[43m \u001B[49m\u001B[43mtargets\u001B[49m\u001B[43m,\u001B[49m\u001B[43m \u001B[49m\u001B[43moptions\u001B[49m\u001B[43m,\u001B[49m\n\u001B[1;32m   1371\u001B[0m \u001B[43m                       \u001B[49m\u001B[43mrun_metadata\u001B[49m\u001B[43m)\u001B[49m\n\u001B[1;32m   1372\u001B[0m \u001B[38;5;28;01melse\u001B[39;00m:\n\u001B[1;32m   1373\u001B[0m   \u001B[38;5;28;01mreturn\u001B[39;00m \u001B[38;5;28mself\u001B[39m\u001B[38;5;241m.\u001B[39m_do_call(_prun_fn, handle, feeds, fetches)\n",
      "File \u001B[0;32m/ziob/klaudia/miniconda3/envs/hmm/lib/python3.10/site-packages/tensorflow/python/client/session.py:1377\u001B[0m, in \u001B[0;36mBaseSession._do_call\u001B[0;34m(self, fn, *args)\u001B[0m\n\u001B[1;32m   1375\u001B[0m \u001B[38;5;28;01mdef\u001B[39;00m \u001B[38;5;21m_do_call\u001B[39m(\u001B[38;5;28mself\u001B[39m, fn, \u001B[38;5;241m*\u001B[39margs):\n\u001B[1;32m   1376\u001B[0m   \u001B[38;5;28;01mtry\u001B[39;00m:\n\u001B[0;32m-> 1377\u001B[0m     \u001B[38;5;28;01mreturn\u001B[39;00m \u001B[43mfn\u001B[49m\u001B[43m(\u001B[49m\u001B[38;5;241;43m*\u001B[39;49m\u001B[43margs\u001B[49m\u001B[43m)\u001B[49m\n\u001B[1;32m   1378\u001B[0m   \u001B[38;5;28;01mexcept\u001B[39;00m errors\u001B[38;5;241m.\u001B[39mOpError \u001B[38;5;28;01mas\u001B[39;00m e:\n\u001B[1;32m   1379\u001B[0m     message \u001B[38;5;241m=\u001B[39m compat\u001B[38;5;241m.\u001B[39mas_text(e\u001B[38;5;241m.\u001B[39mmessage)\n",
      "File \u001B[0;32m/ziob/klaudia/miniconda3/envs/hmm/lib/python3.10/site-packages/tensorflow/python/client/session.py:1360\u001B[0m, in \u001B[0;36mBaseSession._do_run.<locals>._run_fn\u001B[0;34m(feed_dict, fetch_list, target_list, options, run_metadata)\u001B[0m\n\u001B[1;32m   1357\u001B[0m \u001B[38;5;28;01mdef\u001B[39;00m \u001B[38;5;21m_run_fn\u001B[39m(feed_dict, fetch_list, target_list, options, run_metadata):\n\u001B[1;32m   1358\u001B[0m   \u001B[38;5;66;03m# Ensure any changes to the graph are reflected in the runtime.\u001B[39;00m\n\u001B[1;32m   1359\u001B[0m   \u001B[38;5;28mself\u001B[39m\u001B[38;5;241m.\u001B[39m_extend_graph()\n\u001B[0;32m-> 1360\u001B[0m   \u001B[38;5;28;01mreturn\u001B[39;00m \u001B[38;5;28;43mself\u001B[39;49m\u001B[38;5;241;43m.\u001B[39;49m\u001B[43m_call_tf_sessionrun\u001B[49m\u001B[43m(\u001B[49m\u001B[43moptions\u001B[49m\u001B[43m,\u001B[49m\u001B[43m \u001B[49m\u001B[43mfeed_dict\u001B[49m\u001B[43m,\u001B[49m\u001B[43m \u001B[49m\u001B[43mfetch_list\u001B[49m\u001B[43m,\u001B[49m\n\u001B[1;32m   1361\u001B[0m \u001B[43m                                  \u001B[49m\u001B[43mtarget_list\u001B[49m\u001B[43m,\u001B[49m\u001B[43m \u001B[49m\u001B[43mrun_metadata\u001B[49m\u001B[43m)\u001B[49m\n",
      "File \u001B[0;32m/ziob/klaudia/miniconda3/envs/hmm/lib/python3.10/site-packages/tensorflow/python/client/session.py:1453\u001B[0m, in \u001B[0;36mBaseSession._call_tf_sessionrun\u001B[0;34m(self, options, feed_dict, fetch_list, target_list, run_metadata)\u001B[0m\n\u001B[1;32m   1451\u001B[0m \u001B[38;5;28;01mdef\u001B[39;00m \u001B[38;5;21m_call_tf_sessionrun\u001B[39m(\u001B[38;5;28mself\u001B[39m, options, feed_dict, fetch_list, target_list,\n\u001B[1;32m   1452\u001B[0m                         run_metadata):\n\u001B[0;32m-> 1453\u001B[0m   \u001B[38;5;28;01mreturn\u001B[39;00m \u001B[43mtf_session\u001B[49m\u001B[38;5;241;43m.\u001B[39;49m\u001B[43mTF_SessionRun_wrapper\u001B[49m\u001B[43m(\u001B[49m\u001B[38;5;28;43mself\u001B[39;49m\u001B[38;5;241;43m.\u001B[39;49m\u001B[43m_session\u001B[49m\u001B[43m,\u001B[49m\u001B[43m \u001B[49m\u001B[43moptions\u001B[49m\u001B[43m,\u001B[49m\u001B[43m \u001B[49m\u001B[43mfeed_dict\u001B[49m\u001B[43m,\u001B[49m\n\u001B[1;32m   1454\u001B[0m \u001B[43m                                          \u001B[49m\u001B[43mfetch_list\u001B[49m\u001B[43m,\u001B[49m\u001B[43m \u001B[49m\u001B[43mtarget_list\u001B[49m\u001B[43m,\u001B[49m\n\u001B[1;32m   1455\u001B[0m \u001B[43m                                          \u001B[49m\u001B[43mrun_metadata\u001B[49m\u001B[43m)\u001B[49m\n",
      "\u001B[0;31mKeyboardInterrupt\u001B[0m: "
     ]
    }
   ],
   "source": [
    "for  _  in range(10):\n",
    "    mstep_cofig = {\"cooc_lr\": 0.3, \"cooc_epochs\": ITER, \"l_uz\": 10,\n",
    "               \"em_lr\":  0.01, \"em_epochs\":20, 'loss_type': 'square', \"scheduler\": em_scheduler}\n",
    "    wandb_params[\"init\"].update({\"name\": f\"dense--l={l}-lr={mstep_cofig['cooc_lr']}-epochs={mstep_cofig['cooc_epochs']}-{time.asctime()}\"})\n",
    "    hmm_monitor = HMMLoggingMonitor(tol=TOLERANCE, n_iter=0, verbose=True,\n",
    "                                    wandb_log=True, wandb_params=wandb_params, true_vals=true_values,\n",
    "                                    log_config={'metrics_after_convergence': True})\n",
    "    densehmm = GaussianDenseHMM(n, mstep_config=mstep_cofig,\n",
    "                                covariance_type='diag', opt_schemes={\"cooc\", \"em\"},\n",
    "                                nodes=np.concatenate([np.array([-np.infty]), nodes]),\n",
    "                                discrete_observables=n, em_iter=20,\n",
    "                                logging_monitor=hmm_monitor,\n",
    "                                init_params=\"\", params=\"stmc\", early_stopping=True)\n",
    "    densehmm.means_ = mu.reshape(-1, 1)\n",
    "    start = time.perf_counter()\n",
    "    densehmm.fit_coocs(Y_true, lengths)\n",
    "    # densehmm.fit(Y_true, lengths)\n",
    "    time_tmp = time.perf_counter() - start"
   ],
   "metadata": {
    "collapsed": false,
    "pycharm": {
     "name": "#%%\n"
    }
   }
  },
  {
   "cell_type": "code",
   "execution_count": 40,
   "outputs": [],
   "source": [
    "from celluloid import Camera\n",
    "import matplotlib.cm as cm\n",
    "from sklearn.decomposition import PCA\n",
    "pca_z = PCA(n_components=2).fit(hmm_monitor.z[-1])\n",
    "z = [pca_z.transform(x) for x in hmm_monitor.z]\n",
    "\n",
    "z0 = hmm_monitor.z0\n",
    "\n",
    "pca_u = PCA(n_components=2).fit(np.transpose(hmm_monitor.u[-1]))\n",
    "u = [pca_u.transform(np.transpose(x)) for x in hmm_monitor.u]\n",
    "\n",
    "def draw_embeddings(z, name=\"?\"):\n",
    "    fig = plt.figure(figsize=(5,5))\n",
    "    camera = Camera(fig)\n",
    "    cmap = cm.rainbow(np.linspace(0, 1, len(z[0])))\n",
    "    for z_el in z:\n",
    "        if z_el.shape[1] > 1:\n",
    "            plt.scatter(z_el[:, 0],  z_el[:, 1], color=cmap)\n",
    "        else:\n",
    "            plt.scatter(np.arange(z_el.shape[0]), z_el, color=cmap)\n",
    "        camera.snap()\n",
    "    plt.title(f\"Embaddings trajectory:  {name}\")\n",
    "    animation = camera.animate()\n",
    "    wandb.log({f\"Embaddings trajectory:  {name}\": wandb.Html(animation.to_html5_video())})\n",
    "    plt.close()\n",
    "\n",
    "draw_embeddings(z, \"z\")\n",
    "draw_embeddings(z0, \"z0\")\n",
    "draw_embeddings(u, \"u\")"
   ],
   "metadata": {
    "collapsed": false,
    "pycharm": {
     "name": "#%%\n"
    }
   }
  },
  {
   "cell_type": "code",
   "execution_count": 30,
   "outputs": [
    {
     "data": {
      "text/plain": "array([[-2.54343947,  0.39086694],\n       [-0.15564741, -0.96913445],\n       [-1.27281929,  0.90312924],\n       [ 3.69908893,  1.22203574],\n       [ 2.03700517, -1.53703473],\n       [-1.45929322, -1.15890908],\n       [ 0.33225722, -1.72077493],\n       [ 0.76485639,  0.63252412],\n       [-0.61205866, -1.39896892],\n       [-0.61091598,  2.71306752]])"
     },
     "execution_count": 30,
     "metadata": {},
     "output_type": "execute_result"
    }
   ],
   "source": [
    "z[0]"
   ],
   "metadata": {
    "collapsed": false,
    "pycharm": {
     "name": "#%%\n"
    }
   }
  },
  {
   "cell_type": "code",
   "execution_count": null,
   "outputs": [],
   "source": [
    "feed_dict = {densehmm.omega_gt_ph: omega_emp}\n",
    "feed_dict[densehmm.A_stationary] = compute_stationary(densehmm.session.run(densehmm.A_from_reps_hmmlearn), verbose=False)\n",
    "feed_dict[densehmm.lr_cooc_placeholder] = 0.1\n",
    "omega_learned = densehmm.session.run(densehmm.omega, feed_dict)"
   ],
   "metadata": {
    "collapsed": false,
    "pycharm": {
     "name": "#%%\n"
    }
   }
  },
  {
   "cell_type": "code",
   "execution_count": null,
   "outputs": [],
   "source": [
    "vmax = max(omega_learned.max(), omega_gt.max(), (omega_learned - omega_gt).max()) +  1e-1\n",
    "visualize_matrix(omega_learned, title=\"Learned coocurences\", vmax=vmax)\n",
    "visualize_matrix(omega_gt, title=\"GT distribution coocurences\",  vmax=vmax)\n",
    "visualize_matrix(omega_emp, title=\"Empirical coocurences\", vmax=vmax)"
   ],
   "metadata": {
    "collapsed": false,
    "pycharm": {
     "name": "#%%\n"
    }
   }
  },
  {
   "cell_type": "code",
   "execution_count": null,
   "outputs": [],
   "source": [
    "plt.vlines(nodes, np.zeros(nodes.shape), np.ones(nodes.shape) * 0.33, color=\"blue\", alpha = 0.8)\n",
    "plt.hist(Y_true, bins=[i for i in range(100)], color=\"black\", density=True)\n",
    "x = np.linspace(min(mu) - 3 * max(sigma), max(mu) + 3*max(sigma), 10000).reshape(-1)\n",
    "for i in range(n):\n",
    "    plt.plot(x, stats.norm.pdf(x, densehmm.means_[i], densehmm.covars_[i, 0]).reshape(-1), label=str(i), color=\"red\")\n",
    "plt.title(\"Distributions and nodes\")\n",
    "plt.show()"
   ],
   "metadata": {
    "collapsed": false,
    "pycharm": {
     "name": "#%%\n"
    }
   }
  },
  {
   "cell_type": "code",
   "execution_count": null,
   "outputs": [],
   "source": [
    "stats.norm.pdf(x, densehmm.means_[i], densehmm.covars_[i, 0]).reshape(-1)"
   ],
   "metadata": {
    "collapsed": false,
    "pycharm": {
     "name": "#%%\n"
    }
   }
  },
  {
   "cell_type": "code",
   "execution_count": null,
   "outputs": [],
   "source": [
    "densehmm.fit(Y_true, lengths)"
   ],
   "metadata": {
    "collapsed": false,
    "pycharm": {
     "name": "#%%\n"
    }
   }
  },
  {
   "cell_type": "code",
   "execution_count": null,
   "outputs": [],
   "source": [
    "densehmm.means_"
   ],
   "metadata": {
    "collapsed": false,
    "pycharm": {
     "name": "#%%\n"
    }
   }
  },
  {
   "cell_type": "code",
   "execution_count": null,
   "outputs": [],
   "source": [
    "plt.vlines(nodes, np.zeros(nodes.shape), np.ones(nodes.shape) * 0.33, color=\"blue\", alpha = 0.8)\n",
    "plt.hist(Y_true, bins=[i for i in range(100)], color=\"black\", density=True)\n",
    "x = np.linspace(min(mu) - 3 * max(sigma), max(mu) + 3*max(sigma), 10000).reshape(-1)\n",
    "for i in range(n):\n",
    "    plt.plot(x, stats.norm.pdf(x, densehmm.means_[i], densehmm.covars_[i, 0]).reshape(-1), label=str(i), color=\"red\")\n",
    "plt.title(\"Distributions and nodes\")\n",
    "plt.show()"
   ],
   "metadata": {
    "collapsed": false,
    "pycharm": {
     "name": "#%%\n"
    }
   }
  },
  {
   "cell_type": "code",
   "execution_count": null,
   "outputs": [],
   "source": [
    "densehmm.score(Y_true, lengths)"
   ],
   "metadata": {
    "collapsed": false,
    "pycharm": {
     "name": "#%%\n"
    }
   }
  }
 ],
 "metadata": {
  "kernelspec": {
   "display_name": "Python 3",
   "language": "python",
   "name": "python3"
  },
  "language_info": {
   "codemirror_mode": {
    "name": "ipython",
    "version": 2
   },
   "file_extension": ".py",
   "mimetype": "text/x-python",
   "name": "python",
   "nbconvert_exporter": "python",
   "pygments_lexer": "ipython2",
   "version": "2.7.6"
  }
 },
 "nbformat": 4,
 "nbformat_minor": 0
}