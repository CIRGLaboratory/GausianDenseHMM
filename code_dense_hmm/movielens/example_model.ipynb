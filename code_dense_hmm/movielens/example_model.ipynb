{
 "cells": [
  {
   "cell_type": "code",
   "execution_count": 1,
   "metadata": {
    "collapsed": true,
    "pycharm": {
     "name": "#%%\n"
    }
   },
   "outputs": [],
   "source": [
    "import pandas as pd\n",
    "import numpy as np\n",
    "\n",
    "import matplotlib as mpl\n",
    "import matplotlib.pyplot as plt\n",
    "import seaborn as sns\n",
    "import ssm\n",
    "from ssm.util import find_permutation\n",
    "from ssm.plots import gradient_cmap, white_to_color_cmap\n",
    "\n",
    "color_names = [\n",
    "    \"windows blue\",\n",
    "    \"red\",\n",
    "    \"amber\",\n",
    "    \"faded green\",\n",
    "    \"dusty purple\",\n",
    "    \"orange\"\n",
    "]\n",
    "colors = sns.xkcd_palette(color_names)\n",
    "cmap = gradient_cmap(colors)\n",
    "plt.rcParams[\"figure.figsize\"] = (30, 6)"
   ]
  },
  {
   "cell_type": "markdown",
   "source": [
    "# Provide data"
   ],
   "metadata": {
    "collapsed": false,
    "pycharm": {
     "name": "#%% md\n"
    }
   }
  },
  {
   "cell_type": "code",
   "execution_count": 2,
   "outputs": [],
   "source": [
    "# https://www.kaggle.com/datasets/grouplens/movielens-20m-dataset\n",
    "\n",
    "ratings=pd.read_csv('../data/rating.csv')\n",
    "# links=pd.read_csv('links.csv')\n",
    "# tags=pd.read_csv('tags.csv')\n",
    "# genome_tags=pd.read_csv('genome-tags.csv')\n",
    "# genome_scores=pd.read_csv('genome-scores.csv')\n",
    "movies=pd.read_csv('../data/movie.csv')"
   ],
   "metadata": {
    "collapsed": false,
    "pycharm": {
     "name": "#%%\n"
    }
   }
  },
  {
   "cell_type": "code",
   "execution_count": 3,
   "outputs": [
    {
     "data": {
      "text/plain": "          userId  movieId  rating            timestamp\n0              1        2     3.5  2005-04-02 23:53:47\n1              1       29     3.5  2005-04-02 23:31:16\n2              1       32     3.5  2005-04-02 23:33:39\n3              1       47     3.5  2005-04-02 23:32:07\n4              1       50     3.5  2005-04-02 23:29:40\n...          ...      ...     ...                  ...\n20000258  138493    68954     4.5  2009-11-13 15:42:00\n20000259  138493    69526     4.5  2009-12-03 18:31:48\n20000260  138493    69644     3.0  2009-12-07 18:10:57\n20000261  138493    70286     5.0  2009-11-13 15:42:24\n20000262  138493    71619     2.5  2009-10-17 20:25:36\n\n[20000263 rows x 4 columns]",
      "text/html": "<div>\n<style scoped>\n    .dataframe tbody tr th:only-of-type {\n        vertical-align: middle;\n    }\n\n    .dataframe tbody tr th {\n        vertical-align: top;\n    }\n\n    .dataframe thead th {\n        text-align: right;\n    }\n</style>\n<table border=\"1\" class=\"dataframe\">\n  <thead>\n    <tr style=\"text-align: right;\">\n      <th></th>\n      <th>userId</th>\n      <th>movieId</th>\n      <th>rating</th>\n      <th>timestamp</th>\n    </tr>\n  </thead>\n  <tbody>\n    <tr>\n      <th>0</th>\n      <td>1</td>\n      <td>2</td>\n      <td>3.5</td>\n      <td>2005-04-02 23:53:47</td>\n    </tr>\n    <tr>\n      <th>1</th>\n      <td>1</td>\n      <td>29</td>\n      <td>3.5</td>\n      <td>2005-04-02 23:31:16</td>\n    </tr>\n    <tr>\n      <th>2</th>\n      <td>1</td>\n      <td>32</td>\n      <td>3.5</td>\n      <td>2005-04-02 23:33:39</td>\n    </tr>\n    <tr>\n      <th>3</th>\n      <td>1</td>\n      <td>47</td>\n      <td>3.5</td>\n      <td>2005-04-02 23:32:07</td>\n    </tr>\n    <tr>\n      <th>4</th>\n      <td>1</td>\n      <td>50</td>\n      <td>3.5</td>\n      <td>2005-04-02 23:29:40</td>\n    </tr>\n    <tr>\n      <th>...</th>\n      <td>...</td>\n      <td>...</td>\n      <td>...</td>\n      <td>...</td>\n    </tr>\n    <tr>\n      <th>20000258</th>\n      <td>138493</td>\n      <td>68954</td>\n      <td>4.5</td>\n      <td>2009-11-13 15:42:00</td>\n    </tr>\n    <tr>\n      <th>20000259</th>\n      <td>138493</td>\n      <td>69526</td>\n      <td>4.5</td>\n      <td>2009-12-03 18:31:48</td>\n    </tr>\n    <tr>\n      <th>20000260</th>\n      <td>138493</td>\n      <td>69644</td>\n      <td>3.0</td>\n      <td>2009-12-07 18:10:57</td>\n    </tr>\n    <tr>\n      <th>20000261</th>\n      <td>138493</td>\n      <td>70286</td>\n      <td>5.0</td>\n      <td>2009-11-13 15:42:24</td>\n    </tr>\n    <tr>\n      <th>20000262</th>\n      <td>138493</td>\n      <td>71619</td>\n      <td>2.5</td>\n      <td>2009-10-17 20:25:36</td>\n    </tr>\n  </tbody>\n</table>\n<p>20000263 rows × 4 columns</p>\n</div>"
     },
     "execution_count": 3,
     "metadata": {},
     "output_type": "execute_result"
    }
   ],
   "source": [
    "ratings"
   ],
   "metadata": {
    "collapsed": false,
    "pycharm": {
     "name": "#%%\n"
    }
   }
  },
  {
   "cell_type": "code",
   "execution_count": 4,
   "outputs": [],
   "source": [
    "genres = pd.DataFrame({k: {g: True for g in v} for k, v in  movies.set_index('movieId').genres.apply(lambda gs: gs.split(\"|\")).to_dict().items()}).fillna(False).transpose()"
   ],
   "metadata": {
    "collapsed": false,
    "pycharm": {
     "name": "#%%\n"
    }
   }
  },
  {
   "cell_type": "code",
   "execution_count": 5,
   "outputs": [
    {
     "data": {
      "text/plain": "        Adventure  Animation  Children  Comedy  Fantasy  Romance  Drama  \\\n1            True       True      True    True     True    False  False   \n2            True      False      True   False     True    False  False   \n3           False      False     False    True    False     True  False   \n4           False      False     False    True    False     True   True   \n5           False      False     False    True    False    False  False   \n...           ...        ...       ...     ...      ...      ...    ...   \n131254      False      False     False    True    False    False  False   \n131256      False      False     False    True    False    False  False   \n131258       True      False     False   False    False    False  False   \n131260      False      False     False   False    False    False  False   \n131262       True      False     False   False     True    False  False   \n\n        Action  Crime  Thriller  Horror  Mystery  Sci-Fi   IMAX  Documentary  \\\n1        False  False     False   False    False   False  False        False   \n2        False  False     False   False    False   False  False        False   \n3        False  False     False   False    False   False  False        False   \n4        False  False     False   False    False   False  False        False   \n5        False  False     False   False    False   False  False        False   \n...        ...    ...       ...     ...      ...     ...    ...          ...   \n131254   False  False     False   False    False   False  False        False   \n131256   False  False     False   False    False   False  False        False   \n131258   False  False     False   False    False   False  False        False   \n131260   False  False     False   False    False   False  False        False   \n131262   False  False     False    True    False   False  False        False   \n\n          War  Musical  Western  Film-Noir  (no genres listed)  \n1       False    False    False      False               False  \n2       False    False    False      False               False  \n3       False    False    False      False               False  \n4       False    False    False      False               False  \n5       False    False    False      False               False  \n...       ...      ...      ...        ...                 ...  \n131254  False    False    False      False               False  \n131256  False    False    False      False               False  \n131258  False    False    False      False               False  \n131260  False    False    False      False                True  \n131262  False    False    False      False               False  \n\n[27278 rows x 20 columns]",
      "text/html": "<div>\n<style scoped>\n    .dataframe tbody tr th:only-of-type {\n        vertical-align: middle;\n    }\n\n    .dataframe tbody tr th {\n        vertical-align: top;\n    }\n\n    .dataframe thead th {\n        text-align: right;\n    }\n</style>\n<table border=\"1\" class=\"dataframe\">\n  <thead>\n    <tr style=\"text-align: right;\">\n      <th></th>\n      <th>Adventure</th>\n      <th>Animation</th>\n      <th>Children</th>\n      <th>Comedy</th>\n      <th>Fantasy</th>\n      <th>Romance</th>\n      <th>Drama</th>\n      <th>Action</th>\n      <th>Crime</th>\n      <th>Thriller</th>\n      <th>Horror</th>\n      <th>Mystery</th>\n      <th>Sci-Fi</th>\n      <th>IMAX</th>\n      <th>Documentary</th>\n      <th>War</th>\n      <th>Musical</th>\n      <th>Western</th>\n      <th>Film-Noir</th>\n      <th>(no genres listed)</th>\n    </tr>\n  </thead>\n  <tbody>\n    <tr>\n      <th>1</th>\n      <td>True</td>\n      <td>True</td>\n      <td>True</td>\n      <td>True</td>\n      <td>True</td>\n      <td>False</td>\n      <td>False</td>\n      <td>False</td>\n      <td>False</td>\n      <td>False</td>\n      <td>False</td>\n      <td>False</td>\n      <td>False</td>\n      <td>False</td>\n      <td>False</td>\n      <td>False</td>\n      <td>False</td>\n      <td>False</td>\n      <td>False</td>\n      <td>False</td>\n    </tr>\n    <tr>\n      <th>2</th>\n      <td>True</td>\n      <td>False</td>\n      <td>True</td>\n      <td>False</td>\n      <td>True</td>\n      <td>False</td>\n      <td>False</td>\n      <td>False</td>\n      <td>False</td>\n      <td>False</td>\n      <td>False</td>\n      <td>False</td>\n      <td>False</td>\n      <td>False</td>\n      <td>False</td>\n      <td>False</td>\n      <td>False</td>\n      <td>False</td>\n      <td>False</td>\n      <td>False</td>\n    </tr>\n    <tr>\n      <th>3</th>\n      <td>False</td>\n      <td>False</td>\n      <td>False</td>\n      <td>True</td>\n      <td>False</td>\n      <td>True</td>\n      <td>False</td>\n      <td>False</td>\n      <td>False</td>\n      <td>False</td>\n      <td>False</td>\n      <td>False</td>\n      <td>False</td>\n      <td>False</td>\n      <td>False</td>\n      <td>False</td>\n      <td>False</td>\n      <td>False</td>\n      <td>False</td>\n      <td>False</td>\n    </tr>\n    <tr>\n      <th>4</th>\n      <td>False</td>\n      <td>False</td>\n      <td>False</td>\n      <td>True</td>\n      <td>False</td>\n      <td>True</td>\n      <td>True</td>\n      <td>False</td>\n      <td>False</td>\n      <td>False</td>\n      <td>False</td>\n      <td>False</td>\n      <td>False</td>\n      <td>False</td>\n      <td>False</td>\n      <td>False</td>\n      <td>False</td>\n      <td>False</td>\n      <td>False</td>\n      <td>False</td>\n    </tr>\n    <tr>\n      <th>5</th>\n      <td>False</td>\n      <td>False</td>\n      <td>False</td>\n      <td>True</td>\n      <td>False</td>\n      <td>False</td>\n      <td>False</td>\n      <td>False</td>\n      <td>False</td>\n      <td>False</td>\n      <td>False</td>\n      <td>False</td>\n      <td>False</td>\n      <td>False</td>\n      <td>False</td>\n      <td>False</td>\n      <td>False</td>\n      <td>False</td>\n      <td>False</td>\n      <td>False</td>\n    </tr>\n    <tr>\n      <th>...</th>\n      <td>...</td>\n      <td>...</td>\n      <td>...</td>\n      <td>...</td>\n      <td>...</td>\n      <td>...</td>\n      <td>...</td>\n      <td>...</td>\n      <td>...</td>\n      <td>...</td>\n      <td>...</td>\n      <td>...</td>\n      <td>...</td>\n      <td>...</td>\n      <td>...</td>\n      <td>...</td>\n      <td>...</td>\n      <td>...</td>\n      <td>...</td>\n      <td>...</td>\n    </tr>\n    <tr>\n      <th>131254</th>\n      <td>False</td>\n      <td>False</td>\n      <td>False</td>\n      <td>True</td>\n      <td>False</td>\n      <td>False</td>\n      <td>False</td>\n      <td>False</td>\n      <td>False</td>\n      <td>False</td>\n      <td>False</td>\n      <td>False</td>\n      <td>False</td>\n      <td>False</td>\n      <td>False</td>\n      <td>False</td>\n      <td>False</td>\n      <td>False</td>\n      <td>False</td>\n      <td>False</td>\n    </tr>\n    <tr>\n      <th>131256</th>\n      <td>False</td>\n      <td>False</td>\n      <td>False</td>\n      <td>True</td>\n      <td>False</td>\n      <td>False</td>\n      <td>False</td>\n      <td>False</td>\n      <td>False</td>\n      <td>False</td>\n      <td>False</td>\n      <td>False</td>\n      <td>False</td>\n      <td>False</td>\n      <td>False</td>\n      <td>False</td>\n      <td>False</td>\n      <td>False</td>\n      <td>False</td>\n      <td>False</td>\n    </tr>\n    <tr>\n      <th>131258</th>\n      <td>True</td>\n      <td>False</td>\n      <td>False</td>\n      <td>False</td>\n      <td>False</td>\n      <td>False</td>\n      <td>False</td>\n      <td>False</td>\n      <td>False</td>\n      <td>False</td>\n      <td>False</td>\n      <td>False</td>\n      <td>False</td>\n      <td>False</td>\n      <td>False</td>\n      <td>False</td>\n      <td>False</td>\n      <td>False</td>\n      <td>False</td>\n      <td>False</td>\n    </tr>\n    <tr>\n      <th>131260</th>\n      <td>False</td>\n      <td>False</td>\n      <td>False</td>\n      <td>False</td>\n      <td>False</td>\n      <td>False</td>\n      <td>False</td>\n      <td>False</td>\n      <td>False</td>\n      <td>False</td>\n      <td>False</td>\n      <td>False</td>\n      <td>False</td>\n      <td>False</td>\n      <td>False</td>\n      <td>False</td>\n      <td>False</td>\n      <td>False</td>\n      <td>False</td>\n      <td>True</td>\n    </tr>\n    <tr>\n      <th>131262</th>\n      <td>True</td>\n      <td>False</td>\n      <td>False</td>\n      <td>False</td>\n      <td>True</td>\n      <td>False</td>\n      <td>False</td>\n      <td>False</td>\n      <td>False</td>\n      <td>False</td>\n      <td>True</td>\n      <td>False</td>\n      <td>False</td>\n      <td>False</td>\n      <td>False</td>\n      <td>False</td>\n      <td>False</td>\n      <td>False</td>\n      <td>False</td>\n      <td>False</td>\n    </tr>\n  </tbody>\n</table>\n<p>27278 rows × 20 columns</p>\n</div>"
     },
     "execution_count": 5,
     "metadata": {},
     "output_type": "execute_result"
    }
   ],
   "source": [
    "genres"
   ],
   "metadata": {
    "collapsed": false,
    "pycharm": {
     "name": "#%%\n"
    }
   }
  },
  {
   "cell_type": "code",
   "execution_count": 6,
   "outputs": [],
   "source": [
    "# ratings_pivot = ratings.pivot('userId', 'movieId', 'rating')"
   ],
   "metadata": {
    "collapsed": false,
    "pycharm": {
     "name": "#%%\n"
    }
   }
  },
  {
   "cell_type": "markdown",
   "source": [
    "# Train models\n",
    "\n",
    "The artificial user has the ID `0`"
   ],
   "metadata": {
    "collapsed": false,
    "pycharm": {
     "name": "#%% md\n"
    }
   }
  },
  {
   "cell_type": "code",
   "execution_count": 7,
   "outputs": [],
   "source": [
    "import pandas as pd\n",
    "import numpy as np\n",
    "\n",
    "# metrics for comparison\n",
    "from sklearn.metrics import mean_absolute_error\n",
    "from sklearn.metrics import mean_squared_error\n",
    "\n",
    "# funk-svd package imports\n",
    "from funk_svd.dataset import fetch_ml_ratings\n",
    "from funk_svd.utils import _timer\n",
    "from funk_svd import SVD as FSVD"
   ],
   "metadata": {
    "collapsed": false,
    "pycharm": {
     "name": "#%%\n"
    }
   }
  },
  {
   "cell_type": "code",
   "execution_count": 126,
   "outputs": [
    {
     "data": {
      "text/plain": "    u_id  i_id  rating            timestamp      u_id     i_id\n0    1.0   2.0     3.5  2005-04-02 23:53:47       NaN      NaN\n1    1.0  29.0     3.5  2005-04-02 23:31:16       NaN      NaN\n2    1.0  32.0     3.5  2005-04-02 23:33:39       NaN      NaN\n3    1.0  47.0     3.5  2005-04-02 23:32:07       NaN      NaN\n4    1.0  50.0     3.5  2005-04-02 23:29:40       NaN      NaN\n..   ...   ...     ...                  ...       ...      ...\n11   NaN   NaN     5.0                  NaN  113283.0  87960.0\n12   NaN   NaN     5.0                  NaN  114508.0  27762.0\n13   NaN   NaN     5.0                  NaN  115565.0  55460.0\n14   NaN   NaN     5.0                  NaN  123903.0  93279.0\n15   NaN   NaN     5.0                  NaN  131681.0  33903.0\n\n[20000311 rows x 6 columns]",
      "text/html": "<div>\n<style scoped>\n    .dataframe tbody tr th:only-of-type {\n        vertical-align: middle;\n    }\n\n    .dataframe tbody tr th {\n        vertical-align: top;\n    }\n\n    .dataframe thead th {\n        text-align: right;\n    }\n</style>\n<table border=\"1\" class=\"dataframe\">\n  <thead>\n    <tr style=\"text-align: right;\">\n      <th></th>\n      <th>u_id</th>\n      <th>i_id</th>\n      <th>rating</th>\n      <th>timestamp</th>\n      <th>u_id</th>\n      <th>i_id</th>\n    </tr>\n  </thead>\n  <tbody>\n    <tr>\n      <th>0</th>\n      <td>1.0</td>\n      <td>2.0</td>\n      <td>3.5</td>\n      <td>2005-04-02 23:53:47</td>\n      <td>NaN</td>\n      <td>NaN</td>\n    </tr>\n    <tr>\n      <th>1</th>\n      <td>1.0</td>\n      <td>29.0</td>\n      <td>3.5</td>\n      <td>2005-04-02 23:31:16</td>\n      <td>NaN</td>\n      <td>NaN</td>\n    </tr>\n    <tr>\n      <th>2</th>\n      <td>1.0</td>\n      <td>32.0</td>\n      <td>3.5</td>\n      <td>2005-04-02 23:33:39</td>\n      <td>NaN</td>\n      <td>NaN</td>\n    </tr>\n    <tr>\n      <th>3</th>\n      <td>1.0</td>\n      <td>47.0</td>\n      <td>3.5</td>\n      <td>2005-04-02 23:32:07</td>\n      <td>NaN</td>\n      <td>NaN</td>\n    </tr>\n    <tr>\n      <th>4</th>\n      <td>1.0</td>\n      <td>50.0</td>\n      <td>3.5</td>\n      <td>2005-04-02 23:29:40</td>\n      <td>NaN</td>\n      <td>NaN</td>\n    </tr>\n    <tr>\n      <th>...</th>\n      <td>...</td>\n      <td>...</td>\n      <td>...</td>\n      <td>...</td>\n      <td>...</td>\n      <td>...</td>\n    </tr>\n    <tr>\n      <th>11</th>\n      <td>NaN</td>\n      <td>NaN</td>\n      <td>5.0</td>\n      <td>NaN</td>\n      <td>113283.0</td>\n      <td>87960.0</td>\n    </tr>\n    <tr>\n      <th>12</th>\n      <td>NaN</td>\n      <td>NaN</td>\n      <td>5.0</td>\n      <td>NaN</td>\n      <td>114508.0</td>\n      <td>27762.0</td>\n    </tr>\n    <tr>\n      <th>13</th>\n      <td>NaN</td>\n      <td>NaN</td>\n      <td>5.0</td>\n      <td>NaN</td>\n      <td>115565.0</td>\n      <td>55460.0</td>\n    </tr>\n    <tr>\n      <th>14</th>\n      <td>NaN</td>\n      <td>NaN</td>\n      <td>5.0</td>\n      <td>NaN</td>\n      <td>123903.0</td>\n      <td>93279.0</td>\n    </tr>\n    <tr>\n      <th>15</th>\n      <td>NaN</td>\n      <td>NaN</td>\n      <td>5.0</td>\n      <td>NaN</td>\n      <td>131681.0</td>\n      <td>33903.0</td>\n    </tr>\n  </tbody>\n</table>\n<p>20000311 rows × 6 columns</p>\n</div>"
     },
     "execution_count": 126,
     "metadata": {},
     "output_type": "execute_result"
    }
   ],
   "source": [
    "ratings.rename(columns={\"userId\": 'u_id',  \"movieId\": \"i_id\"})"
   ],
   "metadata": {
    "collapsed": false,
    "pycharm": {
     "name": "#%%\n"
    }
   }
  },
  {
   "cell_type": "code",
   "execution_count": 8,
   "outputs": [
    {
     "name": "stdout",
     "output_type": "stream",
     "text": [
      "Preprocessing data...\n",
      "\n",
      "Epoch 1/100  | took 1.8 sec\n",
      "Epoch 2/100  | took 1.5 sec\n",
      "Epoch 3/100  | took 1.5 sec\n",
      "Epoch 4/100  | took 1.5 sec\n",
      "Epoch 5/100  | took 1.4 sec\n",
      "Epoch 6/100  | took 1.4 sec\n",
      "Epoch 7/100  | took 1.5 sec\n",
      "Epoch 8/100  | took 1.4 sec\n",
      "Epoch 9/100  | took 1.4 sec\n",
      "Epoch 10/100 | took 1.4 sec\n",
      "Epoch 11/100 | took 1.5 sec\n",
      "Epoch 12/100 | took 1.5 sec\n",
      "Epoch 13/100 | took 1.5 sec\n",
      "Epoch 14/100 | took 1.5 sec\n",
      "Epoch 15/100 | took 1.4 sec\n",
      "Epoch 16/100 | took 1.5 sec\n",
      "Epoch 17/100 | took 1.4 sec\n",
      "Epoch 18/100 | took 1.5 sec\n",
      "Epoch 19/100 | took 1.4 sec\n",
      "Epoch 20/100 | took 1.5 sec\n",
      "Epoch 21/100 | took 1.5 sec\n",
      "Epoch 22/100 | took 1.5 sec\n",
      "Epoch 23/100 | took 1.4 sec\n",
      "Epoch 24/100 | took 1.5 sec\n",
      "Epoch 25/100 | took 1.4 sec\n",
      "Epoch 26/100 | took 1.4 sec\n",
      "Epoch 27/100 | took 1.5 sec\n",
      "Epoch 28/100 | took 1.4 sec\n",
      "Epoch 29/100 | took 1.5 sec\n",
      "Epoch 30/100 | took 1.5 sec\n",
      "Epoch 31/100 | took 1.5 sec\n",
      "Epoch 32/100 | took 1.5 sec\n",
      "Epoch 33/100 | took 1.5 sec\n",
      "Epoch 34/100 | took 1.5 sec\n",
      "Epoch 35/100 | took 1.5 sec\n",
      "Epoch 36/100 | took 1.5 sec\n",
      "Epoch 37/100 | took 1.5 sec\n",
      "Epoch 38/100 | took 1.4 sec\n",
      "Epoch 39/100 | took 1.4 sec\n",
      "Epoch 40/100 | took 1.4 sec\n",
      "Epoch 41/100 | took 1.5 sec\n",
      "Epoch 42/100 | took 1.4 sec\n",
      "Epoch 43/100 | took 1.5 sec\n",
      "Epoch 44/100 | took 1.5 sec\n",
      "Epoch 45/100 | took 1.4 sec\n",
      "Epoch 46/100 | took 1.5 sec\n",
      "Epoch 47/100 | took 1.5 sec\n",
      "Epoch 48/100 | took 1.4 sec\n",
      "Epoch 49/100 | took 1.5 sec\n",
      "Epoch 50/100 | took 1.5 sec\n",
      "Epoch 51/100 | took 1.4 sec\n",
      "Epoch 52/100 | took 1.4 sec\n",
      "Epoch 53/100 | took 1.4 sec\n",
      "Epoch 54/100 | took 1.5 sec\n",
      "Epoch 55/100 | took 1.4 sec\n",
      "Epoch 56/100 | took 1.5 sec\n",
      "Epoch 57/100 | took 1.5 sec\n",
      "Epoch 58/100 | took 1.4 sec\n",
      "Epoch 59/100 | took 1.5 sec\n",
      "Epoch 60/100 | took 1.5 sec\n",
      "Epoch 61/100 | took 1.5 sec\n",
      "Epoch 62/100 | took 1.5 sec\n",
      "Epoch 63/100 | took 1.5 sec\n",
      "Epoch 64/100 | took 1.5 sec\n",
      "Epoch 65/100 | took 1.4 sec\n",
      "Epoch 66/100 | took 1.5 sec\n",
      "Epoch 67/100 | took 1.5 sec\n",
      "Epoch 68/100 | took 1.5 sec\n",
      "Epoch 69/100 | took 1.4 sec\n",
      "Epoch 70/100 | took 1.4 sec\n",
      "Epoch 71/100 | took 1.5 sec\n",
      "Epoch 72/100 | took 1.4 sec\n",
      "Epoch 73/100 | took 1.5 sec\n",
      "Epoch 74/100 | took 1.4 sec\n",
      "Epoch 75/100 | took 1.4 sec\n",
      "Epoch 76/100 | took 1.4 sec\n",
      "Epoch 77/100 | took 1.5 sec\n",
      "Epoch 78/100 | took 1.4 sec\n",
      "Epoch 79/100 | took 1.4 sec\n",
      "Epoch 80/100 | took 1.4 sec\n",
      "Epoch 81/100 | took 1.5 sec\n",
      "Epoch 82/100 | took 1.5 sec\n",
      "Epoch 83/100 | took 1.5 sec\n",
      "Epoch 84/100 | took 1.5 sec\n",
      "Epoch 85/100 | took 1.4 sec\n",
      "Epoch 86/100 | took 1.4 sec\n",
      "Epoch 87/100 | took 1.5 sec\n",
      "Epoch 88/100 | took 1.4 sec\n",
      "Epoch 89/100 | took 1.5 sec\n",
      "Epoch 90/100 | took 1.4 sec\n",
      "Epoch 91/100 | took 1.4 sec\n",
      "Epoch 92/100 | took 1.4 sec\n",
      "Epoch 93/100 | took 1.4 sec\n",
      "Epoch 94/100 | took 1.4 sec\n",
      "Epoch 95/100 | took 1.5 sec\n",
      "Epoch 96/100 | took 1.4 sec\n",
      "Epoch 97/100 | took 1.5 sec\n",
      "Epoch 98/100 | took 1.5 sec\n",
      "Epoch 99/100 | took 1.4 sec\n",
      "Epoch 100/100 | took 1.4 sec\n",
      "\n",
      "Training took 2 min and 36 sec\n"
     ]
    },
    {
     "data": {
      "text/plain": "<funk_svd.svd.SVD at 0x7fd181f95e70>"
     },
     "execution_count": 8,
     "metadata": {},
     "output_type": "execute_result"
    }
   ],
   "source": [
    "fsvd = FSVD(lr=0.001, reg=0.005, n_epochs=100, n_factors=15,\n",
    "          early_stopping=True, shuffle=False, min_rating=1, max_rating=5)\n",
    "\n",
    "fsvd.fit(X=ratings.rename(columns={\"userId\": 'u_id',  \"movieId\": \"i_id\"}))"
   ],
   "metadata": {
    "collapsed": false,
    "pycharm": {
     "name": "#%%\n"
    }
   }
  },
  {
   "cell_type": "code",
   "execution_count": 9,
   "outputs": [
    {
     "data": {
      "text/plain": "array([     2,     29,     32, ..., 121021, 110167, 110510])"
     },
     "execution_count": 9,
     "metadata": {},
     "output_type": "execute_result"
    }
   ],
   "source": [
    "all_movies = ratings.movieId.drop_duplicates().values\n",
    "all_movies"
   ],
   "metadata": {
    "collapsed": false,
    "pycharm": {
     "name": "#%%\n"
    }
   }
  },
  {
   "cell_type": "code",
   "execution_count": 10,
   "outputs": [],
   "source": [
    "preds = fsvd.predict(pd.DataFrame({\"u_id\": [0 for _ in range(all_movies.shape[0])], \"i_id\": all_movies}))"
   ],
   "metadata": {
    "collapsed": false,
    "pycharm": {
     "name": "#%%\n"
    }
   }
  },
  {
   "cell_type": "code",
   "execution_count": 11,
   "outputs": [],
   "source": [
    "k=50\n",
    "\n",
    "res = pd.DataFrame({\"movieId\": all_movies, \"pred\": preds})\n",
    "gen_at_k = genres.loc[res.sort_values(\"pred\")[-k:].movieId.values].sum() / k"
   ],
   "metadata": {
    "collapsed": false,
    "pycharm": {
     "name": "#%%\n"
    }
   }
  },
  {
   "cell_type": "code",
   "execution_count": 12,
   "outputs": [
    {
     "data": {
      "text/plain": "Adventure             0.10\nAnimation             0.02\nChildren              0.00\nComedy                0.18\nFantasy               0.04\nRomance               0.16\nDrama                 0.58\nAction                0.10\nCrime                 0.14\nThriller              0.14\nHorror                0.00\nMystery               0.10\nSci-Fi                0.02\nIMAX                  0.00\nDocumentary           0.22\nWar                   0.10\nMusical               0.00\nWestern               0.00\nFilm-Noir             0.00\n(no genres listed)    0.00\ndtype: float64"
     },
     "execution_count": 12,
     "metadata": {},
     "output_type": "execute_result"
    }
   ],
   "source": [
    "gen_at_k"
   ],
   "metadata": {
    "collapsed": false,
    "pycharm": {
     "name": "#%%\n"
    }
   }
  },
  {
   "cell_type": "code",
   "execution_count": 13,
   "outputs": [
    {
     "data": {
      "text/plain": "59477     4988\n83090     5169\n131904    5330\n34576     5356\n74142     5447\n125794    5491\n121535    5520\n82418     5646\n8405      7515\n118205    9254\nName: userId, dtype: int64"
     },
     "execution_count": 13,
     "metadata": {},
     "output_type": "execute_result"
    }
   ],
   "source": [
    "ratings.userId.value_counts().sort_values()[-10:]"
   ],
   "metadata": {
    "collapsed": false,
    "pycharm": {
     "name": "#%%\n"
    }
   }
  },
  {
   "cell_type": "code",
   "execution_count": 22,
   "outputs": [
    {
     "data": {
      "text/plain": "[49750, 133810, 61792, 126170, 85275, 26201, 103329, 133627, 121793, 115338]"
     },
     "execution_count": 22,
     "metadata": {},
     "output_type": "execute_result"
    }
   ],
   "source": [
    "np.random.choice(ratings.userId.unique(), 10, replace=False).tolist()"
   ],
   "metadata": {
    "collapsed": false,
    "pycharm": {
     "name": "#%%\n"
    }
   }
  },
  {
   "cell_type": "code",
   "execution_count": 24,
   "outputs": [],
   "source": [
    "users = np.random.choice(ratings.userId.unique(), 16, replace=False)\n",
    "all_movies = ratings.movieId.unique()"
   ],
   "metadata": {
    "collapsed": false,
    "pycharm": {
     "name": "#%%\n"
    }
   }
  },
  {
   "cell_type": "code",
   "execution_count": 26,
   "outputs": [],
   "source": [
    "movies_available = [{\"u_id\": u, \"i_id\": i}  for u in users for i in np.setdiff1d(all_movies, ratings.loc[ratings.userId == u].movieId.unique())]"
   ],
   "metadata": {
    "collapsed": false,
    "pycharm": {
     "name": "#%%\n"
    }
   }
  },
  {
   "cell_type": "code",
   "execution_count": 29,
   "outputs": [
    {
     "data": {
      "text/plain": "         u_id    i_id\n0        7642       1\n1        7642       2\n2        7642       3\n3        7642       4\n4        7642       7\n...       ...     ...\n426273  77656  131254\n426274  77656  131256\n426275  77656  131258\n426276  77656  131260\n426277  77656  131262\n\n[426278 rows x 2 columns]",
      "text/html": "<div>\n<style scoped>\n    .dataframe tbody tr th:only-of-type {\n        vertical-align: middle;\n    }\n\n    .dataframe tbody tr th {\n        vertical-align: top;\n    }\n\n    .dataframe thead th {\n        text-align: right;\n    }\n</style>\n<table border=\"1\" class=\"dataframe\">\n  <thead>\n    <tr style=\"text-align: right;\">\n      <th></th>\n      <th>u_id</th>\n      <th>i_id</th>\n    </tr>\n  </thead>\n  <tbody>\n    <tr>\n      <th>0</th>\n      <td>7642</td>\n      <td>1</td>\n    </tr>\n    <tr>\n      <th>1</th>\n      <td>7642</td>\n      <td>2</td>\n    </tr>\n    <tr>\n      <th>2</th>\n      <td>7642</td>\n      <td>3</td>\n    </tr>\n    <tr>\n      <th>3</th>\n      <td>7642</td>\n      <td>4</td>\n    </tr>\n    <tr>\n      <th>4</th>\n      <td>7642</td>\n      <td>7</td>\n    </tr>\n    <tr>\n      <th>...</th>\n      <td>...</td>\n      <td>...</td>\n    </tr>\n    <tr>\n      <th>426273</th>\n      <td>77656</td>\n      <td>131254</td>\n    </tr>\n    <tr>\n      <th>426274</th>\n      <td>77656</td>\n      <td>131256</td>\n    </tr>\n    <tr>\n      <th>426275</th>\n      <td>77656</td>\n      <td>131258</td>\n    </tr>\n    <tr>\n      <th>426276</th>\n      <td>77656</td>\n      <td>131260</td>\n    </tr>\n    <tr>\n      <th>426277</th>\n      <td>77656</td>\n      <td>131262</td>\n    </tr>\n  </tbody>\n</table>\n<p>426278 rows × 2 columns</p>\n</div>"
     },
     "execution_count": 29,
     "metadata": {},
     "output_type": "execute_result"
    }
   ],
   "source": [
    "pd.DataFrame(movies_available)"
   ],
   "metadata": {
    "collapsed": false,
    "pycharm": {
     "name": "#%%\n"
    }
   }
  },
  {
   "cell_type": "code",
   "execution_count": 30,
   "outputs": [],
   "source": [
    "movies_available = pd.DataFrame([{\"u_id\": u, \"i_id\": i} for u in users for i in np.setdiff1d(all_movies, ratings.loc[ratings.userId == u].movieId.unique())])"
   ],
   "metadata": {
    "collapsed": false,
    "pycharm": {
     "name": "#%%\n"
    }
   }
  },
  {
   "cell_type": "code",
   "execution_count": 43,
   "outputs": [],
   "source": [
    "selected = movies_available.groupby(\"u_id\").apply(lambda df: np.random.choice(df.index))"
   ],
   "metadata": {
    "collapsed": false,
    "pycharm": {
     "name": "#%%\n"
    }
   }
  },
  {
   "cell_type": "code",
   "execution_count": 48,
   "outputs": [
    {
     "data": {
      "text/plain": "16"
     },
     "execution_count": 48,
     "metadata": {},
     "output_type": "execute_result"
    }
   ],
   "source": [
    "selected.shape[0]"
   ],
   "metadata": {
    "collapsed": false,
    "pycharm": {
     "name": "#%%\n"
    }
   }
  },
  {
   "cell_type": "code",
   "execution_count": 55,
   "outputs": [
    {
     "data": {
      "text/plain": "      u_id    i_id  rating\n0     7642   25922       5\n1    19779    2586       5\n2    41549   70789       5\n3    54417    2327       4\n4    56721   49973       5\n5    61274    5960       5\n6    68973    4842       5\n7    77656   40467       4\n8    91829  121403       5\n9    93917    1531       5\n10  103110    6565       5\n11  113283   87960       5\n12  114508   27762       5\n13  115565   55460       5\n14  123903   93279       5\n15  131681   33903       5",
      "text/html": "<div>\n<style scoped>\n    .dataframe tbody tr th:only-of-type {\n        vertical-align: middle;\n    }\n\n    .dataframe tbody tr th {\n        vertical-align: top;\n    }\n\n    .dataframe thead th {\n        text-align: right;\n    }\n</style>\n<table border=\"1\" class=\"dataframe\">\n  <thead>\n    <tr style=\"text-align: right;\">\n      <th></th>\n      <th>u_id</th>\n      <th>i_id</th>\n      <th>rating</th>\n    </tr>\n  </thead>\n  <tbody>\n    <tr>\n      <th>0</th>\n      <td>7642</td>\n      <td>25922</td>\n      <td>5</td>\n    </tr>\n    <tr>\n      <th>1</th>\n      <td>19779</td>\n      <td>2586</td>\n      <td>5</td>\n    </tr>\n    <tr>\n      <th>2</th>\n      <td>41549</td>\n      <td>70789</td>\n      <td>5</td>\n    </tr>\n    <tr>\n      <th>3</th>\n      <td>54417</td>\n      <td>2327</td>\n      <td>4</td>\n    </tr>\n    <tr>\n      <th>4</th>\n      <td>56721</td>\n      <td>49973</td>\n      <td>5</td>\n    </tr>\n    <tr>\n      <th>5</th>\n      <td>61274</td>\n      <td>5960</td>\n      <td>5</td>\n    </tr>\n    <tr>\n      <th>6</th>\n      <td>68973</td>\n      <td>4842</td>\n      <td>5</td>\n    </tr>\n    <tr>\n      <th>7</th>\n      <td>77656</td>\n      <td>40467</td>\n      <td>4</td>\n    </tr>\n    <tr>\n      <th>8</th>\n      <td>91829</td>\n      <td>121403</td>\n      <td>5</td>\n    </tr>\n    <tr>\n      <th>9</th>\n      <td>93917</td>\n      <td>1531</td>\n      <td>5</td>\n    </tr>\n    <tr>\n      <th>10</th>\n      <td>103110</td>\n      <td>6565</td>\n      <td>5</td>\n    </tr>\n    <tr>\n      <th>11</th>\n      <td>113283</td>\n      <td>87960</td>\n      <td>5</td>\n    </tr>\n    <tr>\n      <th>12</th>\n      <td>114508</td>\n      <td>27762</td>\n      <td>5</td>\n    </tr>\n    <tr>\n      <th>13</th>\n      <td>115565</td>\n      <td>55460</td>\n      <td>5</td>\n    </tr>\n    <tr>\n      <th>14</th>\n      <td>123903</td>\n      <td>93279</td>\n      <td>5</td>\n    </tr>\n    <tr>\n      <th>15</th>\n      <td>131681</td>\n      <td>33903</td>\n      <td>5</td>\n    </tr>\n  </tbody>\n</table>\n</div>"
     },
     "execution_count": 55,
     "metadata": {},
     "output_type": "execute_result"
    }
   ],
   "source": [
    "pd.concat([movies_available.loc[selected].reset_index(drop=True), pd.DataFrame({\"rating\": np.random.choice([4, 5], selected.shape[0], p=[.15, .85])})], axis=1)"
   ],
   "metadata": {
    "collapsed": false,
    "pycharm": {
     "name": "#%%\n"
    }
   }
  },
  {
   "cell_type": "code",
   "execution_count": 60,
   "outputs": [],
   "source": [
    "new_scores = pd.concat([movies_available.loc[selected].reset_index(drop=True), pd.DataFrame({\"rating\": np.random.choice([4, 5], selected.shape[0], p=[.15, .85])})], axis=1)\n",
    "ratings = pd.concat([ratings, new_scores],  axis=0)"
   ],
   "metadata": {
    "collapsed": false,
    "pycharm": {
     "name": "#%%\n"
    }
   }
  },
  {
   "cell_type": "code",
   "execution_count": 79,
   "outputs": [
    {
     "data": {
      "text/plain": "        Adventure  Animation  Children    Comedy   Fantasy   Romance  \\\nu_id                                                                   \n7642     0.084997   0.037910  0.041618  0.307736  0.052257  0.150590   \n19779    0.085376   0.037916  0.041621  0.307931  0.052326  0.150578   \n41549    0.084961   0.037710  0.041203  0.307542  0.051645  0.150165   \n54417    0.085343   0.037934  0.041866  0.307594  0.052277  0.150764   \n56721    0.085095   0.037862  0.041573  0.307880  0.052182  0.150547   \n61274    0.084446   0.037673  0.041772  0.308230  0.052111  0.151145   \n68973    0.085389   0.037996  0.041777  0.307790  0.052259  0.150713   \n77656    0.085361   0.037938  0.041724  0.307441  0.052334  0.150253   \n91829    0.084990   0.037844  0.041782  0.307704  0.051947  0.150626   \n93917    0.085544   0.037907  0.041799  0.307712  0.052240  0.150732   \n103110   0.085541   0.037981  0.041798  0.307626  0.052238  0.150501   \n113283   0.085438   0.037997  0.041782  0.307802  0.052350  0.150641   \n114508   0.084954   0.037587  0.041671  0.307551  0.051977  0.150721   \n115565   0.084441   0.038282  0.042258  0.310235  0.052331  0.149873   \n123903   0.084386   0.037643  0.040727  0.307310  0.051858  0.149970   \n131681   0.082967   0.037809  0.041218  0.307471  0.051409  0.150402   \n\n           Drama    Action     Crime  Thriller    Horror   Mystery    Sci-Fi  \\\nu_id                                                                           \n7642    0.488668  0.129013  0.107848  0.153849  0.096947  0.055666  0.064169   \n19779   0.488341  0.129431  0.107871  0.154396  0.096905  0.055695  0.064191   \n41549   0.488657  0.129319  0.108060  0.154372  0.096943  0.055889  0.064153   \n54417   0.488466  0.129494  0.107886  0.154321  0.096914  0.055647  0.064260   \n56721   0.488567  0.128880  0.107737  0.153809  0.096941  0.055631  0.063990   \n61274   0.489078  0.127420  0.107005  0.152950  0.096966  0.055269  0.062639   \n68973   0.488489  0.129338  0.107775  0.153970  0.096882  0.055703  0.064238   \n77656   0.488060  0.129447  0.107966  0.154189  0.097020  0.055783  0.064367   \n91829   0.488485  0.129210  0.107606  0.153889  0.096842  0.055322  0.063986   \n93917   0.488493  0.129514  0.107997  0.154361  0.096883  0.055682  0.064289   \n103110  0.488325  0.129659  0.108068  0.154393  0.096917  0.055680  0.064287   \n113283  0.488084  0.129544  0.107809  0.154088  0.096867  0.055497  0.064228   \n114508  0.488739  0.129286  0.107813  0.154169  0.096796  0.055462  0.063669   \n115565  0.484342  0.127911  0.106933  0.153092  0.097883  0.055549  0.064523   \n123903  0.488944  0.129137  0.108040  0.153918  0.097210  0.055505  0.064004   \n131681  0.489392  0.127330  0.107327  0.151993  0.097363  0.054857  0.062737   \n\n            IMAX  Documentary       War   Musical   Western  Film-Noir  \\\nu_id                                                                     \n7642    0.007192     0.089567  0.043903  0.037947  0.024499   0.012062   \n19779   0.007224     0.089456  0.043867  0.037953  0.024554   0.012052   \n41549   0.007249     0.089769  0.043795  0.037485  0.024489   0.012094   \n54417   0.007302     0.089425  0.043889  0.038009  0.024566   0.012058   \n56721   0.007197     0.089631  0.043785  0.037937  0.024516   0.012071   \n61274   0.006956     0.089860  0.043689  0.038162  0.024514   0.012069   \n68973   0.007262     0.089507  0.043836  0.038034  0.024520   0.012054   \n77656   0.007235     0.089597  0.043786  0.037976  0.024442   0.012071   \n91829   0.007276     0.089641  0.043883  0.037994  0.024567   0.012040   \n93917   0.007260     0.089473  0.043820  0.037945  0.024473   0.012050   \n103110  0.007297     0.089470  0.043856  0.037981  0.024510   0.012049   \n113283  0.007307     0.089598  0.043843  0.038072  0.024507   0.011991   \n114508  0.007120     0.089601  0.043957  0.037886  0.024546   0.012029   \n115565  0.006816     0.090310  0.041690  0.038282  0.024158   0.012117   \n123903  0.007220     0.089914  0.043735  0.037568  0.024594   0.012071   \n131681  0.007122     0.090506  0.043757  0.037960  0.024701   0.012047   \n\n        (no genres listed)  \nu_id                        \n7642              0.009065  \n19779             0.009058  \n41549             0.009090  \n54417             0.009062  \n56721             0.009072  \n61274             0.009099  \n68973             0.009059  \n77656             0.009072  \n91829             0.009077  \n93917             0.009056  \n103110            0.009056  \n113283            0.009068  \n114508            0.009069  \n115565            0.009164  \n123903            0.009100  \n131681            0.009168  ",
      "text/html": "<div>\n<style scoped>\n    .dataframe tbody tr th:only-of-type {\n        vertical-align: middle;\n    }\n\n    .dataframe tbody tr th {\n        vertical-align: top;\n    }\n\n    .dataframe thead th {\n        text-align: right;\n    }\n</style>\n<table border=\"1\" class=\"dataframe\">\n  <thead>\n    <tr style=\"text-align: right;\">\n      <th></th>\n      <th>Adventure</th>\n      <th>Animation</th>\n      <th>Children</th>\n      <th>Comedy</th>\n      <th>Fantasy</th>\n      <th>Romance</th>\n      <th>Drama</th>\n      <th>Action</th>\n      <th>Crime</th>\n      <th>Thriller</th>\n      <th>Horror</th>\n      <th>Mystery</th>\n      <th>Sci-Fi</th>\n      <th>IMAX</th>\n      <th>Documentary</th>\n      <th>War</th>\n      <th>Musical</th>\n      <th>Western</th>\n      <th>Film-Noir</th>\n      <th>(no genres listed)</th>\n    </tr>\n    <tr>\n      <th>u_id</th>\n      <th></th>\n      <th></th>\n      <th></th>\n      <th></th>\n      <th></th>\n      <th></th>\n      <th></th>\n      <th></th>\n      <th></th>\n      <th></th>\n      <th></th>\n      <th></th>\n      <th></th>\n      <th></th>\n      <th></th>\n      <th></th>\n      <th></th>\n      <th></th>\n      <th></th>\n      <th></th>\n    </tr>\n  </thead>\n  <tbody>\n    <tr>\n      <th>7642</th>\n      <td>0.084997</td>\n      <td>0.037910</td>\n      <td>0.041618</td>\n      <td>0.307736</td>\n      <td>0.052257</td>\n      <td>0.150590</td>\n      <td>0.488668</td>\n      <td>0.129013</td>\n      <td>0.107848</td>\n      <td>0.153849</td>\n      <td>0.096947</td>\n      <td>0.055666</td>\n      <td>0.064169</td>\n      <td>0.007192</td>\n      <td>0.089567</td>\n      <td>0.043903</td>\n      <td>0.037947</td>\n      <td>0.024499</td>\n      <td>0.012062</td>\n      <td>0.009065</td>\n    </tr>\n    <tr>\n      <th>19779</th>\n      <td>0.085376</td>\n      <td>0.037916</td>\n      <td>0.041621</td>\n      <td>0.307931</td>\n      <td>0.052326</td>\n      <td>0.150578</td>\n      <td>0.488341</td>\n      <td>0.129431</td>\n      <td>0.107871</td>\n      <td>0.154396</td>\n      <td>0.096905</td>\n      <td>0.055695</td>\n      <td>0.064191</td>\n      <td>0.007224</td>\n      <td>0.089456</td>\n      <td>0.043867</td>\n      <td>0.037953</td>\n      <td>0.024554</td>\n      <td>0.012052</td>\n      <td>0.009058</td>\n    </tr>\n    <tr>\n      <th>41549</th>\n      <td>0.084961</td>\n      <td>0.037710</td>\n      <td>0.041203</td>\n      <td>0.307542</td>\n      <td>0.051645</td>\n      <td>0.150165</td>\n      <td>0.488657</td>\n      <td>0.129319</td>\n      <td>0.108060</td>\n      <td>0.154372</td>\n      <td>0.096943</td>\n      <td>0.055889</td>\n      <td>0.064153</td>\n      <td>0.007249</td>\n      <td>0.089769</td>\n      <td>0.043795</td>\n      <td>0.037485</td>\n      <td>0.024489</td>\n      <td>0.012094</td>\n      <td>0.009090</td>\n    </tr>\n    <tr>\n      <th>54417</th>\n      <td>0.085343</td>\n      <td>0.037934</td>\n      <td>0.041866</td>\n      <td>0.307594</td>\n      <td>0.052277</td>\n      <td>0.150764</td>\n      <td>0.488466</td>\n      <td>0.129494</td>\n      <td>0.107886</td>\n      <td>0.154321</td>\n      <td>0.096914</td>\n      <td>0.055647</td>\n      <td>0.064260</td>\n      <td>0.007302</td>\n      <td>0.089425</td>\n      <td>0.043889</td>\n      <td>0.038009</td>\n      <td>0.024566</td>\n      <td>0.012058</td>\n      <td>0.009062</td>\n    </tr>\n    <tr>\n      <th>56721</th>\n      <td>0.085095</td>\n      <td>0.037862</td>\n      <td>0.041573</td>\n      <td>0.307880</td>\n      <td>0.052182</td>\n      <td>0.150547</td>\n      <td>0.488567</td>\n      <td>0.128880</td>\n      <td>0.107737</td>\n      <td>0.153809</td>\n      <td>0.096941</td>\n      <td>0.055631</td>\n      <td>0.063990</td>\n      <td>0.007197</td>\n      <td>0.089631</td>\n      <td>0.043785</td>\n      <td>0.037937</td>\n      <td>0.024516</td>\n      <td>0.012071</td>\n      <td>0.009072</td>\n    </tr>\n    <tr>\n      <th>61274</th>\n      <td>0.084446</td>\n      <td>0.037673</td>\n      <td>0.041772</td>\n      <td>0.308230</td>\n      <td>0.052111</td>\n      <td>0.151145</td>\n      <td>0.489078</td>\n      <td>0.127420</td>\n      <td>0.107005</td>\n      <td>0.152950</td>\n      <td>0.096966</td>\n      <td>0.055269</td>\n      <td>0.062639</td>\n      <td>0.006956</td>\n      <td>0.089860</td>\n      <td>0.043689</td>\n      <td>0.038162</td>\n      <td>0.024514</td>\n      <td>0.012069</td>\n      <td>0.009099</td>\n    </tr>\n    <tr>\n      <th>68973</th>\n      <td>0.085389</td>\n      <td>0.037996</td>\n      <td>0.041777</td>\n      <td>0.307790</td>\n      <td>0.052259</td>\n      <td>0.150713</td>\n      <td>0.488489</td>\n      <td>0.129338</td>\n      <td>0.107775</td>\n      <td>0.153970</td>\n      <td>0.096882</td>\n      <td>0.055703</td>\n      <td>0.064238</td>\n      <td>0.007262</td>\n      <td>0.089507</td>\n      <td>0.043836</td>\n      <td>0.038034</td>\n      <td>0.024520</td>\n      <td>0.012054</td>\n      <td>0.009059</td>\n    </tr>\n    <tr>\n      <th>77656</th>\n      <td>0.085361</td>\n      <td>0.037938</td>\n      <td>0.041724</td>\n      <td>0.307441</td>\n      <td>0.052334</td>\n      <td>0.150253</td>\n      <td>0.488060</td>\n      <td>0.129447</td>\n      <td>0.107966</td>\n      <td>0.154189</td>\n      <td>0.097020</td>\n      <td>0.055783</td>\n      <td>0.064367</td>\n      <td>0.007235</td>\n      <td>0.089597</td>\n      <td>0.043786</td>\n      <td>0.037976</td>\n      <td>0.024442</td>\n      <td>0.012071</td>\n      <td>0.009072</td>\n    </tr>\n    <tr>\n      <th>91829</th>\n      <td>0.084990</td>\n      <td>0.037844</td>\n      <td>0.041782</td>\n      <td>0.307704</td>\n      <td>0.051947</td>\n      <td>0.150626</td>\n      <td>0.488485</td>\n      <td>0.129210</td>\n      <td>0.107606</td>\n      <td>0.153889</td>\n      <td>0.096842</td>\n      <td>0.055322</td>\n      <td>0.063986</td>\n      <td>0.007276</td>\n      <td>0.089641</td>\n      <td>0.043883</td>\n      <td>0.037994</td>\n      <td>0.024567</td>\n      <td>0.012040</td>\n      <td>0.009077</td>\n    </tr>\n    <tr>\n      <th>93917</th>\n      <td>0.085544</td>\n      <td>0.037907</td>\n      <td>0.041799</td>\n      <td>0.307712</td>\n      <td>0.052240</td>\n      <td>0.150732</td>\n      <td>0.488493</td>\n      <td>0.129514</td>\n      <td>0.107997</td>\n      <td>0.154361</td>\n      <td>0.096883</td>\n      <td>0.055682</td>\n      <td>0.064289</td>\n      <td>0.007260</td>\n      <td>0.089473</td>\n      <td>0.043820</td>\n      <td>0.037945</td>\n      <td>0.024473</td>\n      <td>0.012050</td>\n      <td>0.009056</td>\n    </tr>\n    <tr>\n      <th>103110</th>\n      <td>0.085541</td>\n      <td>0.037981</td>\n      <td>0.041798</td>\n      <td>0.307626</td>\n      <td>0.052238</td>\n      <td>0.150501</td>\n      <td>0.488325</td>\n      <td>0.129659</td>\n      <td>0.108068</td>\n      <td>0.154393</td>\n      <td>0.096917</td>\n      <td>0.055680</td>\n      <td>0.064287</td>\n      <td>0.007297</td>\n      <td>0.089470</td>\n      <td>0.043856</td>\n      <td>0.037981</td>\n      <td>0.024510</td>\n      <td>0.012049</td>\n      <td>0.009056</td>\n    </tr>\n    <tr>\n      <th>113283</th>\n      <td>0.085438</td>\n      <td>0.037997</td>\n      <td>0.041782</td>\n      <td>0.307802</td>\n      <td>0.052350</td>\n      <td>0.150641</td>\n      <td>0.488084</td>\n      <td>0.129544</td>\n      <td>0.107809</td>\n      <td>0.154088</td>\n      <td>0.096867</td>\n      <td>0.055497</td>\n      <td>0.064228</td>\n      <td>0.007307</td>\n      <td>0.089598</td>\n      <td>0.043843</td>\n      <td>0.038072</td>\n      <td>0.024507</td>\n      <td>0.011991</td>\n      <td>0.009068</td>\n    </tr>\n    <tr>\n      <th>114508</th>\n      <td>0.084954</td>\n      <td>0.037587</td>\n      <td>0.041671</td>\n      <td>0.307551</td>\n      <td>0.051977</td>\n      <td>0.150721</td>\n      <td>0.488739</td>\n      <td>0.129286</td>\n      <td>0.107813</td>\n      <td>0.154169</td>\n      <td>0.096796</td>\n      <td>0.055462</td>\n      <td>0.063669</td>\n      <td>0.007120</td>\n      <td>0.089601</td>\n      <td>0.043957</td>\n      <td>0.037886</td>\n      <td>0.024546</td>\n      <td>0.012029</td>\n      <td>0.009069</td>\n    </tr>\n    <tr>\n      <th>115565</th>\n      <td>0.084441</td>\n      <td>0.038282</td>\n      <td>0.042258</td>\n      <td>0.310235</td>\n      <td>0.052331</td>\n      <td>0.149873</td>\n      <td>0.484342</td>\n      <td>0.127911</td>\n      <td>0.106933</td>\n      <td>0.153092</td>\n      <td>0.097883</td>\n      <td>0.055549</td>\n      <td>0.064523</td>\n      <td>0.006816</td>\n      <td>0.090310</td>\n      <td>0.041690</td>\n      <td>0.038282</td>\n      <td>0.024158</td>\n      <td>0.012117</td>\n      <td>0.009164</td>\n    </tr>\n    <tr>\n      <th>123903</th>\n      <td>0.084386</td>\n      <td>0.037643</td>\n      <td>0.040727</td>\n      <td>0.307310</td>\n      <td>0.051858</td>\n      <td>0.149970</td>\n      <td>0.488944</td>\n      <td>0.129137</td>\n      <td>0.108040</td>\n      <td>0.153918</td>\n      <td>0.097210</td>\n      <td>0.055505</td>\n      <td>0.064004</td>\n      <td>0.007220</td>\n      <td>0.089914</td>\n      <td>0.043735</td>\n      <td>0.037568</td>\n      <td>0.024594</td>\n      <td>0.012071</td>\n      <td>0.009100</td>\n    </tr>\n    <tr>\n      <th>131681</th>\n      <td>0.082967</td>\n      <td>0.037809</td>\n      <td>0.041218</td>\n      <td>0.307471</td>\n      <td>0.051409</td>\n      <td>0.150402</td>\n      <td>0.489392</td>\n      <td>0.127330</td>\n      <td>0.107327</td>\n      <td>0.151993</td>\n      <td>0.097363</td>\n      <td>0.054857</td>\n      <td>0.062737</td>\n      <td>0.007122</td>\n      <td>0.090506</td>\n      <td>0.043757</td>\n      <td>0.037960</td>\n      <td>0.024701</td>\n      <td>0.012047</td>\n      <td>0.009168</td>\n    </tr>\n  </tbody>\n</table>\n</div>"
     },
     "execution_count": 79,
     "metadata": {},
     "output_type": "execute_result"
    }
   ],
   "source": [
    "res_tmp = pd.concat([movies_available,  pd.DataFrame({\"pred\": fsvd.predict(movies_available)})], axis=1)\n",
    "res_tmp = pd.concat([res_tmp,  genres.loc[res_tmp.i_id].reset_index(drop=True)], axis=1)\n",
    "res_tmp.groupby(\"u_id\").apply(lambda df:  df.drop([\"u_id\", \"i_id\",  \"pred\"],  axis=1).mean())"
   ],
   "metadata": {
    "collapsed": false,
    "pycharm": {
     "name": "#%%\n"
    }
   }
  },
  {
   "cell_type": "code",
   "execution_count": 88,
   "outputs": [
    {
     "data": {
      "text/plain": "{7642: {'Adventure': 0.25,\n  'Animation': 0.0,\n  'Children': 0.01,\n  'Comedy': 0.12,\n  'Fantasy': 0.13,\n  'Romance': 0.23,\n  'Drama': 0.53,\n  'Action': 0.51,\n  'Crime': 0.2,\n  'Thriller': 0.43,\n  'Horror': 0.05,\n  'Mystery': 0.13,\n  'Sci-Fi': 0.16,\n  'IMAX': 0.16,\n  'Documentary': 0.01,\n  'War': 0.09,\n  'Musical': 0.04,\n  'Western': 0.01,\n  'Film-Noir': 0.0,\n  '(no genres listed)': 0.0},\n 19779: {'Adventure': 0.05,\n  'Animation': 0.06,\n  'Children': 0.01,\n  'Comedy': 0.25,\n  'Fantasy': 0.03,\n  'Romance': 0.1,\n  'Drama': 0.54,\n  'Action': 0.09,\n  'Crime': 0.17,\n  'Thriller': 0.18,\n  'Horror': 0.0,\n  'Mystery': 0.13,\n  'Sci-Fi': 0.06,\n  'IMAX': 0.0,\n  'Documentary': 0.23,\n  'War': 0.11,\n  'Musical': 0.0,\n  'Western': 0.01,\n  'Film-Noir': 0.05,\n  '(no genres listed)': 0.0},\n 41549: {'Adventure': 0.35,\n  'Animation': 0.05,\n  'Children': 0.06,\n  'Comedy': 0.24,\n  'Fantasy': 0.2,\n  'Romance': 0.44,\n  'Drama': 0.61,\n  'Action': 0.21,\n  'Crime': 0.01,\n  'Thriller': 0.08,\n  'Horror': 0.0,\n  'Mystery': 0.04,\n  'Sci-Fi': 0.21,\n  'IMAX': 0.12,\n  'Documentary': 0.01,\n  'War': 0.05,\n  'Musical': 0.08,\n  'Western': 0.02,\n  'Film-Noir': 0.0,\n  '(no genres listed)': 0.0},\n 54417: {'Adventure': 0.07,\n  'Animation': 0.02,\n  'Children': 0.01,\n  'Comedy': 0.45,\n  'Fantasy': 0.06,\n  'Romance': 0.13,\n  'Drama': 0.48,\n  'Action': 0.16,\n  'Crime': 0.25,\n  'Thriller': 0.14,\n  'Horror': 0.01,\n  'Mystery': 0.07,\n  'Sci-Fi': 0.06,\n  'IMAX': 0.04,\n  'Documentary': 0.12,\n  'War': 0.05,\n  'Musical': 0.02,\n  'Western': 0.01,\n  'Film-Noir': 0.02,\n  '(no genres listed)': 0.01},\n 56721: {'Adventure': 0.15,\n  'Animation': 0.06,\n  'Children': 0.02,\n  'Comedy': 0.16,\n  'Fantasy': 0.09,\n  'Romance': 0.1,\n  'Drama': 0.55,\n  'Action': 0.17,\n  'Crime': 0.15,\n  'Thriller': 0.17,\n  'Horror': 0.04,\n  'Mystery': 0.1,\n  'Sci-Fi': 0.13,\n  'IMAX': 0.0,\n  'Documentary': 0.16,\n  'War': 0.14,\n  'Musical': 0.01,\n  'Western': 0.0,\n  'Film-Noir': 0.01,\n  '(no genres listed)': 0.0},\n 61274: {'Adventure': 0.18,\n  'Animation': 0.03,\n  'Children': 0.01,\n  'Comedy': 0.51,\n  'Fantasy': 0.06,\n  'Romance': 0.04,\n  'Drama': 0.32,\n  'Action': 0.34,\n  'Crime': 0.23,\n  'Thriller': 0.16,\n  'Horror': 0.01,\n  'Mystery': 0.11,\n  'Sci-Fi': 0.17,\n  'IMAX': 0.04,\n  'Documentary': 0.08,\n  'War': 0.07,\n  'Musical': 0.03,\n  'Western': 0.05,\n  'Film-Noir': 0.01,\n  '(no genres listed)': 0.0},\n 68973: {'Adventure': 0.05,\n  'Animation': 0.1,\n  'Children': 0.03,\n  'Comedy': 0.31,\n  'Fantasy': 0.06,\n  'Romance': 0.16,\n  'Drama': 0.43,\n  'Action': 0.02,\n  'Crime': 0.1,\n  'Thriller': 0.09,\n  'Horror': 0.01,\n  'Mystery': 0.08,\n  'Sci-Fi': 0.05,\n  'IMAX': 0.0,\n  'Documentary': 0.27,\n  'War': 0.07,\n  'Musical': 0.02,\n  'Western': 0.0,\n  'Film-Noir': 0.04,\n  '(no genres listed)': 0.0},\n 77656: {'Adventure': 0.07,\n  'Animation': 0.0,\n  'Children': 0.02,\n  'Comedy': 0.2,\n  'Fantasy': 0.05,\n  'Romance': 0.39,\n  'Drama': 0.63,\n  'Action': 0.05,\n  'Crime': 0.09,\n  'Thriller': 0.08,\n  'Horror': 0.0,\n  'Mystery': 0.13,\n  'Sci-Fi': 0.0,\n  'IMAX': 0.02,\n  'Documentary': 0.16,\n  'War': 0.12,\n  'Musical': 0.05,\n  'Western': 0.0,\n  'Film-Noir': 0.07,\n  '(no genres listed)': 0.0},\n 91829: {'Adventure': 0.27,\n  'Animation': 0.31,\n  'Children': 0.24,\n  'Comedy': 0.65,\n  'Fantasy': 0.21,\n  'Romance': 0.18,\n  'Drama': 0.24,\n  'Action': 0.12,\n  'Crime': 0.09,\n  'Thriller': 0.03,\n  'Horror': 0.0,\n  'Mystery': 0.04,\n  'Sci-Fi': 0.12,\n  'IMAX': 0.02,\n  'Documentary': 0.05,\n  'War': 0.06,\n  'Musical': 0.18,\n  'Western': 0.01,\n  'Film-Noir': 0.0,\n  '(no genres listed)': 0.0},\n 93917: {'Adventure': 0.29,\n  'Animation': 0.12,\n  'Children': 0.08,\n  'Comedy': 0.24,\n  'Fantasy': 0.13,\n  'Romance': 0.04,\n  'Drama': 0.32,\n  'Action': 0.57,\n  'Crime': 0.23,\n  'Thriller': 0.45,\n  'Horror': 0.08,\n  'Mystery': 0.16,\n  'Sci-Fi': 0.35,\n  'IMAX': 0.2,\n  'Documentary': 0.02,\n  'War': 0.04,\n  'Musical': 0.04,\n  'Western': 0.01,\n  'Film-Noir': 0.01,\n  '(no genres listed)': 0.01},\n 103110: {'Adventure': 0.18,\n  'Animation': 0.09,\n  'Children': 0.08,\n  'Comedy': 0.25,\n  'Fantasy': 0.1,\n  'Romance': 0.18,\n  'Drama': 0.65,\n  'Action': 0.17,\n  'Crime': 0.19,\n  'Thriller': 0.23,\n  'Horror': 0.02,\n  'Mystery': 0.11,\n  'Sci-Fi': 0.09,\n  'IMAX': 0.11,\n  'Documentary': 0.09,\n  'War': 0.08,\n  'Musical': 0.02,\n  'Western': 0.01,\n  'Film-Noir': 0.0,\n  '(no genres listed)': 0.0},\n 113283: {'Adventure': 0.01,\n  'Animation': 0.0,\n  'Children': 0.01,\n  'Comedy': 0.13,\n  'Fantasy': 0.01,\n  'Romance': 0.3,\n  'Drama': 0.77,\n  'Action': 0.04,\n  'Crime': 0.12,\n  'Thriller': 0.12,\n  'Horror': 0.01,\n  'Mystery': 0.14,\n  'Sci-Fi': 0.01,\n  'IMAX': 0.0,\n  'Documentary': 0.16,\n  'War': 0.15,\n  'Musical': 0.04,\n  'Western': 0.0,\n  'Film-Noir': 0.0,\n  '(no genres listed)': 0.0},\n 114508: {'Adventure': 0.04,\n  'Animation': 0.04,\n  'Children': 0.0,\n  'Comedy': 0.28,\n  'Fantasy': 0.05,\n  'Romance': 0.15,\n  'Drama': 0.64,\n  'Action': 0.02,\n  'Crime': 0.08,\n  'Thriller': 0.08,\n  'Horror': 0.03,\n  'Mystery': 0.09,\n  'Sci-Fi': 0.04,\n  'IMAX': 0.0,\n  'Documentary': 0.19,\n  'War': 0.07,\n  'Musical': 0.03,\n  'Western': 0.0,\n  'Film-Noir': 0.0,\n  '(no genres listed)': 0.0},\n 115565: {'Adventure': 0.11,\n  'Animation': 0.02,\n  'Children': 0.0,\n  'Comedy': 0.1,\n  'Fantasy': 0.02,\n  'Romance': 0.08,\n  'Drama': 0.59,\n  'Action': 0.14,\n  'Crime': 0.14,\n  'Thriller': 0.19,\n  'Horror': 0.0,\n  'Mystery': 0.12,\n  'Sci-Fi': 0.05,\n  'IMAX': 0.03,\n  'Documentary': 0.24,\n  'War': 0.13,\n  'Musical': 0.0,\n  'Western': 0.02,\n  'Film-Noir': 0.0,\n  '(no genres listed)': 0.0},\n 123903: {'Adventure': 0.42,\n  'Animation': 0.25,\n  'Children': 0.21,\n  'Comedy': 0.33,\n  'Fantasy': 0.15,\n  'Romance': 0.05,\n  'Drama': 0.25,\n  'Action': 0.33,\n  'Crime': 0.07,\n  'Thriller': 0.14,\n  'Horror': 0.02,\n  'Mystery': 0.05,\n  'Sci-Fi': 0.36,\n  'IMAX': 0.07,\n  'Documentary': 0.15,\n  'War': 0.06,\n  'Musical': 0.03,\n  'Western': 0.03,\n  'Film-Noir': 0.0,\n  '(no genres listed)': 0.0},\n 131681: {'Adventure': 0.18,\n  'Animation': 0.24,\n  'Children': 0.18,\n  'Comedy': 0.33,\n  'Fantasy': 0.13,\n  'Romance': 0.1,\n  'Drama': 0.48,\n  'Action': 0.13,\n  'Crime': 0.1,\n  'Thriller': 0.1,\n  'Horror': 0.03,\n  'Mystery': 0.04,\n  'Sci-Fi': 0.15,\n  'IMAX': 0.03,\n  'Documentary': 0.14,\n  'War': 0.09,\n  'Musical': 0.09,\n  'Western': 0.0,\n  'Film-Noir': 0.01,\n  '(no genres listed)': 0.0}}"
     },
     "execution_count": 88,
     "metadata": {},
     "output_type": "execute_result"
    }
   ],
   "source": [
    "res_tmp.groupby(\"u_id\").apply(lambda df:  df.sort_values(\"pred\")[-100:].drop([\"u_id\", \"i_id\",  \"pred\"],  axis=1).mean()).to_dict(\"index\")"
   ],
   "metadata": {
    "collapsed": false,
    "pycharm": {
     "name": "#%%\n"
    }
   }
  },
  {
   "cell_type": "code",
   "execution_count": 84,
   "outputs": [
    {
     "data": {
      "text/plain": "          u_id   i_id      pred  Adventure  Animation  Children  Comedy  \\\n374097   91829   1197  4.819244       True      False     False    True   \n200420  103110  68954  4.819812       True       True      True   False   \n187207  103110    527  4.820026      False      False     False   False   \n333902  115565  70186  4.820141      False      False     False   False   \n321339  115565   1262  4.821101       True      False     False   False   \n...        ...    ...       ...        ...        ...       ...     ...   \n320483  115565    356  5.000000      False      False     False    True   \n267308   41549    539  5.000000      False      False     False    True   \n267902   41549   1210  5.000000       True      False     False   False   \n267883   41549   1183  5.000000      False      False     False   False   \n273729   41549   7153  5.000000       True      False     False   False   \n\n        Fantasy  Romance  Drama  ...  Horror  Mystery  Sci-Fi   IMAX  \\\n374097     True     True  False  ...   False    False   False  False   \n200420    False    False   True  ...   False    False   False  False   \n187207    False    False   True  ...   False    False   False  False   \n333902    False    False   True  ...   False    False   False  False   \n321339    False    False   True  ...   False    False   False  False   \n...         ...      ...    ...  ...     ...      ...     ...    ...   \n320483    False     True   True  ...   False    False   False  False   \n267308    False     True   True  ...   False    False   False  False   \n267902    False    False  False  ...   False    False    True  False   \n267883    False     True   True  ...   False    False   False  False   \n273729     True    False   True  ...   False    False   False  False   \n\n        Documentary    War  Musical  Western  Film-Noir  (no genres listed)  \n374097        False  False    False    False      False               False  \n200420        False  False    False    False      False               False  \n187207        False   True    False    False      False               False  \n333902        False  False    False    False      False               False  \n321339        False   True    False    False      False               False  \n...             ...    ...      ...      ...        ...                 ...  \n320483        False   True    False    False      False               False  \n267308        False  False    False    False      False               False  \n267902        False  False    False    False      False               False  \n267883        False   True    False    False      False               False  \n273729        False  False    False    False      False               False  \n\n[100 rows x 23 columns]",
      "text/html": "<div>\n<style scoped>\n    .dataframe tbody tr th:only-of-type {\n        vertical-align: middle;\n    }\n\n    .dataframe tbody tr th {\n        vertical-align: top;\n    }\n\n    .dataframe thead th {\n        text-align: right;\n    }\n</style>\n<table border=\"1\" class=\"dataframe\">\n  <thead>\n    <tr style=\"text-align: right;\">\n      <th></th>\n      <th>u_id</th>\n      <th>i_id</th>\n      <th>pred</th>\n      <th>Adventure</th>\n      <th>Animation</th>\n      <th>Children</th>\n      <th>Comedy</th>\n      <th>Fantasy</th>\n      <th>Romance</th>\n      <th>Drama</th>\n      <th>...</th>\n      <th>Horror</th>\n      <th>Mystery</th>\n      <th>Sci-Fi</th>\n      <th>IMAX</th>\n      <th>Documentary</th>\n      <th>War</th>\n      <th>Musical</th>\n      <th>Western</th>\n      <th>Film-Noir</th>\n      <th>(no genres listed)</th>\n    </tr>\n  </thead>\n  <tbody>\n    <tr>\n      <th>374097</th>\n      <td>91829</td>\n      <td>1197</td>\n      <td>4.819244</td>\n      <td>True</td>\n      <td>False</td>\n      <td>False</td>\n      <td>True</td>\n      <td>True</td>\n      <td>True</td>\n      <td>False</td>\n      <td>...</td>\n      <td>False</td>\n      <td>False</td>\n      <td>False</td>\n      <td>False</td>\n      <td>False</td>\n      <td>False</td>\n      <td>False</td>\n      <td>False</td>\n      <td>False</td>\n      <td>False</td>\n    </tr>\n    <tr>\n      <th>200420</th>\n      <td>103110</td>\n      <td>68954</td>\n      <td>4.819812</td>\n      <td>True</td>\n      <td>True</td>\n      <td>True</td>\n      <td>False</td>\n      <td>False</td>\n      <td>False</td>\n      <td>True</td>\n      <td>...</td>\n      <td>False</td>\n      <td>False</td>\n      <td>False</td>\n      <td>False</td>\n      <td>False</td>\n      <td>False</td>\n      <td>False</td>\n      <td>False</td>\n      <td>False</td>\n      <td>False</td>\n    </tr>\n    <tr>\n      <th>187207</th>\n      <td>103110</td>\n      <td>527</td>\n      <td>4.820026</td>\n      <td>False</td>\n      <td>False</td>\n      <td>False</td>\n      <td>False</td>\n      <td>False</td>\n      <td>False</td>\n      <td>True</td>\n      <td>...</td>\n      <td>False</td>\n      <td>False</td>\n      <td>False</td>\n      <td>False</td>\n      <td>False</td>\n      <td>True</td>\n      <td>False</td>\n      <td>False</td>\n      <td>False</td>\n      <td>False</td>\n    </tr>\n    <tr>\n      <th>333902</th>\n      <td>115565</td>\n      <td>70186</td>\n      <td>4.820141</td>\n      <td>False</td>\n      <td>False</td>\n      <td>False</td>\n      <td>False</td>\n      <td>False</td>\n      <td>False</td>\n      <td>True</td>\n      <td>...</td>\n      <td>False</td>\n      <td>False</td>\n      <td>False</td>\n      <td>False</td>\n      <td>False</td>\n      <td>False</td>\n      <td>False</td>\n      <td>False</td>\n      <td>False</td>\n      <td>False</td>\n    </tr>\n    <tr>\n      <th>321339</th>\n      <td>115565</td>\n      <td>1262</td>\n      <td>4.821101</td>\n      <td>True</td>\n      <td>False</td>\n      <td>False</td>\n      <td>False</td>\n      <td>False</td>\n      <td>False</td>\n      <td>True</td>\n      <td>...</td>\n      <td>False</td>\n      <td>False</td>\n      <td>False</td>\n      <td>False</td>\n      <td>False</td>\n      <td>True</td>\n      <td>False</td>\n      <td>False</td>\n      <td>False</td>\n      <td>False</td>\n    </tr>\n    <tr>\n      <th>...</th>\n      <td>...</td>\n      <td>...</td>\n      <td>...</td>\n      <td>...</td>\n      <td>...</td>\n      <td>...</td>\n      <td>...</td>\n      <td>...</td>\n      <td>...</td>\n      <td>...</td>\n      <td>...</td>\n      <td>...</td>\n      <td>...</td>\n      <td>...</td>\n      <td>...</td>\n      <td>...</td>\n      <td>...</td>\n      <td>...</td>\n      <td>...</td>\n      <td>...</td>\n      <td>...</td>\n    </tr>\n    <tr>\n      <th>320483</th>\n      <td>115565</td>\n      <td>356</td>\n      <td>5.000000</td>\n      <td>False</td>\n      <td>False</td>\n      <td>False</td>\n      <td>True</td>\n      <td>False</td>\n      <td>True</td>\n      <td>True</td>\n      <td>...</td>\n      <td>False</td>\n      <td>False</td>\n      <td>False</td>\n      <td>False</td>\n      <td>False</td>\n      <td>True</td>\n      <td>False</td>\n      <td>False</td>\n      <td>False</td>\n      <td>False</td>\n    </tr>\n    <tr>\n      <th>267308</th>\n      <td>41549</td>\n      <td>539</td>\n      <td>5.000000</td>\n      <td>False</td>\n      <td>False</td>\n      <td>False</td>\n      <td>True</td>\n      <td>False</td>\n      <td>True</td>\n      <td>True</td>\n      <td>...</td>\n      <td>False</td>\n      <td>False</td>\n      <td>False</td>\n      <td>False</td>\n      <td>False</td>\n      <td>False</td>\n      <td>False</td>\n      <td>False</td>\n      <td>False</td>\n      <td>False</td>\n    </tr>\n    <tr>\n      <th>267902</th>\n      <td>41549</td>\n      <td>1210</td>\n      <td>5.000000</td>\n      <td>True</td>\n      <td>False</td>\n      <td>False</td>\n      <td>False</td>\n      <td>False</td>\n      <td>False</td>\n      <td>False</td>\n      <td>...</td>\n      <td>False</td>\n      <td>False</td>\n      <td>True</td>\n      <td>False</td>\n      <td>False</td>\n      <td>False</td>\n      <td>False</td>\n      <td>False</td>\n      <td>False</td>\n      <td>False</td>\n    </tr>\n    <tr>\n      <th>267883</th>\n      <td>41549</td>\n      <td>1183</td>\n      <td>5.000000</td>\n      <td>False</td>\n      <td>False</td>\n      <td>False</td>\n      <td>False</td>\n      <td>False</td>\n      <td>True</td>\n      <td>True</td>\n      <td>...</td>\n      <td>False</td>\n      <td>False</td>\n      <td>False</td>\n      <td>False</td>\n      <td>False</td>\n      <td>True</td>\n      <td>False</td>\n      <td>False</td>\n      <td>False</td>\n      <td>False</td>\n    </tr>\n    <tr>\n      <th>273729</th>\n      <td>41549</td>\n      <td>7153</td>\n      <td>5.000000</td>\n      <td>True</td>\n      <td>False</td>\n      <td>False</td>\n      <td>False</td>\n      <td>True</td>\n      <td>False</td>\n      <td>True</td>\n      <td>...</td>\n      <td>False</td>\n      <td>False</td>\n      <td>False</td>\n      <td>False</td>\n      <td>False</td>\n      <td>False</td>\n      <td>False</td>\n      <td>False</td>\n      <td>False</td>\n      <td>False</td>\n    </tr>\n  </tbody>\n</table>\n<p>100 rows × 23 columns</p>\n</div>"
     },
     "execution_count": 84,
     "metadata": {},
     "output_type": "execute_result"
    }
   ],
   "source": [
    "res_tmp.sort_values(\"pred\")[-100:]"
   ],
   "metadata": {
    "collapsed": false,
    "pycharm": {
     "name": "#%%\n"
    }
   }
  },
  {
   "cell_type": "code",
   "execution_count": 95,
   "outputs": [],
   "source": [
    "genres.columns\n",
    "GENRE1 = 'Documentary'\n",
    "GENRE2 = 'IMAX'"
   ],
   "metadata": {
    "collapsed": false,
    "pycharm": {
     "name": "#%%\n"
    }
   }
  },
  {
   "cell_type": "code",
   "execution_count": 100,
   "outputs": [
    {
     "data": {
      "text/plain": "array([    37,     77,     99, ..., 131074, 131100, 131110])"
     },
     "execution_count": 100,
     "metadata": {},
     "output_type": "execute_result"
    }
   ],
   "source": [
    "genres.loc[genres[GENRE1] | genres[GENRE1]].index.values"
   ],
   "metadata": {
    "collapsed": false,
    "pycharm": {
     "name": "#%%\n"
    }
   }
  },
  {
   "cell_type": "code",
   "execution_count": 108,
   "outputs": [
    {
     "data": {
      "text/plain": "                    Adventure  Animation  Children    Comedy   Fantasy  \\\nAdventure                 NaN        NaN       NaN       NaN       NaN   \nAnimation                 NaN        NaN       NaN       NaN       NaN   \nChildren                  NaN        NaN       NaN       NaN       NaN   \nComedy                    NaN        NaN       NaN       NaN       NaN   \nFantasy                   NaN        NaN       NaN       NaN       NaN   \nRomance                   NaN        NaN       NaN       NaN       NaN   \nDrama                     NaN        NaN       NaN       NaN       NaN   \nAction                    NaN        NaN       NaN       NaN       NaN   \nCrime                     NaN        NaN       NaN       NaN       NaN   \nThriller                  NaN        NaN       NaN       NaN       NaN   \nHorror                    NaN        NaN       NaN       NaN       NaN   \nMystery                   NaN        NaN       NaN       NaN       NaN   \nSci-Fi                    NaN        NaN  0.000155       NaN       NaN   \nIMAX                      NaN        NaN       NaN  0.001143       NaN   \nDocumentary               NaN        NaN       NaN       NaN       NaN   \nWar                       NaN        NaN       NaN       NaN       NaN   \nMusical              0.000347        NaN       NaN       NaN       NaN   \nWestern                   NaN        NaN       NaN       NaN       NaN   \nFilm-Noir                 NaN        NaN       NaN       NaN  0.000443   \n(no genres listed)        NaN    0.00034       NaN       NaN       NaN   \n\n                     Romance    Drama    Action     Crime  Thriller    Horror  \\\nAdventure                NaN      NaN       NaN       NaN       NaN       NaN   \nAnimation                NaN      NaN       NaN       NaN       NaN       NaN   \nChildren                 NaN      NaN       NaN       NaN       NaN       NaN   \nComedy                   NaN      NaN       NaN       NaN       NaN       NaN   \nFantasy                  NaN      NaN       NaN       NaN       NaN       NaN   \nRomance                  NaN      NaN       NaN       NaN       NaN       NaN   \nDrama                    NaN      NaN       NaN       NaN       NaN       NaN   \nAction                   NaN      NaN       NaN       NaN       NaN       NaN   \nCrime                    NaN      NaN       NaN       NaN       NaN       NaN   \nThriller                 NaN      NaN       NaN       NaN       NaN       NaN   \nHorror                   NaN      NaN       NaN       NaN       NaN       NaN   \nMystery                  NaN  0.00072       NaN       NaN       NaN       NaN   \nSci-Fi                   NaN      NaN       NaN       NaN       NaN       NaN   \nIMAX                     NaN      NaN       NaN  0.000371  0.000219  0.000211   \nDocumentary              NaN      NaN       NaN       NaN       NaN       NaN   \nWar                 0.000343      NaN       NaN       NaN       NaN       NaN   \nMusical                  NaN      NaN       NaN       NaN       NaN       NaN   \nWestern                  NaN      NaN       NaN       NaN       NaN       NaN   \nFilm-Noir                NaN      NaN  0.001085       NaN       NaN       NaN   \n(no genres listed)       NaN      NaN       NaN       NaN       NaN       NaN   \n\n                     Mystery    Sci-Fi      IMAX  Documentary       War  \\\nAdventure                NaN       NaN       NaN          NaN       NaN   \nAnimation                NaN       NaN       NaN          NaN       NaN   \nChildren                 NaN  0.000155       NaN          NaN       NaN   \nComedy                   NaN       NaN       NaN          NaN       NaN   \nFantasy                  NaN       NaN       NaN          NaN       NaN   \nRomance                  NaN       NaN       NaN          NaN       NaN   \nDrama                    NaN       NaN       NaN          NaN       NaN   \nAction                   NaN       NaN       NaN          NaN       NaN   \nCrime                    NaN       NaN       NaN          NaN       NaN   \nThriller                 NaN       NaN       NaN          NaN       NaN   \nHorror                   NaN       NaN       NaN          NaN       NaN   \nMystery                  NaN       NaN       NaN          NaN       NaN   \nSci-Fi                   NaN       NaN       NaN          NaN       NaN   \nIMAX                0.000142       NaN       NaN          NaN       NaN   \nDocumentary              NaN       NaN       NaN          NaN       NaN   \nWar                      NaN       NaN       NaN          NaN       NaN   \nMusical                  NaN       NaN       NaN     0.000189       NaN   \nWestern                  NaN       NaN       NaN          NaN  0.000095   \nFilm-Noir                NaN       NaN       NaN          NaN       NaN   \n(no genres listed)       NaN       NaN  0.000065          NaN       NaN   \n\n                    Musical   Western  Film-Noir  (no genres listed)  \nAdventure               NaN       NaN        NaN                 NaN  \nAnimation               NaN       NaN        NaN                 NaN  \nChildren                NaN       NaN        NaN                 NaN  \nComedy                  NaN       NaN        NaN                 NaN  \nFantasy                 NaN       NaN        NaN                 NaN  \nRomance                 NaN       NaN        NaN                 NaN  \nDrama                   NaN       NaN        NaN                 NaN  \nAction                  NaN       NaN        NaN                 NaN  \nCrime                   NaN       NaN        NaN                 NaN  \nThriller                NaN       NaN        NaN                 NaN  \nHorror                  NaN       NaN        NaN                 NaN  \nMystery                 NaN       NaN        NaN                 NaN  \nSci-Fi                  NaN       NaN        NaN                 NaN  \nIMAX                0.00013       NaN   0.000087            0.000065  \nDocumentary             NaN       NaN        NaN                 NaN  \nWar                     NaN  0.000095        NaN                 NaN  \nMusical                 NaN       NaN        NaN                 NaN  \nWestern                 NaN       NaN        NaN                 NaN  \nFilm-Noir               NaN       NaN        NaN                 NaN  \n(no genres listed)      NaN       NaN        NaN                 NaN  ",
      "text/html": "<div>\n<style scoped>\n    .dataframe tbody tr th:only-of-type {\n        vertical-align: middle;\n    }\n\n    .dataframe tbody tr th {\n        vertical-align: top;\n    }\n\n    .dataframe thead th {\n        text-align: right;\n    }\n</style>\n<table border=\"1\" class=\"dataframe\">\n  <thead>\n    <tr style=\"text-align: right;\">\n      <th></th>\n      <th>Adventure</th>\n      <th>Animation</th>\n      <th>Children</th>\n      <th>Comedy</th>\n      <th>Fantasy</th>\n      <th>Romance</th>\n      <th>Drama</th>\n      <th>Action</th>\n      <th>Crime</th>\n      <th>Thriller</th>\n      <th>Horror</th>\n      <th>Mystery</th>\n      <th>Sci-Fi</th>\n      <th>IMAX</th>\n      <th>Documentary</th>\n      <th>War</th>\n      <th>Musical</th>\n      <th>Western</th>\n      <th>Film-Noir</th>\n      <th>(no genres listed)</th>\n    </tr>\n  </thead>\n  <tbody>\n    <tr>\n      <th>Adventure</th>\n      <td>NaN</td>\n      <td>NaN</td>\n      <td>NaN</td>\n      <td>NaN</td>\n      <td>NaN</td>\n      <td>NaN</td>\n      <td>NaN</td>\n      <td>NaN</td>\n      <td>NaN</td>\n      <td>NaN</td>\n      <td>NaN</td>\n      <td>NaN</td>\n      <td>NaN</td>\n      <td>NaN</td>\n      <td>NaN</td>\n      <td>NaN</td>\n      <td>NaN</td>\n      <td>NaN</td>\n      <td>NaN</td>\n      <td>NaN</td>\n    </tr>\n    <tr>\n      <th>Animation</th>\n      <td>NaN</td>\n      <td>NaN</td>\n      <td>NaN</td>\n      <td>NaN</td>\n      <td>NaN</td>\n      <td>NaN</td>\n      <td>NaN</td>\n      <td>NaN</td>\n      <td>NaN</td>\n      <td>NaN</td>\n      <td>NaN</td>\n      <td>NaN</td>\n      <td>NaN</td>\n      <td>NaN</td>\n      <td>NaN</td>\n      <td>NaN</td>\n      <td>NaN</td>\n      <td>NaN</td>\n      <td>NaN</td>\n      <td>NaN</td>\n    </tr>\n    <tr>\n      <th>Children</th>\n      <td>NaN</td>\n      <td>NaN</td>\n      <td>NaN</td>\n      <td>NaN</td>\n      <td>NaN</td>\n      <td>NaN</td>\n      <td>NaN</td>\n      <td>NaN</td>\n      <td>NaN</td>\n      <td>NaN</td>\n      <td>NaN</td>\n      <td>NaN</td>\n      <td>0.000155</td>\n      <td>NaN</td>\n      <td>NaN</td>\n      <td>NaN</td>\n      <td>NaN</td>\n      <td>NaN</td>\n      <td>NaN</td>\n      <td>NaN</td>\n    </tr>\n    <tr>\n      <th>Comedy</th>\n      <td>NaN</td>\n      <td>NaN</td>\n      <td>NaN</td>\n      <td>NaN</td>\n      <td>NaN</td>\n      <td>NaN</td>\n      <td>NaN</td>\n      <td>NaN</td>\n      <td>NaN</td>\n      <td>NaN</td>\n      <td>NaN</td>\n      <td>NaN</td>\n      <td>NaN</td>\n      <td>NaN</td>\n      <td>NaN</td>\n      <td>NaN</td>\n      <td>NaN</td>\n      <td>NaN</td>\n      <td>NaN</td>\n      <td>NaN</td>\n    </tr>\n    <tr>\n      <th>Fantasy</th>\n      <td>NaN</td>\n      <td>NaN</td>\n      <td>NaN</td>\n      <td>NaN</td>\n      <td>NaN</td>\n      <td>NaN</td>\n      <td>NaN</td>\n      <td>NaN</td>\n      <td>NaN</td>\n      <td>NaN</td>\n      <td>NaN</td>\n      <td>NaN</td>\n      <td>NaN</td>\n      <td>NaN</td>\n      <td>NaN</td>\n      <td>NaN</td>\n      <td>NaN</td>\n      <td>NaN</td>\n      <td>NaN</td>\n      <td>NaN</td>\n    </tr>\n    <tr>\n      <th>Romance</th>\n      <td>NaN</td>\n      <td>NaN</td>\n      <td>NaN</td>\n      <td>NaN</td>\n      <td>NaN</td>\n      <td>NaN</td>\n      <td>NaN</td>\n      <td>NaN</td>\n      <td>NaN</td>\n      <td>NaN</td>\n      <td>NaN</td>\n      <td>NaN</td>\n      <td>NaN</td>\n      <td>NaN</td>\n      <td>NaN</td>\n      <td>NaN</td>\n      <td>NaN</td>\n      <td>NaN</td>\n      <td>NaN</td>\n      <td>NaN</td>\n    </tr>\n    <tr>\n      <th>Drama</th>\n      <td>NaN</td>\n      <td>NaN</td>\n      <td>NaN</td>\n      <td>NaN</td>\n      <td>NaN</td>\n      <td>NaN</td>\n      <td>NaN</td>\n      <td>NaN</td>\n      <td>NaN</td>\n      <td>NaN</td>\n      <td>NaN</td>\n      <td>NaN</td>\n      <td>NaN</td>\n      <td>NaN</td>\n      <td>NaN</td>\n      <td>NaN</td>\n      <td>NaN</td>\n      <td>NaN</td>\n      <td>NaN</td>\n      <td>NaN</td>\n    </tr>\n    <tr>\n      <th>Action</th>\n      <td>NaN</td>\n      <td>NaN</td>\n      <td>NaN</td>\n      <td>NaN</td>\n      <td>NaN</td>\n      <td>NaN</td>\n      <td>NaN</td>\n      <td>NaN</td>\n      <td>NaN</td>\n      <td>NaN</td>\n      <td>NaN</td>\n      <td>NaN</td>\n      <td>NaN</td>\n      <td>NaN</td>\n      <td>NaN</td>\n      <td>NaN</td>\n      <td>NaN</td>\n      <td>NaN</td>\n      <td>NaN</td>\n      <td>NaN</td>\n    </tr>\n    <tr>\n      <th>Crime</th>\n      <td>NaN</td>\n      <td>NaN</td>\n      <td>NaN</td>\n      <td>NaN</td>\n      <td>NaN</td>\n      <td>NaN</td>\n      <td>NaN</td>\n      <td>NaN</td>\n      <td>NaN</td>\n      <td>NaN</td>\n      <td>NaN</td>\n      <td>NaN</td>\n      <td>NaN</td>\n      <td>NaN</td>\n      <td>NaN</td>\n      <td>NaN</td>\n      <td>NaN</td>\n      <td>NaN</td>\n      <td>NaN</td>\n      <td>NaN</td>\n    </tr>\n    <tr>\n      <th>Thriller</th>\n      <td>NaN</td>\n      <td>NaN</td>\n      <td>NaN</td>\n      <td>NaN</td>\n      <td>NaN</td>\n      <td>NaN</td>\n      <td>NaN</td>\n      <td>NaN</td>\n      <td>NaN</td>\n      <td>NaN</td>\n      <td>NaN</td>\n      <td>NaN</td>\n      <td>NaN</td>\n      <td>NaN</td>\n      <td>NaN</td>\n      <td>NaN</td>\n      <td>NaN</td>\n      <td>NaN</td>\n      <td>NaN</td>\n      <td>NaN</td>\n    </tr>\n    <tr>\n      <th>Horror</th>\n      <td>NaN</td>\n      <td>NaN</td>\n      <td>NaN</td>\n      <td>NaN</td>\n      <td>NaN</td>\n      <td>NaN</td>\n      <td>NaN</td>\n      <td>NaN</td>\n      <td>NaN</td>\n      <td>NaN</td>\n      <td>NaN</td>\n      <td>NaN</td>\n      <td>NaN</td>\n      <td>NaN</td>\n      <td>NaN</td>\n      <td>NaN</td>\n      <td>NaN</td>\n      <td>NaN</td>\n      <td>NaN</td>\n      <td>NaN</td>\n    </tr>\n    <tr>\n      <th>Mystery</th>\n      <td>NaN</td>\n      <td>NaN</td>\n      <td>NaN</td>\n      <td>NaN</td>\n      <td>NaN</td>\n      <td>NaN</td>\n      <td>0.00072</td>\n      <td>NaN</td>\n      <td>NaN</td>\n      <td>NaN</td>\n      <td>NaN</td>\n      <td>NaN</td>\n      <td>NaN</td>\n      <td>NaN</td>\n      <td>NaN</td>\n      <td>NaN</td>\n      <td>NaN</td>\n      <td>NaN</td>\n      <td>NaN</td>\n      <td>NaN</td>\n    </tr>\n    <tr>\n      <th>Sci-Fi</th>\n      <td>NaN</td>\n      <td>NaN</td>\n      <td>0.000155</td>\n      <td>NaN</td>\n      <td>NaN</td>\n      <td>NaN</td>\n      <td>NaN</td>\n      <td>NaN</td>\n      <td>NaN</td>\n      <td>NaN</td>\n      <td>NaN</td>\n      <td>NaN</td>\n      <td>NaN</td>\n      <td>NaN</td>\n      <td>NaN</td>\n      <td>NaN</td>\n      <td>NaN</td>\n      <td>NaN</td>\n      <td>NaN</td>\n      <td>NaN</td>\n    </tr>\n    <tr>\n      <th>IMAX</th>\n      <td>NaN</td>\n      <td>NaN</td>\n      <td>NaN</td>\n      <td>0.001143</td>\n      <td>NaN</td>\n      <td>NaN</td>\n      <td>NaN</td>\n      <td>NaN</td>\n      <td>0.000371</td>\n      <td>0.000219</td>\n      <td>0.000211</td>\n      <td>0.000142</td>\n      <td>NaN</td>\n      <td>NaN</td>\n      <td>NaN</td>\n      <td>NaN</td>\n      <td>0.00013</td>\n      <td>NaN</td>\n      <td>0.000087</td>\n      <td>0.000065</td>\n    </tr>\n    <tr>\n      <th>Documentary</th>\n      <td>NaN</td>\n      <td>NaN</td>\n      <td>NaN</td>\n      <td>NaN</td>\n      <td>NaN</td>\n      <td>NaN</td>\n      <td>NaN</td>\n      <td>NaN</td>\n      <td>NaN</td>\n      <td>NaN</td>\n      <td>NaN</td>\n      <td>NaN</td>\n      <td>NaN</td>\n      <td>NaN</td>\n      <td>NaN</td>\n      <td>NaN</td>\n      <td>NaN</td>\n      <td>NaN</td>\n      <td>NaN</td>\n      <td>NaN</td>\n    </tr>\n    <tr>\n      <th>War</th>\n      <td>NaN</td>\n      <td>NaN</td>\n      <td>NaN</td>\n      <td>NaN</td>\n      <td>NaN</td>\n      <td>0.000343</td>\n      <td>NaN</td>\n      <td>NaN</td>\n      <td>NaN</td>\n      <td>NaN</td>\n      <td>NaN</td>\n      <td>NaN</td>\n      <td>NaN</td>\n      <td>NaN</td>\n      <td>NaN</td>\n      <td>NaN</td>\n      <td>NaN</td>\n      <td>0.000095</td>\n      <td>NaN</td>\n      <td>NaN</td>\n    </tr>\n    <tr>\n      <th>Musical</th>\n      <td>0.000347</td>\n      <td>NaN</td>\n      <td>NaN</td>\n      <td>NaN</td>\n      <td>NaN</td>\n      <td>NaN</td>\n      <td>NaN</td>\n      <td>NaN</td>\n      <td>NaN</td>\n      <td>NaN</td>\n      <td>NaN</td>\n      <td>NaN</td>\n      <td>NaN</td>\n      <td>NaN</td>\n      <td>0.000189</td>\n      <td>NaN</td>\n      <td>NaN</td>\n      <td>NaN</td>\n      <td>NaN</td>\n      <td>NaN</td>\n    </tr>\n    <tr>\n      <th>Western</th>\n      <td>NaN</td>\n      <td>NaN</td>\n      <td>NaN</td>\n      <td>NaN</td>\n      <td>NaN</td>\n      <td>NaN</td>\n      <td>NaN</td>\n      <td>NaN</td>\n      <td>NaN</td>\n      <td>NaN</td>\n      <td>NaN</td>\n      <td>NaN</td>\n      <td>NaN</td>\n      <td>NaN</td>\n      <td>NaN</td>\n      <td>0.000095</td>\n      <td>NaN</td>\n      <td>NaN</td>\n      <td>NaN</td>\n      <td>NaN</td>\n    </tr>\n    <tr>\n      <th>Film-Noir</th>\n      <td>NaN</td>\n      <td>NaN</td>\n      <td>NaN</td>\n      <td>NaN</td>\n      <td>0.000443</td>\n      <td>NaN</td>\n      <td>NaN</td>\n      <td>0.001085</td>\n      <td>NaN</td>\n      <td>NaN</td>\n      <td>NaN</td>\n      <td>NaN</td>\n      <td>NaN</td>\n      <td>NaN</td>\n      <td>NaN</td>\n      <td>NaN</td>\n      <td>NaN</td>\n      <td>NaN</td>\n      <td>NaN</td>\n      <td>NaN</td>\n    </tr>\n    <tr>\n      <th>(no genres listed)</th>\n      <td>NaN</td>\n      <td>0.00034</td>\n      <td>NaN</td>\n      <td>NaN</td>\n      <td>NaN</td>\n      <td>NaN</td>\n      <td>NaN</td>\n      <td>NaN</td>\n      <td>NaN</td>\n      <td>NaN</td>\n      <td>NaN</td>\n      <td>NaN</td>\n      <td>NaN</td>\n      <td>0.000065</td>\n      <td>NaN</td>\n      <td>NaN</td>\n      <td>NaN</td>\n      <td>NaN</td>\n      <td>NaN</td>\n      <td>NaN</td>\n    </tr>\n  </tbody>\n</table>\n</div>"
     },
     "execution_count": 108,
     "metadata": {},
     "output_type": "execute_result"
    }
   ],
   "source": [
    "c = genres.cov().abs()\n",
    "\n",
    "c[c ==  c.min()]"
   ],
   "metadata": {
    "collapsed": false,
    "pycharm": {
     "name": "#%%\n"
    }
   }
  },
  {
   "cell_type": "code",
   "execution_count": 125,
   "outputs": [
    {
     "data": {
      "text/plain": "            Comedy   Romance     Drama    Action  Thriller\nComedy    0.212754  0.023025 -0.056841 -0.013256 -0.032723\nRomance   0.023025  0.128409  0.020315 -0.009699 -0.013568\nDrama    -0.056841  0.020315  0.249892 -0.019025 -0.006446\nAction   -0.013256 -0.009699 -0.019025  0.112394  0.020892\nThriller -0.032723 -0.013568 -0.006446  0.020892  0.129709",
      "text/html": "<div>\n<style scoped>\n    .dataframe tbody tr th:only-of-type {\n        vertical-align: middle;\n    }\n\n    .dataframe tbody tr th {\n        vertical-align: top;\n    }\n\n    .dataframe thead th {\n        text-align: right;\n    }\n</style>\n<table border=\"1\" class=\"dataframe\">\n  <thead>\n    <tr style=\"text-align: right;\">\n      <th></th>\n      <th>Comedy</th>\n      <th>Romance</th>\n      <th>Drama</th>\n      <th>Action</th>\n      <th>Thriller</th>\n    </tr>\n  </thead>\n  <tbody>\n    <tr>\n      <th>Comedy</th>\n      <td>0.212754</td>\n      <td>0.023025</td>\n      <td>-0.056841</td>\n      <td>-0.013256</td>\n      <td>-0.032723</td>\n    </tr>\n    <tr>\n      <th>Romance</th>\n      <td>0.023025</td>\n      <td>0.128409</td>\n      <td>0.020315</td>\n      <td>-0.009699</td>\n      <td>-0.013568</td>\n    </tr>\n    <tr>\n      <th>Drama</th>\n      <td>-0.056841</td>\n      <td>0.020315</td>\n      <td>0.249892</td>\n      <td>-0.019025</td>\n      <td>-0.006446</td>\n    </tr>\n    <tr>\n      <th>Action</th>\n      <td>-0.013256</td>\n      <td>-0.009699</td>\n      <td>-0.019025</td>\n      <td>0.112394</td>\n      <td>0.020892</td>\n    </tr>\n    <tr>\n      <th>Thriller</th>\n      <td>-0.032723</td>\n      <td>-0.013568</td>\n      <td>-0.006446</td>\n      <td>0.020892</td>\n      <td>0.129709</td>\n    </tr>\n  </tbody>\n</table>\n</div>"
     },
     "execution_count": 125,
     "metadata": {},
     "output_type": "execute_result"
    }
   ],
   "source": [
    "genres.cov().loc[genres.sum().sort_values() > 3000,  genres.sum().sort_values() > 3000]"
   ],
   "metadata": {
    "collapsed": false,
    "pycharm": {
     "name": "#%%\n"
    }
   }
  },
  {
   "cell_type": "code",
   "execution_count": 118,
   "outputs": [
    {
     "data": {
      "text/plain": "array(['IMAX', '(no genres listed)', 'Film-Noir', 'Western', 'Animation',\n       'Musical', 'Children', 'War', 'Fantasy', 'Mystery', 'Sci-Fi',\n       'Adventure', 'Documentary', 'Horror', 'Crime', 'Action', 'Romance',\n       'Thriller', 'Comedy', 'Drama'], dtype=object)"
     },
     "execution_count": 118,
     "metadata": {},
     "output_type": "execute_result"
    }
   ],
   "source": [
    "(genres.sum().sort_values() > 100).index.values"
   ],
   "metadata": {
    "collapsed": false,
    "pycharm": {
     "name": "#%%\n"
    }
   }
  },
  {
   "cell_type": "code",
   "execution_count": 140,
   "outputs": [
    {
     "data": {
      "text/plain": "      userId  movieId  rating\n0        1.0      1.0     NaN\n1        2.0      1.0     NaN\n2        3.0      1.0     4.0\n3        4.0      1.0     NaN\n4        5.0      1.0     NaN\n...      ...      ...     ...\n7673     7.0  31696.0     NaN\n7674     8.0  31696.0     NaN\n7675     9.0  31696.0     NaN\n7676    10.0  31696.0     NaN\n7677    11.0  31696.0     NaN\n\n[7678 rows x 3 columns]",
      "text/html": "<div>\n<style scoped>\n    .dataframe tbody tr th:only-of-type {\n        vertical-align: middle;\n    }\n\n    .dataframe tbody tr th {\n        vertical-align: top;\n    }\n\n    .dataframe thead th {\n        text-align: right;\n    }\n</style>\n<table border=\"1\" class=\"dataframe\">\n  <thead>\n    <tr style=\"text-align: right;\">\n      <th></th>\n      <th>userId</th>\n      <th>movieId</th>\n      <th>rating</th>\n    </tr>\n  </thead>\n  <tbody>\n    <tr>\n      <th>0</th>\n      <td>1.0</td>\n      <td>1.0</td>\n      <td>NaN</td>\n    </tr>\n    <tr>\n      <th>1</th>\n      <td>2.0</td>\n      <td>1.0</td>\n      <td>NaN</td>\n    </tr>\n    <tr>\n      <th>2</th>\n      <td>3.0</td>\n      <td>1.0</td>\n      <td>4.0</td>\n    </tr>\n    <tr>\n      <th>3</th>\n      <td>4.0</td>\n      <td>1.0</td>\n      <td>NaN</td>\n    </tr>\n    <tr>\n      <th>4</th>\n      <td>5.0</td>\n      <td>1.0</td>\n      <td>NaN</td>\n    </tr>\n    <tr>\n      <th>...</th>\n      <td>...</td>\n      <td>...</td>\n      <td>...</td>\n    </tr>\n    <tr>\n      <th>7673</th>\n      <td>7.0</td>\n      <td>31696.0</td>\n      <td>NaN</td>\n    </tr>\n    <tr>\n      <th>7674</th>\n      <td>8.0</td>\n      <td>31696.0</td>\n      <td>NaN</td>\n    </tr>\n    <tr>\n      <th>7675</th>\n      <td>9.0</td>\n      <td>31696.0</td>\n      <td>NaN</td>\n    </tr>\n    <tr>\n      <th>7676</th>\n      <td>10.0</td>\n      <td>31696.0</td>\n      <td>NaN</td>\n    </tr>\n    <tr>\n      <th>7677</th>\n      <td>11.0</td>\n      <td>31696.0</td>\n      <td>NaN</td>\n    </tr>\n  </tbody>\n</table>\n<p>7678 rows × 3 columns</p>\n</div>"
     },
     "execution_count": 140,
     "metadata": {},
     "output_type": "execute_result"
    }
   ],
   "source": [
    "pd.melt(tmp.reset_index(), id_vars='userId', value_vars=tmp.columns, var_name='movieId', value_name='rating')"
   ],
   "metadata": {
    "collapsed": false,
    "pycharm": {
     "name": "#%%\n"
    }
   }
  },
  {
   "cell_type": "code",
   "execution_count": 133,
   "outputs": [],
   "source": [
    "tmp = ratings[:1000].pivot('userId', 'movieId', 'rating')"
   ],
   "metadata": {
    "collapsed": false,
    "pycharm": {
     "name": "#%%\n"
    }
   }
  },
  {
   "cell_type": "code",
   "execution_count": 134,
   "outputs": [
    {
     "data": {
      "text/plain": "movieId  1.0      2.0      3.0      6.0      7.0      10.0     11.0     \\\nuserId                                                                   \n1.0          NaN      3.5      NaN      NaN      NaN      NaN      NaN   \n2.0          NaN      NaN      4.0      NaN      NaN      NaN      NaN   \n3.0          4.0      NaN      NaN      NaN      NaN      NaN      NaN   \n4.0          NaN      NaN      NaN      3.0      NaN      4.0      NaN   \n5.0          NaN      3.0      NaN      NaN      NaN      NaN      5.0   \n6.0          5.0      NaN      3.0      NaN      5.0      NaN      NaN   \n7.0          NaN      NaN      3.0      NaN      3.0      NaN      4.0   \n8.0          4.0      NaN      5.0      3.0      NaN      4.0      NaN   \n9.0          NaN      NaN      NaN      NaN      NaN      NaN      NaN   \n10.0         4.0      NaN      NaN      NaN      NaN      NaN      4.0   \n11.0         4.5      NaN      NaN      NaN      NaN      2.5      NaN   \n\nmovieId  15.0     16.0     17.0     ...  7454.0   7482.0   7757.0   8368.0   \\\nuserId                              ...                                       \n1.0          NaN      NaN      NaN  ...      4.0      3.0      4.0      4.0   \n2.0          NaN      NaN      NaN  ...      NaN      NaN      NaN      NaN   \n3.0          NaN      NaN      NaN  ...      NaN      NaN      NaN      NaN   \n4.0          NaN      NaN      NaN  ...      NaN      NaN      NaN      NaN   \n5.0          NaN      NaN      3.0  ...      NaN      NaN      NaN      NaN   \n6.0          NaN      NaN      5.0  ...      NaN      NaN      NaN      NaN   \n7.0          2.0      3.0      2.0  ...      NaN      NaN      NaN      NaN   \n8.0          NaN      NaN      NaN  ...      NaN      NaN      NaN      NaN   \n9.0          NaN      NaN      NaN  ...      NaN      NaN      NaN      NaN   \n10.0         NaN      NaN      NaN  ...      NaN      NaN      NaN      NaN   \n11.0         NaN      NaN      NaN  ...      NaN      NaN      NaN      NaN   \n\nmovieId  8482.0   8507.0   8636.0   8690.0   8961.0   31696.0  \nuserId                                                         \n1.0          3.5      5.0      4.5      3.5      4.0      4.0  \n2.0          NaN      NaN      NaN      NaN      NaN      NaN  \n3.0          NaN      NaN      NaN      NaN      NaN      NaN  \n4.0          NaN      NaN      NaN      NaN      NaN      NaN  \n5.0          NaN      NaN      NaN      NaN      NaN      NaN  \n6.0          NaN      NaN      NaN      NaN      NaN      NaN  \n7.0          NaN      NaN      NaN      NaN      NaN      NaN  \n8.0          NaN      NaN      NaN      NaN      NaN      NaN  \n9.0          NaN      NaN      NaN      NaN      NaN      NaN  \n10.0         NaN      NaN      NaN      NaN      NaN      NaN  \n11.0         NaN      NaN      NaN      NaN      NaN      NaN  \n\n[11 rows x 698 columns]",
      "text/html": "<div>\n<style scoped>\n    .dataframe tbody tr th:only-of-type {\n        vertical-align: middle;\n    }\n\n    .dataframe tbody tr th {\n        vertical-align: top;\n    }\n\n    .dataframe thead th {\n        text-align: right;\n    }\n</style>\n<table border=\"1\" class=\"dataframe\">\n  <thead>\n    <tr style=\"text-align: right;\">\n      <th>movieId</th>\n      <th>1.0</th>\n      <th>2.0</th>\n      <th>3.0</th>\n      <th>6.0</th>\n      <th>7.0</th>\n      <th>10.0</th>\n      <th>11.0</th>\n      <th>15.0</th>\n      <th>16.0</th>\n      <th>17.0</th>\n      <th>...</th>\n      <th>7454.0</th>\n      <th>7482.0</th>\n      <th>7757.0</th>\n      <th>8368.0</th>\n      <th>8482.0</th>\n      <th>8507.0</th>\n      <th>8636.0</th>\n      <th>8690.0</th>\n      <th>8961.0</th>\n      <th>31696.0</th>\n    </tr>\n    <tr>\n      <th>userId</th>\n      <th></th>\n      <th></th>\n      <th></th>\n      <th></th>\n      <th></th>\n      <th></th>\n      <th></th>\n      <th></th>\n      <th></th>\n      <th></th>\n      <th></th>\n      <th></th>\n      <th></th>\n      <th></th>\n      <th></th>\n      <th></th>\n      <th></th>\n      <th></th>\n      <th></th>\n      <th></th>\n      <th></th>\n    </tr>\n  </thead>\n  <tbody>\n    <tr>\n      <th>1.0</th>\n      <td>NaN</td>\n      <td>3.5</td>\n      <td>NaN</td>\n      <td>NaN</td>\n      <td>NaN</td>\n      <td>NaN</td>\n      <td>NaN</td>\n      <td>NaN</td>\n      <td>NaN</td>\n      <td>NaN</td>\n      <td>...</td>\n      <td>4.0</td>\n      <td>3.0</td>\n      <td>4.0</td>\n      <td>4.0</td>\n      <td>3.5</td>\n      <td>5.0</td>\n      <td>4.5</td>\n      <td>3.5</td>\n      <td>4.0</td>\n      <td>4.0</td>\n    </tr>\n    <tr>\n      <th>2.0</th>\n      <td>NaN</td>\n      <td>NaN</td>\n      <td>4.0</td>\n      <td>NaN</td>\n      <td>NaN</td>\n      <td>NaN</td>\n      <td>NaN</td>\n      <td>NaN</td>\n      <td>NaN</td>\n      <td>NaN</td>\n      <td>...</td>\n      <td>NaN</td>\n      <td>NaN</td>\n      <td>NaN</td>\n      <td>NaN</td>\n      <td>NaN</td>\n      <td>NaN</td>\n      <td>NaN</td>\n      <td>NaN</td>\n      <td>NaN</td>\n      <td>NaN</td>\n    </tr>\n    <tr>\n      <th>3.0</th>\n      <td>4.0</td>\n      <td>NaN</td>\n      <td>NaN</td>\n      <td>NaN</td>\n      <td>NaN</td>\n      <td>NaN</td>\n      <td>NaN</td>\n      <td>NaN</td>\n      <td>NaN</td>\n      <td>NaN</td>\n      <td>...</td>\n      <td>NaN</td>\n      <td>NaN</td>\n      <td>NaN</td>\n      <td>NaN</td>\n      <td>NaN</td>\n      <td>NaN</td>\n      <td>NaN</td>\n      <td>NaN</td>\n      <td>NaN</td>\n      <td>NaN</td>\n    </tr>\n    <tr>\n      <th>4.0</th>\n      <td>NaN</td>\n      <td>NaN</td>\n      <td>NaN</td>\n      <td>3.0</td>\n      <td>NaN</td>\n      <td>4.0</td>\n      <td>NaN</td>\n      <td>NaN</td>\n      <td>NaN</td>\n      <td>NaN</td>\n      <td>...</td>\n      <td>NaN</td>\n      <td>NaN</td>\n      <td>NaN</td>\n      <td>NaN</td>\n      <td>NaN</td>\n      <td>NaN</td>\n      <td>NaN</td>\n      <td>NaN</td>\n      <td>NaN</td>\n      <td>NaN</td>\n    </tr>\n    <tr>\n      <th>5.0</th>\n      <td>NaN</td>\n      <td>3.0</td>\n      <td>NaN</td>\n      <td>NaN</td>\n      <td>NaN</td>\n      <td>NaN</td>\n      <td>5.0</td>\n      <td>NaN</td>\n      <td>NaN</td>\n      <td>3.0</td>\n      <td>...</td>\n      <td>NaN</td>\n      <td>NaN</td>\n      <td>NaN</td>\n      <td>NaN</td>\n      <td>NaN</td>\n      <td>NaN</td>\n      <td>NaN</td>\n      <td>NaN</td>\n      <td>NaN</td>\n      <td>NaN</td>\n    </tr>\n    <tr>\n      <th>6.0</th>\n      <td>5.0</td>\n      <td>NaN</td>\n      <td>3.0</td>\n      <td>NaN</td>\n      <td>5.0</td>\n      <td>NaN</td>\n      <td>NaN</td>\n      <td>NaN</td>\n      <td>NaN</td>\n      <td>5.0</td>\n      <td>...</td>\n      <td>NaN</td>\n      <td>NaN</td>\n      <td>NaN</td>\n      <td>NaN</td>\n      <td>NaN</td>\n      <td>NaN</td>\n      <td>NaN</td>\n      <td>NaN</td>\n      <td>NaN</td>\n      <td>NaN</td>\n    </tr>\n    <tr>\n      <th>7.0</th>\n      <td>NaN</td>\n      <td>NaN</td>\n      <td>3.0</td>\n      <td>NaN</td>\n      <td>3.0</td>\n      <td>NaN</td>\n      <td>4.0</td>\n      <td>2.0</td>\n      <td>3.0</td>\n      <td>2.0</td>\n      <td>...</td>\n      <td>NaN</td>\n      <td>NaN</td>\n      <td>NaN</td>\n      <td>NaN</td>\n      <td>NaN</td>\n      <td>NaN</td>\n      <td>NaN</td>\n      <td>NaN</td>\n      <td>NaN</td>\n      <td>NaN</td>\n    </tr>\n    <tr>\n      <th>8.0</th>\n      <td>4.0</td>\n      <td>NaN</td>\n      <td>5.0</td>\n      <td>3.0</td>\n      <td>NaN</td>\n      <td>4.0</td>\n      <td>NaN</td>\n      <td>NaN</td>\n      <td>NaN</td>\n      <td>NaN</td>\n      <td>...</td>\n      <td>NaN</td>\n      <td>NaN</td>\n      <td>NaN</td>\n      <td>NaN</td>\n      <td>NaN</td>\n      <td>NaN</td>\n      <td>NaN</td>\n      <td>NaN</td>\n      <td>NaN</td>\n      <td>NaN</td>\n    </tr>\n    <tr>\n      <th>9.0</th>\n      <td>NaN</td>\n      <td>NaN</td>\n      <td>NaN</td>\n      <td>NaN</td>\n      <td>NaN</td>\n      <td>NaN</td>\n      <td>NaN</td>\n      <td>NaN</td>\n      <td>NaN</td>\n      <td>NaN</td>\n      <td>...</td>\n      <td>NaN</td>\n      <td>NaN</td>\n      <td>NaN</td>\n      <td>NaN</td>\n      <td>NaN</td>\n      <td>NaN</td>\n      <td>NaN</td>\n      <td>NaN</td>\n      <td>NaN</td>\n      <td>NaN</td>\n    </tr>\n    <tr>\n      <th>10.0</th>\n      <td>4.0</td>\n      <td>NaN</td>\n      <td>NaN</td>\n      <td>NaN</td>\n      <td>NaN</td>\n      <td>NaN</td>\n      <td>4.0</td>\n      <td>NaN</td>\n      <td>NaN</td>\n      <td>NaN</td>\n      <td>...</td>\n      <td>NaN</td>\n      <td>NaN</td>\n      <td>NaN</td>\n      <td>NaN</td>\n      <td>NaN</td>\n      <td>NaN</td>\n      <td>NaN</td>\n      <td>NaN</td>\n      <td>NaN</td>\n      <td>NaN</td>\n    </tr>\n    <tr>\n      <th>11.0</th>\n      <td>4.5</td>\n      <td>NaN</td>\n      <td>NaN</td>\n      <td>NaN</td>\n      <td>NaN</td>\n      <td>2.5</td>\n      <td>NaN</td>\n      <td>NaN</td>\n      <td>NaN</td>\n      <td>NaN</td>\n      <td>...</td>\n      <td>NaN</td>\n      <td>NaN</td>\n      <td>NaN</td>\n      <td>NaN</td>\n      <td>NaN</td>\n      <td>NaN</td>\n      <td>NaN</td>\n      <td>NaN</td>\n      <td>NaN</td>\n      <td>NaN</td>\n    </tr>\n  </tbody>\n</table>\n<p>11 rows × 698 columns</p>\n</div>"
     },
     "execution_count": 134,
     "metadata": {},
     "output_type": "execute_result"
    }
   ],
   "source": [
    "tmp"
   ],
   "metadata": {
    "collapsed": false,
    "pycharm": {
     "name": "#%%\n"
    }
   }
  },
  {
   "cell_type": "code",
   "execution_count": 142,
   "outputs": [
    {
     "name": "stdout",
     "output_type": "stream",
     "text": [
      "START\n",
      "Read data - DONE\n",
      "Prepare variables - DONE\n"
     ]
    }
   ],
   "source": [
    "print(\"START\")\n",
    "\n",
    "ratings = pd.read_csv('../data/rating.csv').rename(columns={\"userId\": 'u_id',  \"movieId\": \"i_id\"})\n",
    "movies = pd.read_csv('./../data/movie.csv').rename(columns={\"movieId\": \"i_id\"})\n",
    "genres = pd.DataFrame({k: {g: True for g in v} for k, v in movies.set_index('i_id').genres.apply(lambda gs: gs.split(\"|\")).to_dict().items()}).fillna(False).transpose()\n",
    "\n",
    "print(\"Read data - DONE\")\n",
    "\n",
    "np.random.seed(2022)\n",
    "\n",
    "users = np.random.choice(ratings.u_id.unique(), 16, replace=False)\n",
    "all_movies = genres.index.values\n",
    "\n",
    "movies_tmp = ratings.loc[ratings.u_id.isin(users)].pivot('u_id', 'i_id', 'rating')\n",
    "movies_available = pd.melt(movies_tmp.reset_index(),\n",
    "                           id_vars='u_id',\n",
    "                           value_vars=movies_tmp.columns,\n",
    "                           var_name='i_id', value_name='rating_real')\n",
    "\n",
    "movies_available = pd.concat([movies_available, genres.loc[movies_available.i_id].reset_index(drop=True)], axis=1)\n",
    "\n",
    "print(\"Prepare variables - DONE\")\n",
    "\n",
    "saturation_list = []"
   ],
   "metadata": {
    "collapsed": false,
    "pycharm": {
     "name": "#%%\n"
    }
   }
  },
  {
   "cell_type": "code",
   "execution_count": 143,
   "outputs": [
    {
     "data": {
      "text/plain": "         u_id   i_id  rating_real  Adventure  Animation  Children  Comedy  \\\n0        3501      1          NaN       True       True      True    True   \n1        8388      1          NaN       True       True      True    True   \n2        8512      1          NaN       True       True      True    True   \n3       14549      1          4.0       True       True      True    True   \n4       15961      1          NaN       True       True      True    True   \n...       ...    ...          ...        ...        ...       ...     ...   \n26715   74069  99728          NaN      False      False     False   False   \n26716   83325  99728          NaN      False      False     False   False   \n26717  100206  99728          NaN      False      False     False   False   \n26718  110161  99728          3.5      False      False     False   False   \n26719  122780  99728          NaN      False      False     False   False   \n\n       Fantasy  Romance  Drama  ...  Horror  Mystery  Sci-Fi   IMAX  \\\n0         True    False  False  ...   False    False   False  False   \n1         True    False  False  ...   False    False   False  False   \n2         True    False  False  ...   False    False   False  False   \n3         True    False  False  ...   False    False   False  False   \n4         True    False  False  ...   False    False   False  False   \n...        ...      ...    ...  ...     ...      ...     ...    ...   \n26715    False    False   True  ...   False    False   False  False   \n26716    False    False   True  ...   False    False   False  False   \n26717    False    False   True  ...   False    False   False  False   \n26718    False    False   True  ...   False    False   False  False   \n26719    False    False   True  ...   False    False   False  False   \n\n       Documentary    War  Musical  Western  Film-Noir  (no genres listed)  \n0            False  False    False    False      False               False  \n1            False  False    False    False      False               False  \n2            False  False    False    False      False               False  \n3            False  False    False    False      False               False  \n4            False  False    False    False      False               False  \n...            ...    ...      ...      ...        ...                 ...  \n26715        False  False    False    False      False               False  \n26716        False  False    False    False      False               False  \n26717        False  False    False    False      False               False  \n26718        False  False    False    False      False               False  \n26719        False  False    False    False      False               False  \n\n[26720 rows x 23 columns]",
      "text/html": "<div>\n<style scoped>\n    .dataframe tbody tr th:only-of-type {\n        vertical-align: middle;\n    }\n\n    .dataframe tbody tr th {\n        vertical-align: top;\n    }\n\n    .dataframe thead th {\n        text-align: right;\n    }\n</style>\n<table border=\"1\" class=\"dataframe\">\n  <thead>\n    <tr style=\"text-align: right;\">\n      <th></th>\n      <th>u_id</th>\n      <th>i_id</th>\n      <th>rating_real</th>\n      <th>Adventure</th>\n      <th>Animation</th>\n      <th>Children</th>\n      <th>Comedy</th>\n      <th>Fantasy</th>\n      <th>Romance</th>\n      <th>Drama</th>\n      <th>...</th>\n      <th>Horror</th>\n      <th>Mystery</th>\n      <th>Sci-Fi</th>\n      <th>IMAX</th>\n      <th>Documentary</th>\n      <th>War</th>\n      <th>Musical</th>\n      <th>Western</th>\n      <th>Film-Noir</th>\n      <th>(no genres listed)</th>\n    </tr>\n  </thead>\n  <tbody>\n    <tr>\n      <th>0</th>\n      <td>3501</td>\n      <td>1</td>\n      <td>NaN</td>\n      <td>True</td>\n      <td>True</td>\n      <td>True</td>\n      <td>True</td>\n      <td>True</td>\n      <td>False</td>\n      <td>False</td>\n      <td>...</td>\n      <td>False</td>\n      <td>False</td>\n      <td>False</td>\n      <td>False</td>\n      <td>False</td>\n      <td>False</td>\n      <td>False</td>\n      <td>False</td>\n      <td>False</td>\n      <td>False</td>\n    </tr>\n    <tr>\n      <th>1</th>\n      <td>8388</td>\n      <td>1</td>\n      <td>NaN</td>\n      <td>True</td>\n      <td>True</td>\n      <td>True</td>\n      <td>True</td>\n      <td>True</td>\n      <td>False</td>\n      <td>False</td>\n      <td>...</td>\n      <td>False</td>\n      <td>False</td>\n      <td>False</td>\n      <td>False</td>\n      <td>False</td>\n      <td>False</td>\n      <td>False</td>\n      <td>False</td>\n      <td>False</td>\n      <td>False</td>\n    </tr>\n    <tr>\n      <th>2</th>\n      <td>8512</td>\n      <td>1</td>\n      <td>NaN</td>\n      <td>True</td>\n      <td>True</td>\n      <td>True</td>\n      <td>True</td>\n      <td>True</td>\n      <td>False</td>\n      <td>False</td>\n      <td>...</td>\n      <td>False</td>\n      <td>False</td>\n      <td>False</td>\n      <td>False</td>\n      <td>False</td>\n      <td>False</td>\n      <td>False</td>\n      <td>False</td>\n      <td>False</td>\n      <td>False</td>\n    </tr>\n    <tr>\n      <th>3</th>\n      <td>14549</td>\n      <td>1</td>\n      <td>4.0</td>\n      <td>True</td>\n      <td>True</td>\n      <td>True</td>\n      <td>True</td>\n      <td>True</td>\n      <td>False</td>\n      <td>False</td>\n      <td>...</td>\n      <td>False</td>\n      <td>False</td>\n      <td>False</td>\n      <td>False</td>\n      <td>False</td>\n      <td>False</td>\n      <td>False</td>\n      <td>False</td>\n      <td>False</td>\n      <td>False</td>\n    </tr>\n    <tr>\n      <th>4</th>\n      <td>15961</td>\n      <td>1</td>\n      <td>NaN</td>\n      <td>True</td>\n      <td>True</td>\n      <td>True</td>\n      <td>True</td>\n      <td>True</td>\n      <td>False</td>\n      <td>False</td>\n      <td>...</td>\n      <td>False</td>\n      <td>False</td>\n      <td>False</td>\n      <td>False</td>\n      <td>False</td>\n      <td>False</td>\n      <td>False</td>\n      <td>False</td>\n      <td>False</td>\n      <td>False</td>\n    </tr>\n    <tr>\n      <th>...</th>\n      <td>...</td>\n      <td>...</td>\n      <td>...</td>\n      <td>...</td>\n      <td>...</td>\n      <td>...</td>\n      <td>...</td>\n      <td>...</td>\n      <td>...</td>\n      <td>...</td>\n      <td>...</td>\n      <td>...</td>\n      <td>...</td>\n      <td>...</td>\n      <td>...</td>\n      <td>...</td>\n      <td>...</td>\n      <td>...</td>\n      <td>...</td>\n      <td>...</td>\n      <td>...</td>\n    </tr>\n    <tr>\n      <th>26715</th>\n      <td>74069</td>\n      <td>99728</td>\n      <td>NaN</td>\n      <td>False</td>\n      <td>False</td>\n      <td>False</td>\n      <td>False</td>\n      <td>False</td>\n      <td>False</td>\n      <td>True</td>\n      <td>...</td>\n      <td>False</td>\n      <td>False</td>\n      <td>False</td>\n      <td>False</td>\n      <td>False</td>\n      <td>False</td>\n      <td>False</td>\n      <td>False</td>\n      <td>False</td>\n      <td>False</td>\n    </tr>\n    <tr>\n      <th>26716</th>\n      <td>83325</td>\n      <td>99728</td>\n      <td>NaN</td>\n      <td>False</td>\n      <td>False</td>\n      <td>False</td>\n      <td>False</td>\n      <td>False</td>\n      <td>False</td>\n      <td>True</td>\n      <td>...</td>\n      <td>False</td>\n      <td>False</td>\n      <td>False</td>\n      <td>False</td>\n      <td>False</td>\n      <td>False</td>\n      <td>False</td>\n      <td>False</td>\n      <td>False</td>\n      <td>False</td>\n    </tr>\n    <tr>\n      <th>26717</th>\n      <td>100206</td>\n      <td>99728</td>\n      <td>NaN</td>\n      <td>False</td>\n      <td>False</td>\n      <td>False</td>\n      <td>False</td>\n      <td>False</td>\n      <td>False</td>\n      <td>True</td>\n      <td>...</td>\n      <td>False</td>\n      <td>False</td>\n      <td>False</td>\n      <td>False</td>\n      <td>False</td>\n      <td>False</td>\n      <td>False</td>\n      <td>False</td>\n      <td>False</td>\n      <td>False</td>\n    </tr>\n    <tr>\n      <th>26718</th>\n      <td>110161</td>\n      <td>99728</td>\n      <td>3.5</td>\n      <td>False</td>\n      <td>False</td>\n      <td>False</td>\n      <td>False</td>\n      <td>False</td>\n      <td>False</td>\n      <td>True</td>\n      <td>...</td>\n      <td>False</td>\n      <td>False</td>\n      <td>False</td>\n      <td>False</td>\n      <td>False</td>\n      <td>False</td>\n      <td>False</td>\n      <td>False</td>\n      <td>False</td>\n      <td>False</td>\n    </tr>\n    <tr>\n      <th>26719</th>\n      <td>122780</td>\n      <td>99728</td>\n      <td>NaN</td>\n      <td>False</td>\n      <td>False</td>\n      <td>False</td>\n      <td>False</td>\n      <td>False</td>\n      <td>False</td>\n      <td>True</td>\n      <td>...</td>\n      <td>False</td>\n      <td>False</td>\n      <td>False</td>\n      <td>False</td>\n      <td>False</td>\n      <td>False</td>\n      <td>False</td>\n      <td>False</td>\n      <td>False</td>\n      <td>False</td>\n    </tr>\n  </tbody>\n</table>\n<p>26720 rows × 23 columns</p>\n</div>"
     },
     "execution_count": 143,
     "metadata": {},
     "output_type": "execute_result"
    }
   ],
   "source": [
    "movies_available"
   ],
   "metadata": {
    "collapsed": false,
    "pycharm": {
     "name": "#%%\n"
    }
   }
  },
  {
   "cell_type": "code",
   "execution_count": 149,
   "outputs": [],
   "source": [
    "lr = 0.010676587674837098\n",
    "reg = 0.00010676587674837098\n",
    "n_epochs = 20\n",
    "n_factors = 10\n",
    "import time\n",
    "t = time.localtime()\n",
    "RESULT_DIR = f'../../data/benchmark_rs/saturation-{t.tm_year}-{t.tm_mon}-{t.tm_mday}'\n",
    "\n",
    "\n",
    "def get_rating(df, u, i):\n",
    "    tmp = df.loc[(df.u_id == u) & (df.i_id == i)]\n",
    "    if tmp.empty:\n",
    "        return np.nan\n",
    "    else:\n",
    "        return tmp.values[0]"
   ],
   "metadata": {
    "collapsed": false,
    "pycharm": {
     "name": "#%%\n"
    }
   }
  },
  {
   "cell_type": "code",
   "execution_count": 150,
   "outputs": [
    {
     "name": "stdout",
     "output_type": "stream",
     "text": [
      "Preprocessing data...\n",
      "\n",
      "Epoch 1/20  | took 1.1 sec\n",
      "Epoch 2/20  | took 1.1 sec\n",
      "Epoch 3/20  | took 1.1 sec\n",
      "Epoch 4/20  | took 1.1 sec\n",
      "Epoch 5/20  | took 1.1 sec\n",
      "Epoch 6/20  | took 1.0 sec\n",
      "Epoch 7/20  | took 1.1 sec\n",
      "Epoch 8/20  | took 1.1 sec\n",
      "Epoch 9/20  | took 1.0 sec\n",
      "Epoch 10/20 | took 1.1 sec\n",
      "Epoch 11/20 | took 1.1 sec\n",
      "Epoch 12/20 | took 1.1 sec\n",
      "Epoch 13/20 | took 1.1 sec\n",
      "Epoch 14/20 | took 1.0 sec\n",
      "Epoch 15/20 | took 1.1 sec\n",
      "Epoch 16/20 | took 1.1 sec\n",
      "Epoch 17/20 | took 1.1 sec\n",
      "Epoch 18/20 | took 1.1 sec\n",
      "Epoch 19/20 | took 1.1 sec\n",
      "Epoch 20/20 | took 1.0 sec\n",
      "\n",
      "Training took 29 sec\n"
     ]
    }
   ],
   "source": [
    "fsvd = FSVD(lr=lr, reg=reg, n_epochs=n_epochs, n_factors=n_factors,\n",
    "            early_stopping=True, shuffle=False, min_rating=1, max_rating=5)\n",
    "fsvd.fit(ratings)\n",
    "preds = fsvd.predict(movies_available)\n",
    "\n",
    "# calculate the saturation\n",
    "res_tmp = pd.concat([movies_available, pd.DataFrame({\"pred\": preds})], axis=1)\n",
    "# with open(f\"{RESULT_DIR}/predictions_step_{i}.json\", \"w\") as f:\n",
    "#     json.dump(res_tmp, f)\n",
    "\n",
    "saturation = res_tmp.groupby(\"u_id\").apply(lambda df:  df.sort_values(\"pred\")[-100:].drop([\"u_id\", \"i_id\",  \"pred\"],  axis=1).mean()).to_dict(\"index\")\n",
    "\n",
    "# append saturation to file\n",
    "saturation_list.append(saturation)\n",
    "\n",
    "# Add  selected movies to ratings list with 4s and 5s\n",
    "genre_tmp = GENRE1 if (7 % 50) < 25 else GENRE2\n",
    "\n",
    "selected = movies_available.loc[movies_available.i_id.isin(genres.index[genres[genre_tmp]]), :].groupby(\"u_id\").apply(lambda df: np.random.choice(df.index))\n",
    "new_scores = pd.concat([movies_available.loc[selected, [\"u_id\", \"i_id\"]].reset_index(drop=True),\n",
    "                        pd.DataFrame({\"rating\": np.random.choice([4, 5], selected.shape[0], p=[.15, .85])})],\n",
    "                       axis=1)\n",
    "movies_available.loc[selected, 'rating'] = new_scores.rating.values\n",
    "ratings = pd.concat([ratings, new_scores], axis=0)\n",
    "\n",
    "# with open(f\"{RESULT_DIR}/all_saturation.json\", \"w\") as f:\n",
    "# json.dump(saturation_list,  f)\n"
   ],
   "metadata": {
    "collapsed": false,
    "pycharm": {
     "name": "#%%\n"
    }
   }
  },
  {
   "cell_type": "code",
   "execution_count": 151,
   "outputs": [
    {
     "data": {
      "text/plain": "[3.833141426599853,\n 4.091701615508929,\n 4.166004044448721,\n 3.9513336256637484,\n 5,\n 3.012117540541257,\n 3.728638470242163,\n 4.475027603366256,\n 2.261228517640956,\n 4.373897572386687,\n 3.781207571071707,\n 3.02933051038009,\n 4.422962809331908,\n 4.047696856443267,\n 2.8823060371871474,\n 4.279027178564912,\n 3.7886320401195963,\n 2.405906321844129,\n 2.74184001138551,\n 3.3725005495425098,\n 3.2876733936258833,\n 2.102744894006144,\n 2.0922180477159587,\n 3.838255957725468,\n 1.4653316273805623,\n 2.9784182763581537,\n 3.353839176110328,\n 3.432012689985191,\n 3.3770276569190525,\n 3.587764855450672,\n 1.9180256754923237,\n 3.5550180581889803,\n 3.8599939079571937,\n 3.4154503315140547,\n 3.2395058710926947,\n 3.3858155824232115,\n 3.4600548282535475,\n 2.5049070170255443,\n 1.8294347971526994,\n 3.8312360271556503,\n 1.2139727331541734,\n 2.7981979951452822,\n 3.12593882821028,\n 3.810548362665532,\n 3.4213296934975146,\n 2.821216779288808,\n 2.311287246921545,\n 3.8479994730949976,\n 4.414616782288007,\n 4.199787341964912,\n 3.739040846594644,\n 3.8983888787869825,\n 3.8377506398840286,\n 2.5190183785770066,\n 3.197232798163342,\n 4.710421904050573,\n 2.882671146387673,\n 4.204513134688709,\n 2.0858354400852086,\n 4.339469420703608,\n 2.9073603728150315,\n 3.322045975439403,\n 3.9641823231631665,\n 3.984216067160755,\n 4.174240414922326,\n 2.501860106721622,\n 3.3848134908415637,\n 3.4089152718371514,\n 3.4405306124641846,\n 1.7716321842121046,\n 2.3915885280475444,\n 3.6720924209783394,\n 1.1616250427304098,\n 2.8152262209399463,\n 2.635026828663682,\n 4.071655341502726,\n 3.135280681357409,\n 3.1504425680084602,\n 2.459702206534197,\n 3.1600853529530464,\n 3.4568861810901588,\n 3.7553463660321693,\n 2.9754757891393524,\n 3.194394056055918,\n 3.620954402781402,\n 1.94206918407897,\n 3.0217312016154962,\n 3.838272530061669,\n 2.0922204821552914,\n 3.626106765095002,\n 2.065954476350656,\n 2.6917159239881068,\n 3.421499637345111,\n 3.0480986308349127,\n 2.791461799112274,\n 2.551231844398531,\n 4.676752026485635,\n 2.8307190562819646,\n 3.769596176790472,\n 3.640770290615277,\n 3.857068449629121,\n 1.7675273793034005,\n 2.244027074592704,\n 4.05687340988657,\n 1.4558929221969992,\n 3.2024543632523215,\n 2.76442541843686,\n 4.659891762179988,\n 3.4088298335262275,\n 3.3645747903831276,\n 2.930113127584339,\n 3.789514302761402,\n 3.5319518886805175,\n 2.3917060991866617,\n 3.0604598648222554,\n 3.644013979666443,\n 3.2338421556153993,\n 2.4105854266623012,\n 2.856066498508048,\n 4.48879091165737,\n 2.4030062512710217,\n 3.898354246591382,\n 2.5640098371713136,\n 3.8993304710740584,\n 2.88555972541469,\n 2.7024937957444775,\n 2.386347259892724,\n 4.22937671786963,\n 3.846281558802809,\n 4.118716159033628,\n 3.758908493268777,\n 4.072052531129924,\n 3.848811357432079,\n 3.567560497847189,\n 3.1951419003223798,\n 4.730461305490407,\n 3.0949085700868513,\n 4.4331227095111725,\n 3.050089340730633,\n 4.17847600026867,\n 3.0576026385004367,\n 3.501574544301913,\n 3.642783765272377,\n 4.628993709957564,\n 2.8029524856008106,\n 4.025357121976822,\n 2.762986823733434,\n 3.726867109002906,\n 2.8761677708029083,\n 4.085984372447764,\n 2.4547393681905234,\n 4.028676456888726,\n 3.0198177134505673,\n 2.6772971083676076,\n 3.875564463076487,\n 3.6631961484005418,\n 1.8274971478270237,\n 3.963181574260229,\n 3.349102796700113,\n 3.9804218002440193,\n 1.8961073147168628,\n 3.4386858415386055,\n 2.5583498503993347,\n 2.836598087077811,\n 2.7241792618154785,\n 3.8402651577329374,\n 1.2428162839422845,\n 2.7757928503191516,\n 1,\n 2.841832906574776,\n 3.892956513299608,\n 2.2236996065056545,\n 3.0808524523489256,\n 2.8213014982743956,\n 1.5258707865512051,\n 3.467303895912929,\n 3.1628689243466943,\n 3.146289788060695,\n 3.4507515957126857,\n 3.4225035327751225,\n 3.9560746561993527,\n 2.2474907296561613,\n 2.786776688414079,\n 4.078160092340639,\n 2.5389292895619673,\n 3.7184230390651942,\n 2.705315906157658,\n 3.5981035405351354,\n 3.691264048514547,\n 2.6394009070394384,\n 2.806894257465999,\n 3.362919165938241,\n 4.493556048252221,\n 2.2119669607500105,\n 3.162081932225477,\n 3.4933792493522975,\n 3.18024203717166,\n 2.0533144511082853,\n 2.0475256551696126,\n 3.8543715646031216,\n 1.712841982701707,\n 3.5236567482342602,\n 2.5599387160477485,\n 4.431754898952006,\n 3.0204524689431396,\n 3.4750228363636153,\n 2.6503410563802343,\n 3.587340431920754,\n 4.220751840576518,\n 2.3182888936674666,\n 2.7874155176028577,\n 3.8240158710815444,\n 2.7937448193101457,\n 2.467528933748853,\n 2.310806774965104,\n 4.187882624929217,\n 1.894418029259536,\n 2.8849595180366854,\n 3.499380441116447,\n 4.372179658226565,\n 2.37419052152694,\n 4.300580214385488,\n 2.6201333094319805,\n 3.9900286527329536,\n 3.402186003859698,\n 2.8230220481260866,\n 3.4950734253517384,\n 3.9041789219551606,\n 3.5942728082352553,\n 3.1936109006436157,\n 2.604734887935006,\n 4.556160781730913,\n 3.0201317572136297,\n 4.0099026045925985,\n 3.4034917990792244,\n 4.464166667087868,\n 2.7621453899144024,\n 3.3685141519945727,\n 3.1145495389830966,\n 4.852391966119664,\n 3.22092840271462,\n 3.2930710408620034,\n 3.4835915697305073,\n 3.906592028546915,\n 3.590276831803357,\n 2.860636409608089,\n 3.7934561247168457,\n 4.3043810252050525,\n 2.3852684659620347,\n 3.496114223721389,\n 3.2302402003722714,\n 3.4829664166264016,\n 2.696416367444004,\n 3.7375497536158915,\n 3.0072291332507883,\n 3.653484707607535,\n 2.3640800287844526,\n 3.6640343334863608,\n 3.203096054564575,\n 3.8811526661781985,\n 3.9540444491304054,\n 4.102851594128833,\n 4.027679646586929,\n 4.3816434126609485,\n 3.4291767026748547,\n 3.6362834177333707,\n 4.007931869700264,\n 2.6367555893227497,\n 2.7962532741091417,\n 3.8193207654177175,\n 2.7812091601749604,\n 4.0757430853555014,\n 3.3753398295276096,\n 4.002245662177298,\n 3.183987957129142,\n 4.002917311425886,\n 3.9775637082638013,\n 3.2352171738555637,\n 3.7178794576945657,\n 4.82772217757267,\n 3.900464782679838,\n 4.044754944667213,\n 3.361159493979378,\n 3.4162434682237777,\n 2.9176181487824264,\n 4.22121799737923,\n 3.6420015119583997,\n 3.9801490219618993,\n 3.375740291443328,\n 2.187289158757356,\n 3.7904016076992386,\n 3.624227420127416,\n 4.632211429038733,\n 2.192978199343332,\n 3.5811451902475424,\n 4.130294153843393,\n 1.6349032589306582,\n 4.461460208100944,\n 3.4953400073722465,\n 2.822398314629501,\n 4.7759884493953635,\n 3.245542760880336,\n 1.6164946254286359,\n 3.843420436564262,\n 3.959006201258079,\n 2.9107850254652066,\n 4.066637838561137,\n 4.226940943890232,\n 3.9978793824927163,\n 3.065560529141086,\n 3.3875784687375994,\n 4.617906717003912,\n 2.5177272092523384,\n 4.118114212178048,\n 3.5863065495405064,\n 4.607193284829389,\n 3.2740621453811034,\n 3.7973117158744167,\n 3.1890210501497367,\n 4.6084443573035765,\n 3.36332344433536,\n 2.277418325164908,\n 3.86100288886191,\n 3.2202173014374726,\n 4.160618407074737,\n 3.086126665178565,\n 2.0787137916735587,\n 3.033880443333658,\n 1.2294976730980338,\n 3.436206012113837,\n 3.582042530548984,\n 3.5575467807087904,\n 4.023412128978866,\n 2.9793885017279984,\n 1.9520099768617798,\n 3.5323624580551027,\n 3.4830174866204153,\n 2.58415286130247,\n 2.7650387725812253,\n 3.4862481726111354,\n 2.7968938073149543,\n 3.070503609133297,\n 2.119175636738022,\n 3.882103223428352,\n 2.3336334924563173,\n 3.4321269910284062,\n 2.9900632184522764,\n 3.942319898350865,\n 2.534043641618322,\n 3.28299938782133,\n 2.5740483672935617,\n 3.8313081505758655,\n 3.672076870110614,\n 2.8657902676795812,\n 3.134920344090255,\n 3.8459061670662034,\n 3.263027802822742,\n 2.7045850791080603,\n 3.2665362322004166,\n 4.3642565621830425,\n 2.5873004940717093,\n 3.3787401922372604,\n 2.99545315353886,\n 3.956378531250775,\n 2.613994621942006,\n 3.5873753799862578,\n 2.9264641806730074,\n 3.688100226675379,\n 2.8352566498645957,\n 1.6858321587589455,\n 2.9443027283432057,\n 3.278785267629681,\n 3.5031165033633567,\n 2.6235690415313218,\n 2.2222429600469042,\n 3.856439077411048,\n 2.348104843853593,\n 3.7062214430390275,\n 3.248877746942544,\n 3.498997446953722,\n 3.526103394684528,\n 2.571072012618594,\n 1.732733423291102,\n 3.9338567107631066,\n 4.346878651778,\n 4.19025730765176,\n 3.8047843742149547,\n 4.189542831934132,\n 3.9576493917886024,\n 3.490925603235545,\n 3.319316205147454,\n 4.755175087461741,\n 3.2075104216947827,\n 4.4877455666007915,\n 3.116581687888722,\n 4.264283347793445,\n 2.661521915466076,\n 4.4872569652057654,\n 4.08417174979699,\n 4.670540324022926,\n 3.491668551180907,\n 1.9179926660202566,\n 2.8455642440687776,\n 3.188517539536574,\n 3.0193580545712315,\n 2.4666332545779897,\n 2.1893222364767326,\n 3.2786449529618853,\n 1,\n 2.8116377876837664,\n 3.292309932037914,\n 2.9202704526232846,\n 2.606302160526894,\n 3.5917130749494097,\n 1.3730005829610432,\n 3.7413262998748182,\n 4.147430951943882,\n 4.779968141672751,\n 4.284214482617063,\n 4.231815306107385,\n 4.625950951595853,\n 3.216282266285913,\n 4.0299847941186036,\n 4.806307316333882,\n 3.322797476868628,\n 4.676960089692112,\n 2.9849778884785385,\n 3.967895669691366,\n 3.4803049772482693,\n 4.187852575294298,\n 4.323724312256526,\n 4.0597181841119605,\n 2.9258597114207117,\n 2.8756455136106913,\n 3.5079609963870326,\n 3.7898956440216494,\n 3.6658732224778374,\n 3.29701723395563,\n 2.7190062530823544,\n 4.231257936019899,\n 2.508257188305194,\n 3.355861665076017,\n 3.8055361273770374,\n 4.035763524661844,\n 3.1332328496985826,\n 3.0175807635811114,\n 2.604966880289041,\n 4.383452680248882,\n 3.200143166551853,\n 1.6691010502718409,\n 2.958632062375254,\n 3.53952894893444,\n 2.8781057897860287,\n 3.081812556759879,\n 2.4644676718008003,\n 3.9300055109583845,\n 2.0596324451187513,\n 3.3434952849080823,\n 3.108837948823776,\n 4.025669194437843,\n 2.6148715510704386,\n 2.625796013809437,\n 1.885287026142446,\n 4.168740954103639,\n 3.357006077580599,\n 3.2980795378913577,\n 4.0854291718034785,\n 4.3526963599297055,\n 4.108178048353951,\n 3.3762054042260767,\n 3.8001487264563445,\n 4.802536550999112,\n 2.5862737406502525,\n 3.694238919669674,\n 4.106614914493216,\n 4.288951464327716,\n 3.3763518984001712,\n 3.5553680625341597,\n 2.9971904824989237,\n 4.704062405713437,\n 4.85750811967317,\n 3.207399773042435,\n 3.8672733780829587,\n 4.091247447822996,\n 3.749259950544814,\n 2.3184070944147894,\n 2.591178553078804,\n 4.505834095303105,\n 1.6008252305171384,\n 3.237987586354844,\n 3.367519883213761,\n 4.946019797711618,\n 3.128511625482101,\n 3.9741640767424995,\n 3.1791042146032655,\n 4.4591190152145685,\n 1.9237129036864018,\n 3.425640835387748,\n 2.8534896551054496,\n 3.1088317949694337,\n 2.806603964386089,\n 4.443062134714698,\n 1.6818446009126333,\n 2.984344271677795,\n 1.8251269166747033,\n 2.839457031807476,\n 3.8472575778444833,\n 2.967521543607738,\n 2.8409546794691067,\n 2.542375276427712,\n 2.0813939321909607,\n 3.5020123149624776,\n 2.4250919204528776,\n 2.334472469504656,\n 1.9599307545458635,\n 2.5792479128451307,\n 1.996180108573418,\n 3.324672455882956,\n 1,\n 2.412890398674298,\n 1,\n 1.608641718301783,\n 3.59867162747045,\n 2.9757075723061934,\n 2.190472095828311,\n 2.7514975737530003,\n 1.296231981988301,\n 3.0900252202334837,\n 2.860191180588378,\n 4.184642629824527,\n 3.6576565744465506,\n 3.320300396934089,\n 3.7774803720687604,\n 3.9444623788126574,\n 2.3849629312455525,\n 3.428331284505216,\n 2.0113306372945288,\n 3.661000872080151,\n 3.129993356739685,\n 3.165752214164823,\n 3.2888321910455596,\n 2.7131588500411845,\n 2.864870745327389,\n 3.6974017926560667,\n 3.2443517321532984,\n 3.2133072317225126,\n 2.4359463624683526,\n 3.104282552563941,\n 3.0024630298812496,\n 3.1290661145530754,\n 2.104852052413823,\n 3.5367317588072478,\n 2.7244223685209863,\n 3.5532005843603267,\n 2.6028964525066605,\n 2.974667372050089,\n 2.519318112967269,\n 3.5103598703749905,\n 2.7696322928125956,\n 3.1578898955564894,\n 3.663517987171291,\n 2.1951766685932927,\n 2.218987808836722,\n 3.120703860007537,\n 2.710962331188497,\n 2.5495785311732897,\n 2.055748136119372,\n 3.601385938093111,\n 2.2042280536613954,\n 3.1238176978812144,\n 2.5053807156524788,\n 3.331722250297621,\n 2.7550352808984635,\n 3.0821297230964975,\n 2.027949375081328,\n 3.0281688877488415,\n 3.187859227897004,\n 2.5812316910478197,\n 3.0801799755971717,\n 3.687667036407499,\n 3.1386891569710222,\n 3.279522327045271,\n 2.7035757760143175,\n 4.095772834734445,\n 2.5577677668653522,\n 3.393599877015018,\n 3.3093194403484154,\n 3.9499009760673345,\n 2.607942609332165,\n 3.180797703422222,\n 2.5787614275832818,\n 4.055491884278955,\n 3.232102828690449,\n 3.6297882975097124,\n 2.9520075855424137,\n 3.7450679846314103,\n 2.9995408897056888,\n 3.324960095345078,\n 2.652307677550409,\n 4.2790044961634255,\n 3.096049854503849,\n 3.210288938881261,\n 3.1071635517739407,\n 4.064260056554408,\n 2.2145471205289238,\n 3.452512683850154,\n 3.4219036069666884,\n 3.8258696813584687,\n 4.345143461411092,\n 2.8372282114224388,\n 3.2482361593724467,\n 3.6334208764136138,\n 3.2471641485252127,\n 2.2438852459131686,\n 2.6635081898469988,\n 4.027606165321598,\n 1.7671518715973544,\n 3.2355586982878215,\n 2.5680895388810514,\n 4.155346479376384,\n 2.699201027194505,\n 3.5358653915502365,\n 2.863042621500852,\n 3.5409119484804124,\n 3.8424642232950457,\n 2.5150968697491347,\n 2.8297040694911004,\n 3.4056917612959055,\n 3.033271306461079,\n 2.290109874402181,\n 2.123072272098965,\n 3.8538191399572597,\n 1.8251041718296475,\n 3.1075462342150812,\n 2.836162845583306,\n 3.90662889191372,\n 3.053129555919039,\n 3.1612414674342086,\n 2.3494438684026555,\n 3.410599329122875,\n 3.5223826333619868,\n 3.9984036876561486,\n 3.8532529547097827,\n 3.852562438508172,\n 3.731605652251348,\n 3.5017007340399164,\n 2.8667657614288617,\n 4.087282590534857,\n 2.430567166927951,\n 3.4552771934511206,\n 3.295155509249247,\n 4.17000156040613,\n 2.708705299429292,\n 3.5156492810788125,\n 3.565373794779761,\n 4.0769023243089535,\n 3.957833409775584,\n 2.2997859115095505,\n 2.693058495121368,\n 2.9900849831036087,\n 3.020352167172684,\n 1.5100177931676775,\n 2.053755719182005,\n 3.2945288964849424,\n 1.4216267989919846,\n 3.5545942600789826,\n 2.0319291265658834,\n 3.3137330673753644,\n 3.4386643681088636,\n 3.243686732102716,\n 2.285437801526655,\n 2.2748470401846075,\n 2.4155872275385537,\n 3.73914343508157,\n 3.5662958919801526,\n 3.6950473403678963,\n 3.8893159895840843,\n 3.8332562858777584,\n 3.210270849760711,\n 4.133498927023926,\n 2.8748919515781437,\n 3.434538847312029,\n 3.6199865836404514,\n 3.351002872216459,\n 3.108767644638636,\n 2.747719819184105,\n 2.82858174101905,\n 4.058502400649145,\n 3.1150796419529323,\n 4.744642087049439,\n 3.776637981135821,\n 3.261665995703202,\n 3.859624155103174,\n 3.7640667332298126,\n 2.0283638732581437,\n 3.250918313717609,\n 1.5345811109251168,\n 3.4918343309852795,\n 3.2055105621668822,\n 3.166095590010567,\n 3.5558883756268704,\n 2.9476601591210017,\n 3.0516657362705875,\n 3.485854398077775,\n 4.756645628948065,\n 4.53270422221256,\n 3.982439932770428,\n 4.086286345041018,\n 4.22056615561913,\n 2.252511608800558,\n 3.685515282314383,\n 4.776695302967726,\n 2.4581708239896196,\n 4.688687015582744,\n 2.4301787030520905,\n 3.891813170080062,\n 3.3923418967590293,\n 4.37988900829788,\n 4.065046967000811,\n 3.8804513961968006,\n 3.105993419132336,\n 3.4216448311238463,\n 3.646062798566566,\n 3.971927825726904,\n 4.030078143676075,\n 3.392949531277038,\n 3.8961297090179303,\n 4.787893380786032,\n 3.266824287444617,\n 4.843738271570373,\n 2.9813707504765476,\n 3.4200004193571605,\n 3.404875310405687,\n 3.0322882388197123,\n 2.9572726024659852,\n 4.472268139265226,\n 2.8903949262691198,\n 3.2975657856576777,\n 3.122110593251335,\n 3.1487566945276324,\n 3.8743978888920307,\n 2.743322282836723,\n 2.933867660293454,\n 3.431248330924376,\n 2.1669782107062767,\n 3.5768869424603404,\n 2.889358151748265,\n 2.5330036957460336,\n 3.952039626254561,\n 2.938960928684574,\n 2.3135274895548497,\n 2.520220913347733,\n 3.409320501784265,\n 3.5192863127086587,\n 3.5675757638570653,\n 4.191921456101286,\n 3.385297647465736,\n 3.631324751519494,\n 3.4492249652741704,\n 4.564034690593606,\n 2.918636714992473,\n 3.2805959790087544,\n 3.640720503026046,\n 4.355642017907384,\n 2.140846397146091,\n 3.8833791397157214,\n 3.501210205555331,\n 4.403914365194513,\n 2.4737584666715375,\n 3.2919845772333716,\n 3.3411731721422036,\n 3.8017103226924944,\n 3.3749353105748088,\n 4.277033034068619,\n 3.0755798025765446,\n 3.9936169084824087,\n 2.809885238231378,\n 3.3571718590919573,\n 3.9505772183722256,\n 3.5261744642296007,\n 2.402375664814923,\n 3.416980526784232,\n 2.813810524815586,\n 4.2876991369081185,\n 3.435272374089936,\n 2.9904809740409752,\n 3.1306897428649503,\n 3.565095470931408,\n 2.686165735307528,\n 3.1515190510042976,\n 2.024454333429116,\n 3.5191181285205615,\n 1.8624676052979274,\n 2.1842818393103443,\n 3.3234537482628745,\n 4.507222379312672,\n 1.8686415494862505,\n 3.488432141433581,\n 3.1001285301103447,\n 3.440351389340192,\n 2.9533046981478543,\n 3.8479186480754013,\n 3.7464728411925172,\n 3.98375810563567,\n 3.9960205924260865,\n 4.362225357200973,\n 3.8566249027763875,\n 4.269447438934706,\n 3.1269115496094857,\n 3.723715086436687,\n 3.650375574016456,\n 3.4261036775520592,\n 2.787864220725937,\n 3.4334333328634212,\n 3.1398252449478683,\n 4.22312766724826,\n 2.8574740640661824,\n 2.9627183032831605,\n 3.5833707720122545,\n 3.6213882213105393,\n 3.8897932306671468,\n 3.495787973541631,\n 2.632230056627451,\n 3.9966231556231318,\n 2.5018876601702367,\n 3.7111145937841346,\n 3.664632769505925,\n 3.7398537634937097,\n 3.6585226240568356,\n 2.7099951143481595,\n 2.4390146828791095,\n 4.163788037402135,\n 3.7579872006581283,\n 2.807762609895034,\n 3.480186274969561,\n 3.8394818505847526,\n 3.668975207338001,\n 2.7509043490251472,\n 2.1159727183856907,\n 4.264920677374933,\n 2.147789060181206,\n 2.550069335950573,\n 3.999515237899875,\n 4.720983433570998,\n 2.9952142404011677,\n 3.485563107585438,\n 2.7735217445974754,\n 4.45607568881833,\n 3.969829335017348,\n 3.288552765784036,\n 3.918117700876783,\n 3.9135127680713513,\n 3.5769235574168086,\n 2.8232696956711942,\n 2.5764515292483887,\n 4.230662152090031,\n 2.135866981605831,\n 3.26993225495837,\n 3.1010485401233367,\n 4.933792110368353,\n 2.798696473470241,\n 3.2120290451125406,\n 3.4208651435525437,\n 4.174040100712437,\n 4.1729464374475445,\n 3.3681122665650407,\n 3.234015528880086,\n 3.1869020615235963,\n 3.2672910309496292,\n 2.319177471821367,\n 1.6677704576803927,\n 3.343190201884638,\n 1.3815544196345553,\n 3.1440239928220413,\n 2.446888146131554,\n 3.9228540880964062,\n 3.021060596839359,\n 3.345466256769818,\n 2.9769700258015375,\n 3.0480776830640477,\n 3.8139224883535303,\n 3.3993045129921597,\n 3.54964193118308,\n 4.093076503947215,\n 3.2499447230438503,\n 3.8981612444563707,\n 2.4941392689549358,\n 4.308762945004562,\n 2.632711289007424,\n 3.142138541681609,\n 3.8512444638601293,\n 4.8214985883286055,\n 2.0620553455999606,\n 4.026889141260063,\n 3.485302650755964,\n 4.7986624915648335,\n 4.151170916833302,\n 3.629662799688,\n 3.6558066027819516,\n 3.7548091914193735,\n 4.3246124388250164,\n 1.5763441747168667,\n 3.584052870521174,\n 4.645303299747663,\n 2.2159547876117167,\n 4.270048937605468,\n 2.4507222215589506,\n 3.4123081669135464,\n 4.09977164876992,\n 3.4073717182554075,\n 3.0015856995173786,\n 3.4649435341590245,\n 3.869342621740305,\n 3.2459826946538777,\n 3.2529468512602477,\n 3.77518213728561,\n 3.449909716967526,\n 2.028073456359647,\n 3.5622554150220145,\n 4.586564390675927,\n 2.408299080940113,\n 3.9696675249588314,\n 2.2171946256198685,\n 3.6842404409930323,\n 3.134210775677385,\n 3.1080616870307294,\n 2.968261804307233,\n 3.444192357759748,\n 2.9611553349133306,\n 2.2340621970011574,\n 2.3663864046074434,\n 2.9372347569884467,\n 2.767058131440453,\n 2.3457917461959745,\n 2.096840626662788,\n 3.03365827574933,\n 1.2078679230029485,\n 3.0672959477679766,\n 2.997263885995832,\n 2.4783493441670914,\n 2.839863832564018,\n 3.6655698075777474,\n 1.7365969717206013,\n 2.6432433147016656,\n 3.5890427251771477,\n 1.611415910569446,\n 1.791369158355189,\n 2.778530850621104,\n 2.038967642494778,\n 1.6662858245364764,\n 1.1845197331374266,\n 3.1528346273795735,\n 1.1071964316648542,\n 2.4634789592652364,\n 2.3712988600601443,\n 3.2967821528191177,\n 2.424954317734028,\n 3.0665711321584492,\n 1.5474657839347206,\n 2.6551696850437136,\n 4.398941458952212,\n 3.6158672776127325,\n 3.579115821764827,\n 3.5648027205251602,\n 3.7922206488554626,\n 1.7141107631867019,\n 2.957869004743949,\n 4.176617859089484,\n 1.9518157286170315,\n 4.052206561754383,\n 1.9780018635648182,\n 3.8324733912982842,\n 3.464318292499331,\n 3.356060323032336,\n 3.3258253559791418,\n 3.1618952278563723,\n 2.28113191899926,\n 2.6925047844481425,\n 3.214397124031868,\n 3.698432265880124,\n 3.881509314831136,\n 3.6199722232137233,\n 3.440408733009162,\n 4.4527497485971175,\n 3.166609852991608,\n 4.093471825652931,\n 3.6298869571204952,\n 3.0611123747012523,\n 3.655586047692555,\n 2.4330280370984663,\n 2.0007680829332966,\n 4.3507736593566415,\n 3.5741790560592195,\n 3.7376234069600662,\n 3.225246356503373,\n 3.4040435768072452,\n 3.6540641579015247,\n 3.179250590074624,\n 2.6156146396509774,\n 3.652735937169709,\n ...]"
     },
     "execution_count": 151,
     "metadata": {},
     "output_type": "execute_result"
    }
   ],
   "source": [
    "preds"
   ],
   "metadata": {
    "collapsed": false,
    "pycharm": {
     "name": "#%%\n"
    }
   }
  },
  {
   "cell_type": "code",
   "execution_count": 156,
   "outputs": [
    {
     "data": {
      "text/plain": "'[{\"3501\": {\"rating_real\": 4.777777777777778, \"Adventure\": 0.12, \"Animation\": 0.01, \"Children\": 0.03, \"Comedy\": 0.21, \"Fantasy\": 0.01, \"Romance\": 0.26, \"Drama\": 0.7, \"Action\": 0.31, \"Crime\": 0.19, \"Thriller\": 0.39, \"Horror\": 0.04, \"Mystery\": 0.12, \"Sci-Fi\": 0.06, \"IMAX\": 0.02, \"Documentary\": 0.0, \"War\": 0.09, \"Musical\": 0.01, \"Western\": 0.02, \"Film-Noir\": 0.0, \"(no genres listed)\": 0.0}, \"8388\": {\"rating_real\": 4.0, \"Adventure\": 0.33, \"Animation\": 0.06, \"Children\": 0.03, \"Comedy\": 0.41, \"Fantasy\": 0.12, \"Romance\": 0.06, \"Drama\": 0.35, \"Action\": 0.47, \"Crime\": 0.29, \"Thriller\": 0.21, \"Horror\": 0.01, \"Mystery\": 0.1, \"Sci-Fi\": 0.15, \"IMAX\": 0.1, \"Documentary\": 0.02, \"War\": 0.09, \"Musical\": 0.02, \"Western\": 0.04, \"Film-Noir\": 0.01, \"(no genres listed)\": 0.0}, \"8512\": {\"rating_real\": 4.4, \"Adventure\": 0.18, \"Animation\": 0.1, \"Children\": 0.11, \"Comedy\": 0.33, \"Fantasy\": 0.09, \"Romance\": 0.3, \"Drama\": 0.66, \"Action\": 0.12, \"Crime\": 0.18, \"Thriller\": 0.13, \"Horror\": 0.01, \"Mystery\": 0.1, \"Sci-Fi\": 0.03, \"IMAX\": 0.03, \"Documentary\": 0.05, \"War\": 0.07, \"Musical\": 0.05, \"Western\": 0.0, \"Film-Noir\": 0.02, \"(no genres listed)\": 0.0}, \"14549\": {\"rating_real\": 4.329545454545454, \"Adventure\": 0.18, \"Animation\": 0.07, \"Children\": 0.06, \"Comedy\": 0.16, \"Fantasy\": 0.09, \"Romance\": 0.24, \"Drama\": 0.81, \"Action\": 0.07, \"Crime\": 0.13, \"Thriller\": 0.12, \"Horror\": 0.0, \"Mystery\": 0.12, \"Sci-Fi\": 0.05, \"IMAX\": 0.02, \"Documentary\": 0.09, \"War\": 0.08, \"Musical\": 0.01, \"Western\": 0.0, \"Film-Noir\": 0.0, \"(no genres listed)\": 0.0}, \"15961\": {\"rating_real\": 4.6875, \"Adventure\": 0.35, \"Animation\": 0.17, \"Children\": 0.21, \"Comedy\": 0.37, \"Fantasy\": 0.21, \"Romance\": 0.16, \"Drama\": 0.31, \"Action\": 0.27, \"Crime\": 0.13, \"Thriller\": 0.13, \"Horror\": 0.01, \"Mystery\": 0.1, \"Sci-Fi\": 0.13, \"IMAX\": 0.07, \"Documentary\": 0.03, \"War\": 0.07, \"Musical\": 0.11, \"Western\": 0.02, \"Film-Noir\": 0.04, \"(no genres listed)\": 0.0}, \"29330\": {\"rating_real\": 4.230769230769231, \"Adventure\": 0.09, \"Animation\": 0.08, \"Children\": 0.03, \"Comedy\": 0.49, \"Fantasy\": 0.1, \"Romance\": 0.12, \"Drama\": 0.62, \"Action\": 0.13, \"Crime\": 0.16, \"Thriller\": 0.16, \"Horror\": 0.03, \"Mystery\": 0.11, \"Sci-Fi\": 0.06, \"IMAX\": 0.0, \"Documentary\": 0.03, \"War\": 0.01, \"Musical\": 0.07, \"Western\": 0.02, \"Film-Noir\": 0.03, \"(no genres listed)\": 0.0}, \"42971\": {\"rating_real\": 4.241379310344827, \"Adventure\": 0.34, \"Animation\": 0.13, \"Children\": 0.06, \"Comedy\": 0.15, \"Fantasy\": 0.21, \"Romance\": 0.13, \"Drama\": 0.55, \"Action\": 0.25, \"Crime\": 0.14, \"Thriller\": 0.15, \"Horror\": 0.03, \"Mystery\": 0.11, \"Sci-Fi\": 0.18, \"IMAX\": 0.06, \"Documentary\": 0.05, \"War\": 0.15, \"Musical\": 0.04, \"Western\": 0.01, \"Film-Noir\": 0.05, \"(no genres listed)\": 0.0}, \"54160\": {\"rating_real\": 4.846153846153846, \"Adventure\": 0.21, \"Animation\": 0.0, \"Children\": 0.02, \"Comedy\": 0.14, \"Fantasy\": 0.03, \"Romance\": 0.14, \"Drama\": 0.72, \"Action\": 0.17, \"Crime\": 0.15, \"Thriller\": 0.14, \"Horror\": 0.04, \"Mystery\": 0.04, \"Sci-Fi\": 0.12, \"IMAX\": 0.0, \"Documentary\": 0.04, \"War\": 0.19, \"Musical\": 0.02, \"Western\": 0.06, \"Film-Noir\": 0.0, \"(no genres listed)\": 0.0}, \"64094\": {\"rating_real\": 3.581818181818182, \"Adventure\": 0.2, \"Animation\": 0.07, \"Children\": 0.01, \"Comedy\": 0.32, \"Fantasy\": 0.14, \"Romance\": 0.05, \"Drama\": 0.53, \"Action\": 0.23, \"Crime\": 0.25, \"Thriller\": 0.36, \"Horror\": 0.11, \"Mystery\": 0.18, \"Sci-Fi\": 0.23, \"IMAX\": 0.0, \"Documentary\": 0.02, \"War\": 0.06, \"Musical\": 0.01, \"Western\": 0.03, \"Film-Noir\": 0.06, \"(no genres listed)\": 0.0}, \"69353\": {\"rating_real\": 4.714285714285714, \"Adventure\": 0.28, \"Animation\": 0.0, \"Children\": 0.01, \"Comedy\": 0.04, \"Fantasy\": 0.06, \"Romance\": 0.07, \"Drama\": 0.5, \"Action\": 0.43, \"Crime\": 0.3, \"Thriller\": 0.41, \"Horror\": 0.16, \"Mystery\": 0.17, \"Sci-Fi\": 0.22, \"IMAX\": 0.11, \"Documentary\": 0.01, \"War\": 0.13, \"Musical\": 0.01, \"Western\": 0.02, \"Film-Noir\": 0.06, \"(no genres listed)\": 0.0}, \"70691\": {\"rating_real\": NaN, \"Adventure\": 0.14, \"Animation\": 0.17, \"Children\": 0.19, \"Comedy\": 0.5, \"Fantasy\": 0.18, \"Romance\": 0.27, \"Drama\": 0.54, \"Action\": 0.03, \"Crime\": 0.05, \"Thriller\": 0.02, \"Horror\": 0.01, \"Mystery\": 0.05, \"Sci-Fi\": 0.07, \"IMAX\": 0.02, \"Documentary\": 0.05, \"War\": 0.02, \"Musical\": 0.15, \"Western\": 0.0, \"Film-Noir\": 0.0, \"(no genres listed)\": 0.0}, \"74069\": {\"rating_real\": 5.0, \"Adventure\": 0.03, \"Animation\": 0.0, \"Children\": 0.0, \"Comedy\": 0.29, \"Fantasy\": 0.02, \"Romance\": 0.31, \"Drama\": 0.81, \"Action\": 0.01, \"Crime\": 0.19, \"Thriller\": 0.18, \"Horror\": 0.0, \"Mystery\": 0.06, \"Sci-Fi\": 0.01, \"IMAX\": 0.0, \"Documentary\": 0.0, \"War\": 0.03, \"Musical\": 0.0, \"Western\": 0.01, \"Film-Noir\": 0.0, \"(no genres listed)\": 0.0}, \"83325\": {\"rating_real\": 4.666666666666667, \"Adventure\": 0.29, \"Animation\": 0.12, \"Children\": 0.15, \"Comedy\": 0.57, \"Fantasy\": 0.14, \"Romance\": 0.14, \"Drama\": 0.23, \"Action\": 0.27, \"Crime\": 0.1, \"Thriller\": 0.16, \"Horror\": 0.04, \"Mystery\": 0.04, \"Sci-Fi\": 0.18, \"IMAX\": 0.02, \"Documentary\": 0.01, \"War\": 0.1, \"Musical\": 0.07, \"Western\": 0.02, \"Film-Noir\": 0.02, \"(no genres listed)\": 0.0}, \"100206\": {\"rating_real\": 4.714285714285714, \"Adventure\": 0.38, \"Animation\": 0.1, \"Children\": 0.1, \"Comedy\": 0.11, \"Fantasy\": 0.26, \"Romance\": 0.2, \"Drama\": 0.51, \"Action\": 0.37, \"Crime\": 0.15, \"Thriller\": 0.34, \"Horror\": 0.09, \"Mystery\": 0.15, \"Sci-Fi\": 0.27, \"IMAX\": 0.21, \"Documentary\": 0.0, \"War\": 0.07, \"Musical\": 0.03, \"Western\": 0.02, \"Film-Noir\": 0.01, \"(no genres listed)\": 0.0}, \"110161\": {\"rating_real\": 4.0, \"Adventure\": 0.16, \"Animation\": 0.0, \"Children\": 0.0, \"Comedy\": 0.14, \"Fantasy\": 0.05, \"Romance\": 0.1, \"Drama\": 0.68, \"Action\": 0.38, \"Crime\": 0.38, \"Thriller\": 0.43, \"Horror\": 0.03, \"Mystery\": 0.18, \"Sci-Fi\": 0.1, \"IMAX\": 0.09, \"Documentary\": 0.01, \"War\": 0.1, \"Musical\": 0.01, \"Western\": 0.02, \"Film-Noir\": 0.01, \"(no genres listed)\": 0.0}, \"122780\": {\"rating_real\": 4.642857142857143, \"Adventure\": 0.07, \"Animation\": 0.06, \"Children\": 0.1, \"Comedy\": 0.24, \"Fantasy\": 0.08, \"Romance\": 0.25, \"Drama\": 0.83, \"Action\": 0.02, \"Crime\": 0.09, \"Thriller\": 0.05, \"Horror\": 0.01, \"Mystery\": 0.05, \"Sci-Fi\": 0.03, \"IMAX\": 0.01, \"Documentary\": 0.05, \"War\": 0.05, \"Musical\": 0.07, \"Western\": 0.0, \"Film-Noir\": 0.0, \"(no genres listed)\": 0.0}}]'"
     },
     "execution_count": 156,
     "metadata": {},
     "output_type": "execute_result"
    }
   ],
   "source": [
    "import json\n",
    "json.dumps(saturation_list)"
   ],
   "metadata": {
    "collapsed": false,
    "pycharm": {
     "name": "#%%\n"
    }
   }
  },
  {
   "cell_type": "code",
   "execution_count": null,
   "outputs": [],
   "source": [],
   "metadata": {
    "collapsed": false,
    "pycharm": {
     "name": "#%%\n"
    }
   }
  }
 ],
 "metadata": {
  "kernelspec": {
   "display_name": "Python 3",
   "language": "python",
   "name": "python3"
  },
  "language_info": {
   "codemirror_mode": {
    "name": "ipython",
    "version": 2
   },
   "file_extension": ".py",
   "mimetype": "text/x-python",
   "name": "python",
   "nbconvert_exporter": "python",
   "pygments_lexer": "ipython2",
   "version": "2.7.6"
  }
 },
 "nbformat": 4,
 "nbformat_minor": 0
}