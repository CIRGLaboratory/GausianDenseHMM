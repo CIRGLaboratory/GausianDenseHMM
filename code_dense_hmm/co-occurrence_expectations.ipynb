{
 "cells": [
  {
   "cell_type": "markdown",
   "source": [
    "# Intro\n",
    "\n",
    "The goal of the below work is to study what results can be obtained using the co-occurrence learning method for several  data and model sizes."
   ],
   "metadata": {
    "collapsed": false,
    "pycharm": {
     "name": "#%% md\n"
    }
   }
  },
  {
   "cell_type": "code",
   "execution_count": 1,
   "metadata": {
    "collapsed": true,
    "pycharm": {
     "name": "#%%\n"
    }
   },
   "outputs": [],
   "source": [
    "import json\n",
    "import pandas as pd\n",
    "import numpy as np\n",
    "\n",
    "from eval_utils import *"
   ]
  },
  {
   "cell_type": "code",
   "execution_count": 7,
   "outputs": [],
   "source": [
    "data_sizes = [  # (s, T, n)\n",
    "    (100, 2000, 3),\n",
    "    (100, 2000, 5),\n",
    "    (100, 2000, 10)\n",
    "    # (100, 40, 4),\n",
    "    # (100, 400, 4),\n",
    "    # (100, 4000, 4),\n",
    "    # (100, 40, 8),\n",
    "    # (100, 400, 8),\n",
    "    # (100, 1000, 8),\n",
    "    # (100, 4000, 8),\n",
    "    # (100, 40, 12),\n",
    "    # (100, 400, 12),\n",
    "    # (100, 4000, 12),\n",
    "    # (100, 40, 20),\n",
    "    # (100, 400, 20),\n",
    "    # (100, 4000, 20),\n",
    "    # (100, 40, 50),\n",
    "    # (100, 400, 50),\n",
    "    # (100, 4000, 50),\n",
    "    # (100, 40000, 50),\n",
    "    # (100, 40, 100),\n",
    "    # (100, 400, 100),\n",
    "    # (100, 4000, 100),\n",
    "    # (100, 40000, 100),\n",
    "    # (1000, 10000, 100)\n",
    "]"
   ],
   "metadata": {
    "collapsed": false,
    "pycharm": {
     "name": "#%%\n"
    }
   }
  },
  {
   "cell_type": "code",
   "execution_count": 3,
   "outputs": [],
   "source": [
    "def calculate_metrics(dsize):\n",
    "    np.random.seed(2022)\n",
    "\n",
    "    s, T, n, pi, A, mu, sigma, _, _, _, X_true, Y_true, lengths, _, _ = init_experiment(dsize=dsize, simple_model=True)\n",
    "    nodes_tmp = mu.reshape(-1)\n",
    "    nodes = np.concatenate([(nodes_tmp[1:] + nodes_tmp[:-1]) / 2, np.array([np.infty])])\n",
    "    Y_disc =  (Y_true > nodes.reshape(1, -1)).sum(axis=-1).reshape(-1, 1)\n",
    "    omega_emp = empirical_cooc_prob(Y_disc, n, lengths)\n",
    "    omega_gt = normal_cooc_prob(mu, sigma, nodes, A)\n",
    "    metrics = dict(\n",
    "        s = s,\n",
    "        T = T,\n",
    "        n = n,\n",
    "        loss = np.square((omega_emp - omega_gt)).sum(),\n",
    "        dtv = dtv(omega_emp, omega_gt),\n",
    "        MAPE = abs((omega_gt - omega_emp) / omega_gt).mean(),\n",
    "        MAE = abs(omega_emp - omega_gt).mean()\n",
    "    )\n",
    "    return metrics\n",
    "\n",
    "def estimate_metrics(dsize):\n",
    "    res_tmp = pd.DataFrame([calculate_metrics(dsize) for i in range(100)])\n",
    "    return res_tmp.mean(axis=0), res_tmp.std(axis=0)"
   ],
   "metadata": {
    "collapsed": false,
    "pycharm": {
     "name": "#%%\n"
    }
   }
  },
  {
   "cell_type": "code",
   "execution_count": 4,
   "outputs": [],
   "source": [
    "def present_result(dsize):\n",
    "    result = estimate_metrics(dsize)\n",
    "    represent = dict(\n",
    "        s = int(result[0][\"s\"]),\n",
    "        T = int(result[0][\"T\"]),\n",
    "        n = int(result[0][\"n\"]),\n",
    "        loss = f'{round(result[0][\"loss\"], 5)} +/- {round(result[1][\"loss\"], 5)}',\n",
    "        dtv = f'{round(result[0][\"dtv\"], 3)} +/- {round(result[1][\"dtv\"], 3)}',\n",
    "        MAPE = f'{round(result[0][\"MAPE\"] * 100, 1)} +/- {round(result[1][\"MAPE\"] * 100, 1)}',\n",
    "        MAE = f'{round(result[0][\"MAE\"], 3)} +/- {round(result[1][\"MAE\"], 3)}',\n",
    "    )\n",
    "    print(pd.DataFrame([represent]).style.to_latex())\n",
    "    return represent, result"
   ],
   "metadata": {
    "collapsed": false,
    "pycharm": {
     "name": "#%%\n"
    }
   }
  },
  {
   "cell_type": "code",
   "execution_count": 5,
   "outputs": [],
   "source": [
    "def present_all_results(data_sizes):\n",
    "    all_results = [present_result(dsize) for dsize in data_sizes]\n",
    "    display(pd.DataFrame([r[0] for r in all_results]))\n",
    "    return all_results"
   ],
   "metadata": {
    "collapsed": false,
    "pycharm": {
     "name": "#%%\n"
    }
   }
  },
  {
   "cell_type": "code",
   "execution_count": 8,
   "outputs": [
    {
     "name": "stdout",
     "output_type": "stream",
     "text": [
      "\\begin{tabular}{lrrrllll}\n",
      " & s & T & n & loss & dtv & MAPE & MAE \\\\\n",
      "0 & 100 & 2000 & 3 & 0.0 +/- 0.0 & 0.001 +/- 0.0 & 0.8 +/- 0.0 & 0.0 +/- 0.0 \\\\\n",
      "\\end{tabular}\n",
      "\n",
      "\\begin{tabular}{lrrrllll}\n",
      " & s & T & n & loss & dtv & MAPE & MAE \\\\\n",
      "0 & 100 & 2000 & 5 & 0.0 +/- 0.0 & 0.001 +/- 0.0 & 1.5 +/- 0.0 & 0.0 +/- 0.0 \\\\\n",
      "\\end{tabular}\n",
      "\n",
      "\\begin{tabular}{lrrrllll}\n",
      " & s & T & n & loss & dtv & MAPE & MAE \\\\\n",
      "0 & 100 & 2000 & 10 & 0.0 +/- 0.0 & 0.001 +/- 0.0 & 4.8 +/- 0.0 & 0.0 +/- 0.0 \\\\\n",
      "\\end{tabular}\n",
      "\n"
     ]
    },
    {
     "data": {
      "text/plain": "     s     T   n         loss            dtv         MAPE          MAE\n0  100  2000   3  0.0 +/- 0.0  0.001 +/- 0.0  0.8 +/- 0.0  0.0 +/- 0.0\n1  100  2000   5  0.0 +/- 0.0  0.001 +/- 0.0  1.5 +/- 0.0  0.0 +/- 0.0\n2  100  2000  10  0.0 +/- 0.0  0.001 +/- 0.0  4.8 +/- 0.0  0.0 +/- 0.0",
      "text/html": "<div>\n<style scoped>\n    .dataframe tbody tr th:only-of-type {\n        vertical-align: middle;\n    }\n\n    .dataframe tbody tr th {\n        vertical-align: top;\n    }\n\n    .dataframe thead th {\n        text-align: right;\n    }\n</style>\n<table border=\"1\" class=\"dataframe\">\n  <thead>\n    <tr style=\"text-align: right;\">\n      <th></th>\n      <th>s</th>\n      <th>T</th>\n      <th>n</th>\n      <th>loss</th>\n      <th>dtv</th>\n      <th>MAPE</th>\n      <th>MAE</th>\n    </tr>\n  </thead>\n  <tbody>\n    <tr>\n      <th>0</th>\n      <td>100</td>\n      <td>2000</td>\n      <td>3</td>\n      <td>0.0 +/- 0.0</td>\n      <td>0.001 +/- 0.0</td>\n      <td>0.8 +/- 0.0</td>\n      <td>0.0 +/- 0.0</td>\n    </tr>\n    <tr>\n      <th>1</th>\n      <td>100</td>\n      <td>2000</td>\n      <td>5</td>\n      <td>0.0 +/- 0.0</td>\n      <td>0.001 +/- 0.0</td>\n      <td>1.5 +/- 0.0</td>\n      <td>0.0 +/- 0.0</td>\n    </tr>\n    <tr>\n      <th>2</th>\n      <td>100</td>\n      <td>2000</td>\n      <td>10</td>\n      <td>0.0 +/- 0.0</td>\n      <td>0.001 +/- 0.0</td>\n      <td>4.8 +/- 0.0</td>\n      <td>0.0 +/- 0.0</td>\n    </tr>\n  </tbody>\n</table>\n</div>"
     },
     "metadata": {},
     "output_type": "display_data"
    }
   ],
   "source": [
    "all_results = present_all_results(data_sizes)"
   ],
   "metadata": {
    "collapsed": false,
    "pycharm": {
     "name": "#%%\n"
    }
   }
  },
  {
   "cell_type": "code",
   "execution_count": 6,
   "outputs": [
    {
     "name": "stdout",
     "output_type": "stream",
     "text": [
      "\\begin{tabular}{lrrrllll}\n",
      " & s & T & n & loss & dtv & MAPE & MAE \\\\\n",
      "0 & 100 & 200 & 3 & 0.0 +/- 0.0 & 0.005 +/- 0.0 & 3.4 +/- 0.0 & 0.003 +/- 0.0 \\\\\n",
      "\\end{tabular}\n",
      "\n",
      "\\begin{tabular}{lrrrllll}\n",
      " & s & T & n & loss & dtv & MAPE & MAE \\\\\n",
      "0 & 100 & 200 & 5 & 0.0 +/- 0.0 & 0.003 +/- 0.0 & 6.0 +/- 0.0 & 0.001 +/- 0.0 \\\\\n",
      "\\end{tabular}\n",
      "\n",
      "\\begin{tabular}{lrrrllll}\n",
      " & s & T & n & loss & dtv & MAPE & MAE \\\\\n",
      "0 & 100 & 200 & 10 & 0.0 +/- 0.0 & 0.002 +/- 0.0 & 14.6 +/- 0.0 & 0.0 +/- 0.0 \\\\\n",
      "\\end{tabular}\n",
      "\n"
     ]
    },
    {
     "data": {
      "text/plain": "     s    T   n         loss            dtv          MAPE            MAE\n0  100  200   3  0.0 +/- 0.0  0.005 +/- 0.0   3.4 +/- 0.0  0.003 +/- 0.0\n1  100  200   5  0.0 +/- 0.0  0.003 +/- 0.0   6.0 +/- 0.0  0.001 +/- 0.0\n2  100  200  10  0.0 +/- 0.0  0.002 +/- 0.0  14.6 +/- 0.0    0.0 +/- 0.0",
      "text/html": "<div>\n<style scoped>\n    .dataframe tbody tr th:only-of-type {\n        vertical-align: middle;\n    }\n\n    .dataframe tbody tr th {\n        vertical-align: top;\n    }\n\n    .dataframe thead th {\n        text-align: right;\n    }\n</style>\n<table border=\"1\" class=\"dataframe\">\n  <thead>\n    <tr style=\"text-align: right;\">\n      <th></th>\n      <th>s</th>\n      <th>T</th>\n      <th>n</th>\n      <th>loss</th>\n      <th>dtv</th>\n      <th>MAPE</th>\n      <th>MAE</th>\n    </tr>\n  </thead>\n  <tbody>\n    <tr>\n      <th>0</th>\n      <td>100</td>\n      <td>200</td>\n      <td>3</td>\n      <td>0.0 +/- 0.0</td>\n      <td>0.005 +/- 0.0</td>\n      <td>3.4 +/- 0.0</td>\n      <td>0.003 +/- 0.0</td>\n    </tr>\n    <tr>\n      <th>1</th>\n      <td>100</td>\n      <td>200</td>\n      <td>5</td>\n      <td>0.0 +/- 0.0</td>\n      <td>0.003 +/- 0.0</td>\n      <td>6.0 +/- 0.0</td>\n      <td>0.001 +/- 0.0</td>\n    </tr>\n    <tr>\n      <th>2</th>\n      <td>100</td>\n      <td>200</td>\n      <td>10</td>\n      <td>0.0 +/- 0.0</td>\n      <td>0.002 +/- 0.0</td>\n      <td>14.6 +/- 0.0</td>\n      <td>0.0 +/- 0.0</td>\n    </tr>\n  </tbody>\n</table>\n</div>"
     },
     "metadata": {},
     "output_type": "display_data"
    }
   ],
   "source": [
    "all_results = present_all_results(data_sizes)"
   ],
   "metadata": {
    "collapsed": false,
    "pycharm": {
     "name": "#%%\n"
    }
   }
  },
  {
   "cell_type": "code",
   "execution_count": 12,
   "outputs": [
    {
     "name": "stdout",
     "output_type": "stream",
     "text": [
      "\\begin{tabular}{lrrrllll}\n",
      " & s & T & n & loss & dtv & MAPE & MAE \\\\\n",
      "0 & 100 & 200 & 3 & 0.0 +/- 0.0 & 0.002 +/- 0.001 & 3.4 +/- 2.2 & 0.002 +/- 0.001 \\\\\n",
      "\\end{tabular}\n",
      "\n",
      "\\begin{tabular}{lrrrllll}\n",
      " & s & T & n & loss & dtv & MAPE & MAE \\\\\n",
      "0 & 100 & 200 & 5 & 0.0 +/- 0.0 & 0.002 +/- 0.001 & 5.9 +/- 1.5 & 0.001 +/- 0.0 \\\\\n",
      "\\end{tabular}\n",
      "\n",
      "\\begin{tabular}{lrrrllll}\n",
      " & s & T & n & loss & dtv & MAPE & MAE \\\\\n",
      "0 & 100 & 200 & 10 & 0.0 +/- 0.0 & 0.002 +/- 0.0 & 11.3 +/- 1.3 & 0.0 +/- 0.0 \\\\\n",
      "\\end{tabular}\n",
      "\n"
     ]
    },
    {
     "data": {
      "text/plain": "     s    T   n         loss              dtv          MAPE              MAE\n0  100  200   3  0.0 +/- 0.0  0.002 +/- 0.001   3.4 +/- 2.2  0.002 +/- 0.001\n1  100  200   5  0.0 +/- 0.0  0.002 +/- 0.001   5.9 +/- 1.5    0.001 +/- 0.0\n2  100  200  10  0.0 +/- 0.0    0.002 +/- 0.0  11.3 +/- 1.3      0.0 +/- 0.0",
      "text/html": "<div>\n<style scoped>\n    .dataframe tbody tr th:only-of-type {\n        vertical-align: middle;\n    }\n\n    .dataframe tbody tr th {\n        vertical-align: top;\n    }\n\n    .dataframe thead th {\n        text-align: right;\n    }\n</style>\n<table border=\"1\" class=\"dataframe\">\n  <thead>\n    <tr style=\"text-align: right;\">\n      <th></th>\n      <th>s</th>\n      <th>T</th>\n      <th>n</th>\n      <th>loss</th>\n      <th>dtv</th>\n      <th>MAPE</th>\n      <th>MAE</th>\n    </tr>\n  </thead>\n  <tbody>\n    <tr>\n      <th>0</th>\n      <td>100</td>\n      <td>200</td>\n      <td>3</td>\n      <td>0.0 +/- 0.0</td>\n      <td>0.002 +/- 0.001</td>\n      <td>3.4 +/- 2.2</td>\n      <td>0.002 +/- 0.001</td>\n    </tr>\n    <tr>\n      <th>1</th>\n      <td>100</td>\n      <td>200</td>\n      <td>5</td>\n      <td>0.0 +/- 0.0</td>\n      <td>0.002 +/- 0.001</td>\n      <td>5.9 +/- 1.5</td>\n      <td>0.001 +/- 0.0</td>\n    </tr>\n    <tr>\n      <th>2</th>\n      <td>100</td>\n      <td>200</td>\n      <td>10</td>\n      <td>0.0 +/- 0.0</td>\n      <td>0.002 +/- 0.0</td>\n      <td>11.3 +/- 1.3</td>\n      <td>0.0 +/- 0.0</td>\n    </tr>\n  </tbody>\n</table>\n</div>"
     },
     "metadata": {},
     "output_type": "display_data"
    }
   ],
   "source": [
    "all_results = present_all_results(data_sizes)"
   ],
   "metadata": {
    "collapsed": false,
    "pycharm": {
     "name": "#%%\n"
    }
   }
  },
  {
   "cell_type": "code",
   "execution_count": 6,
   "outputs": [
    {
     "name": "stdout",
     "output_type": "stream",
     "text": [
      "\\begin{tabular}{lrrrllll}\n",
      " & s & T & n & loss & dtv & MAPE & MAE \\\\\n",
      "0 & 10 & 200 & 3 & 0.001 +/- 0.001 & 0.008 +/- 0.004 & 10.4 +/- 4.9 & 0.005 +/- 0.002 \\\\\n",
      "\\end{tabular}\n",
      "\n",
      "\\begin{tabular}{lrrrllll}\n",
      " & s & T & n & loss & dtv & MAPE & MAE \\\\\n",
      "0 & 10 & 200 & 5 & 0.001 +/- 0.0 & 0.007 +/- 0.002 & 17.8 +/- 4.6 & 0.003 +/- 0.001 \\\\\n",
      "\\end{tabular}\n",
      "\n",
      "\\begin{tabular}{lrrrllll}\n",
      " & s & T & n & loss & dtv & MAPE & MAE \\\\\n",
      "0 & 10 & 200 & 10 & 0.001 +/- 0.0 & 0.007 +/- 0.001 & 36.9 +/- 4.2 & 0.001 +/- 0.0 \\\\\n",
      "\\end{tabular}\n",
      "\n"
     ]
    },
    {
     "data": {
      "text/plain": "    s    T   n             loss              dtv          MAPE  \\\n0  10  200   3  0.001 +/- 0.001  0.008 +/- 0.004  10.4 +/- 4.9   \n1  10  200   5    0.001 +/- 0.0  0.007 +/- 0.002  17.8 +/- 4.6   \n2  10  200  10    0.001 +/- 0.0  0.007 +/- 0.001  36.9 +/- 4.2   \n\n               MAE  \n0  0.005 +/- 0.002  \n1  0.003 +/- 0.001  \n2    0.001 +/- 0.0  ",
      "text/html": "<div>\n<style scoped>\n    .dataframe tbody tr th:only-of-type {\n        vertical-align: middle;\n    }\n\n    .dataframe tbody tr th {\n        vertical-align: top;\n    }\n\n    .dataframe thead th {\n        text-align: right;\n    }\n</style>\n<table border=\"1\" class=\"dataframe\">\n  <thead>\n    <tr style=\"text-align: right;\">\n      <th></th>\n      <th>s</th>\n      <th>T</th>\n      <th>n</th>\n      <th>loss</th>\n      <th>dtv</th>\n      <th>MAPE</th>\n      <th>MAE</th>\n    </tr>\n  </thead>\n  <tbody>\n    <tr>\n      <th>0</th>\n      <td>10</td>\n      <td>200</td>\n      <td>3</td>\n      <td>0.001 +/- 0.001</td>\n      <td>0.008 +/- 0.004</td>\n      <td>10.4 +/- 4.9</td>\n      <td>0.005 +/- 0.002</td>\n    </tr>\n    <tr>\n      <th>1</th>\n      <td>10</td>\n      <td>200</td>\n      <td>5</td>\n      <td>0.001 +/- 0.0</td>\n      <td>0.007 +/- 0.002</td>\n      <td>17.8 +/- 4.6</td>\n      <td>0.003 +/- 0.001</td>\n    </tr>\n    <tr>\n      <th>2</th>\n      <td>10</td>\n      <td>200</td>\n      <td>10</td>\n      <td>0.001 +/- 0.0</td>\n      <td>0.007 +/- 0.001</td>\n      <td>36.9 +/- 4.2</td>\n      <td>0.001 +/- 0.0</td>\n    </tr>\n  </tbody>\n</table>\n</div>"
     },
     "metadata": {},
     "output_type": "display_data"
    }
   ],
   "source": [
    "all_results = present_all_results(data_sizes)"
   ],
   "metadata": {
    "collapsed": false,
    "pycharm": {
     "name": "#%%\n"
    }
   }
  },
  {
   "cell_type": "code",
   "execution_count": 7,
   "outputs": [],
   "source": [
    "with open(\"co-occurrence_expectations.txt\", \"w\") as f:\n",
    "    f.write(pd.DataFrame([r[0] for r in all_results]).style.to_latex())"
   ],
   "metadata": {
    "collapsed": false,
    "pycharm": {
     "name": "#%%\n"
    }
   }
  }
 ],
 "metadata": {
  "kernelspec": {
   "display_name": "Python 3",
   "language": "python",
   "name": "python3"
  },
  "language_info": {
   "codemirror_mode": {
    "name": "ipython",
    "version": 2
   },
   "file_extension": ".py",
   "mimetype": "text/x-python",
   "name": "python",
   "nbconvert_exporter": "python",
   "pygments_lexer": "ipython2",
   "version": "2.7.6"
  }
 },
 "nbformat": 4,
 "nbformat_minor": 0
}