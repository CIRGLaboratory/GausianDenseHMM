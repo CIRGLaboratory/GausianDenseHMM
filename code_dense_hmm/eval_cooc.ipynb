{
 "cells": [
  {
   "cell_type": "code",
   "execution_count": 75,
   "metadata": {
    "collapsed": true,
    "pycharm": {
     "name": "#%%\n"
    }
   },
   "outputs": [],
   "source": [
    "import json\n",
    "import  pickle\n",
    "import joblib\n",
    "import optuna\n",
    "import os\n",
    "import time\n",
    "import matplotlib.pyplot as plt\n",
    "import pandas as pd\n",
    "import seaborn as sns\n",
    "import numpy  as np\n",
    "import pandas as pd\n",
    "import tqdm\n",
    "import time\n",
    "\n",
    "from sklearn.cluster import KMeans\n",
    "from eval_utils import *\n",
    "from models_gaussian import GaussianDenseHMM, HMMLoggingMonitor, DenseHMMLoggingMonitor\n",
    "from models_gaussian_A import GaussianDenseHMM as CoocHMM\n",
    "from hmmlearn import hmm\n"
   ]
  },
  {
   "cell_type": "code",
   "execution_count": 76,
   "outputs": [],
   "source": [
    "t = time.localtime()\n",
    "RESULT_DIR = f'gaussian_dense_hmm_benchmark/eval-cooc-{t.tm_year}-{t.tm_mon}-{t.tm_mday}'"
   ],
   "metadata": {
    "collapsed": false,
    "pycharm": {
     "name": "#%%\n"
    }
   }
  },
  {
   "cell_type": "markdown",
   "source": [
    "We have examined the efficiency of co-occurence based learning methods for Gaussian HMM. This notebook contains a comparison of:\n",
    "\n",
    "- standard Gaussian Hidden Markov Model implementation,\n",
    "- co-occurrence based larning for Gaussian Hidden Markov Model,\n",
    "- EM learning for GaussianDenseHHMM,\n",
    "- co-occurrence based learning for GaussianDenseHMM.\n",
    "\n",
    "The dense representation was examined with fixed and tuned embedding length."
   ],
   "metadata": {
    "collapsed": false,
    "pycharm": {
     "name": "#%% md\n"
    }
   }
  },
  {
   "cell_type": "code",
   "execution_count": 77,
   "outputs": [],
   "source": [
    "n = 8\n",
    "s = 100\n",
    "T = 1000\n",
    "simple_model = True"
   ],
   "metadata": {
    "collapsed": false,
    "pycharm": {
     "name": "#%%\n"
    }
   }
  },
  {
   "cell_type": "code",
   "execution_count": 78,
   "outputs": [],
   "source": [
    "l_fixed = True\n",
    "\n",
    "RESULT_DIR = f'gaussian_dense_hmm_benchmark/eval-cooc-{t.tm_year}-{t.tm_mon}-{17}'\n",
    "with open(f\"{RESULT_DIR}/optuna_cooc_s{s}_T{T}_n{n}_simple_model{simple_model}_l{l_fixed}.pkl\", \"rb\") as f:\n",
    "    study = joblib.load(f)"
   ],
   "metadata": {
    "collapsed": false,
    "pycharm": {
     "name": "#%%\n"
    }
   }
  },
  {
   "cell_type": "code",
   "execution_count": 79,
   "outputs": [
    {
     "data": {
      "text/plain": "    cooc_lr_param  cooc_epochs_param          mean           std\n0        0.007055              95252 -1.029042e+08  4.989413e+07\n1        0.000372              22013 -1.258788e+08  8.937642e+07\n2        0.016005              14357 -6.724162e+07  1.405187e+07\n3        0.315334              94224 -8.523348e+07  6.216957e+07\n4        0.054786              15321 -8.100231e+07  1.229705e+07\n5        0.001338              61685 -1.059174e+08  5.560698e+07\n6        0.000292              54599 -6.600827e+07  9.538663e+06\n7        0.070272              71114 -7.066690e+07  3.602548e+07\n8        0.312263              43095 -7.776879e+07  1.773118e+07\n9        0.000237              26975 -8.915181e+07  4.766469e+07\n10       0.001001              39586 -7.212859e+07  2.600582e+07\n11       0.446506              99209 -1.182312e+08  7.659809e+07\n12       0.000111              50020 -7.327907e+07  1.724211e+07\n13       0.000775              73176 -9.530288e+07  2.544203e+07\n14       0.070398              91875 -1.056092e+08  5.346814e+07\n15       0.000594              71827 -8.024238e+07  2.248703e+07\n16       0.000192              17909 -7.972843e+07  3.615685e+07\n17       0.002948              38099 -8.165278e+07  4.503880e+07\n18       0.201781              50368 -2.739705e+08  5.020861e+08\n19       0.002612              31394 -9.500772e+07  3.092008e+07\n20       0.013903              36177 -7.955373e+07  5.931536e+07\n21       0.037838              96577 -8.763162e+07  1.914613e+07\n22       0.419299              29103 -1.902856e+08  3.039974e+08\n23       0.006044              68533 -8.209136e+07  3.512586e+07\n24       0.000963              89393 -9.296827e+07  3.328557e+07\n25       0.074828              53265 -6.755254e+07  3.986388e+07\n26       0.024116              93694 -9.855420e+07  3.681705e+07\n27       0.001513              37451 -9.688019e+07  6.498089e+07\n28       0.060725              94151 -5.013962e+07  3.025958e+07\n29       0.004612              50432 -9.595474e+07  4.684733e+07\n30       0.012826              94882 -8.017866e+07  2.309183e+07\n31       0.000971              14429 -7.977648e+07  4.249492e+07",
      "text/html": "<div>\n<style scoped>\n    .dataframe tbody tr th:only-of-type {\n        vertical-align: middle;\n    }\n\n    .dataframe tbody tr th {\n        vertical-align: top;\n    }\n\n    .dataframe thead th {\n        text-align: right;\n    }\n</style>\n<table border=\"1\" class=\"dataframe\">\n  <thead>\n    <tr style=\"text-align: right;\">\n      <th></th>\n      <th>cooc_lr_param</th>\n      <th>cooc_epochs_param</th>\n      <th>mean</th>\n      <th>std</th>\n    </tr>\n  </thead>\n  <tbody>\n    <tr>\n      <th>0</th>\n      <td>0.007055</td>\n      <td>95252</td>\n      <td>-1.029042e+08</td>\n      <td>4.989413e+07</td>\n    </tr>\n    <tr>\n      <th>1</th>\n      <td>0.000372</td>\n      <td>22013</td>\n      <td>-1.258788e+08</td>\n      <td>8.937642e+07</td>\n    </tr>\n    <tr>\n      <th>2</th>\n      <td>0.016005</td>\n      <td>14357</td>\n      <td>-6.724162e+07</td>\n      <td>1.405187e+07</td>\n    </tr>\n    <tr>\n      <th>3</th>\n      <td>0.315334</td>\n      <td>94224</td>\n      <td>-8.523348e+07</td>\n      <td>6.216957e+07</td>\n    </tr>\n    <tr>\n      <th>4</th>\n      <td>0.054786</td>\n      <td>15321</td>\n      <td>-8.100231e+07</td>\n      <td>1.229705e+07</td>\n    </tr>\n    <tr>\n      <th>5</th>\n      <td>0.001338</td>\n      <td>61685</td>\n      <td>-1.059174e+08</td>\n      <td>5.560698e+07</td>\n    </tr>\n    <tr>\n      <th>6</th>\n      <td>0.000292</td>\n      <td>54599</td>\n      <td>-6.600827e+07</td>\n      <td>9.538663e+06</td>\n    </tr>\n    <tr>\n      <th>7</th>\n      <td>0.070272</td>\n      <td>71114</td>\n      <td>-7.066690e+07</td>\n      <td>3.602548e+07</td>\n    </tr>\n    <tr>\n      <th>8</th>\n      <td>0.312263</td>\n      <td>43095</td>\n      <td>-7.776879e+07</td>\n      <td>1.773118e+07</td>\n    </tr>\n    <tr>\n      <th>9</th>\n      <td>0.000237</td>\n      <td>26975</td>\n      <td>-8.915181e+07</td>\n      <td>4.766469e+07</td>\n    </tr>\n    <tr>\n      <th>10</th>\n      <td>0.001001</td>\n      <td>39586</td>\n      <td>-7.212859e+07</td>\n      <td>2.600582e+07</td>\n    </tr>\n    <tr>\n      <th>11</th>\n      <td>0.446506</td>\n      <td>99209</td>\n      <td>-1.182312e+08</td>\n      <td>7.659809e+07</td>\n    </tr>\n    <tr>\n      <th>12</th>\n      <td>0.000111</td>\n      <td>50020</td>\n      <td>-7.327907e+07</td>\n      <td>1.724211e+07</td>\n    </tr>\n    <tr>\n      <th>13</th>\n      <td>0.000775</td>\n      <td>73176</td>\n      <td>-9.530288e+07</td>\n      <td>2.544203e+07</td>\n    </tr>\n    <tr>\n      <th>14</th>\n      <td>0.070398</td>\n      <td>91875</td>\n      <td>-1.056092e+08</td>\n      <td>5.346814e+07</td>\n    </tr>\n    <tr>\n      <th>15</th>\n      <td>0.000594</td>\n      <td>71827</td>\n      <td>-8.024238e+07</td>\n      <td>2.248703e+07</td>\n    </tr>\n    <tr>\n      <th>16</th>\n      <td>0.000192</td>\n      <td>17909</td>\n      <td>-7.972843e+07</td>\n      <td>3.615685e+07</td>\n    </tr>\n    <tr>\n      <th>17</th>\n      <td>0.002948</td>\n      <td>38099</td>\n      <td>-8.165278e+07</td>\n      <td>4.503880e+07</td>\n    </tr>\n    <tr>\n      <th>18</th>\n      <td>0.201781</td>\n      <td>50368</td>\n      <td>-2.739705e+08</td>\n      <td>5.020861e+08</td>\n    </tr>\n    <tr>\n      <th>19</th>\n      <td>0.002612</td>\n      <td>31394</td>\n      <td>-9.500772e+07</td>\n      <td>3.092008e+07</td>\n    </tr>\n    <tr>\n      <th>20</th>\n      <td>0.013903</td>\n      <td>36177</td>\n      <td>-7.955373e+07</td>\n      <td>5.931536e+07</td>\n    </tr>\n    <tr>\n      <th>21</th>\n      <td>0.037838</td>\n      <td>96577</td>\n      <td>-8.763162e+07</td>\n      <td>1.914613e+07</td>\n    </tr>\n    <tr>\n      <th>22</th>\n      <td>0.419299</td>\n      <td>29103</td>\n      <td>-1.902856e+08</td>\n      <td>3.039974e+08</td>\n    </tr>\n    <tr>\n      <th>23</th>\n      <td>0.006044</td>\n      <td>68533</td>\n      <td>-8.209136e+07</td>\n      <td>3.512586e+07</td>\n    </tr>\n    <tr>\n      <th>24</th>\n      <td>0.000963</td>\n      <td>89393</td>\n      <td>-9.296827e+07</td>\n      <td>3.328557e+07</td>\n    </tr>\n    <tr>\n      <th>25</th>\n      <td>0.074828</td>\n      <td>53265</td>\n      <td>-6.755254e+07</td>\n      <td>3.986388e+07</td>\n    </tr>\n    <tr>\n      <th>26</th>\n      <td>0.024116</td>\n      <td>93694</td>\n      <td>-9.855420e+07</td>\n      <td>3.681705e+07</td>\n    </tr>\n    <tr>\n      <th>27</th>\n      <td>0.001513</td>\n      <td>37451</td>\n      <td>-9.688019e+07</td>\n      <td>6.498089e+07</td>\n    </tr>\n    <tr>\n      <th>28</th>\n      <td>0.060725</td>\n      <td>94151</td>\n      <td>-5.013962e+07</td>\n      <td>3.025958e+07</td>\n    </tr>\n    <tr>\n      <th>29</th>\n      <td>0.004612</td>\n      <td>50432</td>\n      <td>-9.595474e+07</td>\n      <td>4.684733e+07</td>\n    </tr>\n    <tr>\n      <th>30</th>\n      <td>0.012826</td>\n      <td>94882</td>\n      <td>-8.017866e+07</td>\n      <td>2.309183e+07</td>\n    </tr>\n    <tr>\n      <th>31</th>\n      <td>0.000971</td>\n      <td>14429</td>\n      <td>-7.977648e+07</td>\n      <td>4.249492e+07</td>\n    </tr>\n  </tbody>\n</table>\n</div>"
     },
     "execution_count": 79,
     "metadata": {},
     "output_type": "execute_result"
    }
   ],
   "source": [
    "study_res = pd.DataFrame([{**t.params, \"mean\": t.values[0], \"std\": t.values[1]} for t in study.trials])\n",
    "study_res"
   ],
   "metadata": {
    "collapsed": false,
    "pycharm": {
     "name": "#%%\n"
    }
   }
  },
  {
   "cell_type": "code",
   "execution_count": 80,
   "outputs": [
    {
     "data": {
      "text/plain": "<AxesSubplot:xlabel='mean', ylabel='std'>"
     },
     "execution_count": 80,
     "metadata": {},
     "output_type": "execute_result"
    },
    {
     "data": {
      "text/plain": "<Figure size 432x288 with 1 Axes>",
      "image/png": "[encoded data removed]"
     },
     "metadata": {},
     "output_type": "display_data"
    }
   ],
   "source": [
    "sns.scatterplot(data=study_res, x=\"mean\", y=\"std\")"
   ],
   "metadata": {
    "collapsed": false,
    "pycharm": {
     "name": "#%%\n"
    }
   }
  },
  {
   "cell_type": "code",
   "execution_count": 81,
   "outputs": [
    {
     "data": {
      "text/plain": "{'cooc': {'cooc_lr_param': 0.054785912200337884,\n  'cooc_epochs_param': 15321,\n  'l_param': 3}}"
     },
     "execution_count": 81,
     "metadata": {},
     "output_type": "execute_result"
    }
   ],
   "source": [
    "best_params = dict()\n",
    "# best_params[\"cooc\"] = study_res.sort_values(\"mean\").iloc[-1, :2].to_dict()\n",
    "best_params[\"cooc\"] = study_res.sort_values(\"std\").iloc[1, :2].to_dict()\n",
    "best_params[\"cooc\"]['cooc_epochs_param'] = int(best_params[\"cooc\"]['cooc_epochs_param'])\n",
    "best_params[\"cooc\"]['l_param'] = int(np.ceil(n / 3))\n",
    "best_params"
   ],
   "metadata": {
    "collapsed": false,
    "pycharm": {
     "name": "#%%\n"
    }
   }
  },
  {
   "cell_type": "code",
   "execution_count": 82,
   "outputs": [],
   "source": [
    "best_result = {}\n",
    "s, T, n, pi, A, mu, sigma, result, true_values, wandb_params, X_true, Y_true, lengths, _, em_scheduler = init_experiment((s, T, n), simple_model)\n",
    "nodes = np.concatenate([np.array([-np.infty, Y_true.min()]),\n",
    "                        (mu[1:] + mu[:-1]) / 2,\n",
    "                        np.array([Y_true.max(), np.infty])])\n",
    "m = nodes.shape[0] - 1\n",
    "\n",
    "models = dict(cooc=CoocHMM, dense=GaussianDenseHMM, dense_em=GaussianDenseHMM)\n",
    "monitors = dict(cooc=DenseHMMLoggingMonitor, dense=DenseHMMLoggingMonitor, dense_em=DenseHMMLoggingMonitor)\n",
    "algs = dict(cooc=\"cooc\", dense=\"cooc\", dense_em=\"em\")\n",
    "\n",
    "## Tune hyper-parameters\n",
    "l = np.ceil(n / 3) if l_fixed else None"
   ],
   "metadata": {
    "collapsed": false,
    "pycharm": {
     "name": "#%%\n"
    }
   }
  },
  {
   "cell_type": "code",
   "execution_count": 83,
   "outputs": [],
   "source": [
    "lengths = np.array(lengths)"
   ],
   "metadata": {
    "collapsed": false,
    "pycharm": {
     "name": "#%%\n"
    }
   }
  },
  {
   "cell_type": "code",
   "execution_count": 84,
   "outputs": [],
   "source": [
    "def _lengths_iterator(seqs, lengths):\n",
    "    n_seqs = len(lengths)\n",
    "    left, right = 0, 0\n",
    "\n",
    "    for i in range(len(lengths)):\n",
    "        right += lengths[i]\n",
    "        yield seqs[left:right]\n",
    "        left += lengths[i]"
   ],
   "metadata": {
    "collapsed": false,
    "pycharm": {
     "name": "#%%\n"
    }
   }
  },
  {
   "cell_type": "code",
   "execution_count": 87,
   "outputs": [
    {
     "data": {
      "text/plain": "<IPython.core.display.HTML object>",
      "text/html": "Finishing last run (ID:3daxo97k) before initializing another..."
     },
     "metadata": {},
     "output_type": "display_data"
    },
    {
     "data": {
      "text/plain": "<IPython.core.display.HTML object>",
      "text/html": "Waiting for W&B process to finish... <strong style=\"color:green\">(success).</strong>"
     },
     "metadata": {},
     "output_type": "display_data"
    },
    {
     "data": {
      "text/plain": "VBox(children=(Label(value='0.052 MB of 0.052 MB uploaded (0.000 MB deduped)\\r'), FloatProgress(value=1.0, max…",
      "application/vnd.jupyter.widget-view+json": {
       "version_major": 2,
       "version_minor": 0,
       "model_id": "3b3257332ba747a0b607301b975e1f46"
      }
     },
     "metadata": {},
     "output_type": "display_data"
    },
    {
     "data": {
      "text/plain": "<IPython.core.display.HTML object>",
      "text/html": "<style>\n    table.wandb td:nth-child(1) { padding: 0 10px; text-align: left ; width: auto;} td:nth-child(2) {text-align: left ; width: 100%}\n    .wandb-row { display: flex; flex-direction: row; flex-wrap: wrap; justify-content: flex-start; width: 100% }\n    .wandb-col { display: flex; flex-direction: column; flex-basis: 100%; flex: 1; padding: 10px; }\n    </style>\n<div class=\"wandb-row\"><div class=\"wandb-col\"><h3>Run history:</h3><br/><table class=\"wandb\"><tr><td>accuracy</td><td>▁▁▁▁▁▁▁▁▁▁▁▁</td></tr><tr><td>covars_mae</td><td>▁▂▃▃▄▅▅▆▆▇▇█</td></tr><tr><td>means_mae</td><td>▁▂▃▃▄▅▅▆▆▇▇█</td></tr><tr><td>omage_dtv</td><td>█▅▃▂▂▂▂▁▁▁▁▁</td></tr><tr><td>startprob_dtv</td><td>█▅▄▃▂▂▂▁▁▁▁▁</td></tr><tr><td>time</td><td>▁▂▂▃▄▄▅▅▆▇▇█</td></tr><tr><td>total_log_prob</td><td>▁▁▂▂▃▃▄▅▆▆▇█</td></tr><tr><td>transmat_dtv</td><td>▁▁▃▄▅▅▆▇▇▇██</td></tr></table><br/></div><div class=\"wandb-col\"><h3>Run summary:</h3><br/><table class=\"wandb\"><tr><td>accuracy</td><td>0.17199</td></tr><tr><td>covars_mae</td><td>1.31385</td></tr><tr><td>means_mae</td><td>32.50394</td></tr><tr><td>omage_dtv</td><td>0.04136</td></tr><tr><td>startprob_dtv</td><td>0.02053</td></tr><tr><td>time</td><td>38.83184</td></tr><tr><td>total_log_prob</td><td>-133517544.47433</td></tr><tr><td>transmat_dtv</td><td>0.69212</td></tr></table><br/></div></div>"
     },
     "metadata": {},
     "output_type": "display_data"
    },
    {
     "data": {
      "text/plain": "<IPython.core.display.HTML object>",
      "text/html": "Synced <strong style=\"color:#cdcd00\">name-l=3-lr=0.054785912200337884-epochs=15321</strong>: <a href=\"https://wandb.ai/cirglaboratory/gaussian-dense-hmm/runs/3daxo97k\" target=\"_blank\">https://wandb.ai/cirglaboratory/gaussian-dense-hmm/runs/3daxo97k</a><br/>Synced 7 W&B file(s), 0 media file(s), 0 artifact file(s) and 0 other file(s)"
     },
     "metadata": {},
     "output_type": "display_data"
    },
    {
     "data": {
      "text/plain": "<IPython.core.display.HTML object>",
      "text/html": "Find logs at: <code>./wandb/run-20220818_111350-3daxo97k/logs</code>"
     },
     "metadata": {},
     "output_type": "display_data"
    },
    {
     "data": {
      "text/plain": "<IPython.core.display.HTML object>",
      "text/html": "Successfully finished last run (ID:3daxo97k). Initializing new run:<br/>"
     },
     "metadata": {},
     "output_type": "display_data"
    },
    {
     "data": {
      "text/plain": "<IPython.core.display.HTML object>",
      "text/html": "wandb version 0.13.1 is available!  To upgrade, please run:\n $ pip install wandb --upgrade"
     },
     "metadata": {},
     "output_type": "display_data"
    },
    {
     "data": {
      "text/plain": "<IPython.core.display.HTML object>",
      "text/html": "Tracking run with wandb version 0.12.21"
     },
     "metadata": {},
     "output_type": "display_data"
    },
    {
     "data": {
      "text/plain": "<IPython.core.display.HTML object>",
      "text/html": "Run data is saved locally in <code>/ziob/klaudia/recommender_system/src/models/gaussian_dense_hmm/dense-hmm/code_dense_hmm/wandb/run-20220818_111432-13bub85v</code>"
     },
     "metadata": {},
     "output_type": "display_data"
    },
    {
     "data": {
      "text/plain": "<IPython.core.display.HTML object>",
      "text/html": "Syncing run <strong><a href=\"https://wandb.ai/cirglaboratory/gaussian-dense-hmm/runs/13bub85v\" target=\"_blank\">HMMlearn</a></strong> to <a href=\"https://wandb.ai/cirglaboratory/gaussian-dense-hmm\" target=\"_blank\">Weights & Biases</a> (<a href=\"https://wandb.me/run\" target=\"_blank\">docs</a>)<br/>"
     },
     "metadata": {},
     "output_type": "display_data"
    },
    {
     "name": "stderr",
     "output_type": "stream",
     "text": [
      "         1     -465740.7238             +nan\n",
      "         2     -451053.6455      +14687.0783\n",
      "         3     -448195.6657       +2857.9798\n",
      "         4     -445687.3811       +2508.2846\n",
      "         5     -443554.8025       +2132.5786\n",
      "         6     -441617.8082       +1936.9943\n",
      "         7     -439668.1884       +1949.6198\n",
      "         8     -437461.7165       +2206.4719\n",
      "         9     -434716.0473       +2745.6692\n",
      "        10     -431175.4293       +3540.6180\n",
      "        11     -426687.4388       +4487.9906\n",
      "        12     -422868.2754       +3819.1634\n",
      "        13     -420990.6213       +1877.6541\n",
      "        14     -419960.1885       +1030.4328\n",
      "        15     -419163.6676        +796.5209\n",
      "        16     -418415.3289        +748.3388\n",
      "        17     -417641.2808        +774.0481\n",
      "        18     -416775.0295        +866.2513\n",
      "        19     -415698.6308       +1076.3988\n",
      "        20     -414125.9878       +1572.6429\n",
      "        21     -411189.5400       +2936.4478\n",
      "        22     -403791.3646       +7398.1754\n",
      "        23     -390521.7486      +13269.6160\n",
      "        24     -382169.2216       +8352.5270\n",
      "        25     -372666.1828       +9503.0387\n",
      "        26     -369565.7628       +3100.4200\n",
      "        27     -367744.5833       +1821.1796\n",
      "        28     -365591.7331       +2152.8502\n",
      "        29     -362189.0715       +3402.6615\n",
      "        30     -355806.3557       +6382.7158\n",
      "        31     -350963.5381       +4842.8177\n",
      "        32     -346786.4274       +4177.1106\n",
      "        33     -339107.3387       +7679.0887\n",
      "        34     -331179.5165       +7927.8222\n",
      "        35     -321994.4185       +9185.0980\n",
      "        36     -318046.1755       +3948.2430\n",
      "        37     -314454.3386       +3591.8369\n",
      "        38     -310659.6022       +3794.7364\n",
      "        39     -304159.4813       +6500.1210\n",
      "        40     -300785.5569       +3373.9244\n",
      "        41     -300784.4865          +1.0704\n",
      "        42     -300784.4865          +0.0000\n"
     ]
    },
    {
     "data": {
      "text/plain": "<IPython.core.display.HTML object>",
      "text/html": "Finishing last run (ID:13bub85v) before initializing another..."
     },
     "metadata": {},
     "output_type": "display_data"
    },
    {
     "data": {
      "text/plain": "<IPython.core.display.HTML object>",
      "text/html": "Waiting for W&B process to finish... <strong style=\"color:green\">(success).</strong>"
     },
     "metadata": {},
     "output_type": "display_data"
    },
    {
     "data": {
      "text/plain": "VBox(children=(Label(value='0.052 MB of 0.052 MB uploaded (0.000 MB deduped)\\r'), FloatProgress(value=1.0, max…",
      "application/vnd.jupyter.widget-view+json": {
       "version_major": 2,
       "version_minor": 0,
       "model_id": "d721ef2758d540cdbf1f274832c3ffa5"
      }
     },
     "metadata": {},
     "output_type": "display_data"
    },
    {
     "data": {
      "text/plain": "<IPython.core.display.HTML object>",
      "text/html": "<style>\n    table.wandb td:nth-child(1) { padding: 0 10px; text-align: left ; width: auto;} td:nth-child(2) {text-align: left ; width: 100%}\n    .wandb-row { display: flex; flex-direction: row; flex-wrap: wrap; justify-content: flex-start; width: 100% }\n    .wandb-col { display: flex; flex-direction: column; flex-basis: 100%; flex: 1; padding: 10px; }\n    </style>\n<div class=\"wandb-row\"><div class=\"wandb-col\"><h3>Run history:</h3><br/><table class=\"wandb\"><tr><td>time</td><td>▁▁▁▂▂▂▂▂▂▂▃▃▃▃▃▃▄▄▄▄▅▅▅▅▅▅▆▆▆▆▆▆▇▇▇▇▇███</td></tr><tr><td>total_log_prob</td><td>▁▂▂▂▂▂▂▂▂▂▃▃▃▃▃▃▃▃▃▃▄▄▅▅▅▅▅▅▆▆▆▆▇▇▇█████</td></tr></table><br/></div><div class=\"wandb-col\"><h3>Run summary:</h3><br/><table class=\"wandb\"><tr><td>time</td><td>37.74375</td></tr><tr><td>total_log_prob</td><td>-300784.48649</td></tr></table><br/></div></div>"
     },
     "metadata": {},
     "output_type": "display_data"
    },
    {
     "data": {
      "text/plain": "<IPython.core.display.HTML object>",
      "text/html": "Synced <strong style=\"color:#cdcd00\">HMMlearn</strong>: <a href=\"https://wandb.ai/cirglaboratory/gaussian-dense-hmm/runs/13bub85v\" target=\"_blank\">https://wandb.ai/cirglaboratory/gaussian-dense-hmm/runs/13bub85v</a><br/>Synced 7 W&B file(s), 0 media file(s), 0 artifact file(s) and 0 other file(s)"
     },
     "metadata": {},
     "output_type": "display_data"
    },
    {
     "data": {
      "text/plain": "<IPython.core.display.HTML object>",
      "text/html": "Find logs at: <code>./wandb/run-20220818_111432-13bub85v/logs</code>"
     },
     "metadata": {},
     "output_type": "display_data"
    },
    {
     "data": {
      "text/plain": "<IPython.core.display.HTML object>",
      "text/html": "Successfully finished last run (ID:13bub85v). Initializing new run:<br/>"
     },
     "metadata": {},
     "output_type": "display_data"
    },
    {
     "data": {
      "text/plain": "<IPython.core.display.HTML object>",
      "text/html": "wandb version 0.13.1 is available!  To upgrade, please run:\n $ pip install wandb --upgrade"
     },
     "metadata": {},
     "output_type": "display_data"
    },
    {
     "data": {
      "text/plain": "<IPython.core.display.HTML object>",
      "text/html": "Tracking run with wandb version 0.12.21"
     },
     "metadata": {},
     "output_type": "display_data"
    },
    {
     "data": {
      "text/plain": "<IPython.core.display.HTML object>",
      "text/html": "Run data is saved locally in <code>/ziob/klaudia/recommender_system/src/models/gaussian_dense_hmm/dense-hmm/code_dense_hmm/wandb/run-20220818_111510-2jr0cfu0</code>"
     },
     "metadata": {},
     "output_type": "display_data"
    },
    {
     "data": {
      "text/plain": "<IPython.core.display.HTML object>",
      "text/html": "Syncing run <strong><a href=\"https://wandb.ai/cirglaboratory/gaussian-dense-hmm/runs/2jr0cfu0\" target=\"_blank\">HMMlearn</a></strong> to <a href=\"https://wandb.ai/cirglaboratory/gaussian-dense-hmm\" target=\"_blank\">Weights & Biases</a> (<a href=\"https://wandb.me/run\" target=\"_blank\">docs</a>)<br/>"
     },
     "metadata": {},
     "output_type": "display_data"
    },
    {
     "name": "stderr",
     "output_type": "stream",
     "text": [
      "         1     -465740.7238             +nan\n",
      "         2     -451053.6455      +14687.0783\n",
      "         3     -448195.6657       +2857.9798\n",
      "         4     -445687.3811       +2508.2846\n",
      "         5     -443554.8025       +2132.5786\n",
      "         6     -441617.8082       +1936.9943\n",
      "         7     -439668.1884       +1949.6198\n",
      "         8     -437461.7165       +2206.4719\n",
      "         9     -434716.0473       +2745.6692\n",
      "        10     -431175.4293       +3540.6180\n",
      "        11     -426687.4388       +4487.9906\n",
      "        12     -422868.2754       +3819.1634\n",
      "        13     -420990.6213       +1877.6541\n",
      "        14     -419960.1885       +1030.4328\n",
      "        15     -419163.6676        +796.5209\n",
      "        16     -418415.3289        +748.3388\n",
      "        17     -417641.2808        +774.0481\n",
      "        18     -416775.0295        +866.2513\n",
      "        19     -415698.6308       +1076.3988\n",
      "        20     -414125.9878       +1572.6429\n",
      "        21     -411189.5400       +2936.4478\n",
      "        22     -403791.3646       +7398.1754\n",
      "        23     -390521.7486      +13269.6160\n",
      "        24     -382169.2216       +8352.5270\n",
      "        25     -372666.1828       +9503.0387\n",
      "        26     -369565.7628       +3100.4200\n",
      "        27     -367744.5833       +1821.1796\n",
      "        28     -365591.7331       +2152.8502\n",
      "        29     -362189.0715       +3402.6615\n",
      "        30     -355806.3557       +6382.7158\n",
      "        31     -350963.5381       +4842.8177\n",
      "        32     -346786.4274       +4177.1106\n",
      "        33     -339107.3387       +7679.0887\n",
      "        34     -331179.5165       +7927.8222\n",
      "        35     -321994.4185       +9185.0980\n",
      "        36     -318046.1755       +3948.2430\n",
      "        37     -314454.3386       +3591.8369\n",
      "        38     -310659.6022       +3794.7364\n",
      "        39     -304159.4813       +6500.1210\n",
      "        40     -300785.5569       +3373.9244\n",
      "        41     -300784.4865          +1.0704\n",
      "        42     -300784.4865          +0.0000\n",
      "Model building:   0%|                                     | 0/3 [00:00<?, ?it/s]\n",
      "Training cooc:   0%|                                      | 0/2 [00:00<?, ?it/s]\u001B[A"
     ]
    },
    {
     "data": {
      "text/plain": "<IPython.core.display.HTML object>",
      "text/html": "Finishing last run (ID:2jr0cfu0) before initializing another..."
     },
     "metadata": {},
     "output_type": "display_data"
    },
    {
     "data": {
      "text/plain": "<IPython.core.display.HTML object>",
      "text/html": "Waiting for W&B process to finish... <strong style=\"color:green\">(success).</strong>"
     },
     "metadata": {},
     "output_type": "display_data"
    },
    {
     "data": {
      "text/plain": "VBox(children=(Label(value='0.052 MB of 0.052 MB uploaded (0.000 MB deduped)\\r'), FloatProgress(value=1.0, max…",
      "application/vnd.jupyter.widget-view+json": {
       "version_major": 2,
       "version_minor": 0,
       "model_id": "716b578e04fb49f69f65f9c4066bc9e9"
      }
     },
     "metadata": {},
     "output_type": "display_data"
    },
    {
     "data": {
      "text/plain": "<IPython.core.display.HTML object>",
      "text/html": "<style>\n    table.wandb td:nth-child(1) { padding: 0 10px; text-align: left ; width: auto;} td:nth-child(2) {text-align: left ; width: 100%}\n    .wandb-row { display: flex; flex-direction: row; flex-wrap: wrap; justify-content: flex-start; width: 100% }\n    .wandb-col { display: flex; flex-direction: column; flex-basis: 100%; flex: 1; padding: 10px; }\n    </style>\n<div class=\"wandb-row\"><div class=\"wandb-col\"><h3>Run history:</h3><br/><table class=\"wandb\"><tr><td>time</td><td>▁▁▁▂▂▂▂▂▂▃▃▃▃▃▃▄▄▄▄▄▅▅▅▅▅▅▆▆▆▆▆▆▇▇▇▇▇███</td></tr><tr><td>total_log_prob</td><td>▁▂▂▂▂▂▂▂▂▂▃▃▃▃▃▃▃▃▃▃▄▄▅▅▅▅▅▅▆▆▆▆▇▇▇█████</td></tr></table><br/></div><div class=\"wandb-col\"><h3>Run summary:</h3><br/><table class=\"wandb\"><tr><td>time</td><td>36.0299</td></tr><tr><td>total_log_prob</td><td>-300784.48649</td></tr></table><br/></div></div>"
     },
     "metadata": {},
     "output_type": "display_data"
    },
    {
     "data": {
      "text/plain": "<IPython.core.display.HTML object>",
      "text/html": "Synced <strong style=\"color:#cdcd00\">HMMlearn</strong>: <a href=\"https://wandb.ai/cirglaboratory/gaussian-dense-hmm/runs/2jr0cfu0\" target=\"_blank\">https://wandb.ai/cirglaboratory/gaussian-dense-hmm/runs/2jr0cfu0</a><br/>Synced 7 W&B file(s), 0 media file(s), 0 artifact file(s) and 0 other file(s)"
     },
     "metadata": {},
     "output_type": "display_data"
    },
    {
     "data": {
      "text/plain": "<IPython.core.display.HTML object>",
      "text/html": "Find logs at: <code>./wandb/run-20220818_111510-2jr0cfu0/logs</code>"
     },
     "metadata": {},
     "output_type": "display_data"
    },
    {
     "data": {
      "text/plain": "<IPython.core.display.HTML object>",
      "text/html": "Successfully finished last run (ID:2jr0cfu0). Initializing new run:<br/>"
     },
     "metadata": {},
     "output_type": "display_data"
    },
    {
     "data": {
      "text/plain": "<IPython.core.display.HTML object>",
      "text/html": "wandb version 0.13.1 is available!  To upgrade, please run:\n $ pip install wandb --upgrade"
     },
     "metadata": {},
     "output_type": "display_data"
    },
    {
     "data": {
      "text/plain": "<IPython.core.display.HTML object>",
      "text/html": "Tracking run with wandb version 0.12.21"
     },
     "metadata": {},
     "output_type": "display_data"
    },
    {
     "data": {
      "text/plain": "<IPython.core.display.HTML object>",
      "text/html": "Run data is saved locally in <code>/ziob/klaudia/recommender_system/src/models/gaussian_dense_hmm/dense-hmm/code_dense_hmm/wandb/run-20220818_111546-1x2oyafs</code>"
     },
     "metadata": {},
     "output_type": "display_data"
    },
    {
     "data": {
      "text/plain": "<IPython.core.display.HTML object>",
      "text/html": "Syncing run <strong><a href=\"https://wandb.ai/cirglaboratory/gaussian-dense-hmm/runs/1x2oyafs\" target=\"_blank\">name-l=3-lr=0.054785912200337884-epochs=15321</a></strong> to <a href=\"https://wandb.ai/cirglaboratory/gaussian-dense-hmm\" target=\"_blank\">Weights & Biases</a> (<a href=\"https://wandb.me/run\" target=\"_blank\">docs</a>)<br/>"
     },
     "metadata": {},
     "output_type": "display_data"
    },
    {
     "name": "stderr",
     "output_type": "stream",
     "text": [
      "         1   -59304407.5556             +nan\n",
      "         2   -53995640.0644    +5308767.4912\n",
      "         3   -49880739.1552    +4114900.9091\n",
      "         4   -46634768.9972    +3245970.1580\n",
      "         5   -43873651.4138    +2761117.5835\n",
      "         6   -41419798.1333    +2453853.2805\n",
      "         7   -39316183.0052    +2103615.1281\n",
      "         8   -37547873.4128    +1768309.5924\n",
      "         9   -35719105.0342    +1828768.3786\n",
      "        10   -33928847.2980    +1790257.7362\n",
      "        11   -32360408.3736    +1568438.9244\n",
      "        12   -31012835.4454    +1347572.9281\n",
      "        13   -29790092.0429    +1222743.4025\n",
      "        14   -28642178.4330    +1147913.6099\n",
      "        15   -27607530.7020    +1034647.7310\n",
      "        16   -26696377.5791     +911153.1230\n",
      "\n",
      "Training cooc:  50%|███████████████               | 1/2 [00:46<00:46, 46.60s/it]\u001B[A"
     ]
    },
    {
     "data": {
      "text/plain": "<IPython.core.display.HTML object>",
      "text/html": "Finishing last run (ID:1x2oyafs) before initializing another..."
     },
     "metadata": {},
     "output_type": "display_data"
    },
    {
     "data": {
      "text/plain": "<IPython.core.display.HTML object>",
      "text/html": "Waiting for W&B process to finish... <strong style=\"color:green\">(success).</strong>"
     },
     "metadata": {},
     "output_type": "display_data"
    },
    {
     "data": {
      "text/plain": "VBox(children=(Label(value='0.052 MB of 0.052 MB uploaded (0.000 MB deduped)\\r'), FloatProgress(value=1.0, max…",
      "application/vnd.jupyter.widget-view+json": {
       "version_major": 2,
       "version_minor": 0,
       "model_id": "1fc45ea53f1841c4af28edef38780838"
      }
     },
     "metadata": {},
     "output_type": "display_data"
    },
    {
     "data": {
      "text/plain": "<IPython.core.display.HTML object>",
      "text/html": "<style>\n    table.wandb td:nth-child(1) { padding: 0 10px; text-align: left ; width: auto;} td:nth-child(2) {text-align: left ; width: 100%}\n    .wandb-row { display: flex; flex-direction: row; flex-wrap: wrap; justify-content: flex-start; width: 100% }\n    .wandb-col { display: flex; flex-direction: column; flex-basis: 100%; flex: 1; padding: 10px; }\n    </style>\n<div class=\"wandb-row\"><div class=\"wandb-col\"><h3>Run history:</h3><br/><table class=\"wandb\"><tr><td>accuracy</td><td>▄▁██████████████</td></tr><tr><td>covars_mae</td><td>▁▂▂▃▃▄▄▅▅▅▆▆▇▇██</td></tr><tr><td>means_mae</td><td>▁▅▅▅▅▅▅▅████████</td></tr><tr><td>omage_dtv</td><td>█▆▅▅▄▄▃▃▃▃▂▂▂▁▁▁</td></tr><tr><td>startprob_dtv</td><td>█▄▄▃▂▁▁▁▃▃▃▃▃▃▃▃</td></tr><tr><td>time</td><td>▁▁▂▂▃▃▄▄▅▅▆▆▇▇▇█</td></tr><tr><td>total_log_prob</td><td>▁▂▃▄▄▅▅▆▆▆▇▇▇███</td></tr><tr><td>transmat_dtv</td><td>▄█▆▆▆▆▇▇▁▁▁▁▁▂▂▂</td></tr></table><br/></div><div class=\"wandb-col\"><h3>Run summary:</h3><br/><table class=\"wandb\"><tr><td>accuracy</td><td>0.17199</td></tr><tr><td>covars_mae</td><td>5.88019</td></tr><tr><td>means_mae</td><td>24.9874</td></tr><tr><td>omage_dtv</td><td>0.04877</td></tr><tr><td>startprob_dtv</td><td>0.02301</td></tr><tr><td>time</td><td>45.63224</td></tr><tr><td>total_log_prob</td><td>-26696377.57907</td></tr><tr><td>transmat_dtv</td><td>0.64595</td></tr></table><br/></div></div>"
     },
     "metadata": {},
     "output_type": "display_data"
    },
    {
     "data": {
      "text/plain": "<IPython.core.display.HTML object>",
      "text/html": "Synced <strong style=\"color:#cdcd00\">name-l=3-lr=0.054785912200337884-epochs=15321</strong>: <a href=\"https://wandb.ai/cirglaboratory/gaussian-dense-hmm/runs/1x2oyafs\" target=\"_blank\">https://wandb.ai/cirglaboratory/gaussian-dense-hmm/runs/1x2oyafs</a><br/>Synced 7 W&B file(s), 0 media file(s), 0 artifact file(s) and 0 other file(s)"
     },
     "metadata": {},
     "output_type": "display_data"
    },
    {
     "data": {
      "text/plain": "<IPython.core.display.HTML object>",
      "text/html": "Find logs at: <code>./wandb/run-20220818_111546-1x2oyafs/logs</code>"
     },
     "metadata": {},
     "output_type": "display_data"
    },
    {
     "data": {
      "text/plain": "<IPython.core.display.HTML object>",
      "text/html": "Successfully finished last run (ID:1x2oyafs). Initializing new run:<br/>"
     },
     "metadata": {},
     "output_type": "display_data"
    },
    {
     "data": {
      "text/plain": "<IPython.core.display.HTML object>",
      "text/html": "wandb version 0.13.1 is available!  To upgrade, please run:\n $ pip install wandb --upgrade"
     },
     "metadata": {},
     "output_type": "display_data"
    },
    {
     "data": {
      "text/plain": "<IPython.core.display.HTML object>",
      "text/html": "Tracking run with wandb version 0.12.21"
     },
     "metadata": {},
     "output_type": "display_data"
    },
    {
     "data": {
      "text/plain": "<IPython.core.display.HTML object>",
      "text/html": "Run data is saved locally in <code>/ziob/klaudia/recommender_system/src/models/gaussian_dense_hmm/dense-hmm/code_dense_hmm/wandb/run-20220818_111633-2zit2qd9</code>"
     },
     "metadata": {},
     "output_type": "display_data"
    },
    {
     "data": {
      "text/plain": "<IPython.core.display.HTML object>",
      "text/html": "Syncing run <strong><a href=\"https://wandb.ai/cirglaboratory/gaussian-dense-hmm/runs/2zit2qd9\" target=\"_blank\">name-l=3-lr=0.054785912200337884-epochs=15321</a></strong> to <a href=\"https://wandb.ai/cirglaboratory/gaussian-dense-hmm\" target=\"_blank\">Weights & Biases</a> (<a href=\"https://wandb.me/run\" target=\"_blank\">docs</a>)<br/>"
     },
     "metadata": {},
     "output_type": "display_data"
    },
    {
     "name": "stderr",
     "output_type": "stream",
     "text": [
      "         1   -60169256.9277             +nan\n",
      "         2   -47222914.8750   +12946342.0527\n",
      "         3   -39782188.6839    +7440726.1912\n",
      "         4   -34859402.6034    +4922786.0805\n",
      "         5   -31207508.7559    +3651893.8475\n",
      "         6   -28312825.6106    +2894683.1452\n",
      "         7   -26053851.5034    +2258974.1073\n",
      "         8   -24289365.4003    +1764486.1031\n",
      "         9   -22811640.1206    +1477725.2797\n",
      "        10   -21519417.1804    +1292222.9402\n",
      "        11   -20426009.2917    +1093407.8887\n",
      "        12   -19514505.1160     +911504.1757\n",
      "        13   -18709346.3943     +805158.7217\n",
      "        14   -17972356.7995     +736989.5949\n",
      "        15   -17323952.0466     +648404.7529\n",
      "        16   -16765727.5770     +558224.4696\n",
      "\n",
      "Training cooc: 100%|██████████████████████████████| 2/2 [01:33<00:00, 46.98s/it]\u001B[A\n",
      "Model building:  33%|█████████▋                   | 1/3 [01:33<03:07, 93.96s/it]\n"
     ]
    },
    {
     "ename": "KeyError",
     "evalue": "'dense'",
     "output_type": "error",
     "traceback": [
      "\u001B[0;31m---------------------------------------------------------------------------\u001B[0m",
      "\u001B[0;31mKeyError\u001B[0m                                  Traceback (most recent call last)",
      "Input \u001B[0;32mIn [87]\u001B[0m, in \u001B[0;36m<cell line: 51>\u001B[0;34m()\u001B[0m\n\u001B[1;32m     53\u001B[0m monitor \u001B[38;5;241m=\u001B[39m monitors[name]\n\u001B[1;32m     54\u001B[0m alg \u001B[38;5;241m=\u001B[39m algs[name]\n\u001B[0;32m---> 55\u001B[0m params \u001B[38;5;241m=\u001B[39m \u001B[43mbest_params\u001B[49m\u001B[43m[\u001B[49m\u001B[43mname\u001B[49m\u001B[43m]\u001B[49m\n\u001B[1;32m     56\u001B[0m best_result[name] \u001B[38;5;241m=\u001B[39m \u001B[38;5;28mlist\u001B[39m()\n\u001B[1;32m     57\u001B[0m wandb_params[\u001B[38;5;124m\"\u001B[39m\u001B[38;5;124minit\u001B[39m\u001B[38;5;124m\"\u001B[39m]\u001B[38;5;241m.\u001B[39mupdate({\u001B[38;5;124m\"\u001B[39m\u001B[38;5;124mjob_type\u001B[39m\u001B[38;5;124m\"\u001B[39m: \u001B[38;5;124mf\u001B[39m\u001B[38;5;124m\"\u001B[39m\u001B[38;5;124mn=\u001B[39m\u001B[38;5;132;01m{\u001B[39;00mn\u001B[38;5;132;01m}\u001B[39;00m\u001B[38;5;124m-s=\u001B[39m\u001B[38;5;132;01m{\u001B[39;00ms\u001B[38;5;132;01m}\u001B[39;00m\u001B[38;5;124m-T=\u001B[39m\u001B[38;5;132;01m{\u001B[39;00ms\u001B[38;5;132;01m}\u001B[39;00m\u001B[38;5;124m-simple=\u001B[39m\u001B[38;5;132;01m{\u001B[39;00msimple_model\u001B[38;5;132;01m}\u001B[39;00m\u001B[38;5;124m\"\u001B[39m,\n\u001B[1;32m     58\u001B[0m                              \u001B[38;5;124m\"\u001B[39m\u001B[38;5;124mname\u001B[39m\u001B[38;5;124m\"\u001B[39m: \u001B[38;5;124mf\u001B[39m\u001B[38;5;124m\"\u001B[39m\u001B[38;5;124mname-l=\u001B[39m\u001B[38;5;132;01m{\u001B[39;00mparams[\u001B[38;5;124m'\u001B[39m\u001B[38;5;124ml_param\u001B[39m\u001B[38;5;124m'\u001B[39m]\u001B[38;5;132;01m}\u001B[39;00m\u001B[38;5;124m-lr=\u001B[39m\u001B[38;5;132;01m{\u001B[39;00mparams[\u001B[38;5;124m'\u001B[39m\u001B[38;5;124mcooc_lr_param\u001B[39m\u001B[38;5;124m'\u001B[39m]\u001B[38;5;132;01m}\u001B[39;00m\u001B[38;5;124m-epochs=\u001B[39m\u001B[38;5;132;01m{\u001B[39;00mparams[\u001B[38;5;124m'\u001B[39m\u001B[38;5;124mcooc_epochs_param\u001B[39m\u001B[38;5;124m'\u001B[39m]\u001B[38;5;132;01m}\u001B[39;00m\u001B[38;5;124m\"\u001B[39m})\n",
      "\u001B[0;31mKeyError\u001B[0m: 'dense'"
     ]
    }
   ],
   "source": [
    "## Evaluate models\n",
    "\n",
    "true_values = {\n",
    "    \"states\": X_true,\n",
    "    \"transmat\": A,\n",
    "    \"startprob\": pi,\n",
    "    \"means\": mu,\n",
    "    \"covars\": sigma\n",
    "}\n",
    "\n",
    "# HMMlearn\n",
    "best_result[\"HMMlearn\"] = list()\n",
    "wandb_params[\"init\"].update({\"job_type\": f\"n={n}-s={s}-T={s}-simple={simple_model}\",\n",
    "                             \"name\": f\"HMMlearn\"})\n",
    "wandb_params[\"config\"].update(dict(model=\"HMMlearn\", m=0, l=0, lr=0,\n",
    "                                   em_iter=em_iter(n), cooc_epochs=0,\n",
    "                                   epochs=0), scheduler=False, simple_model=simple_model)\n",
    "nodes_tmp = mu\n",
    "nodes = np.concatenate([np.array([-np.infty, Y_true.min()]),\n",
    "                        (nodes_tmp[1:] + nodes_tmp[:-1]).reshape(-1) / 2,\n",
    "                        np.array([Y_true.max(), np.infty])])\n",
    "Y_disc = (Y_true > nodes[1:].reshape(1, -1)).sum(axis=-1).reshape(-1, 1)\n",
    "\n",
    "# for _ in range(10):\n",
    "for _ in range(2):\n",
    "    hmm_monitor = HMMLoggingMonitor(tol=TOLERANCE, n_iter=0, verbose=True,\n",
    "                                    wandb_log=True, wandb_params=wandb_params, true_vals=true_values,\n",
    "                                    log_config={'metrics_after_convergence': True})\n",
    "    hmm_model = hmm.GaussianHMM(n, n_iter=em_iter(n))\n",
    "    hmm_model.monitor_ = hmm_monitor\n",
    "    hmm_model.fit(Y_true, lengths)\n",
    "\n",
    "    preds = hmm_model.predict(Y_true, lengths)\n",
    "    perm = find_permutation(preds, X_true)\n",
    "\n",
    "    best_result[\"HMMlearn\"].append(\n",
    "        {\n",
    "            \"time\": time.perf_counter() - hmm_monitor._init_time,\n",
    "            \"logprob\": hmm_model.score(Y_true, lengths),\n",
    "            \"acc\": (X_true == np.array([perm[i] for i in preds])).mean(),\n",
    "            \"dtv_transmat\": dtv(hmm_model.transmat_, A[perm, :][:, perm]),\n",
    "            \"dtv_startprob\": dtv(hmm_model.startprob_, pi[perm]),\n",
    "            \"MAE_means\": (abs(mu[perm] - hmm_model.means_[:, 0])).mean(),\n",
    "            \"MAE_sigma\": (abs(sigma.reshape(-1)[perm] - hmm_model.covars_.reshape(-1))).mean(),\n",
    "            \"dtv_omega\": dtv(empirical_cooc_prob(Y_disc, n+2, lengths),\n",
    "                             normal_cooc_prob(hmm_model.means_.reshape(-1), hmm_model.covars_.reshape(-1), nodes[1:], A))\n",
    "        }\n",
    "    )\n",
    "\n",
    "# Custom models\n",
    "for name in tqdm.tqdm([\"cooc\", \"dense\", \"dense_em\"],  desc=\"Model building\"):\n",
    "    model = models[name]\n",
    "    monitor = monitors[name]\n",
    "    alg = algs[name]\n",
    "    params = best_params[name]\n",
    "    best_result[name] = list()\n",
    "    wandb_params[\"init\"].update({\"job_type\": f\"n={n}-s={s}-T={s}-simple={simple_model}\",\n",
    "                                 \"name\": f\"name-l={params['l_param']}-lr={params['cooc_lr_param']}-epochs={params['cooc_epochs_param']}\"})\n",
    "    wandb_params[\"config\"].update(dict(model=\"dense_cooc\", m=0, l=int(params['l_param']), lr=params['cooc_lr_param'],\n",
    "                                       em_iter=em_iter(n), cooc_epochs=params['cooc_epochs_param'],\n",
    "                                       epochs=params['cooc_epochs_param']), scheduler=True,\n",
    "                                  simple_model=simple_model)\n",
    "\n",
    "    # for _ in tqdm.tqdm(range(10), desc=f\"Training {name}\"):\n",
    "    for _ in tqdm.tqdm(range(2), desc=f\"Training {name}\"):\n",
    "        hmm_monitor = monitor(tol=TOLERANCE, n_iter=0, verbose=True,\n",
    "                              wandb_log=True, wandb_params=wandb_params, true_vals=true_values,\n",
    "                              log_config={'metrics_after_convergence': True})\n",
    "        # kmeans = KMeans(n_clusters=n, random_state=0).fit(Y_true)\n",
    "        densehmm = model(n, mstep_config={'cooc_epochs': params['cooc_epochs_param'],\n",
    "                                          'cooc_lr': params['cooc_lr_param'],\n",
    "                                          \"l_uz\": int(params['l_param']),\n",
    "                                          'loss_type': 'square',\n",
    "                                          'scheduler': em_scheduler},\n",
    "                         covariance_type='diag', logging_monitor=hmm_monitor, nodes=nodes,\n",
    "                         init_params=\"\", params=\"stmc\", early_stopping=False, opt_schemes={\"cooc\"},\n",
    "                         discrete_observables=m)\n",
    "        if alg == \"cooc\":\n",
    "            densehmm.fit_coocs(Y_true, lengths)\n",
    "        else:\n",
    "            densehmm.fit(Y_true, lengths)\n",
    "\n",
    "        preds = densehmm.predict(Y_true, lengths)\n",
    "        perm = find_permutation(preds, X_true)\n",
    "\n",
    "        best_result[name].append(\n",
    "            {\n",
    "                \"time\": time.perf_counter() - hmm_monitor._init_time,\n",
    "                \"logprob\": densehmm.score(Y_true, lengths),\n",
    "                \"acc\": (X_true == np.array([perm[i] for i in preds])).mean(),\n",
    "                \"dtv_transmat\": dtv(densehmm.transmat_, A[perm, :][:, perm]),\n",
    "                \"dtv_startprob\": dtv(densehmm.startprob_, pi[perm]),\n",
    "                \"MAE_means\": (abs(mu[perm] - densehmm.means_[:, 0])).mean(),\n",
    "                \"MAE_sigma\": (abs(sigma.reshape(-1)[perm] - densehmm.covars_.reshape(-1))).mean(),\n",
    "                \"dtv_omega\": dtv(empirical_cooc_prob(Y_disc, n+2, lengths),\n",
    "                                  normal_cooc_prob(densehmm.means_.reshape(-1), densehmm.covars_.reshape(-1), nodes[1:], A))\n",
    "            }\n",
    "        )\n",
    "\n",
    "with open(f\"{RESULT_DIR}/best_result_s{s}_T{T}_n{n}_simple_model{simple_model}_l{l_fixed}.json\", \"w\") as f:\n",
    "    json.dump(best_result, f, indent=4)"
   ],
   "metadata": {
    "collapsed": false,
    "pycharm": {
     "name": "#%%\n"
    }
   }
  },
  {
   "cell_type": "code",
   "execution_count": null,
   "outputs": [],
   "source": [
    "# Provide data\n",
    "all_files = os.listdir(RESULT_DIR)\n",
    "\n",
    "results = [s for s in all_files if len(s.split(\"_\")) == 6]\n",
    "studies = [s for s in all_files if len(s.split(\"_\")) == 7]\n",
    "\n",
    "cases = list(set([\"_\".join(s.split(\"_\")[1:-1]) for s in studies]))"
   ],
   "metadata": {
    "collapsed": false,
    "pycharm": {
     "name": "#%%\n"
    }
   }
  },
  {
   "cell_type": "code",
   "execution_count": null,
   "outputs": [],
   "source": [
    "# read all data\n",
    "experiment = dict(studies  =dict(l_fixed=dict(),  l_tuned=dict()),\n",
    "                  summaries=dict(l_fixed=dict(),  l_tuned=dict()))"
   ],
   "metadata": {
    "collapsed": false,
    "pycharm": {
     "name": "#%%\n"
    }
   }
  },
  {
   "cell_type": "code",
   "execution_count": null,
   "outputs": [],
   "source": [
    "for c in cases:\n",
    "    with open(f\"{RESULT_DIR}/optuna_{c}_lTrue.pkl\", \"rb\") as f:\n",
    "        experiment[\"studies\"][\"l_fixed\"][c] = joblib.load(f)\n",
    "    with open(f\"{RESULT_DIR}/optuna_{c}_lFalse.pkl\", \"rb\") as f:\n",
    "        experiment[\"studies\"][\"l_tuned\"][c] = joblib.load(f)\n",
    "    with open(f\"{RESULT_DIR}/best_result_{c}_lTrue.json\", \"r\") as f:\n",
    "        experiment[\"summaries\"][\"l_fixed\"][c] = json.load(f)\n",
    "    with open(f\"{RESULT_DIR}/best_result_{c}_lFalse.json\", \"r\") as f:\n",
    "        experiment[\"summaries\"][\"l_tuned\"][c] = json.load(f)"
   ],
   "metadata": {
    "collapsed": false,
    "pycharm": {
     "name": "#%%\n"
    }
   }
  },
  {
   "cell_type": "markdown",
   "source": [
    "## Compare tunning methods"
   ],
   "metadata": {
    "collapsed": false,
    "pycharm": {
     "name": "#%% md\n"
    }
   }
  },
  {
   "cell_type": "code",
   "execution_count": null,
   "outputs": [],
   "source": [
    "# Variable importance\n",
    "for c in cases:\n",
    "    display(optuna.visualization.plot_param_importances(experiment[\"studies\"][\"l_fixed\"][c],\n",
    "                                                        target=lambda t: t.values[0], target_name=\"flops\",  title=\"Fixed\"))\n",
    "    display(optuna.visualization.plot_param_importances(experiment[\"studies\"][\"l_tuned\"][c],\n",
    "                                                        target=lambda t: t.values[0], target_name=\"flops\", title=\"Tuned\"))"
   ],
   "metadata": {
    "collapsed": false,
    "pycharm": {
     "name": "#%%\n"
    }
   }
  },
  {
   "cell_type": "code",
   "execution_count": null,
   "outputs": [],
   "source": [
    "# l zafixowane versus wyniki hiperparametryzacji zależnie od l\n",
    "for c in cases:\n",
    "    no_trials = len(experiment[\"studies\"][\"l_fixed\"][c].trials)\n",
    "    x = [experiment[\"studies\"][\"l_fixed\"][c].trials[i].params['l_param'] for i in range(no_trials)]\n",
    "    y = [experiment[\"studies\"][\"l_fixed\"][c].trials[i].values[0] for i in range(no_trials)]\n",
    "    name = cases.split(\"_\")[0]\n",
    "    sns.violinplot(x, y)\n",
    "    plt.xlabel(\"l\")\n",
    "    plt.ylabel(\"log-likelihood\")\n",
    "    plt.title(f\"{name} (when fixed l={int(np.ceil(8 / 3))})\")\n",
    "    plt.show()"
   ],
   "metadata": {
    "collapsed": false,
    "pycharm": {
     "name": "#%%\n"
    }
   }
  },
  {
   "cell_type": "code",
   "execution_count": null,
   "outputs": [],
   "source": [
    "# s, T, n, simple_model = 100, 40, 4, True\n",
    "#\n",
    "# with open(f\"gaussian_dense_hmm_benchmark/fit_coocs_ll_mini-2022-8-12/optuna_s{s}_T{T}_n{n}_simple_model{simple_model}.pkl\",  \"rb\") as f:\n",
    "#     study = joblib.load(f)"
   ],
   "metadata": {
    "collapsed": false,
    "pycharm": {
     "name": "#%%\n"
    }
   }
  },
  {
   "cell_type": "markdown",
   "source": [
    "## Compare  results of all methods"
   ],
   "metadata": {
    "collapsed": false,
    "pycharm": {
     "name": "#%% md\n"
    }
   }
  },
  {
   "cell_type": "code",
   "execution_count": null,
   "outputs": [],
   "source": [
    "# with open(f\"gaussian_dense_hmm_benchmark/fit_coocs_ll_mini-2022-8-12/best_result_s{s}_T{T}_n{n}_simple_model{simple_model}.json\",  \"r\") as f:\n",
    "#     best_results = json.load(f)"
   ],
   "metadata": {
    "collapsed": false,
    "pycharm": {
     "name": "#%%\n"
    }
   }
  },
  {
   "cell_type": "code",
   "execution_count": null,
   "outputs": [],
   "source": [
    "#  tabularise results\n",
    "for c in cases:\n",
    "    display(f'\\n\\n### {\" \".join(c.split(\"_\"))}')\n",
    "    display(pd.DataFrame(experiment[\"summaries\"][\"l_fixed\"][c]).style.set_caption(\"l fixed\"))\n",
    "    display(pd.DataFrame(experiment[\"summaries\"][\"l_tuned\"][c]).style.set_caption(\"l tuned\"))\n"
   ],
   "metadata": {
    "collapsed": false,
    "pycharm": {
     "name": "#%%\n"
    }
   }
  },
  {
   "cell_type": "markdown",
   "source": [
    "## Train co-oc + EM"
   ],
   "metadata": {
    "collapsed": false,
    "pycharm": {
     "name": "#%% md\n"
    }
   }
  },
  {
   "cell_type": "code",
   "execution_count": null,
   "outputs": [],
   "source": [
    "# Use the same parameters and provide time benchmarks"
   ],
   "metadata": {
    "collapsed": false,
    "pycharm": {
     "name": "#%%\n"
    }
   }
  },
  {
   "cell_type": "code",
   "execution_count": null,
   "outputs": [],
   "source": [
    "s, T, n, pi, A, mu, sigma, result, true_values, wandb_params, X_true, Y_true, lengths, data, em_scheduler = init_experiment(dsize=(100, 100, 8), simple_model=True)\n",
    "\n",
    "\n",
    "def to_discrete(X, m):\n",
    "    kmeans = KMeans(n_clusters=m, random_state=0).fit(Y_true)\n",
    "    nodes_tmp = np.sort(kmeans.cluster_centers_, axis=0)\n",
    "    nodes = np.concatenate([(nodes_tmp[1:] + nodes_tmp[:-1]) / 2, np.array([[np.infty]])])\n",
    "    return (X > nodes.reshape(1, -1)).sum(axis=-1).reshape(-1, 1), nodes.reshape(-1)\n",
    "\n",
    "\n",
    "Y_disc, nodes = to_discrete(Y_true, m=n)"
   ],
   "metadata": {
    "collapsed": false,
    "pycharm": {
     "name": "#%%\n"
    }
   }
  },
  {
   "cell_type": "code",
   "execution_count": null,
   "outputs": [],
   "source": [
    "for  _  in range(10):\n",
    "    # TODO: read parameters from dense cooc and dense em\n",
    "    cooc_params = experiment[\"studies\"][\"l_fixed\"][c].best_params  # TODO: c\n",
    "    em_params   = experiment[\"studies\"][\"l_fixed\"][c].best_params  # TODO: c\n",
    "    mstep_cofig = {\"cooc_lr\": cooc_params['cooc_lr_param'],\n",
    "                   \"cooc_epochs\": cooc_params['cooc_epochs_param'],\n",
    "                   \"l_uz\": cooc_params['l_param'],\n",
    "                   \"em_params\":  em_params['cooc_lr_param'],\n",
    "                   \"em_epochs\": em_params['cooc_epochs_param'],\n",
    "                   \"loss_type\": 'square',\n",
    "                   \"scheduler\": em_scheduler}\n",
    "    wandb_params[\"init\"].update({\"name\": f\"dense-cooc+em\"})\n",
    "    hmm_monitor = HMMLoggingMonitor(tol=TOLERANCE, n_iter=0, verbose=True,\n",
    "                                    wandb_log=True, wandb_params=wandb_params, true_vals=true_values,\n",
    "                                    log_config={'metrics_after_convergence': True})\n",
    "    densehmm = GaussianDenseHMM(n, mstep_config=mstep_cofig,\n",
    "                                covariance_type='diag', opt_schemes={\"cooc\"},\n",
    "                                nodes=np.concatenate([np.array([-np.infty]), nodes]),\n",
    "                                discrete_observables=n, em_iter=20,\n",
    "                                logging_monitor=hmm_monitor,\n",
    "                                init_params=\"\", params=\"stmc\", early_stopping=True)\n",
    "    densehmm.means_ = mu.reshape(-1, 1)\n",
    "    start = time.perf_counter()\n",
    "    densehmm.fit_coocs(Y_true, lengths)\n",
    "    densehmm.fit(Y_true, lengths)\n",
    "    time_tmp = time.perf_counter() - start\n",
    "\n",
    "#  Results in wanbd"
   ],
   "metadata": {
    "collapsed": false,
    "pycharm": {
     "name": "#%%\n"
    }
   }
  }
 ],
 "metadata": {
  "kernelspec": {
   "display_name": "Python 3",
   "language": "python",
   "name": "python3"
  },
  "language_info": {
   "codemirror_mode": {
    "name": "ipython",
    "version": 2
   },
   "file_extension": ".py",
   "mimetype": "text/x-python",
   "name": "python",
   "nbconvert_exporter": "python",
   "pygments_lexer": "ipython2",
   "version": "2.7.6"
  }
 },
 "nbformat": 4,
 "nbformat_minor": 0
}