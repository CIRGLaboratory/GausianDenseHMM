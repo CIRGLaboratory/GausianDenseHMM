{
 "cells": [
  {
   "cell_type": "code",
   "execution_count": 1,
   "metadata": {
    "collapsed": true,
    "pycharm": {
     "name": "#%%\n"
    }
   },
   "outputs": [
    {
     "name": "stderr",
     "output_type": "stream",
     "text": [
      "2022-08-26 11:20:54.888464: W tensorflow/stream_executor/platform/default/dso_loader.cc:64] Could not load dynamic library 'libcudart.so.11.0'; dlerror: libcudart.so.11.0: cannot open shared object file: No such file or directory\n",
      "2022-08-26 11:20:54.888529: I tensorflow/stream_executor/cuda/cudart_stub.cc:29] Ignore above cudart dlerror if you do not have a GPU set up on your machine.\n"
     ]
    },
    {
     "name": "stdout",
     "output_type": "stream",
     "text": [
      "WARNING:tensorflow:From /ziob/klaudia/miniconda3/envs/hmm/lib/python3.10/site-packages/tensorflow/python/compat/v2_compat.py:107: disable_resource_variables (from tensorflow.python.ops.variable_scope) is deprecated and will be removed in a future version.\n",
      "Instructions for updating:\n",
      "non-resource variables are not supported in the long term\n"
     ]
    }
   ],
   "source": [
    "import json\n",
    "import  pickle\n",
    "import joblib\n",
    "import optuna\n",
    "import os\n",
    "import time\n",
    "import matplotlib.pyplot as plt\n",
    "import pandas as pd\n",
    "import seaborn as sns\n",
    "import numpy  as np\n",
    "import pandas as pd\n",
    "import tqdm\n",
    "import time\n",
    "\n",
    "from sklearn.cluster import KMeans\n",
    "from eval_utils import *\n",
    "from models_gaussian import GaussianDenseHMM, HMMLoggingMonitor, DenseHMMLoggingMonitor\n",
    "from models_gaussian_A import GaussianDenseHMM as CoocHMM\n",
    "from hmmlearn import hmm"
   ]
  },
  {
   "cell_type": "code",
   "execution_count": 2,
   "outputs": [],
   "source": [
    "t = time.localtime()\n",
    "RESULT_DIR = f'gaussian_dense_hmm_benchmark/eval-cooc-{t.tm_year}-{t.tm_mon}-{t.tm_mday}'"
   ],
   "metadata": {
    "collapsed": false,
    "pycharm": {
     "name": "#%%\n"
    }
   }
  },
  {
   "cell_type": "markdown",
   "source": [
    "We have examined the efficiency of co-occurence based learning methods for Gaussian HMM. This notebook contains a comparison of:\n",
    "\n",
    "- standard Gaussian Hidden Markov Model implementation,\n",
    "- co-occurrence based larning for Gaussian Hidden Markov Model,\n",
    "- EM learning for GaussianDenseHHMM,\n",
    "- co-occurrence based learning for GaussianDenseHMM.\n",
    "\n",
    "The dense representation was examined with fixed and tuned embedding length."
   ],
   "metadata": {
    "collapsed": false,
    "pycharm": {
     "name": "#%% md\n"
    }
   }
  },
  {
   "cell_type": "code",
   "execution_count": 3,
   "outputs": [],
   "source": [
    "n = 10\n",
    "s = 10\n",
    "T = 200\n",
    "simple_model = True\n",
    "l_fixed = True"
   ],
   "metadata": {
    "collapsed": false,
    "pycharm": {
     "name": "#%%\n"
    }
   }
  },
  {
   "cell_type": "code",
   "execution_count": 4,
   "outputs": [],
   "source": [
    "# RESULT_DIR = f'gaussian_dense_hmm_benchmark/eval-cooc-{t.tm_year}-{t.tm_mon}-{17}'\n",
    "# with open(f\"{RESULT_DIR}/optuna_cooc_s{s}_T{T}_n{n}_simple_model{simple_model}_l{l_fixed}.pkl\", \"rb\") as f:\n",
    "#     study = joblib.load(f)"
   ],
   "metadata": {
    "collapsed": false,
    "pycharm": {
     "name": "#%%\n"
    }
   }
  },
  {
   "cell_type": "code",
   "execution_count": 5,
   "outputs": [],
   "source": [
    "# study_res = pd.DataFrame([{**t.params, \"mean\": t.values[0], \"std\": t.values[1]} for t in study.trials])\n",
    "# study_res"
   ],
   "metadata": {
    "collapsed": false,
    "pycharm": {
     "name": "#%%\n"
    }
   }
  },
  {
   "cell_type": "code",
   "execution_count": 6,
   "outputs": [],
   "source": [
    "# sns.scatterplot(data=study_res, x=\"mean\", y=\"std\")"
   ],
   "metadata": {
    "collapsed": false,
    "pycharm": {
     "name": "#%%\n"
    }
   }
  },
  {
   "cell_type": "code",
   "execution_count": 7,
   "outputs": [],
   "source": [
    "# best_params = dict()\n",
    "# # best_params[\"cooc\"] = study_res.sort_values(\"mean\").iloc[-1, :2].to_dict()\n",
    "# best_params[\"cooc\"] = study_res.sort_values(\"std\").iloc[1, :2].to_dict()\n",
    "# best_params[\"cooc\"]['cooc_epochs_param'] = int(best_params[\"cooc\"]['cooc_epochs_param'])\n",
    "# best_params[\"cooc\"]['l_param'] = int(np.ceil(n / 3))\n",
    "# best_params"
   ],
   "metadata": {
    "collapsed": false,
    "pycharm": {
     "name": "#%%\n"
    }
   }
  },
  {
   "cell_type": "code",
   "execution_count": 8,
   "outputs": [],
   "source": [
    "np.random.seed(2022)\n",
    "\n",
    "best_result = {}\n",
    "s, T, n, pi, A, mu, sigma, result, true_values, wandb_params, X_true, Y_true, lengths, _, em_scheduler = init_experiment((s, T, n), simple_model)\n",
    "nodes = np.concatenate([np.array([-np.infty, Y_true.min()]),\n",
    "                        (mu[1:] + mu[:-1]) / 2,\n",
    "                        np.array([Y_true.max(), np.infty])])\n",
    "m = nodes.shape[0] - 1\n",
    "\n",
    "models = dict(cooc=CoocHMM, dense=GaussianDenseHMM, dense_em=GaussianDenseHMM)\n",
    "monitors = dict(cooc=DenseHMMLoggingMonitor, dense=DenseHMMLoggingMonitor, dense_em=DenseHMMLoggingMonitor)\n",
    "algs = dict(cooc=\"cooc\", dense=\"cooc\", dense_em=\"em\")\n",
    "\n",
    "# ## Tune hyper-parameters\n",
    "# l = np.ceil(n / 3) if l_fixed else None"
   ],
   "metadata": {
    "collapsed": false,
    "pycharm": {
     "name": "#%%\n"
    }
   }
  },
  {
   "cell_type": "code",
   "execution_count": 9,
   "outputs": [],
   "source": [
    "# lengths = np.array(lengths)"
   ],
   "metadata": {
    "collapsed": false,
    "pycharm": {
     "name": "#%%\n"
    }
   }
  },
  {
   "cell_type": "code",
   "execution_count": 10,
   "outputs": [],
   "source": [
    "# def _lengths_iterator(seqs, lengths):\n",
    "#     n_seqs = len(lengths)\n",
    "#     left, right = 0, 0\n",
    "#\n",
    "#     for i in range(len(lengths)):\n",
    "#         right += lengths[i]\n",
    "#         yield seqs[left:right]\n",
    "#         left += lengths[i]"
   ],
   "metadata": {
    "collapsed": false,
    "pycharm": {
     "name": "#%%\n"
    }
   }
  },
  {
   "cell_type": "code",
   "execution_count": 11,
   "outputs": [],
   "source": [
    "params = {'cooc_lr_param': 0.33718043519210716, 'cooc_epochs_param': 787947, 'l_param': 4}"
   ],
   "metadata": {
    "collapsed": false,
    "pycharm": {
     "name": "#%%\n"
    }
   }
  },
  {
   "cell_type": "code",
   "execution_count": 12,
   "outputs": [
    {
     "name": "stderr",
     "output_type": "stream",
     "text": [
      "\u001B[34m\u001B[1mwandb\u001B[0m: Currently logged in as: \u001B[33mkabalce\u001B[0m (\u001B[33mcirglaboratory\u001B[0m). Use \u001B[1m`wandb login --relogin`\u001B[0m to force relogin\n"
     ]
    },
    {
     "data": {
      "text/plain": "<IPython.core.display.HTML object>",
      "text/html": "wandb version 0.13.2 is available!  To upgrade, please run:\n $ pip install wandb --upgrade"
     },
     "metadata": {},
     "output_type": "display_data"
    },
    {
     "data": {
      "text/plain": "<IPython.core.display.HTML object>",
      "text/html": "Tracking run with wandb version 0.12.21"
     },
     "metadata": {},
     "output_type": "display_data"
    },
    {
     "data": {
      "text/plain": "<IPython.core.display.HTML object>",
      "text/html": "Run data is saved locally in <code>/ziob/klaudia/recommender_system/src/models/gaussian_dense_hmm/dense-hmm/code_dense_hmm/wandb/run-20220826_112129-382rrjx9</code>"
     },
     "metadata": {},
     "output_type": "display_data"
    },
    {
     "data": {
      "text/plain": "<IPython.core.display.HTML object>",
      "text/html": "Syncing run <strong><a href=\"https://wandb.ai/cirglaboratory/gaussian-dense-hmm/runs/382rrjx9\" target=\"_blank\">HMMlearn</a></strong> to <a href=\"https://wandb.ai/cirglaboratory/gaussian-dense-hmm\" target=\"_blank\">Weights & Biases</a> (<a href=\"https://wandb.me/run\" target=\"_blank\">docs</a>)<br/>"
     },
     "metadata": {},
     "output_type": "display_data"
    },
    {
     "name": "stderr",
     "output_type": "stream",
     "text": [
      "         1       -9742.4601             +nan\n",
      "         2       -9419.7130        +322.7471\n",
      "         3       -9386.2331         +33.4798\n",
      "         4       -9347.2111         +39.0220\n",
      "         5       -9295.6760         +51.5351\n",
      "         6       -9226.7489         +68.9271\n",
      "         7       -9110.7958        +115.9532\n",
      "         8       -8880.2629        +230.5329\n",
      "         9       -8609.6140        +270.6489\n",
      "        10       -8359.7066        +249.9075\n",
      "        11       -8128.5887        +231.1179\n",
      "        12       -7997.8361        +130.7525\n",
      "        13       -7763.4685        +234.3677\n",
      "        14       -7399.1141        +364.3544\n",
      "        15       -7240.4404        +158.6737\n",
      "        16       -6995.1608        +245.2796\n",
      "        17       -6803.4737        +191.6871\n",
      "        18       -6760.1019         +43.3718\n",
      "        19       -6735.1861         +24.9158\n",
      "        20       -6703.8104         +31.3756\n",
      "        21       -6660.5751         +43.2354\n",
      "        22       -6580.4637         +80.1114\n",
      "        23       -6518.6246         +61.8390\n",
      "        24       -6510.1444          +8.4803\n",
      "        25       -6503.7453          +6.3990\n",
      "        26       -6496.7667          +6.9786\n",
      "        27       -6486.1612         +10.6056\n",
      "        28       -6464.9083         +21.2529\n",
      "        29       -6418.6562         +46.2520\n",
      "        30       -6393.0223         +25.6339\n",
      "        31       -6377.8508         +15.1715\n",
      "        32       -6346.4067         +31.4440\n",
      "        33       -6290.3343         +56.0724\n",
      "        34       -6251.2569         +39.0774\n",
      "        35       -6251.2467          +0.0102\n",
      "        36       -6251.2418          +0.0049\n",
      "        37       -6251.2371          +0.0047\n",
      "        38       -6251.2325          +0.0046\n",
      "        39       -6251.2279          +0.0046\n",
      "        40       -6251.2233          +0.0046\n",
      "        41       -6251.2188          +0.0045\n",
      "        42       -6251.2143          +0.0045\n",
      "        43       -6251.2099          +0.0044\n",
      "        44       -6251.2056          +0.0043\n",
      "        45       -6251.2014          +0.0042\n",
      "        46       -6251.1974          +0.0040\n",
      "        47       -6251.1936          +0.0038\n",
      "        48       -6251.1900          +0.0036\n",
      "        49       -6251.1866          +0.0033\n",
      "        50       -6251.1836          +0.0031\n",
      "        51       -6251.1808          +0.0028\n",
      "        52       -6251.1783          +0.0025\n",
      "        53       -6251.1761          +0.0022\n",
      "        54       -6251.1741          +0.0020\n",
      "        55       -6251.1723          +0.0017\n",
      "        56       -6251.1708          +0.0015\n",
      "        57       -6251.1695          +0.0013\n",
      "        58       -6251.1684          +0.0011\n",
      "        59       -6251.1674          +0.0010\n",
      "        60       -6251.1666          +0.0008\n",
      "        61       -6251.1658          +0.0007\n",
      "        62       -6251.1652          +0.0006\n",
      "        63       -6251.1647          +0.0005\n",
      "        64       -6251.1643          +0.0004\n",
      "        65       -6251.1639          +0.0004\n",
      "        66       -6251.1636          +0.0003\n",
      "        67       -6251.1633          +0.0003\n",
      "        68       -6251.1631          +0.0002\n",
      "        69       -6251.1629          +0.0002\n",
      "        70       -6251.1627          +0.0002\n",
      "        71       -6251.1626          +0.0001\n",
      "        72       -6251.1625          +0.0001\n",
      "        73       -6251.1623          +0.0001\n",
      "        74       -6251.1623          +0.0001\n",
      "        75       -6251.1622          +0.0001\n",
      "        76       -6251.1621          +0.0001\n",
      "        77       -6251.1621          +0.0001\n",
      "        78       -6251.1620          +0.0001\n",
      "        79       -6251.1620          +0.0000\n"
     ]
    },
    {
     "data": {
      "text/plain": "<IPython.core.display.HTML object>",
      "text/html": "Finishing last run (ID:382rrjx9) before initializing another..."
     },
     "metadata": {},
     "output_type": "display_data"
    },
    {
     "data": {
      "text/plain": "<IPython.core.display.HTML object>",
      "text/html": "Waiting for W&B process to finish... <strong style=\"color:green\">(success).</strong>"
     },
     "metadata": {},
     "output_type": "display_data"
    },
    {
     "data": {
      "text/plain": "VBox(children=(Label(value='0.000 MB of 0.000 MB uploaded (0.000 MB deduped)\\r'), FloatProgress(value=1.0, max…",
      "application/vnd.jupyter.widget-view+json": {
       "version_major": 2,
       "version_minor": 0,
       "model_id": "e3ca26a2013d4643b8cc334fc3e557c8"
      }
     },
     "metadata": {},
     "output_type": "display_data"
    },
    {
     "data": {
      "text/plain": "<IPython.core.display.HTML object>",
      "text/html": "<style>\n    table.wandb td:nth-child(1) { padding: 0 10px; text-align: left ; width: auto;} td:nth-child(2) {text-align: left ; width: 100%}\n    .wandb-row { display: flex; flex-direction: row; flex-wrap: wrap; justify-content: flex-start; width: 100% }\n    .wandb-col { display: flex; flex-direction: column; flex-basis: 100%; flex: 1; padding: 10px; }\n    </style>\n<div class=\"wandb-row\"><div class=\"wandb-col\"><h3>Run history:</h3><br/><table class=\"wandb\"><tr><td>time</td><td>▁▁▁▁▂▂▂▂▂▂▂▃▃▃▃▃▃▄▄▄▄▄▄▅▅▅▅▅▅▅▆▆▆▆▆▇████</td></tr><tr><td>total_log_prob</td><td>▁▂▂▂▃▄▅▆▇▇▇▇▇███████████████████████████</td></tr></table><br/></div><div class=\"wandb-col\"><h3>Run summary:</h3><br/><table class=\"wandb\"><tr><td>time</td><td>12.42478</td></tr><tr><td>total_log_prob</td><td>-6251.16196</td></tr></table><br/></div></div>"
     },
     "metadata": {},
     "output_type": "display_data"
    },
    {
     "data": {
      "text/plain": "<IPython.core.display.HTML object>",
      "text/html": "Synced <strong style=\"color:#cdcd00\">HMMlearn</strong>: <a href=\"https://wandb.ai/cirglaboratory/gaussian-dense-hmm/runs/382rrjx9\" target=\"_blank\">https://wandb.ai/cirglaboratory/gaussian-dense-hmm/runs/382rrjx9</a><br/>Synced 7 W&B file(s), 0 media file(s), 0 artifact file(s) and 1 other file(s)"
     },
     "metadata": {},
     "output_type": "display_data"
    },
    {
     "data": {
      "text/plain": "<IPython.core.display.HTML object>",
      "text/html": "Find logs at: <code>./wandb/run-20220826_112129-382rrjx9/logs</code>"
     },
     "metadata": {},
     "output_type": "display_data"
    },
    {
     "data": {
      "text/plain": "<IPython.core.display.HTML object>",
      "text/html": "Successfully finished last run (ID:382rrjx9). Initializing new run:<br/>"
     },
     "metadata": {},
     "output_type": "display_data"
    },
    {
     "data": {
      "text/plain": "<IPython.core.display.HTML object>",
      "text/html": "wandb version 0.13.2 is available!  To upgrade, please run:\n $ pip install wandb --upgrade"
     },
     "metadata": {},
     "output_type": "display_data"
    },
    {
     "data": {
      "text/plain": "<IPython.core.display.HTML object>",
      "text/html": "Tracking run with wandb version 0.12.21"
     },
     "metadata": {},
     "output_type": "display_data"
    },
    {
     "data": {
      "text/plain": "<IPython.core.display.HTML object>",
      "text/html": "Run data is saved locally in <code>/ziob/klaudia/recommender_system/src/models/gaussian_dense_hmm/dense-hmm/code_dense_hmm/wandb/run-20220826_112138-1va5hlnu</code>"
     },
     "metadata": {},
     "output_type": "display_data"
    },
    {
     "data": {
      "text/plain": "<IPython.core.display.HTML object>",
      "text/html": "Syncing run <strong><a href=\"https://wandb.ai/cirglaboratory/gaussian-dense-hmm/runs/1va5hlnu\" target=\"_blank\">HMMlearn</a></strong> to <a href=\"https://wandb.ai/cirglaboratory/gaussian-dense-hmm\" target=\"_blank\">Weights & Biases</a> (<a href=\"https://wandb.me/run\" target=\"_blank\">docs</a>)<br/>"
     },
     "metadata": {},
     "output_type": "display_data"
    },
    {
     "name": "stderr",
     "output_type": "stream",
     "text": [
      "         1       -9742.4601             +nan\n",
      "         2       -9419.7130        +322.7471\n",
      "         3       -9386.2331         +33.4798\n",
      "         4       -9347.2111         +39.0220\n",
      "         5       -9295.6760         +51.5351\n",
      "         6       -9226.7489         +68.9271\n",
      "         7       -9110.7958        +115.9532\n",
      "         8       -8880.2629        +230.5329\n",
      "         9       -8609.6140        +270.6489\n",
      "        10       -8359.7066        +249.9075\n",
      "        11       -8128.5887        +231.1179\n",
      "        12       -7997.8361        +130.7525\n",
      "        13       -7763.4685        +234.3677\n",
      "        14       -7399.1141        +364.3544\n",
      "        15       -7240.4404        +158.6737\n",
      "        16       -6995.1608        +245.2796\n",
      "        17       -6803.4737        +191.6871\n",
      "        18       -6760.1019         +43.3718\n",
      "        19       -6735.1861         +24.9158\n",
      "        20       -6703.8104         +31.3756\n",
      "        21       -6660.5751         +43.2354\n",
      "        22       -6580.4637         +80.1114\n",
      "        23       -6518.6246         +61.8390\n",
      "        24       -6510.1444          +8.4803\n",
      "        25       -6503.7453          +6.3990\n",
      "        26       -6496.7667          +6.9786\n",
      "        27       -6486.1612         +10.6056\n",
      "        28       -6464.9083         +21.2529\n",
      "        29       -6418.6562         +46.2520\n",
      "        30       -6393.0223         +25.6339\n",
      "        31       -6377.8508         +15.1715\n",
      "        32       -6346.4067         +31.4440\n",
      "        33       -6290.3343         +56.0724\n",
      "        34       -6251.2569         +39.0774\n",
      "        35       -6251.2467          +0.0102\n",
      "        36       -6251.2418          +0.0049\n",
      "        37       -6251.2371          +0.0047\n",
      "        38       -6251.2325          +0.0046\n",
      "        39       -6251.2279          +0.0046\n",
      "        40       -6251.2233          +0.0046\n",
      "        41       -6251.2188          +0.0045\n",
      "        42       -6251.2143          +0.0045\n",
      "        43       -6251.2099          +0.0044\n",
      "        44       -6251.2056          +0.0043\n",
      "        45       -6251.2014          +0.0042\n",
      "        46       -6251.1974          +0.0040\n",
      "        47       -6251.1936          +0.0038\n",
      "        48       -6251.1900          +0.0036\n",
      "        49       -6251.1866          +0.0033\n",
      "        50       -6251.1836          +0.0031\n",
      "        51       -6251.1808          +0.0028\n",
      "        52       -6251.1783          +0.0025\n",
      "        53       -6251.1761          +0.0022\n",
      "        54       -6251.1741          +0.0020\n",
      "        55       -6251.1723          +0.0017\n",
      "        56       -6251.1708          +0.0015\n",
      "        57       -6251.1695          +0.0013\n",
      "        58       -6251.1684          +0.0011\n",
      "        59       -6251.1674          +0.0010\n",
      "        60       -6251.1666          +0.0008\n",
      "        61       -6251.1658          +0.0007\n",
      "        62       -6251.1652          +0.0006\n",
      "        63       -6251.1647          +0.0005\n",
      "        64       -6251.1643          +0.0004\n",
      "        65       -6251.1639          +0.0004\n",
      "        66       -6251.1636          +0.0003\n",
      "        67       -6251.1633          +0.0003\n",
      "        68       -6251.1631          +0.0002\n",
      "        69       -6251.1629          +0.0002\n",
      "        70       -6251.1627          +0.0002\n",
      "        71       -6251.1626          +0.0001\n",
      "        72       -6251.1625          +0.0001\n",
      "        73       -6251.1623          +0.0001\n",
      "        74       -6251.1623          +0.0001\n",
      "        75       -6251.1622          +0.0001\n",
      "        76       -6251.1621          +0.0001\n",
      "        77       -6251.1621          +0.0001\n",
      "        78       -6251.1620          +0.0001\n",
      "        79       -6251.1620          +0.0000\n"
     ]
    },
    {
     "data": {
      "text/plain": "<IPython.core.display.HTML object>",
      "text/html": "Finishing last run (ID:1va5hlnu) before initializing another..."
     },
     "metadata": {},
     "output_type": "display_data"
    },
    {
     "data": {
      "text/plain": "<IPython.core.display.HTML object>",
      "text/html": "Waiting for W&B process to finish... <strong style=\"color:green\">(success).</strong>"
     },
     "metadata": {},
     "output_type": "display_data"
    },
    {
     "data": {
      "text/plain": "VBox(children=(Label(value='0.052 MB of 0.052 MB uploaded (0.000 MB deduped)\\r'), FloatProgress(value=1.0, max…",
      "application/vnd.jupyter.widget-view+json": {
       "version_major": 2,
       "version_minor": 0,
       "model_id": "f5ffbdde53654d68aa55f0ededee0a9a"
      }
     },
     "metadata": {},
     "output_type": "display_data"
    },
    {
     "data": {
      "text/plain": "<IPython.core.display.HTML object>",
      "text/html": "<style>\n    table.wandb td:nth-child(1) { padding: 0 10px; text-align: left ; width: auto;} td:nth-child(2) {text-align: left ; width: 100%}\n    .wandb-row { display: flex; flex-direction: row; flex-wrap: wrap; justify-content: flex-start; width: 100% }\n    .wandb-col { display: flex; flex-direction: column; flex-basis: 100%; flex: 1; padding: 10px; }\n    </style>\n<div class=\"wandb-row\"><div class=\"wandb-col\"><h3>Run history:</h3><br/><table class=\"wandb\"><tr><td>time</td><td>▁▁▁▂▂▂▂▂▂▂▃▃▃▃▃▄▄▄▄▄▄▅▅▅▅▅▆▆▆▆▆▆▇▇▇▇▇███</td></tr><tr><td>total_log_prob</td><td>▁▂▂▂▃▄▅▆▇▇▇▇▇███████████████████████████</td></tr></table><br/></div><div class=\"wandb-col\"><h3>Run summary:</h3><br/><table class=\"wandb\"><tr><td>time</td><td>15.28682</td></tr><tr><td>total_log_prob</td><td>-6251.16196</td></tr></table><br/></div></div>"
     },
     "metadata": {},
     "output_type": "display_data"
    },
    {
     "data": {
      "text/plain": "<IPython.core.display.HTML object>",
      "text/html": "Synced <strong style=\"color:#cdcd00\">HMMlearn</strong>: <a href=\"https://wandb.ai/cirglaboratory/gaussian-dense-hmm/runs/1va5hlnu\" target=\"_blank\">https://wandb.ai/cirglaboratory/gaussian-dense-hmm/runs/1va5hlnu</a><br/>Synced 7 W&B file(s), 0 media file(s), 0 artifact file(s) and 0 other file(s)"
     },
     "metadata": {},
     "output_type": "display_data"
    },
    {
     "data": {
      "text/plain": "<IPython.core.display.HTML object>",
      "text/html": "Find logs at: <code>./wandb/run-20220826_112138-1va5hlnu/logs</code>"
     },
     "metadata": {},
     "output_type": "display_data"
    },
    {
     "data": {
      "text/plain": "<IPython.core.display.HTML object>",
      "text/html": "Successfully finished last run (ID:1va5hlnu). Initializing new run:<br/>"
     },
     "metadata": {},
     "output_type": "display_data"
    },
    {
     "data": {
      "text/plain": "<IPython.core.display.HTML object>",
      "text/html": "wandb version 0.13.2 is available!  To upgrade, please run:\n $ pip install wandb --upgrade"
     },
     "metadata": {},
     "output_type": "display_data"
    },
    {
     "data": {
      "text/plain": "<IPython.core.display.HTML object>",
      "text/html": "Tracking run with wandb version 0.12.21"
     },
     "metadata": {},
     "output_type": "display_data"
    },
    {
     "data": {
      "text/plain": "<IPython.core.display.HTML object>",
      "text/html": "Run data is saved locally in <code>/ziob/klaudia/recommender_system/src/models/gaussian_dense_hmm/dense-hmm/code_dense_hmm/wandb/run-20220826_112154-3bilvuw8</code>"
     },
     "metadata": {},
     "output_type": "display_data"
    },
    {
     "data": {
      "text/plain": "<IPython.core.display.HTML object>",
      "text/html": "Syncing run <strong><a href=\"https://wandb.ai/cirglaboratory/gaussian-dense-hmm/runs/3bilvuw8\" target=\"_blank\">HMMlearn</a></strong> to <a href=\"https://wandb.ai/cirglaboratory/gaussian-dense-hmm\" target=\"_blank\">Weights & Biases</a> (<a href=\"https://wandb.me/run\" target=\"_blank\">docs</a>)<br/>"
     },
     "metadata": {},
     "output_type": "display_data"
    },
    {
     "name": "stderr",
     "output_type": "stream",
     "text": [
      "         1       -9742.4601             +nan\n",
      "         2       -9419.7130        +322.7471\n",
      "         3       -9386.2331         +33.4798\n",
      "         4       -9347.2111         +39.0220\n",
      "         5       -9295.6760         +51.5351\n",
      "         6       -9226.7489         +68.9271\n",
      "         7       -9110.7958        +115.9532\n",
      "         8       -8880.2629        +230.5329\n",
      "         9       -8609.6140        +270.6489\n",
      "        10       -8359.7066        +249.9075\n",
      "        11       -8128.5887        +231.1179\n",
      "        12       -7997.8361        +130.7525\n",
      "        13       -7763.4685        +234.3677\n",
      "        14       -7399.1141        +364.3544\n",
      "        15       -7240.4404        +158.6737\n",
      "        16       -6995.1608        +245.2796\n",
      "        17       -6803.4737        +191.6871\n",
      "        18       -6760.1019         +43.3718\n",
      "        19       -6735.1861         +24.9158\n",
      "        20       -6703.8104         +31.3756\n",
      "        21       -6660.5751         +43.2354\n",
      "        22       -6580.4637         +80.1114\n",
      "        23       -6518.6246         +61.8390\n",
      "        24       -6510.1444          +8.4803\n",
      "        25       -6503.7453          +6.3990\n",
      "        26       -6496.7667          +6.9786\n",
      "        27       -6486.1612         +10.6056\n",
      "        28       -6464.9083         +21.2529\n",
      "        29       -6418.6562         +46.2520\n",
      "        30       -6393.0223         +25.6339\n",
      "        31       -6377.8508         +15.1715\n",
      "        32       -6346.4067         +31.4440\n",
      "        33       -6290.3343         +56.0724\n",
      "        34       -6251.2569         +39.0774\n",
      "        35       -6251.2467          +0.0102\n",
      "        36       -6251.2418          +0.0049\n",
      "        37       -6251.2371          +0.0047\n",
      "        38       -6251.2325          +0.0046\n",
      "        39       -6251.2279          +0.0046\n",
      "        40       -6251.2233          +0.0046\n",
      "        41       -6251.2188          +0.0045\n",
      "        42       -6251.2143          +0.0045\n",
      "        43       -6251.2099          +0.0044\n",
      "        44       -6251.2056          +0.0043\n",
      "        45       -6251.2014          +0.0042\n",
      "        46       -6251.1974          +0.0040\n",
      "        47       -6251.1936          +0.0038\n",
      "        48       -6251.1900          +0.0036\n",
      "        49       -6251.1866          +0.0033\n",
      "        50       -6251.1836          +0.0031\n",
      "        51       -6251.1808          +0.0028\n",
      "        52       -6251.1783          +0.0025\n",
      "        53       -6251.1761          +0.0022\n",
      "        54       -6251.1741          +0.0020\n",
      "        55       -6251.1723          +0.0017\n",
      "        56       -6251.1708          +0.0015\n",
      "        57       -6251.1695          +0.0013\n",
      "        58       -6251.1684          +0.0011\n",
      "        59       -6251.1674          +0.0010\n",
      "        60       -6251.1666          +0.0008\n",
      "        61       -6251.1658          +0.0007\n",
      "        62       -6251.1652          +0.0006\n",
      "        63       -6251.1647          +0.0005\n",
      "        64       -6251.1643          +0.0004\n",
      "        65       -6251.1639          +0.0004\n",
      "        66       -6251.1636          +0.0003\n",
      "        67       -6251.1633          +0.0003\n",
      "        68       -6251.1631          +0.0002\n",
      "        69       -6251.1629          +0.0002\n",
      "        70       -6251.1627          +0.0002\n",
      "        71       -6251.1626          +0.0001\n",
      "        72       -6251.1625          +0.0001\n",
      "        73       -6251.1623          +0.0001\n",
      "        74       -6251.1623          +0.0001\n",
      "        75       -6251.1622          +0.0001\n",
      "        76       -6251.1621          +0.0001\n",
      "        77       -6251.1621          +0.0001\n",
      "        78       -6251.1620          +0.0001\n",
      "        79       -6251.1620          +0.0000\n"
     ]
    },
    {
     "data": {
      "text/plain": "<IPython.core.display.HTML object>",
      "text/html": "Finishing last run (ID:3bilvuw8) before initializing another..."
     },
     "metadata": {},
     "output_type": "display_data"
    },
    {
     "data": {
      "text/plain": "<IPython.core.display.HTML object>",
      "text/html": "Waiting for W&B process to finish... <strong style=\"color:green\">(success).</strong>"
     },
     "metadata": {},
     "output_type": "display_data"
    },
    {
     "data": {
      "text/plain": "VBox(children=(Label(value='0.052 MB of 0.052 MB uploaded (0.000 MB deduped)\\r'), FloatProgress(value=1.0, max…",
      "application/vnd.jupyter.widget-view+json": {
       "version_major": 2,
       "version_minor": 0,
       "model_id": "e9bb3af358b645ae93070bdcd7280bdb"
      }
     },
     "metadata": {},
     "output_type": "display_data"
    },
    {
     "data": {
      "text/plain": "<IPython.core.display.HTML object>",
      "text/html": "<style>\n    table.wandb td:nth-child(1) { padding: 0 10px; text-align: left ; width: auto;} td:nth-child(2) {text-align: left ; width: 100%}\n    .wandb-row { display: flex; flex-direction: row; flex-wrap: wrap; justify-content: flex-start; width: 100% }\n    .wandb-col { display: flex; flex-direction: column; flex-basis: 100%; flex: 1; padding: 10px; }\n    </style>\n<div class=\"wandb-row\"><div class=\"wandb-col\"><h3>Run history:</h3><br/><table class=\"wandb\"><tr><td>time</td><td>▁▁▁▁▂▂▂▂▂▂▃▃▃▃▃▄▄▄▄▄▄▅▅▅▅▅▅▆▆▆▆▆▇▇▇▇▇███</td></tr><tr><td>total_log_prob</td><td>▁▂▂▂▃▄▅▆▇▇▇▇▇███████████████████████████</td></tr></table><br/></div><div class=\"wandb-col\"><h3>Run summary:</h3><br/><table class=\"wandb\"><tr><td>time</td><td>12.74547</td></tr><tr><td>total_log_prob</td><td>-6251.16196</td></tr></table><br/></div></div>"
     },
     "metadata": {},
     "output_type": "display_data"
    },
    {
     "data": {
      "text/plain": "<IPython.core.display.HTML object>",
      "text/html": "Synced <strong style=\"color:#cdcd00\">HMMlearn</strong>: <a href=\"https://wandb.ai/cirglaboratory/gaussian-dense-hmm/runs/3bilvuw8\" target=\"_blank\">https://wandb.ai/cirglaboratory/gaussian-dense-hmm/runs/3bilvuw8</a><br/>Synced 7 W&B file(s), 0 media file(s), 0 artifact file(s) and 1 other file(s)"
     },
     "metadata": {},
     "output_type": "display_data"
    },
    {
     "data": {
      "text/plain": "<IPython.core.display.HTML object>",
      "text/html": "Find logs at: <code>./wandb/run-20220826_112154-3bilvuw8/logs</code>"
     },
     "metadata": {},
     "output_type": "display_data"
    },
    {
     "data": {
      "text/plain": "<IPython.core.display.HTML object>",
      "text/html": "Successfully finished last run (ID:3bilvuw8). Initializing new run:<br/>"
     },
     "metadata": {},
     "output_type": "display_data"
    },
    {
     "data": {
      "text/plain": "<IPython.core.display.HTML object>",
      "text/html": "wandb version 0.13.2 is available!  To upgrade, please run:\n $ pip install wandb --upgrade"
     },
     "metadata": {},
     "output_type": "display_data"
    },
    {
     "data": {
      "text/plain": "<IPython.core.display.HTML object>",
      "text/html": "Tracking run with wandb version 0.12.21"
     },
     "metadata": {},
     "output_type": "display_data"
    },
    {
     "data": {
      "text/plain": "<IPython.core.display.HTML object>",
      "text/html": "Run data is saved locally in <code>/ziob/klaudia/recommender_system/src/models/gaussian_dense_hmm/dense-hmm/code_dense_hmm/wandb/run-20220826_112206-2u2odkx1</code>"
     },
     "metadata": {},
     "output_type": "display_data"
    },
    {
     "data": {
      "text/plain": "<IPython.core.display.HTML object>",
      "text/html": "Syncing run <strong><a href=\"https://wandb.ai/cirglaboratory/gaussian-dense-hmm/runs/2u2odkx1\" target=\"_blank\">HMMlearn</a></strong> to <a href=\"https://wandb.ai/cirglaboratory/gaussian-dense-hmm\" target=\"_blank\">Weights & Biases</a> (<a href=\"https://wandb.me/run\" target=\"_blank\">docs</a>)<br/>"
     },
     "metadata": {},
     "output_type": "display_data"
    },
    {
     "name": "stderr",
     "output_type": "stream",
     "text": [
      "         1       -9742.4601             +nan\n",
      "         2       -9419.7130        +322.7471\n",
      "         3       -9386.2331         +33.4798\n",
      "         4       -9347.2111         +39.0220\n",
      "         5       -9295.6760         +51.5351\n",
      "         6       -9226.7489         +68.9271\n",
      "         7       -9110.7958        +115.9532\n",
      "         8       -8880.2629        +230.5329\n",
      "         9       -8609.6140        +270.6489\n",
      "        10       -8359.7066        +249.9075\n",
      "        11       -8128.5887        +231.1179\n",
      "        12       -7997.8361        +130.7525\n",
      "        13       -7763.4685        +234.3677\n",
      "        14       -7399.1141        +364.3544\n",
      "        15       -7240.4404        +158.6737\n",
      "        16       -6995.1608        +245.2796\n",
      "        17       -6803.4737        +191.6871\n",
      "        18       -6760.1019         +43.3718\n",
      "        19       -6735.1861         +24.9158\n",
      "        20       -6703.8104         +31.3756\n",
      "        21       -6660.5751         +43.2354\n",
      "        22       -6580.4637         +80.1114\n",
      "        23       -6518.6246         +61.8390\n",
      "        24       -6510.1444          +8.4803\n",
      "        25       -6503.7453          +6.3990\n",
      "        26       -6496.7667          +6.9786\n",
      "        27       -6486.1612         +10.6056\n",
      "        28       -6464.9083         +21.2529\n",
      "        29       -6418.6562         +46.2520\n",
      "        30       -6393.0223         +25.6339\n",
      "        31       -6377.8508         +15.1715\n",
      "        32       -6346.4067         +31.4440\n",
      "        33       -6290.3343         +56.0724\n",
      "        34       -6251.2569         +39.0774\n",
      "        35       -6251.2467          +0.0102\n",
      "        36       -6251.2418          +0.0049\n",
      "        37       -6251.2371          +0.0047\n",
      "        38       -6251.2325          +0.0046\n",
      "        39       -6251.2279          +0.0046\n",
      "        40       -6251.2233          +0.0046\n",
      "        41       -6251.2188          +0.0045\n",
      "        42       -6251.2143          +0.0045\n",
      "        43       -6251.2099          +0.0044\n",
      "        44       -6251.2056          +0.0043\n",
      "        45       -6251.2014          +0.0042\n",
      "        46       -6251.1974          +0.0040\n",
      "        47       -6251.1936          +0.0038\n",
      "        48       -6251.1900          +0.0036\n",
      "        49       -6251.1866          +0.0033\n",
      "        50       -6251.1836          +0.0031\n",
      "        51       -6251.1808          +0.0028\n",
      "        52       -6251.1783          +0.0025\n",
      "        53       -6251.1761          +0.0022\n",
      "        54       -6251.1741          +0.0020\n",
      "        55       -6251.1723          +0.0017\n",
      "        56       -6251.1708          +0.0015\n",
      "        57       -6251.1695          +0.0013\n",
      "        58       -6251.1684          +0.0011\n",
      "        59       -6251.1674          +0.0010\n",
      "        60       -6251.1666          +0.0008\n",
      "        61       -6251.1658          +0.0007\n",
      "        62       -6251.1652          +0.0006\n",
      "        63       -6251.1647          +0.0005\n",
      "        64       -6251.1643          +0.0004\n",
      "        65       -6251.1639          +0.0004\n",
      "        66       -6251.1636          +0.0003\n",
      "        67       -6251.1633          +0.0003\n",
      "        68       -6251.1631          +0.0002\n",
      "        69       -6251.1629          +0.0002\n",
      "        70       -6251.1627          +0.0002\n",
      "        71       -6251.1626          +0.0001\n",
      "        72       -6251.1625          +0.0001\n",
      "        73       -6251.1623          +0.0001\n",
      "        74       -6251.1623          +0.0001\n",
      "        75       -6251.1622          +0.0001\n",
      "        76       -6251.1621          +0.0001\n",
      "        77       -6251.1621          +0.0001\n",
      "        78       -6251.1620          +0.0001\n",
      "        79       -6251.1620          +0.0000\n"
     ]
    },
    {
     "data": {
      "text/plain": "<IPython.core.display.HTML object>",
      "text/html": "Finishing last run (ID:2u2odkx1) before initializing another..."
     },
     "metadata": {},
     "output_type": "display_data"
    },
    {
     "data": {
      "text/plain": "<IPython.core.display.HTML object>",
      "text/html": "Waiting for W&B process to finish... <strong style=\"color:green\">(success).</strong>"
     },
     "metadata": {},
     "output_type": "display_data"
    },
    {
     "data": {
      "text/plain": "VBox(children=(Label(value='0.052 MB of 0.052 MB uploaded (0.000 MB deduped)\\r'), FloatProgress(value=1.0, max…",
      "application/vnd.jupyter.widget-view+json": {
       "version_major": 2,
       "version_minor": 0,
       "model_id": "1a0fe57d52fb45a0b97c4b56f4989233"
      }
     },
     "metadata": {},
     "output_type": "display_data"
    },
    {
     "data": {
      "text/plain": "<IPython.core.display.HTML object>",
      "text/html": "<style>\n    table.wandb td:nth-child(1) { padding: 0 10px; text-align: left ; width: auto;} td:nth-child(2) {text-align: left ; width: 100%}\n    .wandb-row { display: flex; flex-direction: row; flex-wrap: wrap; justify-content: flex-start; width: 100% }\n    .wandb-col { display: flex; flex-direction: column; flex-basis: 100%; flex: 1; padding: 10px; }\n    </style>\n<div class=\"wandb-row\"><div class=\"wandb-col\"><h3>Run history:</h3><br/><table class=\"wandb\"><tr><td>time</td><td>▁▁▁▁▂▂▂▂▂▂▃▃▃▃▃▄▄▄▄▄▄▅▅▅▅▅▅▆▆▆▆▆▇▇▇▇▇███</td></tr><tr><td>total_log_prob</td><td>▁▂▂▂▃▄▅▆▇▇▇▇▇███████████████████████████</td></tr></table><br/></div><div class=\"wandb-col\"><h3>Run summary:</h3><br/><table class=\"wandb\"><tr><td>time</td><td>12.52573</td></tr><tr><td>total_log_prob</td><td>-6251.16196</td></tr></table><br/></div></div>"
     },
     "metadata": {},
     "output_type": "display_data"
    },
    {
     "data": {
      "text/plain": "<IPython.core.display.HTML object>",
      "text/html": "Synced <strong style=\"color:#cdcd00\">HMMlearn</strong>: <a href=\"https://wandb.ai/cirglaboratory/gaussian-dense-hmm/runs/2u2odkx1\" target=\"_blank\">https://wandb.ai/cirglaboratory/gaussian-dense-hmm/runs/2u2odkx1</a><br/>Synced 7 W&B file(s), 0 media file(s), 0 artifact file(s) and 0 other file(s)"
     },
     "metadata": {},
     "output_type": "display_data"
    },
    {
     "data": {
      "text/plain": "<IPython.core.display.HTML object>",
      "text/html": "Find logs at: <code>./wandb/run-20220826_112206-2u2odkx1/logs</code>"
     },
     "metadata": {},
     "output_type": "display_data"
    },
    {
     "data": {
      "text/plain": "<IPython.core.display.HTML object>",
      "text/html": "Successfully finished last run (ID:2u2odkx1). Initializing new run:<br/>"
     },
     "metadata": {},
     "output_type": "display_data"
    },
    {
     "data": {
      "text/plain": "<IPython.core.display.HTML object>",
      "text/html": "wandb version 0.13.2 is available!  To upgrade, please run:\n $ pip install wandb --upgrade"
     },
     "metadata": {},
     "output_type": "display_data"
    },
    {
     "data": {
      "text/plain": "<IPython.core.display.HTML object>",
      "text/html": "Tracking run with wandb version 0.12.21"
     },
     "metadata": {},
     "output_type": "display_data"
    },
    {
     "data": {
      "text/plain": "<IPython.core.display.HTML object>",
      "text/html": "Run data is saved locally in <code>/ziob/klaudia/recommender_system/src/models/gaussian_dense_hmm/dense-hmm/code_dense_hmm/wandb/run-20220826_112219-39j5a0vg</code>"
     },
     "metadata": {},
     "output_type": "display_data"
    },
    {
     "data": {
      "text/plain": "<IPython.core.display.HTML object>",
      "text/html": "Syncing run <strong><a href=\"https://wandb.ai/cirglaboratory/gaussian-dense-hmm/runs/39j5a0vg\" target=\"_blank\">HMMlearn</a></strong> to <a href=\"https://wandb.ai/cirglaboratory/gaussian-dense-hmm\" target=\"_blank\">Weights & Biases</a> (<a href=\"https://wandb.me/run\" target=\"_blank\">docs</a>)<br/>"
     },
     "metadata": {},
     "output_type": "display_data"
    },
    {
     "name": "stderr",
     "output_type": "stream",
     "text": [
      "         1       -9742.4601             +nan\n",
      "         2       -9419.7130        +322.7471\n",
      "         3       -9386.2331         +33.4798\n",
      "         4       -9347.2111         +39.0220\n",
      "         5       -9295.6760         +51.5351\n",
      "         6       -9226.7489         +68.9271\n",
      "         7       -9110.7958        +115.9532\n",
      "         8       -8880.2629        +230.5329\n",
      "         9       -8609.6140        +270.6489\n",
      "        10       -8359.7066        +249.9075\n",
      "        11       -8128.5887        +231.1179\n",
      "        12       -7997.8361        +130.7525\n",
      "        13       -7763.4685        +234.3677\n",
      "        14       -7399.1141        +364.3544\n",
      "        15       -7240.4404        +158.6737\n",
      "        16       -6995.1608        +245.2796\n",
      "        17       -6803.4737        +191.6871\n",
      "        18       -6760.1019         +43.3718\n",
      "        19       -6735.1861         +24.9158\n",
      "        20       -6703.8104         +31.3756\n",
      "        21       -6660.5751         +43.2354\n",
      "        22       -6580.4637         +80.1114\n",
      "        23       -6518.6246         +61.8390\n",
      "        24       -6510.1444          +8.4803\n",
      "        25       -6503.7453          +6.3990\n",
      "        26       -6496.7667          +6.9786\n",
      "        27       -6486.1612         +10.6056\n",
      "        28       -6464.9083         +21.2529\n",
      "        29       -6418.6562         +46.2520\n",
      "        30       -6393.0223         +25.6339\n",
      "        31       -6377.8508         +15.1715\n",
      "        32       -6346.4067         +31.4440\n",
      "        33       -6290.3343         +56.0724\n",
      "        34       -6251.2569         +39.0774\n",
      "        35       -6251.2467          +0.0102\n",
      "        36       -6251.2418          +0.0049\n",
      "        37       -6251.2371          +0.0047\n",
      "        38       -6251.2325          +0.0046\n",
      "        39       -6251.2279          +0.0046\n",
      "        40       -6251.2233          +0.0046\n",
      "        41       -6251.2188          +0.0045\n",
      "        42       -6251.2143          +0.0045\n",
      "        43       -6251.2099          +0.0044\n",
      "        44       -6251.2056          +0.0043\n",
      "        45       -6251.2014          +0.0042\n",
      "        46       -6251.1974          +0.0040\n",
      "        47       -6251.1936          +0.0038\n",
      "        48       -6251.1900          +0.0036\n",
      "        49       -6251.1866          +0.0033\n",
      "        50       -6251.1836          +0.0031\n",
      "        51       -6251.1808          +0.0028\n",
      "        52       -6251.1783          +0.0025\n",
      "        53       -6251.1761          +0.0022\n",
      "        54       -6251.1741          +0.0020\n",
      "        55       -6251.1723          +0.0017\n",
      "        56       -6251.1708          +0.0015\n",
      "        57       -6251.1695          +0.0013\n",
      "        58       -6251.1684          +0.0011\n",
      "        59       -6251.1674          +0.0010\n",
      "        60       -6251.1666          +0.0008\n",
      "        61       -6251.1658          +0.0007\n",
      "        62       -6251.1652          +0.0006\n",
      "        63       -6251.1647          +0.0005\n",
      "        64       -6251.1643          +0.0004\n",
      "        65       -6251.1639          +0.0004\n",
      "        66       -6251.1636          +0.0003\n",
      "        67       -6251.1633          +0.0003\n",
      "        68       -6251.1631          +0.0002\n",
      "        69       -6251.1629          +0.0002\n",
      "        70       -6251.1627          +0.0002\n",
      "        71       -6251.1626          +0.0001\n",
      "        72       -6251.1625          +0.0001\n",
      "        73       -6251.1623          +0.0001\n",
      "        74       -6251.1623          +0.0001\n",
      "        75       -6251.1622          +0.0001\n",
      "        76       -6251.1621          +0.0001\n",
      "        77       -6251.1621          +0.0001\n",
      "        78       -6251.1620          +0.0001\n",
      "        79       -6251.1620          +0.0000\n"
     ]
    },
    {
     "data": {
      "text/plain": "<IPython.core.display.HTML object>",
      "text/html": "Finishing last run (ID:39j5a0vg) before initializing another..."
     },
     "metadata": {},
     "output_type": "display_data"
    },
    {
     "data": {
      "text/plain": "<IPython.core.display.HTML object>",
      "text/html": "Waiting for W&B process to finish... <strong style=\"color:green\">(success).</strong>"
     },
     "metadata": {},
     "output_type": "display_data"
    },
    {
     "data": {
      "text/plain": "VBox(children=(Label(value='0.051 MB of 0.052 MB uploaded (0.000 MB deduped)\\r'), FloatProgress(value=0.986696…",
      "application/vnd.jupyter.widget-view+json": {
       "version_major": 2,
       "version_minor": 0,
       "model_id": "0328270494af47cc9387b3953eaacff1"
      }
     },
     "metadata": {},
     "output_type": "display_data"
    },
    {
     "data": {
      "text/plain": "<IPython.core.display.HTML object>",
      "text/html": "<style>\n    table.wandb td:nth-child(1) { padding: 0 10px; text-align: left ; width: auto;} td:nth-child(2) {text-align: left ; width: 100%}\n    .wandb-row { display: flex; flex-direction: row; flex-wrap: wrap; justify-content: flex-start; width: 100% }\n    .wandb-col { display: flex; flex-direction: column; flex-basis: 100%; flex: 1; padding: 10px; }\n    </style>\n<div class=\"wandb-row\"><div class=\"wandb-col\"><h3>Run history:</h3><br/><table class=\"wandb\"><tr><td>time</td><td>▁▁▁▁▂▂▂▂▂▂▃▃▃▃▃▄▄▄▄▄▄▅▅▅▅▅▅▆▆▆▆▆▇▇▇▇▇███</td></tr><tr><td>total_log_prob</td><td>▁▂▂▂▃▄▅▆▇▇▇▇▇███████████████████████████</td></tr></table><br/></div><div class=\"wandb-col\"><h3>Run summary:</h3><br/><table class=\"wandb\"><tr><td>time</td><td>12.45676</td></tr><tr><td>total_log_prob</td><td>-6251.16196</td></tr></table><br/></div></div>"
     },
     "metadata": {},
     "output_type": "display_data"
    },
    {
     "data": {
      "text/plain": "<IPython.core.display.HTML object>",
      "text/html": "Synced <strong style=\"color:#cdcd00\">HMMlearn</strong>: <a href=\"https://wandb.ai/cirglaboratory/gaussian-dense-hmm/runs/39j5a0vg\" target=\"_blank\">https://wandb.ai/cirglaboratory/gaussian-dense-hmm/runs/39j5a0vg</a><br/>Synced 7 W&B file(s), 0 media file(s), 0 artifact file(s) and 1 other file(s)"
     },
     "metadata": {},
     "output_type": "display_data"
    },
    {
     "data": {
      "text/plain": "<IPython.core.display.HTML object>",
      "text/html": "Find logs at: <code>./wandb/run-20220826_112219-39j5a0vg/logs</code>"
     },
     "metadata": {},
     "output_type": "display_data"
    },
    {
     "data": {
      "text/plain": "<IPython.core.display.HTML object>",
      "text/html": "Successfully finished last run (ID:39j5a0vg). Initializing new run:<br/>"
     },
     "metadata": {},
     "output_type": "display_data"
    },
    {
     "data": {
      "text/plain": "<IPython.core.display.HTML object>",
      "text/html": "wandb version 0.13.2 is available!  To upgrade, please run:\n $ pip install wandb --upgrade"
     },
     "metadata": {},
     "output_type": "display_data"
    },
    {
     "data": {
      "text/plain": "<IPython.core.display.HTML object>",
      "text/html": "Tracking run with wandb version 0.12.21"
     },
     "metadata": {},
     "output_type": "display_data"
    },
    {
     "data": {
      "text/plain": "<IPython.core.display.HTML object>",
      "text/html": "Run data is saved locally in <code>/ziob/klaudia/recommender_system/src/models/gaussian_dense_hmm/dense-hmm/code_dense_hmm/wandb/run-20220826_112231-1w0bsej4</code>"
     },
     "metadata": {},
     "output_type": "display_data"
    },
    {
     "data": {
      "text/plain": "<IPython.core.display.HTML object>",
      "text/html": "Syncing run <strong><a href=\"https://wandb.ai/cirglaboratory/gaussian-dense-hmm/runs/1w0bsej4\" target=\"_blank\">HMMlearn</a></strong> to <a href=\"https://wandb.ai/cirglaboratory/gaussian-dense-hmm\" target=\"_blank\">Weights & Biases</a> (<a href=\"https://wandb.me/run\" target=\"_blank\">docs</a>)<br/>"
     },
     "metadata": {},
     "output_type": "display_data"
    },
    {
     "name": "stderr",
     "output_type": "stream",
     "text": [
      "         1       -9742.4601             +nan\n",
      "         2       -9419.7130        +322.7471\n",
      "         3       -9386.2331         +33.4798\n",
      "         4       -9347.2111         +39.0220\n",
      "         5       -9295.6760         +51.5351\n",
      "         6       -9226.7489         +68.9271\n",
      "         7       -9110.7958        +115.9532\n",
      "         8       -8880.2629        +230.5329\n",
      "         9       -8609.6140        +270.6489\n",
      "        10       -8359.7066        +249.9075\n",
      "        11       -8128.5887        +231.1179\n",
      "        12       -7997.8361        +130.7525\n",
      "        13       -7763.4685        +234.3677\n",
      "        14       -7399.1141        +364.3544\n",
      "        15       -7240.4404        +158.6737\n",
      "        16       -6995.1608        +245.2796\n",
      "        17       -6803.4737        +191.6871\n",
      "        18       -6760.1019         +43.3718\n",
      "        19       -6735.1861         +24.9158\n",
      "        20       -6703.8104         +31.3756\n",
      "        21       -6660.5751         +43.2354\n",
      "        22       -6580.4637         +80.1114\n",
      "        23       -6518.6246         +61.8390\n",
      "        24       -6510.1444          +8.4803\n",
      "        25       -6503.7453          +6.3990\n",
      "        26       -6496.7667          +6.9786\n",
      "        27       -6486.1612         +10.6056\n",
      "        28       -6464.9083         +21.2529\n",
      "        29       -6418.6562         +46.2520\n",
      "        30       -6393.0223         +25.6339\n",
      "        31       -6377.8508         +15.1715\n",
      "        32       -6346.4067         +31.4440\n",
      "        33       -6290.3343         +56.0724\n",
      "        34       -6251.2569         +39.0774\n",
      "        35       -6251.2467          +0.0102\n",
      "        36       -6251.2418          +0.0049\n",
      "        37       -6251.2371          +0.0047\n",
      "        38       -6251.2325          +0.0046\n",
      "        39       -6251.2279          +0.0046\n",
      "        40       -6251.2233          +0.0046\n",
      "        41       -6251.2188          +0.0045\n",
      "        42       -6251.2143          +0.0045\n",
      "        43       -6251.2099          +0.0044\n",
      "        44       -6251.2056          +0.0043\n",
      "        45       -6251.2014          +0.0042\n",
      "        46       -6251.1974          +0.0040\n",
      "        47       -6251.1936          +0.0038\n",
      "        48       -6251.1900          +0.0036\n",
      "        49       -6251.1866          +0.0033\n",
      "        50       -6251.1836          +0.0031\n",
      "        51       -6251.1808          +0.0028\n",
      "        52       -6251.1783          +0.0025\n",
      "        53       -6251.1761          +0.0022\n",
      "        54       -6251.1741          +0.0020\n",
      "        55       -6251.1723          +0.0017\n",
      "        56       -6251.1708          +0.0015\n",
      "        57       -6251.1695          +0.0013\n",
      "        58       -6251.1684          +0.0011\n",
      "        59       -6251.1674          +0.0010\n",
      "        60       -6251.1666          +0.0008\n",
      "        61       -6251.1658          +0.0007\n",
      "        62       -6251.1652          +0.0006\n",
      "        63       -6251.1647          +0.0005\n",
      "        64       -6251.1643          +0.0004\n",
      "        65       -6251.1639          +0.0004\n",
      "        66       -6251.1636          +0.0003\n",
      "        67       -6251.1633          +0.0003\n",
      "        68       -6251.1631          +0.0002\n",
      "        69       -6251.1629          +0.0002\n",
      "        70       -6251.1627          +0.0002\n",
      "        71       -6251.1626          +0.0001\n",
      "        72       -6251.1625          +0.0001\n",
      "        73       -6251.1623          +0.0001\n",
      "        74       -6251.1623          +0.0001\n",
      "        75       -6251.1622          +0.0001\n",
      "        76       -6251.1621          +0.0001\n",
      "        77       -6251.1621          +0.0001\n",
      "        78       -6251.1620          +0.0001\n",
      "        79       -6251.1620          +0.0000\n"
     ]
    },
    {
     "data": {
      "text/plain": "<IPython.core.display.HTML object>",
      "text/html": "Finishing last run (ID:1w0bsej4) before initializing another..."
     },
     "metadata": {},
     "output_type": "display_data"
    },
    {
     "data": {
      "text/plain": "<IPython.core.display.HTML object>",
      "text/html": "Waiting for W&B process to finish... <strong style=\"color:green\">(success).</strong>"
     },
     "metadata": {},
     "output_type": "display_data"
    },
    {
     "data": {
      "text/plain": "VBox(children=(Label(value='0.052 MB of 0.052 MB uploaded (0.000 MB deduped)\\r'), FloatProgress(value=1.0, max…",
      "application/vnd.jupyter.widget-view+json": {
       "version_major": 2,
       "version_minor": 0,
       "model_id": "a4f0928c743b4561b29815d05177cfef"
      }
     },
     "metadata": {},
     "output_type": "display_data"
    },
    {
     "data": {
      "text/plain": "<IPython.core.display.HTML object>",
      "text/html": "<style>\n    table.wandb td:nth-child(1) { padding: 0 10px; text-align: left ; width: auto;} td:nth-child(2) {text-align: left ; width: 100%}\n    .wandb-row { display: flex; flex-direction: row; flex-wrap: wrap; justify-content: flex-start; width: 100% }\n    .wandb-col { display: flex; flex-direction: column; flex-basis: 100%; flex: 1; padding: 10px; }\n    </style>\n<div class=\"wandb-row\"><div class=\"wandb-col\"><h3>Run history:</h3><br/><table class=\"wandb\"><tr><td>time</td><td>▁▁▁▂▂▂▂▂▂▂▃▃▃▃▃▃▄▄▄▄▄▅▅▅▅▅▅▆▆▆▆▆▇▇▇▇▇███</td></tr><tr><td>total_log_prob</td><td>▁▂▂▂▃▄▅▆▇▇▇▇▇███████████████████████████</td></tr></table><br/></div><div class=\"wandb-col\"><h3>Run summary:</h3><br/><table class=\"wandb\"><tr><td>time</td><td>12.51835</td></tr><tr><td>total_log_prob</td><td>-6251.16196</td></tr></table><br/></div></div>"
     },
     "metadata": {},
     "output_type": "display_data"
    },
    {
     "data": {
      "text/plain": "<IPython.core.display.HTML object>",
      "text/html": "Synced <strong style=\"color:#cdcd00\">HMMlearn</strong>: <a href=\"https://wandb.ai/cirglaboratory/gaussian-dense-hmm/runs/1w0bsej4\" target=\"_blank\">https://wandb.ai/cirglaboratory/gaussian-dense-hmm/runs/1w0bsej4</a><br/>Synced 7 W&B file(s), 0 media file(s), 0 artifact file(s) and 0 other file(s)"
     },
     "metadata": {},
     "output_type": "display_data"
    },
    {
     "data": {
      "text/plain": "<IPython.core.display.HTML object>",
      "text/html": "Find logs at: <code>./wandb/run-20220826_112231-1w0bsej4/logs</code>"
     },
     "metadata": {},
     "output_type": "display_data"
    },
    {
     "data": {
      "text/plain": "<IPython.core.display.HTML object>",
      "text/html": "Successfully finished last run (ID:1w0bsej4). Initializing new run:<br/>"
     },
     "metadata": {},
     "output_type": "display_data"
    },
    {
     "data": {
      "text/plain": "<IPython.core.display.HTML object>",
      "text/html": "wandb version 0.13.2 is available!  To upgrade, please run:\n $ pip install wandb --upgrade"
     },
     "metadata": {},
     "output_type": "display_data"
    },
    {
     "data": {
      "text/plain": "<IPython.core.display.HTML object>",
      "text/html": "Tracking run with wandb version 0.12.21"
     },
     "metadata": {},
     "output_type": "display_data"
    },
    {
     "data": {
      "text/plain": "<IPython.core.display.HTML object>",
      "text/html": "Run data is saved locally in <code>/ziob/klaudia/recommender_system/src/models/gaussian_dense_hmm/dense-hmm/code_dense_hmm/wandb/run-20220826_112244-3chi5c4y</code>"
     },
     "metadata": {},
     "output_type": "display_data"
    },
    {
     "data": {
      "text/plain": "<IPython.core.display.HTML object>",
      "text/html": "Syncing run <strong><a href=\"https://wandb.ai/cirglaboratory/gaussian-dense-hmm/runs/3chi5c4y\" target=\"_blank\">HMMlearn</a></strong> to <a href=\"https://wandb.ai/cirglaboratory/gaussian-dense-hmm\" target=\"_blank\">Weights & Biases</a> (<a href=\"https://wandb.me/run\" target=\"_blank\">docs</a>)<br/>"
     },
     "metadata": {},
     "output_type": "display_data"
    },
    {
     "name": "stderr",
     "output_type": "stream",
     "text": [
      "         1       -9742.4601             +nan\n",
      "         2       -9419.7130        +322.7471\n",
      "         3       -9386.2331         +33.4798\n",
      "         4       -9347.2111         +39.0220\n",
      "         5       -9295.6760         +51.5351\n",
      "         6       -9226.7489         +68.9271\n",
      "         7       -9110.7958        +115.9532\n",
      "         8       -8880.2629        +230.5329\n",
      "         9       -8609.6140        +270.6489\n",
      "        10       -8359.7066        +249.9075\n",
      "        11       -8128.5887        +231.1179\n",
      "        12       -7997.8361        +130.7525\n",
      "        13       -7763.4685        +234.3677\n",
      "        14       -7399.1141        +364.3544\n",
      "        15       -7240.4404        +158.6737\n",
      "        16       -6995.1608        +245.2796\n",
      "        17       -6803.4737        +191.6871\n",
      "        18       -6760.1019         +43.3718\n",
      "        19       -6735.1861         +24.9158\n",
      "        20       -6703.8104         +31.3756\n",
      "        21       -6660.5751         +43.2354\n",
      "        22       -6580.4637         +80.1114\n",
      "        23       -6518.6246         +61.8390\n",
      "        24       -6510.1444          +8.4803\n",
      "        25       -6503.7453          +6.3990\n",
      "        26       -6496.7667          +6.9786\n",
      "        27       -6486.1612         +10.6056\n",
      "        28       -6464.9083         +21.2529\n",
      "        29       -6418.6562         +46.2520\n",
      "        30       -6393.0223         +25.6339\n",
      "        31       -6377.8508         +15.1715\n",
      "        32       -6346.4067         +31.4440\n",
      "        33       -6290.3343         +56.0724\n",
      "        34       -6251.2569         +39.0774\n",
      "        35       -6251.2467          +0.0102\n",
      "        36       -6251.2418          +0.0049\n",
      "        37       -6251.2371          +0.0047\n",
      "        38       -6251.2325          +0.0046\n",
      "        39       -6251.2279          +0.0046\n",
      "        40       -6251.2233          +0.0046\n",
      "        41       -6251.2188          +0.0045\n",
      "        42       -6251.2143          +0.0045\n",
      "        43       -6251.2099          +0.0044\n",
      "        44       -6251.2056          +0.0043\n",
      "        45       -6251.2014          +0.0042\n",
      "        46       -6251.1974          +0.0040\n",
      "        47       -6251.1936          +0.0038\n",
      "        48       -6251.1900          +0.0036\n",
      "        49       -6251.1866          +0.0033\n",
      "        50       -6251.1836          +0.0031\n",
      "        51       -6251.1808          +0.0028\n",
      "        52       -6251.1783          +0.0025\n",
      "        53       -6251.1761          +0.0022\n",
      "        54       -6251.1741          +0.0020\n",
      "        55       -6251.1723          +0.0017\n",
      "        56       -6251.1708          +0.0015\n",
      "        57       -6251.1695          +0.0013\n",
      "        58       -6251.1684          +0.0011\n",
      "        59       -6251.1674          +0.0010\n",
      "        60       -6251.1666          +0.0008\n",
      "        61       -6251.1658          +0.0007\n",
      "        62       -6251.1652          +0.0006\n",
      "        63       -6251.1647          +0.0005\n",
      "        64       -6251.1643          +0.0004\n",
      "        65       -6251.1639          +0.0004\n",
      "        66       -6251.1636          +0.0003\n",
      "        67       -6251.1633          +0.0003\n",
      "        68       -6251.1631          +0.0002\n",
      "        69       -6251.1629          +0.0002\n",
      "        70       -6251.1627          +0.0002\n",
      "        71       -6251.1626          +0.0001\n",
      "        72       -6251.1625          +0.0001\n",
      "        73       -6251.1623          +0.0001\n",
      "        74       -6251.1623          +0.0001\n",
      "        75       -6251.1622          +0.0001\n",
      "        76       -6251.1621          +0.0001\n",
      "        77       -6251.1621          +0.0001\n",
      "        78       -6251.1620          +0.0001\n",
      "        79       -6251.1620          +0.0000\n"
     ]
    },
    {
     "data": {
      "text/plain": "<IPython.core.display.HTML object>",
      "text/html": "Finishing last run (ID:3chi5c4y) before initializing another..."
     },
     "metadata": {},
     "output_type": "display_data"
    },
    {
     "data": {
      "text/plain": "<IPython.core.display.HTML object>",
      "text/html": "Waiting for W&B process to finish... <strong style=\"color:green\">(success).</strong>"
     },
     "metadata": {},
     "output_type": "display_data"
    },
    {
     "data": {
      "text/plain": "VBox(children=(Label(value='0.052 MB of 0.052 MB uploaded (0.000 MB deduped)\\r'), FloatProgress(value=1.0, max…",
      "application/vnd.jupyter.widget-view+json": {
       "version_major": 2,
       "version_minor": 0,
       "model_id": "1f398ce6cb4b4a1ca6e93da71a340211"
      }
     },
     "metadata": {},
     "output_type": "display_data"
    },
    {
     "data": {
      "text/plain": "<IPython.core.display.HTML object>",
      "text/html": "<style>\n    table.wandb td:nth-child(1) { padding: 0 10px; text-align: left ; width: auto;} td:nth-child(2) {text-align: left ; width: 100%}\n    .wandb-row { display: flex; flex-direction: row; flex-wrap: wrap; justify-content: flex-start; width: 100% }\n    .wandb-col { display: flex; flex-direction: column; flex-basis: 100%; flex: 1; padding: 10px; }\n    </style>\n<div class=\"wandb-row\"><div class=\"wandb-col\"><h3>Run history:</h3><br/><table class=\"wandb\"><tr><td>time</td><td>▁▁▁▁▂▂▂▂▂▂▃▃▃▃▃▃▃▄▄▄▄▄▅▅▅▅▅▆▆▆▆▇▇▇▇▇████</td></tr><tr><td>total_log_prob</td><td>▁▂▂▂▃▄▅▆▇▇▇▇▇███████████████████████████</td></tr></table><br/></div><div class=\"wandb-col\"><h3>Run summary:</h3><br/><table class=\"wandb\"><tr><td>time</td><td>12.54055</td></tr><tr><td>total_log_prob</td><td>-6251.16196</td></tr></table><br/></div></div>"
     },
     "metadata": {},
     "output_type": "display_data"
    },
    {
     "data": {
      "text/plain": "<IPython.core.display.HTML object>",
      "text/html": "Synced <strong style=\"color:#cdcd00\">HMMlearn</strong>: <a href=\"https://wandb.ai/cirglaboratory/gaussian-dense-hmm/runs/3chi5c4y\" target=\"_blank\">https://wandb.ai/cirglaboratory/gaussian-dense-hmm/runs/3chi5c4y</a><br/>Synced 7 W&B file(s), 0 media file(s), 0 artifact file(s) and 1 other file(s)"
     },
     "metadata": {},
     "output_type": "display_data"
    },
    {
     "data": {
      "text/plain": "<IPython.core.display.HTML object>",
      "text/html": "Find logs at: <code>./wandb/run-20220826_112244-3chi5c4y/logs</code>"
     },
     "metadata": {},
     "output_type": "display_data"
    },
    {
     "data": {
      "text/plain": "<IPython.core.display.HTML object>",
      "text/html": "Successfully finished last run (ID:3chi5c4y). Initializing new run:<br/>"
     },
     "metadata": {},
     "output_type": "display_data"
    },
    {
     "data": {
      "text/plain": "<IPython.core.display.HTML object>",
      "text/html": "wandb version 0.13.2 is available!  To upgrade, please run:\n $ pip install wandb --upgrade"
     },
     "metadata": {},
     "output_type": "display_data"
    },
    {
     "data": {
      "text/plain": "<IPython.core.display.HTML object>",
      "text/html": "Tracking run with wandb version 0.12.21"
     },
     "metadata": {},
     "output_type": "display_data"
    },
    {
     "data": {
      "text/plain": "<IPython.core.display.HTML object>",
      "text/html": "Run data is saved locally in <code>/ziob/klaudia/recommender_system/src/models/gaussian_dense_hmm/dense-hmm/code_dense_hmm/wandb/run-20220826_112256-2jn3ktbv</code>"
     },
     "metadata": {},
     "output_type": "display_data"
    },
    {
     "data": {
      "text/plain": "<IPython.core.display.HTML object>",
      "text/html": "Syncing run <strong><a href=\"https://wandb.ai/cirglaboratory/gaussian-dense-hmm/runs/2jn3ktbv\" target=\"_blank\">HMMlearn</a></strong> to <a href=\"https://wandb.ai/cirglaboratory/gaussian-dense-hmm\" target=\"_blank\">Weights & Biases</a> (<a href=\"https://wandb.me/run\" target=\"_blank\">docs</a>)<br/>"
     },
     "metadata": {},
     "output_type": "display_data"
    },
    {
     "name": "stderr",
     "output_type": "stream",
     "text": [
      "         1       -9742.4601             +nan\n",
      "         2       -9419.7130        +322.7471\n",
      "         3       -9386.2331         +33.4798\n",
      "         4       -9347.2111         +39.0220\n",
      "         5       -9295.6760         +51.5351\n",
      "         6       -9226.7489         +68.9271\n",
      "         7       -9110.7958        +115.9532\n",
      "         8       -8880.2629        +230.5329\n",
      "         9       -8609.6140        +270.6489\n",
      "        10       -8359.7066        +249.9075\n",
      "        11       -8128.5887        +231.1179\n",
      "        12       -7997.8361        +130.7525\n",
      "        13       -7763.4685        +234.3677\n",
      "        14       -7399.1141        +364.3544\n",
      "        15       -7240.4404        +158.6737\n",
      "        16       -6995.1608        +245.2796\n",
      "        17       -6803.4737        +191.6871\n",
      "        18       -6760.1019         +43.3718\n",
      "        19       -6735.1861         +24.9158\n",
      "        20       -6703.8104         +31.3756\n",
      "        21       -6660.5751         +43.2354\n",
      "        22       -6580.4637         +80.1114\n",
      "        23       -6518.6246         +61.8390\n",
      "        24       -6510.1444          +8.4803\n",
      "        25       -6503.7453          +6.3990\n",
      "        26       -6496.7667          +6.9786\n",
      "        27       -6486.1612         +10.6056\n",
      "        28       -6464.9083         +21.2529\n",
      "        29       -6418.6562         +46.2520\n",
      "        30       -6393.0223         +25.6339\n",
      "        31       -6377.8508         +15.1715\n",
      "        32       -6346.4067         +31.4440\n",
      "        33       -6290.3343         +56.0724\n",
      "        34       -6251.2569         +39.0774\n",
      "        35       -6251.2467          +0.0102\n",
      "        36       -6251.2418          +0.0049\n",
      "        37       -6251.2371          +0.0047\n",
      "        38       -6251.2325          +0.0046\n",
      "        39       -6251.2279          +0.0046\n",
      "        40       -6251.2233          +0.0046\n",
      "        41       -6251.2188          +0.0045\n",
      "        42       -6251.2143          +0.0045\n",
      "        43       -6251.2099          +0.0044\n",
      "        44       -6251.2056          +0.0043\n",
      "        45       -6251.2014          +0.0042\n",
      "        46       -6251.1974          +0.0040\n",
      "        47       -6251.1936          +0.0038\n",
      "        48       -6251.1900          +0.0036\n",
      "        49       -6251.1866          +0.0033\n",
      "        50       -6251.1836          +0.0031\n",
      "        51       -6251.1808          +0.0028\n",
      "        52       -6251.1783          +0.0025\n",
      "        53       -6251.1761          +0.0022\n",
      "        54       -6251.1741          +0.0020\n",
      "        55       -6251.1723          +0.0017\n",
      "        56       -6251.1708          +0.0015\n",
      "        57       -6251.1695          +0.0013\n",
      "        58       -6251.1684          +0.0011\n",
      "        59       -6251.1674          +0.0010\n",
      "        60       -6251.1666          +0.0008\n",
      "        61       -6251.1658          +0.0007\n",
      "        62       -6251.1652          +0.0006\n",
      "        63       -6251.1647          +0.0005\n",
      "        64       -6251.1643          +0.0004\n",
      "        65       -6251.1639          +0.0004\n",
      "        66       -6251.1636          +0.0003\n",
      "        67       -6251.1633          +0.0003\n",
      "        68       -6251.1631          +0.0002\n",
      "        69       -6251.1629          +0.0002\n",
      "        70       -6251.1627          +0.0002\n",
      "        71       -6251.1626          +0.0001\n",
      "        72       -6251.1625          +0.0001\n",
      "        73       -6251.1623          +0.0001\n",
      "        74       -6251.1623          +0.0001\n",
      "        75       -6251.1622          +0.0001\n",
      "        76       -6251.1621          +0.0001\n",
      "        77       -6251.1621          +0.0001\n",
      "        78       -6251.1620          +0.0001\n",
      "        79       -6251.1620          +0.0000\n",
      "Model building:   0%|                                                                                                                                     | 0/2 [00:00<?, ?it/s]\n",
      "Training dense:   0%|                                                                                                                                     | 0/8 [00:00<?, ?it/s]\u001B[A"
     ]
    },
    {
     "data": {
      "text/plain": "<IPython.core.display.HTML object>",
      "text/html": "Finishing last run (ID:2jn3ktbv) before initializing another..."
     },
     "metadata": {},
     "output_type": "display_data"
    },
    {
     "data": {
      "text/plain": "<IPython.core.display.HTML object>",
      "text/html": "Waiting for W&B process to finish... <strong style=\"color:green\">(success).</strong>"
     },
     "metadata": {},
     "output_type": "display_data"
    },
    {
     "data": {
      "text/plain": "VBox(children=(Label(value='0.052 MB of 0.052 MB uploaded (0.000 MB deduped)\\r'), FloatProgress(value=1.0, max…",
      "application/vnd.jupyter.widget-view+json": {
       "version_major": 2,
       "version_minor": 0,
       "model_id": "573bb248b3cd4a5c980dcc5fb5f62cd1"
      }
     },
     "metadata": {},
     "output_type": "display_data"
    },
    {
     "data": {
      "text/plain": "<IPython.core.display.HTML object>",
      "text/html": "<style>\n    table.wandb td:nth-child(1) { padding: 0 10px; text-align: left ; width: auto;} td:nth-child(2) {text-align: left ; width: 100%}\n    .wandb-row { display: flex; flex-direction: row; flex-wrap: wrap; justify-content: flex-start; width: 100% }\n    .wandb-col { display: flex; flex-direction: column; flex-basis: 100%; flex: 1; padding: 10px; }\n    </style>\n<div class=\"wandb-row\"><div class=\"wandb-col\"><h3>Run history:</h3><br/><table class=\"wandb\"><tr><td>time</td><td>▁▁▁▁▂▂▂▂▂▂▃▃▃▃▃▃▄▄▄▄▄▅▅▅▅▅▆▆▆▆▆▆▇▇▇▇▇███</td></tr><tr><td>total_log_prob</td><td>▁▂▂▂▃▄▅▆▇▇▇▇▇███████████████████████████</td></tr></table><br/></div><div class=\"wandb-col\"><h3>Run summary:</h3><br/><table class=\"wandb\"><tr><td>time</td><td>12.33649</td></tr><tr><td>total_log_prob</td><td>-6251.16196</td></tr></table><br/></div></div>"
     },
     "metadata": {},
     "output_type": "display_data"
    },
    {
     "data": {
      "text/plain": "<IPython.core.display.HTML object>",
      "text/html": "Synced <strong style=\"color:#cdcd00\">HMMlearn</strong>: <a href=\"https://wandb.ai/cirglaboratory/gaussian-dense-hmm/runs/2jn3ktbv\" target=\"_blank\">https://wandb.ai/cirglaboratory/gaussian-dense-hmm/runs/2jn3ktbv</a><br/>Synced 7 W&B file(s), 0 media file(s), 0 artifact file(s) and 0 other file(s)"
     },
     "metadata": {},
     "output_type": "display_data"
    },
    {
     "data": {
      "text/plain": "<IPython.core.display.HTML object>",
      "text/html": "Find logs at: <code>./wandb/run-20220826_112256-2jn3ktbv/logs</code>"
     },
     "metadata": {},
     "output_type": "display_data"
    },
    {
     "data": {
      "text/plain": "<IPython.core.display.HTML object>",
      "text/html": "Successfully finished last run (ID:2jn3ktbv). Initializing new run:<br/>"
     },
     "metadata": {},
     "output_type": "display_data"
    },
    {
     "data": {
      "text/plain": "<IPython.core.display.HTML object>",
      "text/html": "wandb version 0.13.2 is available!  To upgrade, please run:\n $ pip install wandb --upgrade"
     },
     "metadata": {},
     "output_type": "display_data"
    },
    {
     "data": {
      "text/plain": "<IPython.core.display.HTML object>",
      "text/html": "Tracking run with wandb version 0.12.21"
     },
     "metadata": {},
     "output_type": "display_data"
    },
    {
     "data": {
      "text/plain": "<IPython.core.display.HTML object>",
      "text/html": "Run data is saved locally in <code>/ziob/klaudia/recommender_system/src/models/gaussian_dense_hmm/dense-hmm/code_dense_hmm/wandb/run-20220826_112309-37ujkhyy</code>"
     },
     "metadata": {},
     "output_type": "display_data"
    },
    {
     "data": {
      "text/plain": "<IPython.core.display.HTML object>",
      "text/html": "Syncing run <strong><a href=\"https://wandb.ai/cirglaboratory/gaussian-dense-hmm/runs/37ujkhyy\" target=\"_blank\">dense-l=4-lr=0.33718043519210716-epochs=787947</a></strong> to <a href=\"https://wandb.ai/cirglaboratory/gaussian-dense-hmm\" target=\"_blank\">Weights & Biases</a> (<a href=\"https://wandb.me/run\" target=\"_blank\">docs</a>)<br/>"
     },
     "metadata": {},
     "output_type": "display_data"
    },
    {
     "name": "stdout",
     "output_type": "stream",
     "text": [
      "WARNING:tensorflow:From /ziob/klaudia/miniconda3/envs/hmm/lib/python3.10/site-packages/tensorflow_probability/python/distributions/distribution.py:342: MultivariateNormalFullCovariance.__init__ (from tensorflow_probability.python.distributions.mvn_full_covariance) is deprecated and will be removed after 2019-12-01.\n",
      "Instructions for updating:\n",
      "`MultivariateNormalFullCovariance` is deprecated, use `MultivariateNormalTriL(loc=loc, scale_tril=tf.linalg.cholesky(covariance_matrix))` instead.\n"
     ]
    },
    {
     "name": "stderr",
     "output_type": "stream",
     "text": [
      "2022-08-26 11:23:25.248749: W tensorflow/stream_executor/platform/default/dso_loader.cc:64] Could not load dynamic library 'libcuda.so.1'; dlerror: libcuda.so.1: cannot open shared object file: No such file or directory\n",
      "2022-08-26 11:23:25.248828: W tensorflow/stream_executor/cuda/cuda_driver.cc:269] failed call to cuInit: UNKNOWN ERROR (303)\n",
      "2022-08-26 11:23:25.248889: I tensorflow/stream_executor/cuda/cuda_diagnostics.cc:156] kernel driver does not appear to be running on this host (cymestmp): /proc/driver/nvidia/version does not exist\n",
      "2022-08-26 11:23:25.253713: I tensorflow/core/platform/cpu_feature_guard.cc:193] This TensorFlow binary is optimized with oneAPI Deep Neural Network Library (oneDNN) to use the following CPU instructions in performance-critical operations:  AVX2 FMA\n",
      "To enable them in other operations, rebuild TensorFlow with the appropriate compiler flags.\n",
      "2022-08-26 11:23:25.297203: I tensorflow/compiler/mlir/mlir_graph_optimization_pass.cc:354] MLIR V1 optimization pass is not enabled\n",
      "Training dense:   0%|                                                                                                                                     | 0/8 [00:16<?, ?it/s]\n",
      "Model building:   0%|                                                                                                                                     | 0/2 [00:16<?, ?it/s]\n"
     ]
    },
    {
     "ename": "ValueError",
     "evalue": "operands could not be broadcast together with shapes (200,10,1) (10,1,1) ",
     "output_type": "error",
     "traceback": [
      "\u001B[0;31m---------------------------------------------------------------------------\u001B[0m",
      "\u001B[0;31mValueError\u001B[0m                                Traceback (most recent call last)",
      "Input \u001B[0;32mIn [12]\u001B[0m, in \u001B[0;36m<cell line: 52>\u001B[0;34m()\u001B[0m\n\u001B[1;32m     71\u001B[0m densehmm \u001B[38;5;241m=\u001B[39m model(n, mstep_config\u001B[38;5;241m=\u001B[39m{\u001B[38;5;124m'\u001B[39m\u001B[38;5;124mcooc_epochs\u001B[39m\u001B[38;5;124m'\u001B[39m: params[\u001B[38;5;124m'\u001B[39m\u001B[38;5;124mcooc_epochs_param\u001B[39m\u001B[38;5;124m'\u001B[39m],\n\u001B[1;32m     72\u001B[0m                                   \u001B[38;5;124m'\u001B[39m\u001B[38;5;124mcooc_lr\u001B[39m\u001B[38;5;124m'\u001B[39m: params[\u001B[38;5;124m'\u001B[39m\u001B[38;5;124mcooc_lr_param\u001B[39m\u001B[38;5;124m'\u001B[39m],\n\u001B[1;32m     73\u001B[0m                                   \u001B[38;5;124m\"\u001B[39m\u001B[38;5;124ml_uz\u001B[39m\u001B[38;5;124m\"\u001B[39m: \u001B[38;5;28mint\u001B[39m(params[\u001B[38;5;124m'\u001B[39m\u001B[38;5;124ml_param\u001B[39m\u001B[38;5;124m'\u001B[39m]),\n\u001B[0;32m   (...)\u001B[0m\n\u001B[1;32m     77\u001B[0m                  init_params\u001B[38;5;241m=\u001B[39m\u001B[38;5;124m\"\u001B[39m\u001B[38;5;124m\"\u001B[39m, params\u001B[38;5;241m=\u001B[39m\u001B[38;5;124m\"\u001B[39m\u001B[38;5;124mstmc\u001B[39m\u001B[38;5;124m\"\u001B[39m, early_stopping\u001B[38;5;241m=\u001B[39m\u001B[38;5;28;01mFalse\u001B[39;00m, opt_schemes\u001B[38;5;241m=\u001B[39m{\u001B[38;5;124m\"\u001B[39m\u001B[38;5;124mcooc\u001B[39m\u001B[38;5;124m\"\u001B[39m},\n\u001B[1;32m     78\u001B[0m                  discrete_observables\u001B[38;5;241m=\u001B[39mm)\n\u001B[1;32m     79\u001B[0m \u001B[38;5;28;01mif\u001B[39;00m alg \u001B[38;5;241m==\u001B[39m \u001B[38;5;124m\"\u001B[39m\u001B[38;5;124mcooc\u001B[39m\u001B[38;5;124m\"\u001B[39m:\n\u001B[0;32m---> 80\u001B[0m     \u001B[43mdensehmm\u001B[49m\u001B[38;5;241;43m.\u001B[39;49m\u001B[43mfit_coocs\u001B[49m\u001B[43m(\u001B[49m\u001B[43mY_true\u001B[49m\u001B[43m,\u001B[49m\u001B[43m \u001B[49m\u001B[43mlengths\u001B[49m\u001B[43m)\u001B[49m\n\u001B[1;32m     81\u001B[0m \u001B[38;5;28;01melse\u001B[39;00m:\n\u001B[1;32m     82\u001B[0m     densehmm\u001B[38;5;241m.\u001B[39mfit(Y_true, lengths)\n",
      "File \u001B[0;32m/ziob/klaudia/recommender_system/src/models/gaussian_dense_hmm/dense-hmm/code_dense_hmm/models_gaussian.py:1152\u001B[0m, in \u001B[0;36mGaussianDenseHMM.fit_coocs\u001B[0;34m(self, X, lengths, val, val_lengths, gt_AB)\u001B[0m\n\u001B[1;32m   1149\u001B[0m     gt_omega \u001B[38;5;241m=\u001B[39m np\u001B[38;5;241m.\u001B[39mmatmul(B\u001B[38;5;241m.\u001B[39mT, np\u001B[38;5;241m.\u001B[39mmatmul(theta, B))\n\u001B[1;32m   1151\u001B[0m gt_omega \u001B[38;5;241m=\u001B[39m gt_omega_emp \u001B[38;5;28;01mif\u001B[39;00m gt_omega \u001B[38;5;129;01mis\u001B[39;00m \u001B[38;5;28;01mNone\u001B[39;00m \u001B[38;5;28;01melse\u001B[39;00m gt_omega\n\u001B[0;32m-> 1152\u001B[0m log_dict \u001B[38;5;241m=\u001B[39m \u001B[38;5;28;43mself\u001B[39;49m\u001B[38;5;241;43m.\u001B[39;49m\u001B[43m_fit_coocs\u001B[49m\u001B[43m(\u001B[49m\u001B[43mgt_omega\u001B[49m\u001B[43m,\u001B[49m\u001B[43m \u001B[49m\u001B[43mX\u001B[49m\u001B[43m,\u001B[49m\u001B[43m \u001B[49m\u001B[43mlengths\u001B[49m\u001B[43m,\u001B[49m\u001B[43m \u001B[49m\u001B[43mval_lengths\u001B[49m\u001B[43m)\u001B[49m\n\u001B[1;32m   1154\u001B[0m log_dict[\u001B[38;5;124m'\u001B[39m\u001B[38;5;124mcooc_logprobs\u001B[39m\u001B[38;5;124m'\u001B[39m] \u001B[38;5;241m=\u001B[39m \u001B[38;5;28mself\u001B[39m\u001B[38;5;241m.\u001B[39mscore_individual_sequences(X, lengths)[\u001B[38;5;241m0\u001B[39m]\n\u001B[1;32m   1155\u001B[0m \u001B[38;5;28;01mif\u001B[39;00m val \u001B[38;5;129;01mis\u001B[39;00m \u001B[38;5;129;01mnot\u001B[39;00m \u001B[38;5;28;01mNone\u001B[39;00m \u001B[38;5;129;01mand\u001B[39;00m val_lengths \u001B[38;5;129;01mis\u001B[39;00m \u001B[38;5;129;01mnot\u001B[39;00m \u001B[38;5;28;01mNone\u001B[39;00m:\n",
      "File \u001B[0;32m/ziob/klaudia/recommender_system/src/models/gaussian_dense_hmm/dense-hmm/code_dense_hmm/models_gaussian.py:1197\u001B[0m, in \u001B[0;36mGaussianDenseHMM._fit_coocs\u001B[0;34m(self, omega_gt, X, lengths, val_lengths)\u001B[0m\n\u001B[1;32m   1195\u001B[0m \u001B[38;5;28mself\u001B[39m\u001B[38;5;241m.\u001B[39mstartprob_ \u001B[38;5;241m=\u001B[39m A_stat\n\u001B[1;32m   1196\u001B[0m z, z0, u \u001B[38;5;241m=\u001B[39m \u001B[38;5;28mself\u001B[39m\u001B[38;5;241m.\u001B[39msession\u001B[38;5;241m.\u001B[39mrun([\u001B[38;5;28mself\u001B[39m\u001B[38;5;241m.\u001B[39mz, \u001B[38;5;28mself\u001B[39m\u001B[38;5;241m.\u001B[39mz0, \u001B[38;5;28mself\u001B[39m\u001B[38;5;241m.\u001B[39mu])\n\u001B[0;32m-> 1197\u001B[0m \u001B[38;5;28mself\u001B[39m\u001B[38;5;241m.\u001B[39mlogging_monitor\u001B[38;5;241m.\u001B[39mreport(\u001B[38;5;28;43mself\u001B[39;49m\u001B[38;5;241;43m.\u001B[39;49m\u001B[43mscore\u001B[49m\u001B[43m(\u001B[49m\u001B[43mX\u001B[49m\u001B[43m,\u001B[49m\u001B[43m \u001B[49m\u001B[43mlengths\u001B[49m\u001B[43m)\u001B[49m,\n\u001B[1;32m   1198\u001B[0m                             preds\u001B[38;5;241m=\u001B[39m\u001B[38;5;28mself\u001B[39m\u001B[38;5;241m.\u001B[39mpredict(X, lengths),\n\u001B[1;32m   1199\u001B[0m                             transmat\u001B[38;5;241m=\u001B[39mA, startprob\u001B[38;5;241m=\u001B[39mA_stat, means\u001B[38;5;241m=\u001B[39mmeans_c, covars\u001B[38;5;241m=\u001B[39mnp\u001B[38;5;241m.\u001B[39msquare(covars_c),\n\u001B[1;32m   1200\u001B[0m                             omega_gt\u001B[38;5;241m=\u001B[39momega_gt, learned_omega\u001B[38;5;241m=\u001B[39m\u001B[38;5;28mself\u001B[39m\u001B[38;5;241m.\u001B[39msession\u001B[38;5;241m.\u001B[39mrun(\u001B[38;5;28mself\u001B[39m\u001B[38;5;241m.\u001B[39momega, feed_dict),\n\u001B[1;32m   1201\u001B[0m                             z\u001B[38;5;241m=\u001B[39mz, z0\u001B[38;5;241m=\u001B[39mz0, u\u001B[38;5;241m=\u001B[39mu, loss\u001B[38;5;241m=\u001B[39mcur_loss)\n\u001B[1;32m   1202\u001B[0m \u001B[38;5;28;01mif\u001B[39;00m \u001B[38;5;28mself\u001B[39m\u001B[38;5;241m.\u001B[39mverbose:\n\u001B[1;32m   1203\u001B[0m     \u001B[38;5;28mprint\u001B[39m(cur_loss)\n",
      "File \u001B[0;32m/ziob/klaudia/miniconda3/envs/hmm/lib/python3.10/site-packages/hmmlearn/base.py:259\u001B[0m, in \u001B[0;36mBaseHMM.score\u001B[0;34m(self, X, lengths)\u001B[0m\n\u001B[1;32m    236\u001B[0m \u001B[38;5;28;01mdef\u001B[39;00m \u001B[38;5;21mscore\u001B[39m(\u001B[38;5;28mself\u001B[39m, X, lengths\u001B[38;5;241m=\u001B[39m\u001B[38;5;28;01mNone\u001B[39;00m):\n\u001B[1;32m    237\u001B[0m     \u001B[38;5;124;03m\"\"\"\u001B[39;00m\n\u001B[1;32m    238\u001B[0m \u001B[38;5;124;03m    Compute the log probability under the model.\u001B[39;00m\n\u001B[1;32m    239\u001B[0m \n\u001B[0;32m   (...)\u001B[0m\n\u001B[1;32m    257\u001B[0m \u001B[38;5;124;03m    decode : Find most likely state sequence corresponding to ``X``.\u001B[39;00m\n\u001B[1;32m    258\u001B[0m \u001B[38;5;124;03m    \"\"\"\u001B[39;00m\n\u001B[0;32m--> 259\u001B[0m     \u001B[38;5;28;01mreturn\u001B[39;00m \u001B[38;5;28;43mself\u001B[39;49m\u001B[38;5;241;43m.\u001B[39;49m\u001B[43m_score\u001B[49m\u001B[43m(\u001B[49m\u001B[43mX\u001B[49m\u001B[43m,\u001B[49m\u001B[43m \u001B[49m\u001B[43mlengths\u001B[49m\u001B[43m,\u001B[49m\u001B[43m \u001B[49m\u001B[43mcompute_posteriors\u001B[49m\u001B[38;5;241;43m=\u001B[39;49m\u001B[38;5;28;43;01mFalse\u001B[39;49;00m\u001B[43m)\u001B[49m[\u001B[38;5;241m0\u001B[39m]\n",
      "File \u001B[0;32m/ziob/klaudia/miniconda3/envs/hmm/lib/python3.10/site-packages/hmmlearn/base.py:277\u001B[0m, in \u001B[0;36mBaseHMM._score\u001B[0;34m(self, X, lengths, compute_posteriors)\u001B[0m\n\u001B[1;32m    272\u001B[0m X \u001B[38;5;241m=\u001B[39m check_array(X)\n\u001B[1;32m    273\u001B[0m impl \u001B[38;5;241m=\u001B[39m {\n\u001B[1;32m    274\u001B[0m     \u001B[38;5;124m\"\u001B[39m\u001B[38;5;124mscaling\u001B[39m\u001B[38;5;124m\"\u001B[39m: \u001B[38;5;28mself\u001B[39m\u001B[38;5;241m.\u001B[39m_score_scaling,\n\u001B[1;32m    275\u001B[0m     \u001B[38;5;124m\"\u001B[39m\u001B[38;5;124mlog\u001B[39m\u001B[38;5;124m\"\u001B[39m: \u001B[38;5;28mself\u001B[39m\u001B[38;5;241m.\u001B[39m_score_log,\n\u001B[1;32m    276\u001B[0m }[\u001B[38;5;28mself\u001B[39m\u001B[38;5;241m.\u001B[39mimplementation]\n\u001B[0;32m--> 277\u001B[0m \u001B[38;5;28;01mreturn\u001B[39;00m \u001B[43mimpl\u001B[49m\u001B[43m(\u001B[49m\n\u001B[1;32m    278\u001B[0m \u001B[43m    \u001B[49m\u001B[43mX\u001B[49m\u001B[38;5;241;43m=\u001B[39;49m\u001B[43mX\u001B[49m\u001B[43m,\u001B[49m\u001B[43m \u001B[49m\u001B[43mlengths\u001B[49m\u001B[38;5;241;43m=\u001B[39;49m\u001B[43mlengths\u001B[49m\u001B[43m,\u001B[49m\u001B[43m \u001B[49m\u001B[43mcompute_posteriors\u001B[49m\u001B[38;5;241;43m=\u001B[39;49m\u001B[43mcompute_posteriors\u001B[49m\u001B[43m)\u001B[49m\n",
      "File \u001B[0;32m/ziob/klaudia/miniconda3/envs/hmm/lib/python3.10/site-packages/hmmlearn/base.py:289\u001B[0m, in \u001B[0;36mBaseHMM._score_log\u001B[0;34m(self, X, lengths, compute_posteriors)\u001B[0m\n\u001B[1;32m    287\u001B[0m sub_posteriors \u001B[38;5;241m=\u001B[39m [np\u001B[38;5;241m.\u001B[39mempty((\u001B[38;5;241m0\u001B[39m, \u001B[38;5;28mself\u001B[39m\u001B[38;5;241m.\u001B[39mn_components))]\n\u001B[1;32m    288\u001B[0m \u001B[38;5;28;01mfor\u001B[39;00m sub_X \u001B[38;5;129;01min\u001B[39;00m _utils\u001B[38;5;241m.\u001B[39msplit_X_lengths(X, lengths):\n\u001B[0;32m--> 289\u001B[0m     log_frameprob \u001B[38;5;241m=\u001B[39m \u001B[38;5;28;43mself\u001B[39;49m\u001B[38;5;241;43m.\u001B[39;49m\u001B[43m_compute_log_likelihood\u001B[49m\u001B[43m(\u001B[49m\u001B[43msub_X\u001B[49m\u001B[43m)\u001B[49m\n\u001B[1;32m    290\u001B[0m     log_probij, fwdlattice \u001B[38;5;241m=\u001B[39m \u001B[38;5;28mself\u001B[39m\u001B[38;5;241m.\u001B[39m_do_forward_log_pass(log_frameprob)\n\u001B[1;32m    291\u001B[0m     log_prob \u001B[38;5;241m+\u001B[39m\u001B[38;5;241m=\u001B[39m log_probij\n",
      "File \u001B[0;32m/ziob/klaudia/miniconda3/envs/hmm/lib/python3.10/site-packages/hmmlearn/hmm.py:223\u001B[0m, in \u001B[0;36mGaussianHMM._compute_log_likelihood\u001B[0;34m(self, X)\u001B[0m\n\u001B[1;32m    222\u001B[0m \u001B[38;5;28;01mdef\u001B[39;00m \u001B[38;5;21m_compute_log_likelihood\u001B[39m(\u001B[38;5;28mself\u001B[39m, X):\n\u001B[0;32m--> 223\u001B[0m     \u001B[38;5;28;01mreturn\u001B[39;00m \u001B[43mlog_multivariate_normal_density\u001B[49m\u001B[43m(\u001B[49m\n\u001B[1;32m    224\u001B[0m \u001B[43m        \u001B[49m\u001B[43mX\u001B[49m\u001B[43m,\u001B[49m\u001B[43m \u001B[49m\u001B[38;5;28;43mself\u001B[39;49m\u001B[38;5;241;43m.\u001B[39;49m\u001B[43mmeans_\u001B[49m\u001B[43m,\u001B[49m\u001B[43m \u001B[49m\u001B[38;5;28;43mself\u001B[39;49m\u001B[38;5;241;43m.\u001B[39;49m\u001B[43m_covars_\u001B[49m\u001B[43m,\u001B[49m\u001B[43m \u001B[49m\u001B[38;5;28;43mself\u001B[39;49m\u001B[38;5;241;43m.\u001B[39;49m\u001B[43mcovariance_type\u001B[49m\u001B[43m)\u001B[49m\n",
      "File \u001B[0;32m/ziob/klaudia/miniconda3/envs/hmm/lib/python3.10/site-packages/hmmlearn/stats.py:42\u001B[0m, in \u001B[0;36mlog_multivariate_normal_density\u001B[0;34m(X, means, covars, covariance_type)\u001B[0m\n\u001B[1;32m      6\u001B[0m \u001B[38;5;124;03m\"\"\"\u001B[39;00m\n\u001B[1;32m      7\u001B[0m \u001B[38;5;124;03mCompute the log probability under a multivariate Gaussian distribution.\u001B[39;00m\n\u001B[1;32m      8\u001B[0m \n\u001B[0;32m   (...)\u001B[0m\n\u001B[1;32m     35\u001B[0m \u001B[38;5;124;03m    X under each of the n_components multivariate Gaussian distributions.\u001B[39;00m\n\u001B[1;32m     36\u001B[0m \u001B[38;5;124;03m\"\"\"\u001B[39;00m\n\u001B[1;32m     37\u001B[0m log_multivariate_normal_density_dict \u001B[38;5;241m=\u001B[39m {\n\u001B[1;32m     38\u001B[0m     \u001B[38;5;124m'\u001B[39m\u001B[38;5;124mspherical\u001B[39m\u001B[38;5;124m'\u001B[39m: _log_multivariate_normal_density_spherical,\n\u001B[1;32m     39\u001B[0m     \u001B[38;5;124m'\u001B[39m\u001B[38;5;124mtied\u001B[39m\u001B[38;5;124m'\u001B[39m: _log_multivariate_normal_density_tied,\n\u001B[1;32m     40\u001B[0m     \u001B[38;5;124m'\u001B[39m\u001B[38;5;124mdiag\u001B[39m\u001B[38;5;124m'\u001B[39m: _log_multivariate_normal_density_diag,\n\u001B[1;32m     41\u001B[0m     \u001B[38;5;124m'\u001B[39m\u001B[38;5;124mfull\u001B[39m\u001B[38;5;124m'\u001B[39m: _log_multivariate_normal_density_full}\n\u001B[0;32m---> 42\u001B[0m \u001B[38;5;28;01mreturn\u001B[39;00m \u001B[43mlog_multivariate_normal_density_dict\u001B[49m\u001B[43m[\u001B[49m\u001B[43mcovariance_type\u001B[49m\u001B[43m]\u001B[49m\u001B[43m(\u001B[49m\n\u001B[1;32m     43\u001B[0m \u001B[43m    \u001B[49m\u001B[43mX\u001B[49m\u001B[43m,\u001B[49m\u001B[43m \u001B[49m\u001B[43mmeans\u001B[49m\u001B[43m,\u001B[49m\u001B[43m \u001B[49m\u001B[43mcovars\u001B[49m\n\u001B[1;32m     44\u001B[0m \u001B[43m\u001B[49m\u001B[43m)\u001B[49m\n",
      "File \u001B[0;32m/ziob/klaudia/miniconda3/envs/hmm/lib/python3.10/site-packages/hmmlearn/stats.py:56\u001B[0m, in \u001B[0;36m_log_multivariate_normal_density_diag\u001B[0;34m(X, means, covars)\u001B[0m\n\u001B[1;32m     52\u001B[0m covars \u001B[38;5;241m=\u001B[39m np\u001B[38;5;241m.\u001B[39mmaximum(covars, np\u001B[38;5;241m.\u001B[39mfinfo(\u001B[38;5;28mfloat\u001B[39m)\u001B[38;5;241m.\u001B[39mtiny)\n\u001B[1;32m     53\u001B[0m \u001B[38;5;28;01mwith\u001B[39;00m np\u001B[38;5;241m.\u001B[39merrstate(over\u001B[38;5;241m=\u001B[39m\u001B[38;5;124m\"\u001B[39m\u001B[38;5;124mignore\u001B[39m\u001B[38;5;124m\"\u001B[39m):\n\u001B[1;32m     54\u001B[0m     \u001B[38;5;28;01mreturn\u001B[39;00m \u001B[38;5;241m-\u001B[39m\u001B[38;5;241m0.5\u001B[39m \u001B[38;5;241m*\u001B[39m (n_dim \u001B[38;5;241m*\u001B[39m np\u001B[38;5;241m.\u001B[39mlog(\u001B[38;5;241m2\u001B[39m \u001B[38;5;241m*\u001B[39m np\u001B[38;5;241m.\u001B[39mpi)\n\u001B[1;32m     55\u001B[0m                    \u001B[38;5;241m+\u001B[39m np\u001B[38;5;241m.\u001B[39mlog(covars)\u001B[38;5;241m.\u001B[39msum(axis\u001B[38;5;241m=\u001B[39m\u001B[38;5;241m-\u001B[39m\u001B[38;5;241m1\u001B[39m)\n\u001B[0;32m---> 56\u001B[0m                    \u001B[38;5;241m+\u001B[39m (\u001B[43m(\u001B[49m\u001B[43mX\u001B[49m\u001B[43m[\u001B[49m\u001B[43m:\u001B[49m\u001B[43m,\u001B[49m\u001B[43m \u001B[49m\u001B[38;5;28;43;01mNone\u001B[39;49;00m\u001B[43m,\u001B[49m\u001B[43m \u001B[49m\u001B[43m:\u001B[49m\u001B[43m]\u001B[49m\u001B[43m \u001B[49m\u001B[38;5;241;43m-\u001B[39;49m\u001B[43m \u001B[49m\u001B[43mmeans\u001B[49m\u001B[43m)\u001B[49m\u001B[43m \u001B[49m\u001B[38;5;241;43m*\u001B[39;49m\u001B[38;5;241;43m*\u001B[39;49m\u001B[43m \u001B[49m\u001B[38;5;241;43m2\u001B[39;49m\u001B[43m \u001B[49m\u001B[38;5;241;43m/\u001B[39;49m\u001B[43m \u001B[49m\u001B[43mcovars\u001B[49m)\u001B[38;5;241m.\u001B[39msum(axis\u001B[38;5;241m=\u001B[39m\u001B[38;5;241m-\u001B[39m\u001B[38;5;241m1\u001B[39m))\n",
      "\u001B[0;31mValueError\u001B[0m: operands could not be broadcast together with shapes (200,10,1) (10,1,1) "
     ]
    }
   ],
   "source": [
    "## Evaluate models\n",
    "\n",
    "true_values = {\n",
    "    \"states\": X_true,\n",
    "    \"transmat\": A,\n",
    "    \"startprob\": pi,\n",
    "    \"means\": mu,\n",
    "    \"covars\": sigma\n",
    "}\n",
    "\n",
    "# HMMlearn\n",
    "best_result[\"HMMlearn\"] = list()\n",
    "wandb_params[\"init\"].update({\"job_type\": f\"n={n}-s={s}-T={s}-simple={simple_model}\",\n",
    "                             \"name\": f\"HMMlearn\"})\n",
    "wandb_params[\"config\"].update(dict(model=\"HMMlearn\", m=0, l=0, lr=0,\n",
    "                                   em_iter=em_iter(n), cooc_epochs=0,\n",
    "                                   epochs=0), scheduler=False, simple_model=simple_model)\n",
    "nodes_tmp = mu\n",
    "nodes = np.concatenate([np.array([-np.infty, Y_true.min()]),\n",
    "                        (nodes_tmp[1:] + nodes_tmp[:-1]).reshape(-1) / 2,\n",
    "                        np.array([Y_true.max(), np.infty])])\n",
    "Y_disc = (Y_true > nodes[1:].reshape(1, -1)).sum(axis=-1).reshape(-1, 1)\n",
    "\n",
    "\n",
    "# for _ in range(8):\n",
    "#     hmm_monitor = HMMLoggingMonitor(tol=TOLERANCE, n_iter=0, verbose=True,\n",
    "#                                     wandb_log=True, wandb_params=wandb_params, true_vals=true_values,\n",
    "#                                     log_config={'metrics_after_convergence': True})\n",
    "#     hmm_model = hmm.GaussianHMM(n, n_iter=em_iter(n))\n",
    "#     hmm_model.monitor_ = hmm_monitor\n",
    "#     hmm_model.fit(Y_true, lengths)\n",
    "#\n",
    "#     preds = hmm_model.predict(Y_true, lengths)\n",
    "#     perm = find_permutation(preds, X_true)\n",
    "#\n",
    "#     best_result[\"HMMlearn\"].append(\n",
    "#         {\n",
    "#             \"time\": time.perf_counter() - hmm_monitor._init_time,\n",
    "#             \"logprob\": hmm_model.score(Y_true, lengths),\n",
    "#             \"acc\": (X_true == np.array([perm[i] for i in preds])).mean(),\n",
    "#             \"dtv_transmat\": dtv(hmm_model.transmat_, A[perm, :][:, perm]),\n",
    "#             \"dtv_startprob\": dtv(hmm_model.startprob_, pi[perm]),\n",
    "#             \"MAE_means\": (abs(mu[perm] - hmm_model.means_[:, 0])).mean(),\n",
    "#             \"MAE_sigma\": (abs(sigma.reshape(-1)[perm] - hmm_model.covars_.reshape(-1))).mean(),\n",
    "#             \"dtv_omega\": dtv(empirical_cooc_prob(Y_disc, n+2, lengths),\n",
    "#                              normal_cooc_prob(hmm_model.means_.reshape(-1), hmm_model.covars_.reshape(-1), nodes[1:], A))\n",
    "#         }\n",
    "#     )\n",
    "\n",
    "# Custom models\n",
    "# for name in tqdm.tqdm([\"cooc\", \"dense\", \"dense_em\"],  desc=\"Model building\"):\n",
    "for name in tqdm.tqdm([\"dense\", \"dense_em\"],  desc=\"Model building\"):\n",
    "    model = models[name]\n",
    "    monitor = monitors[name]\n",
    "    alg = algs[name]\n",
    "    # params = best_params[name]\n",
    "    best_result[name] = list()\n",
    "    wandb_params[\"init\"].update({\"job_type\": f\"n={n}-s={s}-T={s}-simple={simple_model}\",\n",
    "                                 \"name\": f\"{name}-l={params['l_param']}-lr={params['cooc_lr_param']}-epochs={params['cooc_epochs_param']}\"})\n",
    "    wandb_params[\"config\"].update(dict(model=\"dense_cooc\", m=0, l=int(params['l_param']), lr=params['cooc_lr_param'],\n",
    "                                       em_iter=em_iter(n), cooc_epochs=params['cooc_epochs_param'],\n",
    "                                       epochs=params['cooc_epochs_param']), scheduler=True,\n",
    "                                  simple_model=simple_model)\n",
    "\n",
    "    # for _ in tqdm.tqdm(range(10), desc=f\"Training {name}\"):\n",
    "    for _ in tqdm.tqdm(range(8), desc=f\"Training {name}\"):\n",
    "        hmm_monitor = monitor(tol=TOLERANCE, n_iter=0, verbose=True,\n",
    "                              wandb_log=True, wandb_params=wandb_params, true_vals=true_values,\n",
    "                              log_config={'metrics_after_convergence': True})\n",
    "        # kmeans = KMeans(n_clusters=n, random_state=0).fit(Y_true)\n",
    "        densehmm = model(n, mstep_config={'cooc_epochs': params['cooc_epochs_param'],\n",
    "                                          'cooc_lr': params['cooc_lr_param'],\n",
    "                                          \"l_uz\": int(params['l_param']),\n",
    "                                          'loss_type': 'square',\n",
    "                                          'scheduler': em_scheduler},\n",
    "                         covariance_type='diag', logging_monitor=hmm_monitor, nodes=nodes,\n",
    "                         init_params=\"\", params=\"stmc\", early_stopping=False, opt_schemes={\"cooc\"},\n",
    "                         discrete_observables=m)\n",
    "        if alg == \"cooc\":\n",
    "            densehmm.fit_coocs(Y_true, lengths)\n",
    "        else:\n",
    "            densehmm.fit(Y_true, lengths)\n",
    "\n",
    "        preds = densehmm.predict(Y_true, lengths)\n",
    "        perm = find_permutation(preds, X_true)\n",
    "\n",
    "        best_result[name].append(\n",
    "            {\n",
    "                \"time\": time.perf_counter() - hmm_monitor._init_time,\n",
    "                \"logprob\": densehmm.score(Y_true, lengths),\n",
    "                \"acc\": (X_true == np.array([perm[i] for i in preds])).mean(),\n",
    "                \"dtv_transmat\": dtv(densehmm.transmat_, A[perm, :][:, perm]),\n",
    "                \"dtv_startprob\": dtv(densehmm.startprob_, pi[perm]),\n",
    "                \"MAE_means\": (abs(mu[perm] - densehmm.means_[:, 0])).mean(),\n",
    "                \"MAE_sigma\": (abs(sigma.reshape(-1)[perm] - densehmm.covars_.reshape(-1))).mean(),\n",
    "                \"dtv_omega\": dtv(empirical_cooc_prob(Y_disc, n+2, lengths),\n",
    "                                  normal_cooc_prob(densehmm.means_.reshape(-1), densehmm.covars_.reshape(-1), nodes[1:], A))\n",
    "            }\n",
    "        )\n",
    "\n",
    "with open(f\"{RESULT_DIR}/good_result_s{s}_T{T}_n{n}_simple_model{simple_model}_l{l_fixed}.json\", \"w\") as f:\n",
    "    json.dump(best_result, f, indent=4)"
   ],
   "metadata": {
    "collapsed": false,
    "pycharm": {
     "name": "#%%\n"
    }
   }
  },
  {
   "cell_type": "code",
   "execution_count": null,
   "outputs": [],
   "source": [
    "display(pd.DataFrame(best_result[\"dense\"]).min())\n",
    "display(pd.DataFrame(best_result[\"dense\"]).max())\n",
    "display(pd.DataFrame(best_result[\"dense\"]).mean())"
   ],
   "metadata": {
    "collapsed": false,
    "pycharm": {
     "name": "#%%\n"
    }
   }
  },
  {
   "cell_type": "code",
   "execution_count": null,
   "outputs": [],
   "source": [
    "from sklearn.decomposition import PCA\n",
    "\n",
    "z_init = np.transpose(hmm_monitor.z[-1])\n",
    "pca_z = PCA(n_components=2).fit(z_init)\n",
    "z = [pca_z.transform(np.transpose(x)) for x in hmm_monitor.z] + [pca_z.transform(z_init)]\n",
    "\n",
    "z0 = list(hmm_monitor.z0)\n",
    "\n",
    "u_init = hmm_monitor.u[-1]\n",
    "pca_u = PCA(n_components=2).fit(u_init)\n",
    "u = [pca_u.transform(x) for x in hmm_monitor.u] + [pca_u.transform(u_init)]\n",
    "\n",
    "draw_embeddings(z, \"z\")\n",
    "draw_embeddings(z0, \"z0\")\n",
    "draw_embeddings(u, \"u\")"
   ],
   "metadata": {
    "collapsed": false,
    "pycharm": {
     "name": "#%%\n"
    }
   }
  },
  {
   "cell_type": "code",
   "execution_count": null,
   "outputs": [],
   "source": [
    "# Provide data\n",
    "all_files = os.listdir(RESULT_DIR)\n",
    "\n",
    "results = [s for s in all_files if len(s.split(\"_\")) == 6]\n",
    "studies = [s for s in all_files if len(s.split(\"_\")) == 7]\n",
    "\n",
    "cases = list(set([\"_\".join(s.split(\"_\")[1:-1]) for s in studies]))"
   ],
   "metadata": {
    "collapsed": false,
    "pycharm": {
     "name": "#%%\n"
    }
   }
  },
  {
   "cell_type": "code",
   "execution_count": null,
   "outputs": [],
   "source": [
    "# read all data\n",
    "experiment = dict(studies  =dict(l_fixed=dict(),  l_tuned=dict()),\n",
    "                  summaries=dict(l_fixed=dict(),  l_tuned=dict()))"
   ],
   "metadata": {
    "collapsed": false,
    "pycharm": {
     "name": "#%%\n"
    }
   }
  },
  {
   "cell_type": "code",
   "execution_count": null,
   "outputs": [],
   "source": [
    "for c in cases:\n",
    "    with open(f\"{RESULT_DIR}/optuna_{c}_lTrue.pkl\", \"rb\") as f:\n",
    "        experiment[\"studies\"][\"l_fixed\"][c] = joblib.load(f)\n",
    "    with open(f\"{RESULT_DIR}/optuna_{c}_lFalse.pkl\", \"rb\") as f:\n",
    "        experiment[\"studies\"][\"l_tuned\"][c] = joblib.load(f)\n",
    "    with open(f\"{RESULT_DIR}/best_result_{c}_lTrue.json\", \"r\") as f:\n",
    "        experiment[\"summaries\"][\"l_fixed\"][c] = json.load(f)\n",
    "    with open(f\"{RESULT_DIR}/best_result_{c}_lFalse.json\", \"r\") as f:\n",
    "        experiment[\"summaries\"][\"l_tuned\"][c] = json.load(f)"
   ],
   "metadata": {
    "collapsed": false,
    "pycharm": {
     "name": "#%%\n"
    }
   }
  },
  {
   "cell_type": "markdown",
   "source": [
    "## Compare tunning methods"
   ],
   "metadata": {
    "collapsed": false,
    "pycharm": {
     "name": "#%% md\n"
    }
   }
  },
  {
   "cell_type": "code",
   "execution_count": null,
   "outputs": [],
   "source": [
    "# Variable importance\n",
    "for c in cases:\n",
    "    display(optuna.visualization.plot_param_importances(experiment[\"studies\"][\"l_fixed\"][c],\n",
    "                                                        target=lambda t: t.values[0], target_name=\"flops\",  title=\"Fixed\"))\n",
    "    display(optuna.visualization.plot_param_importances(experiment[\"studies\"][\"l_tuned\"][c],\n",
    "                                                        target=lambda t: t.values[0], target_name=\"flops\", title=\"Tuned\"))"
   ],
   "metadata": {
    "collapsed": false,
    "pycharm": {
     "name": "#%%\n"
    }
   }
  },
  {
   "cell_type": "code",
   "execution_count": null,
   "outputs": [],
   "source": [
    "# l zafixowane versus wyniki hiperparametryzacji zależnie od l\n",
    "for c in cases:\n",
    "    no_trials = len(experiment[\"studies\"][\"l_fixed\"][c].trials)\n",
    "    x = [experiment[\"studies\"][\"l_fixed\"][c].trials[i].params['l_param'] for i in range(no_trials)]\n",
    "    y = [experiment[\"studies\"][\"l_fixed\"][c].trials[i].values[0] for i in range(no_trials)]\n",
    "    name = cases.split(\"_\")[0]\n",
    "    sns.violinplot(x, y)\n",
    "    plt.xlabel(\"l\")\n",
    "    plt.ylabel(\"log-likelihood\")\n",
    "    plt.title(f\"{name} (when fixed l={int(np.ceil(8 / 3))})\")\n",
    "    plt.show()"
   ],
   "metadata": {
    "collapsed": false,
    "pycharm": {
     "name": "#%%\n"
    }
   }
  },
  {
   "cell_type": "code",
   "execution_count": null,
   "outputs": [],
   "source": [
    "# s, T, n, simple_model = 100, 40, 4, True\n",
    "#\n",
    "# with open(f\"gaussian_dense_hmm_benchmark/fit_coocs_ll_mini-2022-8-12/optuna_s{s}_T{T}_n{n}_simple_model{simple_model}.pkl\",  \"rb\") as f:\n",
    "#     study = joblib.load(f)"
   ],
   "metadata": {
    "collapsed": false,
    "pycharm": {
     "name": "#%%\n"
    }
   }
  },
  {
   "cell_type": "markdown",
   "source": [
    "## Compare  results of all methods"
   ],
   "metadata": {
    "collapsed": false,
    "pycharm": {
     "name": "#%% md\n"
    }
   }
  },
  {
   "cell_type": "code",
   "execution_count": null,
   "outputs": [],
   "source": [
    "# with open(f\"gaussian_dense_hmm_benchmark/fit_coocs_ll_mini-2022-8-12/best_result_s{s}_T{T}_n{n}_simple_model{simple_model}.json\",  \"r\") as f:\n",
    "#     best_results = json.load(f)"
   ],
   "metadata": {
    "collapsed": false,
    "pycharm": {
     "name": "#%%\n"
    }
   }
  },
  {
   "cell_type": "code",
   "execution_count": null,
   "outputs": [],
   "source": [
    "#  tabularise results\n",
    "for c in cases:\n",
    "    display(f'\\n\\n### {\" \".join(c.split(\"_\"))}')\n",
    "    display(pd.DataFrame(experiment[\"summaries\"][\"l_fixed\"][c]).style.set_caption(\"l fixed\"))\n",
    "    display(pd.DataFrame(experiment[\"summaries\"][\"l_tuned\"][c]).style.set_caption(\"l tuned\"))\n"
   ],
   "metadata": {
    "collapsed": false,
    "pycharm": {
     "name": "#%%\n"
    }
   }
  },
  {
   "cell_type": "markdown",
   "source": [
    "## Train co-oc + EM"
   ],
   "metadata": {
    "collapsed": false,
    "pycharm": {
     "name": "#%% md\n"
    }
   }
  },
  {
   "cell_type": "code",
   "execution_count": null,
   "outputs": [],
   "source": [
    "# Use the same parameters and provide time benchmarks"
   ],
   "metadata": {
    "collapsed": false,
    "pycharm": {
     "name": "#%%\n"
    }
   }
  },
  {
   "cell_type": "code",
   "execution_count": null,
   "outputs": [],
   "source": [
    "# s, T, n, pi, A, mu, sigma, result, true_values, wandb_params, X_true, Y_true, lengths, data, em_scheduler = init_experiment(dsize=(100, 100, 8), simple_model=True)\n",
    "#\n",
    "#\n",
    "# def to_discrete(X, m):\n",
    "#     kmeans = KMeans(n_clusters=m, random_state=0).fit(Y_true)\n",
    "#     nodes_tmp = np.sort(kmeans.cluster_centers_, axis=0)\n",
    "#     nodes = np.concatenate([(nodes_tmp[1:] + nodes_tmp[:-1]) / 2, np.array([[np.infty]])])\n",
    "#     return (X > nodes.reshape(1, -1)).sum(axis=-1).reshape(-1, 1), nodes.reshape(-1)\n",
    "#\n",
    "#\n",
    "# Y_disc, nodes = to_discrete(Y_true, m=n)"
   ],
   "metadata": {
    "collapsed": false,
    "pycharm": {
     "name": "#%%\n"
    }
   }
  },
  {
   "cell_type": "code",
   "execution_count": null,
   "outputs": [],
   "source": [
    "# for  _  in range(10):\n",
    "#     # TODO: read parameters from dense cooc and dense em\n",
    "#     cooc_params = experiment[\"studies\"][\"l_fixed\"][c].best_params  # TODO: c\n",
    "#     em_params   = experiment[\"studies\"][\"l_fixed\"][c].best_params  # TODO: c\n",
    "#     mstep_cofig = {\"cooc_lr\": cooc_params['cooc_lr_param'],\n",
    "#                    \"cooc_epochs\": cooc_params['cooc_epochs_param'],\n",
    "#                    \"l_uz\": cooc_params['l_param'],\n",
    "#                    \"em_params\":  em_params['cooc_lr_param'],\n",
    "#                    \"em_epochs\": em_params['cooc_epochs_param'],\n",
    "#                    \"loss_type\": 'square',\n",
    "#                    \"scheduler\": em_scheduler}\n",
    "#     wandb_params[\"init\"].update({\"name\": f\"dense-cooc+em\"})\n",
    "#     hmm_monitor = HMMLoggingMonitor(tol=TOLERANCE, n_iter=0, verbose=True,\n",
    "#                                     wandb_log=True, wandb_params=wandb_params, true_vals=true_values,\n",
    "#                                     log_config={'metrics_after_convergence': True})\n",
    "#     densehmm = GaussianDenseHMM(n, mstep_config=mstep_cofig,\n",
    "#                                 covariance_type='diag', opt_schemes={\"cooc\"},\n",
    "#                                 nodes=np.concatenate([np.array([-np.infty]), nodes]),\n",
    "#                                 discrete_observables=n, em_iter=20,\n",
    "#                                 logging_monitor=hmm_monitor,\n",
    "#                                 init_params=\"\", params=\"stmc\", early_stopping=True)\n",
    "#     densehmm.means_ = mu.reshape(-1, 1)\n",
    "#     start = time.perf_counter()\n",
    "#     densehmm.fit_coocs(Y_true, lengths)\n",
    "#     densehmm.fit(Y_true, lengths)\n",
    "#     time_tmp = time.perf_counter() - start\n",
    "#\n",
    "# #  Results in wanbd"
   ],
   "metadata": {
    "collapsed": false,
    "pycharm": {
     "name": "#%%\n"
    }
   }
  }
 ],
 "metadata": {
  "kernelspec": {
   "display_name": "Python 3",
   "language": "python",
   "name": "python3"
  },
  "language_info": {
   "codemirror_mode": {
    "name": "ipython",
    "version": 2
   },
   "file_extension": ".py",
   "mimetype": "text/x-python",
   "name": "python",
   "nbconvert_exporter": "python",
   "pygments_lexer": "ipython2",
   "version": "2.7.6"
  }
 },
 "nbformat": 4,
 "nbformat_minor": 0
}