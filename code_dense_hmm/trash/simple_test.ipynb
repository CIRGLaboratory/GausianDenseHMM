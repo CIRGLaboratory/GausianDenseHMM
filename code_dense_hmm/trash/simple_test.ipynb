{
 "cells": [
  {
   "cell_type": "code",
   "execution_count": 220,
   "metadata": {
    "collapsed": true,
    "pycharm": {
     "name": "#%%\n"
    }
   },
   "outputs": [],
   "source": [
    "import itertools\n",
    "import json\n",
    "import numpy as np\n",
    "from hmmlearn import hmm\n",
    "from models import StandardHMM, DenseHMM\n",
    "import time\n",
    "from tqdm import tqdm\n",
    "import ssm\n",
    "from ssm.util import find_permutation\n",
    "\n",
    "np.random.seed(2022)"
   ]
  },
  {
   "cell_type": "code",
   "execution_count": null,
   "outputs": [],
   "source": [
    "# ssm_hmm = ssm.HMM(n, 1, observations=\"categorical\")\n",
    "# ssm_hmm.observations.__init__(K=n, D=1, C=n_features)\n",
    "# ssm_hmm.fit(X_true)\n",
    "#\n",
    "# most_likely_states = ssm_hmm.most_likely_states(X_true)\n",
    "# ssm_hmm.permute(find_permutation(Y_true, most_likely_states))\n",
    "# print(ssm_hmm.transitions.transition_matrix.round(2))\n",
    "#\n",
    "# (ssm_hmm.most_likely_states(X_true) == Y_true).mean()"
   ],
   "metadata": {
    "collapsed": false,
    "pycharm": {
     "name": "#%%\n"
    }
   }
  },
  {
   "cell_type": "code",
   "execution_count": 248,
   "outputs": [],
   "source": [
    "def prepare_params(n, v, A_stat=False):\n",
    "    pi = np.random.uniform(size=n)\n",
    "    pi /= pi.sum()\n",
    "    if A_stat:\n",
    "        A = np.repeat(pi[np.newaxis,:], n, axis=0)\n",
    "    else:\n",
    "        A = np.exp(np.random.uniform(0, 5, size=(n, n)))\n",
    "        A /= A.sum(axis=1)[:, np.newaxis]\n",
    "\n",
    "    B = np.exp(np.random.uniform(0, 5, size=(n,  v)))\n",
    "    B /= B.sum(axis=1)[:, np.newaxis]\n",
    "    return pi, A, B\n",
    "\n",
    "\n",
    "def my_hmm_sampler(pi, A, B, T):\n",
    "    n = pi.shape[0]\n",
    "    v = B.shape[1]\n",
    "    X = [np.random.choice(np.arange(n), 1, replace=True, p=pi)]\n",
    "    for t in range(T - 1):\n",
    "        X.append(np.random.choice(np.arange(n), 1, replace=True, p=A[X[t][0], :]))\n",
    "    Y = np.concatenate([np.random.choice(np.arange(v), 1, replace=True, p=B[s[0], :]) for s in X]).reshape(-1, 1)\n",
    "    return X, Y\n",
    "\n",
    "\n",
    "def experiment(n, m, T, s,  l, A_stat=False):\n",
    "    pi, A, B = prepare_params(n, m, A_stat)\n",
    "    data = [my_hmm_sampler(pi, A, B, T) for _ in range(s)]\n",
    "    X_true = np.concatenate([x[1] for x in data])\n",
    "    lenghts = [len(x[1]) for x in data]\n",
    "    Y_true = np.concatenate([np.concatenate(y[0]) for y in data])\n",
    "    assert(np.unique(X_true).shape[0] == m)\n",
    "\n",
    "    standard_acc = []\n",
    "    standard_timer = []\n",
    "    dense_acc = []\n",
    "    dense_timer = []\n",
    "    hmml_acc = []\n",
    "    hmml_timer = []\n",
    "    for _ in tqdm(range(10), desc=\"HMM\"):\n",
    "        A_init = np.exp(np.random.uniform(0, 5, size=(n, n)))\n",
    "        A_init /= A_init.sum(axis=1)[:, np.newaxis]\n",
    "\n",
    "\n",
    "        start = time.perf_counter()\n",
    "        standardhmm = StandardHMM(n, em_iter=1000, init_params=\"se\")\n",
    "        standardhmm.transmat_ = A_init\n",
    "        standardhmm.fit(X_true, lenghts)\n",
    "        preds = np.concatenate([standardhmm.predict(x[1].transpose()) for x in data])\n",
    "        standard_timer.append(time.perf_counter() - start)\n",
    "        perm = find_permutation(preds, Y_true)\n",
    "        standard_acc.append((Y_true == np.array([perm[i] for i in preds])).mean())\n",
    "\n",
    "        start = time.perf_counter()\n",
    "        densehmm = DenseHMM(n, init_params=\"se\",  mstep_config={\"l_uz\":  l, \"l_vw\": l})\n",
    "        densehmm.transmat_ = A_init\n",
    "        densehmm.fit_coocs(X_true, lenghts)\n",
    "        preds = np.concatenate([densehmm.predict(x[1].transpose()) for x in data])\n",
    "        perm = find_permutation(preds, Y_true)\n",
    "        dense_timer.append(time.perf_counter() - start)\n",
    "        dense_acc.append((Y_true == np.array([perm[i] for i in preds])).mean())\n",
    "\n",
    "        start = time.perf_counter()\n",
    "        hmml = hmm.MultinomialHMM(n, n_iter=1000, init_params=\"se\")\n",
    "        hmml.transmat_ = A_init\n",
    "        hmml.fit(X_true, lenghts)\n",
    "        preds = np.concatenate([hmml.predict(x[1].transpose()) for x in data])\n",
    "        hmml_timer.append(time.perf_counter() - start)\n",
    "        perm = find_permutation(preds, Y_true)\n",
    "        hmml_acc.append((Y_true == np.array([perm[i] for i in preds])).mean())\n",
    "\n",
    "    return {\"standard_acc\": standard_acc,\n",
    "            \"standard_time\":  standard_timer,\n",
    "            # \"ssm_acc\": ssm_acc,\n",
    "            # \"ssm_time\":  ssm_time,\n",
    "            \"dense_acc\": dense_acc,\n",
    "            \"dense_time\": dense_timer,\n",
    "            \"hmml_acc\": hmml_acc,\n",
    "            \"hmml_time\": hmml_timer,\n",
    "            \"pi\": pi,\n",
    "            \"A\": A,\n",
    "            \"B\": B}\n",
    "\n",
    "\n",
    "def run_experiments():\n",
    "    results = []\n",
    "    for  n, v, T, A_stat, l in itertools.product([2, 3, 4, 8],  [5, 10, 20], [10, 100, 1000],  [True, False],  [3,  4,  5]):\n",
    "        tmp = experiment(n, v, T, 100, l, A_stat)\n",
    "        results.append({**tmp, \"n\": n,  \"v\":  v, \"T\": T,  \"A_stat\": A_stat})\n",
    "    return results"
   ],
   "metadata": {
    "collapsed": false,
    "pycharm": {
     "name": "#%%\n"
    }
   }
  },
  {
   "cell_type": "code",
   "execution_count": 249,
   "outputs": [
    {
     "name": "stderr",
     "output_type": "stream",
     "text": [
      "HMM:   0%|                                                                                                                                                                          | 0/10 [00:00<?, ?it/s]"
     ]
    },
    {
     "name": "stdout",
     "output_type": "stream",
     "text": [
      "0.20235856643234928\n",
      "0.053939594127372134\n",
      "0.04690433490996932\n",
      "0.0406934301685718\n",
      "0.03336657687176476\n",
      "0.03069774025192095\n",
      "0.03003195774254358\n",
      "0.02979450270023473\n",
      "0.029687173338327304\n",
      "0.0296255843632079\n"
     ]
    },
    {
     "name": "stderr",
     "output_type": "stream",
     "text": [
      "HMM:  10%|████████████████▏                                                                                                                                                 | 1/10 [00:33<05:04, 33.86s/it]"
     ]
    },
    {
     "name": "stdout",
     "output_type": "stream",
     "text": [
      "0.04512350601379992\n",
      "0.014762474376040328\n",
      "0.0069644784019549785\n",
      "0.004302200418771004\n",
      "0.003571564524894417\n",
      "0.0034739793572691616\n",
      "0.0034998113945890258\n",
      "0.0035333342831578643\n",
      "0.0035844001341636136\n",
      "0.0036624148834138934\n"
     ]
    },
    {
     "name": "stderr",
     "output_type": "stream",
     "text": [
      "HMM:  20%|████████████████████████████████▍                                                                                                                                 | 2/10 [01:08<04:32, 34.05s/it]"
     ]
    },
    {
     "name": "stdout",
     "output_type": "stream",
     "text": [
      "0.1972514787521108\n",
      "0.12252647581932401\n",
      "0.048229217242516796\n",
      "0.006220090553376371\n",
      "0.005585169660128122\n",
      "0.0060053114721734776\n",
      "0.006115295729514705\n",
      "0.0060832983732341354\n",
      "0.006005763616652883\n",
      "0.005912589987429742\n"
     ]
    },
    {
     "name": "stderr",
     "output_type": "stream",
     "text": [
      "HMM:  30%|████████████████████████████████████████████████▌                                                                                                                 | 3/10 [01:42<03:58, 34.06s/it]"
     ]
    },
    {
     "name": "stdout",
     "output_type": "stream",
     "text": [
      "0.1315919587570004\n",
      "0.04300558412054491\n",
      "0.027498160805133343\n",
      "0.016284305605237272\n",
      "0.008574771484931035\n",
      "0.005882578547320635\n",
      "0.0049322385282688785\n",
      "0.004520831804576473\n",
      "0.004324762742548756\n",
      "0.004223608638037702\n"
     ]
    },
    {
     "name": "stderr",
     "output_type": "stream",
     "text": [
      "HMM:  40%|████████████████████████████████████████████████████████████████▊                                                                                                 | 4/10 [02:17<03:28, 34.75s/it]"
     ]
    },
    {
     "name": "stdout",
     "output_type": "stream",
     "text": [
      "0.18857238492109527\n",
      "0.038630471029434635\n",
      "0.0343858022078314\n",
      "0.031617242607847325\n",
      "0.029673458005374513\n",
      "0.028798412856573346\n",
      "0.028424464043500908\n",
      "0.028175974366673493\n",
      "0.027932872515083404\n",
      "0.027660232335527273\n"
     ]
    },
    {
     "name": "stderr",
     "output_type": "stream",
     "text": [
      "HMM:  50%|█████████████████████████████████████████████████████████████████████████████████                                                                                 | 5/10 [02:52<02:53, 34.62s/it]"
     ]
    },
    {
     "name": "stdout",
     "output_type": "stream",
     "text": [
      "0.2568858373885619\n",
      "0.025788032003362278\n",
      "0.024689435171368557\n",
      "0.022248501381250622\n",
      "0.01769905586374042\n",
      "0.011569457911611807\n",
      "0.007303324124262249\n",
      "0.005516829698914518\n",
      "0.004698972921812307\n",
      "0.004190112582507422\n"
     ]
    },
    {
     "name": "stderr",
     "output_type": "stream",
     "text": [
      "HMM:  60%|█████████████████████████████████████████████████████████████████████████████████████████████████▏                                                                | 6/10 [03:25<02:16, 34.23s/it]"
     ]
    },
    {
     "name": "stdout",
     "output_type": "stream",
     "text": [
      "0.03622408279441812\n",
      "0.014927187028952224\n",
      "0.010247168823193764\n",
      "0.008657030225672893\n",
      "0.008100459655934068\n",
      "0.007874796646809084\n",
      "0.007747397974801344\n",
      "0.007633477389407362\n",
      "0.007502884646081007\n",
      "0.007347444917278283\n"
     ]
    },
    {
     "name": "stderr",
     "output_type": "stream",
     "text": [
      "HMM:  70%|█████████████████████████████████████████████████████████████████████████████████████████████████████████████████▍                                                | 7/10 [03:59<01:41, 33.99s/it]"
     ]
    },
    {
     "name": "stdout",
     "output_type": "stream",
     "text": [
      "0.0640635834120254\n",
      "0.0437265533032421\n",
      "0.038937250487974924\n",
      "0.03540435524548484\n",
      "0.03164342223812075\n",
      "0.027503281307357096\n",
      "0.023029067945542735\n",
      "0.018226512557996486\n",
      "0.013382952048284965\n",
      "0.009406940943126366\n"
     ]
    },
    {
     "name": "stderr",
     "output_type": "stream",
     "text": [
      "HMM:  80%|█████████████████████████████████████████████████████████████████████████████████████████████████████████████████████████████████▌                                | 8/10 [04:33<01:07, 34.00s/it]"
     ]
    },
    {
     "name": "stdout",
     "output_type": "stream",
     "text": [
      "0.18411012935306975\n",
      "0.04157192221847166\n",
      "0.0304920763620747\n",
      "0.018484422355626418\n",
      "0.011308786685208913\n",
      "0.008228328809571884\n",
      "0.006968271400628219\n",
      "0.006191103818686073\n",
      "0.005616624988193396\n",
      "0.005225687570888993\n"
     ]
    },
    {
     "name": "stderr",
     "output_type": "stream",
     "text": [
      "HMM:  90%|█████████████████████████████████████████████████████████████████████████████████████████████████████████████████████████████████████████████████▊                | 9/10 [05:07<00:34, 34.11s/it]"
     ]
    },
    {
     "name": "stdout",
     "output_type": "stream",
     "text": [
      "0.30854883946552303\n",
      "0.15397397634052956\n",
      "0.03019149611413962\n",
      "0.013709848806634535\n",
      "0.009067207231412116\n",
      "0.006877119852628459\n",
      "0.00589915964045131\n",
      "0.005456207395112094\n",
      "0.005230278231821815\n",
      "0.005094978363994758\n"
     ]
    },
    {
     "name": "stderr",
     "output_type": "stream",
     "text": [
      "HMM: 100%|█████████████████████████████████████████████████████████████████████████████████████████████████████████████████████████████████████████████████████████████████| 10/10 [05:43<00:00, 34.39s/it]\n"
     ]
    },
    {
     "data": {
      "text/plain": "{'standard_acc': [0.58, 0.59, 0.62, 0.57, 0.55, 0.54, 0.49, 0.59, 0.57, 0.57],\n 'standard_time': [23.75400410295697,\n  24.110998097981792,\n  23.848815653007478,\n  24.314705462020356,\n  23.425166082044598,\n  23.61325781099731,\n  23.402705926971976,\n  23.651125258009415,\n  23.950039413000923,\n  23.670056675968226],\n 'dense_acc': [0.33, 0.43, 0.41, 0.4, 0.35, 0.55, 0.41, 0.49, 0.47, 0.48],\n 'dense_time': [9.981763622025028,\n  9.901767604984343,\n  10.11854359798599,\n  11.41895427799318,\n  10.84140859998297,\n  9.703426597989164,\n  9.966126161045395,\n  10.19770968699595,\n  10.275200691015925,\n  12.456446995958686],\n 'hmml_acc': [0.47, 0.44, 0.52, 0.41, 0.44, 0.41, 0.38, 0.48, 0.44, 0.45],\n 'hmml_time': [0.12795152503531426,\n  0.16973707097349688,\n  0.09941593604162335,\n  0.07689894904615358,\n  0.1073035430163145,\n  0.16037668898934498,\n  0.12198578100651503,\n  0.1589150340296328,\n  0.14459453499875963,\n  0.11098437098553404],\n 'pi': array([0.00548345, 0.20786194, 0.01437976, 0.37892492, 0.39334994]),\n 'A': array([[0.16165303, 0.24053305, 0.51838614, 0.03816739, 0.04126039],\n        [0.50635877, 0.04854903, 0.01070252, 0.2685362 , 0.16585348],\n        [0.6778015 , 0.02294763, 0.2183144 , 0.03989568, 0.04104079],\n        [0.30301745, 0.00705618, 0.02793401, 0.65121459, 0.01077777],\n        [0.36211109, 0.21141768, 0.07922417, 0.18849851, 0.15874855]]),\n 'B': array([[0.02426984, 0.96587242, 0.00985773],\n        [0.67536171, 0.23934997, 0.08528832],\n        [0.01869052, 0.73164035, 0.24966913],\n        [0.83369625, 0.06098719, 0.10531656],\n        [0.41487824, 0.46022856, 0.12489319]])}"
     },
     "execution_count": 249,
     "metadata": {},
     "output_type": "execute_result"
    }
   ],
   "source": [
    "result = run_experiments()\n",
    "with open(\"experiment_result_22-07-22.json\",  \"w\")  as f:\n",
    "    json.dump(result, f)"
   ],
   "metadata": {
    "collapsed": false,
    "pycharm": {
     "name": "#%%\n"
    }
   }
  }
 ],
 "metadata": {
  "kernelspec": {
   "display_name": "Python 3",
   "language": "python",
   "name": "python3"
  },
  "language_info": {
   "codemirror_mode": {
    "name": "ipython",
    "version": 2
   },
   "file_extension": ".py",
   "mimetype": "text/x-python",
   "name": "python",
   "nbconvert_exporter": "python",
   "pygments_lexer": "ipython2",
   "version": "2.7.6"
  }
 },
 "nbformat": 4,
 "nbformat_minor": 0
}