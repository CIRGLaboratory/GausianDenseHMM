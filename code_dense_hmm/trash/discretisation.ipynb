{
 "cells": [
  {
   "cell_type": "markdown",
   "source": [
    "# Intro\n",
    "\n",
    "The notebook contains a short presentation of our discretization technique."
   ],
   "metadata": {
    "collapsed": false,
    "pycharm": {
     "name": "#%% md\n"
    }
   }
  },
  {
   "cell_type": "code",
   "execution_count": 1,
   "metadata": {
    "collapsed": true,
    "pycharm": {
     "name": "#%%\n"
    }
   },
   "outputs": [
    {
     "name": "stderr",
     "output_type": "stream",
     "text": [
      "2022-08-18 10:24:42.386411: W tensorflow/stream_executor/platform/default/dso_loader.cc:64] Could not load dynamic library 'libcudart.so.11.0'; dlerror: libcudart.so.11.0: cannot open shared object file: No such file or directory\n",
      "2022-08-18 10:24:42.386497: I tensorflow/stream_executor/cuda/cudart_stub.cc:29] Ignore above cudart dlerror if you do not have a GPU set up on your machine.\n"
     ]
    },
    {
     "name": "stdout",
     "output_type": "stream",
     "text": [
      "WARNING:tensorflow:From /ziob/klaudia/miniconda3/envs/hmm/lib/python3.10/site-packages/tensorflow/python/compat/v2_compat.py:107: disable_resource_variables (from tensorflow.python.ops.variable_scope) is deprecated and will be removed in a future version.\n",
      "Instructions for updating:\n",
      "non-resource variables are not supported in the long term\n"
     ]
    }
   ],
   "source": [
    "import numpy as np\n",
    "from models_gaussian import GaussianDenseHMM, HMMLoggingMonitor\n",
    "import time\n",
    "import wandb\n",
    "from utils import dtv, permute_embeddings, compute_stationary,  empirical_coocs\n",
    "import scipy.stats as stats\n",
    "import matplotlib.pyplot as plt\n",
    "import seaborn as sns\n",
    "from scipy.special import erf\n",
    "from sklearn.cluster import KMeans"
   ]
  },
  {
   "cell_type": "code",
   "execution_count": 2,
   "outputs": [],
   "source": [
    "np.random.seed(2022)\n",
    "\n",
    "simple_model = {\"mu\": 10,\n",
    "                \"sigma\": 1}\n",
    "\n",
    "complicated_model = {\"mu\": 5,\n",
    "                     \"sigma\": 2}\n",
    "\n",
    "data_sizes = [(100, 400, 4)]  # (s, T, n) TODO:  fill\n",
    "\n",
    "ls = (2, 3, 4,  5)\n",
    "ms = (4, 8, 12, 64, 128)"
   ],
   "metadata": {
    "collapsed": false,
    "pycharm": {
     "name": "#%%\n"
    }
   }
  },
  {
   "cell_type": "code",
   "execution_count": 3,
   "outputs": [],
   "source": [
    "def prepare_params(n, simple_model=True):\n",
    "    A = np.exp(np.random.uniform(0, 5, size=(n, n)))\n",
    "    A /= A.sum(axis=1)[:, np.newaxis]\n",
    "\n",
    "    pi = compute_stationary(A)\n",
    "\n",
    "    if simple_model:\n",
    "        mu = np.arange(n) * 10\n",
    "        sigma = np.ones(shape=n)\n",
    "    else:\n",
    "        mu = np.random.uniform(0, n * 3, size=n)\n",
    "        sigma = np.random.uniform(.5, 1.75, size=n)\n",
    "    return pi, A, mu, sigma\n",
    "\n",
    "\n",
    "def my_hmm_sampler(pi, A, mu, sigma, T):\n",
    "    n = pi.shape[0]\n",
    "    X = [np.random.choice(np.arange(n), 1, replace=True, p=pi)]\n",
    "    for t in range(T - 1):\n",
    "        X.append(np.random.choice(np.arange(n), 1, replace=True, p=A[X[t][0], :]))\n",
    "    Y = np.concatenate([np.random.normal(mu[s[0]], sigma[s[0]], 1) for s in X]).reshape(-1, 1)\n",
    "    return X, Y\n",
    "\n",
    "\n",
    "def init_experiment(dsize, simple_model):\n",
    "    s = dsize[0]\n",
    "    T = dsize[1]\n",
    "    n = dsize[2]\n",
    "    pi, A, mu, sigma = prepare_params(n, simple_model)\n",
    "\n",
    "    data = [my_hmm_sampler(pi, A, mu, sigma, T) for _ in range(s)]\n",
    "    X_true = np.concatenate([np.concatenate(y[0]) for y in data])  # states\n",
    "    Y_true = np.concatenate([x[1] for x in data])  # observations\n",
    "    lengths = [len(x[1]) for x in data]\n",
    "\n",
    "    return s, T, n, pi, A, mu, sigma, X_true, Y_true, lengths"
   ],
   "metadata": {
    "collapsed": false,
    "pycharm": {
     "name": "#%%\n"
    }
   }
  },
  {
   "cell_type": "code",
   "execution_count": 4,
   "outputs": [],
   "source": [
    "def to_discrete_q(X, m):\n",
    "    nodes = np.concatenate([np.quantile(X, [i / m for i in range(1, m)]), np.array([np.infty])])\n",
    "    return (X > nodes.reshape(1, -1)).sum(axis=-1).reshape(-1, 1), nodes.reshape(-1)\n",
    "\n",
    "def to_discrete(X, m):\n",
    "    kmeans = KMeans(n_clusters=m, random_state=0).fit(Y_true)\n",
    "    nodes_tmp = np.sort(kmeans.cluster_centers_, axis=0)\n",
    "    nodes = np.concatenate([(nodes_tmp[1:] + nodes_tmp[:-1]) / 2, np.array([[np.infty]])])\n",
    "    return (X > nodes.reshape(1, -1)).sum(axis=-1).reshape(-1, 1), nodes.reshape(-1)\n",
    "\n",
    "def empirical_cooc_prob(Xd, m, lengths):\n",
    "    freqs, gt_omega_emp = empirical_coocs(Xd, m, lengths=lengths)\n",
    "    return np.reshape(gt_omega_emp, newshape=(m, m))\n",
    "\n",
    "def normal_cooc_prob(means, covars, Qs, A):\n",
    "    A_stationary = compute_stationary(A, False)\n",
    "    B_scalars_tmp = .5 * (1 + erf((Qs[:-1, np.newaxis] - np.transpose(means)) / np.transpose(covars) / np.sqrt(2)))\n",
    "    B_scalars_tmp = np.concatenate([np.zeros((1, B_scalars_tmp.shape[1])), B_scalars_tmp, np.ones((1, B_scalars_tmp.shape[1]))], axis=0)\n",
    "    B_scalars = np.transpose(B_scalars_tmp[1:, :] - B_scalars_tmp[:-1, :])\n",
    "    theta = A * A_stationary[:, None]\n",
    "    return np.matmul(np.transpose(B_scalars), np.matmul(theta, B_scalars))"
   ],
   "metadata": {
    "collapsed": false,
    "pycharm": {
     "name": "#%%\n"
    }
   }
  },
  {
   "cell_type": "code",
   "execution_count": 5,
   "outputs": [],
   "source": [
    "def visualize_distribution(mu, sigma, n, simple_model):\n",
    "    x = np.linspace(min(mu) - 3 * max(sigma), max(mu) + 3 * max(sigma), 10000)\n",
    "    for i in range(n):\n",
    "        plt.plot(x, stats.norm.pdf(x, mu[i], sigma[i]), label=str(i))\n",
    "    plt.title(f\"Normal PDFs n={n}-s={s}-T={T}-simple={simple_model}\")\n",
    "    plt.show()\n",
    "\n",
    "def visualize_matrix(mat, title=\"\", vmax=1):\n",
    "    sns.heatmap(mat, cmap=\"hot\", vmax=vmax)\n",
    "    plt.title(title)\n",
    "    plt.show()"
   ],
   "metadata": {
    "collapsed": false,
    "pycharm": {
     "name": "#%%\n"
    }
   }
  },
  {
   "cell_type": "code",
   "execution_count": 6,
   "outputs": [],
   "source": [
    "M=10\n",
    "EM_ITER = 20\n",
    "l = 8\n",
    "ITER = 100000\n",
    "TOLERANCE = 1e-4\n",
    "\n",
    "def em_scheduler(max_lr, it):\n",
    "    if it <= np.ceil(ITER / 3):\n",
    "        return max_lr * np.cos(3 * (np.ceil(ITER / 3) - it) * np.pi * .33 / ITER)\n",
    "    else:\n",
    "        return max_lr * np.cos((it - np.ceil(ITER / 3)) * np.pi * .66 / ITER) ** 3\n",
    "\n",
    "mstep_cofig = {\"cooc_lr\": 0.1, \"cooc_epochs\": ITER, \"l_uz\": 10,\n",
    "               \"em_lr\":  0.01, \"em_epochs\":20, 'loss_type': 'square', \"scheduler\": em_scheduler}\n",
    "s, T, n, pi, A, mu, sigma, X_true, Y_true, lengths = init_experiment(dsize=(100, 100, 10), simple_model=True)"
   ],
   "metadata": {
    "collapsed": false,
    "pycharm": {
     "name": "#%%\n"
    }
   }
  },
  {
   "cell_type": "code",
   "execution_count": 7,
   "outputs": [
    {
     "name": "stderr",
     "output_type": "stream",
     "text": [
      "\u001B[34m\u001B[1mwandb\u001B[0m: Currently logged in as: \u001B[33mkabalce\u001B[0m (\u001B[33mcirglaboratory\u001B[0m). Use \u001B[1m`wandb login --relogin`\u001B[0m to force relogin\n"
     ]
    },
    {
     "data": {
      "text/plain": "<IPython.core.display.HTML object>",
      "text/html": "wandb version 0.13.1 is available!  To upgrade, please run:\n $ pip install wandb --upgrade"
     },
     "metadata": {},
     "output_type": "display_data"
    },
    {
     "data": {
      "text/plain": "<IPython.core.display.HTML object>",
      "text/html": "Tracking run with wandb version 0.12.21"
     },
     "metadata": {},
     "output_type": "display_data"
    },
    {
     "data": {
      "text/plain": "<IPython.core.display.HTML object>",
      "text/html": "Run data is saved locally in <code>/ziob/klaudia/recommender_system/src/models/gaussian_dense_hmm/dense-hmm/code_dense_hmm/wandb/run-20220818_102527-1pkwk46r</code>"
     },
     "metadata": {},
     "output_type": "display_data"
    },
    {
     "data": {
      "text/plain": "<IPython.core.display.HTML object>",
      "text/html": "Syncing run <strong><a href=\"https://wandb.ai/cirglaboratory/gaussian-dense-hmm/runs/1pkwk46r\" target=\"_blank\">PDFs</a></strong> to <a href=\"https://wandb.ai/cirglaboratory/gaussian-dense-hmm\" target=\"_blank\">Weights & Biases</a> (<a href=\"https://wandb.me/run\" target=\"_blank\">docs</a>)<br/>"
     },
     "metadata": {},
     "output_type": "display_data"
    },
    {
     "data": {
      "text/plain": "<IPython.core.display.HTML object>",
      "text/html": "Finishing last run (ID:1pkwk46r) before initializing another..."
     },
     "metadata": {},
     "output_type": "display_data"
    },
    {
     "data": {
      "text/plain": "<IPython.core.display.HTML object>",
      "text/html": "Waiting for W&B process to finish... <strong style=\"color:green\">(success).</strong>"
     },
     "metadata": {},
     "output_type": "display_data"
    },
    {
     "data": {
      "text/plain": "VBox(children=(Label(value='0.000 MB of 0.000 MB uploaded (0.000 MB deduped)\\r'), FloatProgress(value=1.0, max…",
      "application/vnd.jupyter.widget-view+json": {
       "version_major": 2,
       "version_minor": 0,
       "model_id": "0f1368a70732442fb2486a24e7a1ad19"
      }
     },
     "metadata": {},
     "output_type": "display_data"
    },
    {
     "data": {
      "text/plain": "<IPython.core.display.HTML object>",
      "text/html": "Synced <strong style=\"color:#cdcd00\">PDFs</strong>: <a href=\"https://wandb.ai/cirglaboratory/gaussian-dense-hmm/runs/1pkwk46r\" target=\"_blank\">https://wandb.ai/cirglaboratory/gaussian-dense-hmm/runs/1pkwk46r</a><br/>Synced 6 W&B file(s), 0 media file(s), 0 artifact file(s) and 1 other file(s)"
     },
     "metadata": {},
     "output_type": "display_data"
    },
    {
     "data": {
      "text/plain": "<IPython.core.display.HTML object>",
      "text/html": "Find logs at: <code>./wandb/run-20220818_102527-1pkwk46r/logs</code>"
     },
     "metadata": {},
     "output_type": "display_data"
    },
    {
     "data": {
      "text/plain": "<IPython.core.display.HTML object>",
      "text/html": "Successfully finished last run (ID:1pkwk46r). Initializing new run:<br/>"
     },
     "metadata": {},
     "output_type": "display_data"
    },
    {
     "data": {
      "text/plain": "<IPython.core.display.HTML object>",
      "text/html": "wandb version 0.13.1 is available!  To upgrade, please run:\n $ pip install wandb --upgrade"
     },
     "metadata": {},
     "output_type": "display_data"
    },
    {
     "data": {
      "text/plain": "<IPython.core.display.HTML object>",
      "text/html": "Tracking run with wandb version 0.12.21"
     },
     "metadata": {},
     "output_type": "display_data"
    },
    {
     "data": {
      "text/plain": "<IPython.core.display.HTML object>",
      "text/html": "Run data is saved locally in <code>/ziob/klaudia/recommender_system/src/models/gaussian_dense_hmm/dense-hmm/code_dense_hmm/wandb/run-20220818_102547-2163vb63</code>"
     },
     "metadata": {},
     "output_type": "display_data"
    },
    {
     "data": {
      "text/plain": "<IPython.core.display.HTML object>",
      "text/html": "Syncing run <strong><a href=\"https://wandb.ai/cirglaboratory/gaussian-dense-hmm/runs/2163vb63\" target=\"_blank\">dense--l=8-lr=0.1-epochs=100000-Thu Aug 18 10:25:47 2022</a></strong> to <a href=\"https://wandb.ai/cirglaboratory/gaussian-dense-hmm\" target=\"_blank\">Weights & Biases</a> (<a href=\"https://wandb.me/run\" target=\"_blank\">docs</a>)<br/>"
     },
     "metadata": {},
     "output_type": "display_data"
    },
    {
     "data": {
      "text/html": "<button onClick=\"this.nextSibling.style.display='block';this.style.display='none';\">Display W&B run</button><iframe src=\"https://wandb.ai/cirglaboratory/gaussian-dense-hmm/runs/2163vb63?jupyter=true\" style=\"border:none;width:100%;height:420px;display:none;\"></iframe>",
      "text/plain": "<wandb.sdk.wandb_run.Run at 0x7f968d970a00>"
     },
     "execution_count": 7,
     "metadata": {},
     "output_type": "execute_result"
    }
   ],
   "source": [
    "t = time.localtime()\n",
    "\n",
    "true_values = {\n",
    "    \"states\": X_true,\n",
    "    \"transmat\": A,\n",
    "    \"startprob\": pi,\n",
    "    \"means\": mu,\n",
    "    \"covars\": sigma\n",
    "}\n",
    "\n",
    "wandb_params = {\n",
    "    \"init\": {\n",
    "        \"project\": \"gaussian-dense-hmm\",\n",
    "        \"entity\": \"cirglaboratory\",\n",
    "        \"save_code\": True,\n",
    "        \"group\": f\"benchmark-{t.tm_year}-{t.tm_mon}-{t.tm_mday}-debug4\",\n",
    "        \"job_type\": f\"n={n}-s={s}-T={T}-simple={simple_model}\",\n",
    "        \"name\": f\"PDFs\",\n",
    "        \"reinit\": True\n",
    "    },\n",
    "    \"config\": {\n",
    "        \"n\": n,\n",
    "        \"s\": s,\n",
    "        \"T\": T,\n",
    "        \"model\": None,\n",
    "        \"m\": None,\n",
    "        \"l\": None,\n",
    "        \"lr\":  0,\n",
    "        \"em_epochs\":  0,\n",
    "        \"em_iter\": EM_ITER,\n",
    "        \"cooc_epochs\": ITER,\n",
    "        \"epochs\": 0,\n",
    "        \"simple_model\": simple_model\n",
    "    }\n",
    "}\n",
    "\n",
    "wandb.init(**wandb_params[\"init\"], config=wandb_params[\"config\"])\n",
    "\n",
    "wandb_params[\"init\"].update({\"job_type\": f\"n={n}-s={s}-T={s}-simple={simple_model}\",\n",
    "                             \"name\": f\"dense--l={l}-lr={mstep_cofig['cooc_lr']}-epochs={mstep_cofig['cooc_epochs']}-{time.asctime()}\"})\n",
    "wandb_params[\"config\"].update(dict(model=\"dense_cooc_em_penalty\", m=n, l=l, lr=mstep_cofig['cooc_lr'], em_epochs=10,\n",
    "                                   em_iter=EM_ITER, cooc_epochs=mstep_cofig['cooc_epochs'], epochs=mstep_cofig['cooc_epochs'],\n",
    "                                   loss_type='square', scheduler=True))\n",
    "\n",
    "wandb.init(**wandb_params[\"init\"], config=wandb_params[\"config\"])\n"
   ],
   "metadata": {
    "collapsed": false,
    "pycharm": {
     "name": "#%%\n"
    }
   }
  },
  {
   "cell_type": "code",
   "execution_count": 12,
   "outputs": [],
   "source": [
    "nodes = np.concatenate([np.array([Y_true.min() +  1e-3]), (mu[1:]  + mu[:-1]) / 2, np.array([Y_true.max() - 1e-3])])"
   ],
   "metadata": {
    "collapsed": false,
    "pycharm": {
     "name": "#%%\n"
    }
   }
  },
  {
   "cell_type": "code",
   "execution_count": 26,
   "outputs": [
    {
     "data": {
      "text/plain": "<IPython.core.display.HTML object>",
      "text/html": "Finishing last run (ID:kei0c2zm) before initializing another..."
     },
     "metadata": {},
     "output_type": "display_data"
    },
    {
     "data": {
      "text/plain": "<IPython.core.display.HTML object>",
      "text/html": "Waiting for W&B process to finish... <strong style=\"color:green\">(success).</strong>"
     },
     "metadata": {},
     "output_type": "display_data"
    },
    {
     "data": {
      "text/plain": "VBox(children=(Label(value='0.052 MB of 0.052 MB uploaded (0.000 MB deduped)\\r'), FloatProgress(value=1.0, max…",
      "application/vnd.jupyter.widget-view+json": {
       "version_major": 2,
       "version_minor": 0,
       "model_id": "610c07e41cc14f029c68bf3a7c4214e2"
      }
     },
     "metadata": {},
     "output_type": "display_data"
    },
    {
     "data": {
      "text/plain": "<IPython.core.display.HTML object>",
      "text/html": "Synced <strong style=\"color:#cdcd00\">dense--l=8-lr=0.3-epochs=100000-Thu Aug 18 10:33:39 2022</strong>: <a href=\"https://wandb.ai/cirglaboratory/gaussian-dense-hmm/runs/kei0c2zm\" target=\"_blank\">https://wandb.ai/cirglaboratory/gaussian-dense-hmm/runs/kei0c2zm</a><br/>Synced 6 W&B file(s), 0 media file(s), 0 artifact file(s) and 1 other file(s)"
     },
     "metadata": {},
     "output_type": "display_data"
    },
    {
     "data": {
      "text/plain": "<IPython.core.display.HTML object>",
      "text/html": "Find logs at: <code>./wandb/run-20220818_103339-kei0c2zm/logs</code>"
     },
     "metadata": {},
     "output_type": "display_data"
    },
    {
     "data": {
      "text/plain": "<IPython.core.display.HTML object>",
      "text/html": "Successfully finished last run (ID:kei0c2zm). Initializing new run:<br/>"
     },
     "metadata": {},
     "output_type": "display_data"
    },
    {
     "data": {
      "text/plain": "<IPython.core.display.HTML object>",
      "text/html": "wandb version 0.13.1 is available!  To upgrade, please run:\n $ pip install wandb --upgrade"
     },
     "metadata": {},
     "output_type": "display_data"
    },
    {
     "data": {
      "text/plain": "<IPython.core.display.HTML object>",
      "text/html": "Tracking run with wandb version 0.12.21"
     },
     "metadata": {},
     "output_type": "display_data"
    },
    {
     "data": {
      "text/plain": "<IPython.core.display.HTML object>",
      "text/html": "Run data is saved locally in <code>/ziob/klaudia/recommender_system/src/models/gaussian_dense_hmm/dense-hmm/code_dense_hmm/wandb/run-20220818_103428-3lqdgyqb</code>"
     },
     "metadata": {},
     "output_type": "display_data"
    },
    {
     "data": {
      "text/plain": "<IPython.core.display.HTML object>",
      "text/html": "Syncing run <strong><a href=\"https://wandb.ai/cirglaboratory/gaussian-dense-hmm/runs/3lqdgyqb\" target=\"_blank\">dense--l=8-lr=0.3-epochs=100000-Thu Aug 18 10:34:28 2022</a></strong> to <a href=\"https://wandb.ai/cirglaboratory/gaussian-dense-hmm\" target=\"_blank\">Weights & Biases</a> (<a href=\"https://wandb.me/run\" target=\"_blank\">docs</a>)<br/>"
     },
     "metadata": {},
     "output_type": "display_data"
    },
    {
     "ename": "IndexError",
     "evalue": "index 10 is out of bounds for axis 0 with size 10",
     "output_type": "error",
     "traceback": [
      "\u001B[0;31m---------------------------------------------------------------------------\u001B[0m",
      "\u001B[0;31mIndexError\u001B[0m                                Traceback (most recent call last)",
      "Input \u001B[0;32mIn [26]\u001B[0m, in \u001B[0;36m<cell line: 1>\u001B[0;34m()\u001B[0m\n\u001B[1;32m     14\u001B[0m densehmm\u001B[38;5;241m.\u001B[39mmeans_ \u001B[38;5;241m=\u001B[39m mu\u001B[38;5;241m.\u001B[39mreshape(\u001B[38;5;241m-\u001B[39m\u001B[38;5;241m1\u001B[39m, \u001B[38;5;241m1\u001B[39m)\n\u001B[1;32m     15\u001B[0m start \u001B[38;5;241m=\u001B[39m time\u001B[38;5;241m.\u001B[39mperf_counter()\n\u001B[0;32m---> 16\u001B[0m \u001B[43mdensehmm\u001B[49m\u001B[38;5;241;43m.\u001B[39;49m\u001B[43mfit_coocs\u001B[49m\u001B[43m(\u001B[49m\u001B[43mY_true\u001B[49m\u001B[43m,\u001B[49m\u001B[43m \u001B[49m\u001B[43mlengths\u001B[49m\u001B[43m)\u001B[49m\n\u001B[1;32m     17\u001B[0m \u001B[38;5;66;03m# densehmm.fit(Y_true, lengths)\u001B[39;00m\n\u001B[1;32m     18\u001B[0m time_tmp \u001B[38;5;241m=\u001B[39m time\u001B[38;5;241m.\u001B[39mperf_counter() \u001B[38;5;241m-\u001B[39m start\n",
      "File \u001B[0;32m/ziob/klaudia/recommender_system/src/models/gaussian_dense_hmm/dense-hmm/code_dense_hmm/models_gaussian.py:1122\u001B[0m, in \u001B[0;36mGaussianDenseHMM.fit_coocs\u001B[0;34m(self, X, lengths, val, val_lengths, gt_AB)\u001B[0m\n\u001B[1;32m   1119\u001B[0m X, n_seqs, max_seqlen \u001B[38;5;241m=\u001B[39m \u001B[38;5;28mself\u001B[39m\u001B[38;5;241m.\u001B[39m_init(X, lengths)\n\u001B[1;32m   1121\u001B[0m gt_omega \u001B[38;5;241m=\u001B[39m \u001B[38;5;28;01mNone\u001B[39;00m\n\u001B[0;32m-> 1122\u001B[0m freqs, gt_omega_emp \u001B[38;5;241m=\u001B[39m \u001B[43mempirical_coocs\u001B[49m\u001B[43m(\u001B[49m\u001B[38;5;28;43mself\u001B[39;49m\u001B[38;5;241;43m.\u001B[39;49m\u001B[43m_to_discrete\u001B[49m\u001B[43m(\u001B[49m\u001B[43mX\u001B[49m\u001B[43m)\u001B[49m\u001B[43m,\u001B[49m\u001B[43m \u001B[49m\u001B[38;5;28;43mself\u001B[39;49m\u001B[38;5;241;43m.\u001B[39;49m\u001B[43mdiscrete_observables\u001B[49m\u001B[43m,\u001B[49m\u001B[43m \u001B[49m\u001B[43mlengths\u001B[49m\u001B[38;5;241;43m=\u001B[39;49m\u001B[43mlengths\u001B[49m\u001B[43m)\u001B[49m\n\u001B[1;32m   1123\u001B[0m gt_omega_emp \u001B[38;5;241m=\u001B[39m np\u001B[38;5;241m.\u001B[39mreshape(gt_omega_emp, newshape\u001B[38;5;241m=\u001B[39m(\u001B[38;5;28mself\u001B[39m\u001B[38;5;241m.\u001B[39mdiscrete_observables, \u001B[38;5;28mself\u001B[39m\u001B[38;5;241m.\u001B[39mdiscrete_observables))\n\u001B[1;32m   1125\u001B[0m \u001B[38;5;28;01mif\u001B[39;00m gt_AB \u001B[38;5;129;01mis\u001B[39;00m \u001B[38;5;129;01mnot\u001B[39;00m \u001B[38;5;28;01mNone\u001B[39;00m:\n",
      "File \u001B[0;32m/ziob/klaudia/recommender_system/src/models/gaussian_dense_hmm/dense-hmm/code_dense_hmm/utils.py:252\u001B[0m, in \u001B[0;36mempirical_coocs\u001B[0;34m(seqs, m, lengths)\u001B[0m\n\u001B[1;32m    250\u001B[0m     seq_pairs, counts \u001B[38;5;241m=\u001B[39m np\u001B[38;5;241m.\u001B[39munique(seq_pairs, return_counts\u001B[38;5;241m=\u001B[39m\u001B[38;5;28;01mTrue\u001B[39;00m, axis\u001B[38;5;241m=\u001B[39m\u001B[38;5;241m1\u001B[39m)\n\u001B[1;32m    251\u001B[0m     seq_pre, seq_suc \u001B[38;5;241m=\u001B[39m [arr\u001B[38;5;241m.\u001B[39mflatten() \u001B[38;5;28;01mfor\u001B[39;00m arr \u001B[38;5;129;01min\u001B[39;00m np\u001B[38;5;241m.\u001B[39mdsplit(seq_pairs, \u001B[38;5;241m2\u001B[39m)]\n\u001B[0;32m--> 252\u001B[0m     freqs[seq_pre, seq_suc] \u001B[38;5;241m+\u001B[39m\u001B[38;5;241m=\u001B[39m counts\n\u001B[1;32m    254\u001B[0m \u001B[38;5;66;03m# return freqs, np.reshape(freqs / np.sum(freqs), newshape=(-1))\u001B[39;00m\n\u001B[1;32m    255\u001B[0m \u001B[38;5;28;01mreturn\u001B[39;00m freqs, freqs \u001B[38;5;241m/\u001B[39m np\u001B[38;5;241m.\u001B[39msum(freqs)\n",
      "\u001B[0;31mIndexError\u001B[0m: index 10 is out of bounds for axis 0 with size 10"
     ]
    }
   ],
   "source": [
    "for  _  in range(10):\n",
    "    mstep_cofig = {\"cooc_lr\": 0.3, \"cooc_epochs\": ITER, \"l_uz\": 10,\n",
    "               \"em_lr\":  0.01, \"em_epochs\":20, 'loss_type': 'square', \"scheduler\": em_scheduler}\n",
    "    wandb_params[\"init\"].update({\"name\": f\"dense--l={l}-lr={mstep_cofig['cooc_lr']}-epochs={mstep_cofig['cooc_epochs']}-{time.asctime()}\"})\n",
    "    hmm_monitor = HMMLoggingMonitor(tol=TOLERANCE, n_iter=0, verbose=True,\n",
    "                                    wandb_log=True, wandb_params=wandb_params, true_vals=true_values,\n",
    "                                    log_config={'metrics_after_convergence': True})\n",
    "    densehmm = GaussianDenseHMM(n, mstep_config=mstep_cofig,\n",
    "                                covariance_type='diag', opt_schemes={\"cooc\", \"em\"},\n",
    "                                nodes=nodes,\n",
    "                                discrete_observables=n, em_iter=20,\n",
    "                                logging_monitor=hmm_monitor,\n",
    "                                init_params=\"\", params=\"stmc\", early_stopping=True)\n",
    "    densehmm.means_ = mu.reshape(-1, 1)\n",
    "    start = time.perf_counter()\n",
    "    densehmm.fit_coocs(Y_true, lengths)\n",
    "    # densehmm.fit(Y_true, lengths)\n",
    "    time_tmp = time.perf_counter() - start"
   ],
   "metadata": {
    "collapsed": false,
    "pycharm": {
     "name": "#%%\n"
    }
   }
  },
  {
   "cell_type": "code",
   "execution_count": 21,
   "outputs": [],
   "source": [
    "Y_disc =  (Y_true > nodes.reshape(1, -1)).sum(axis=-1).reshape(-1, 1)\n",
    "\n",
    "omega_emp = empirical_cooc_prob(Y_disc, n+2, lengths)\n",
    "omega_gt = normal_cooc_prob(mu, sigma, nodes, A)"
   ],
   "metadata": {
    "collapsed": false,
    "pycharm": {
     "name": "#%%\n"
    }
   }
  },
  {
   "cell_type": "code",
   "execution_count": 22,
   "outputs": [
    {
     "ename": "AttributeError",
     "evalue": "'NoneType' object has no attribute 'run'",
     "output_type": "error",
     "traceback": [
      "\u001B[0;31m---------------------------------------------------------------------------\u001B[0m",
      "\u001B[0;31mAttributeError\u001B[0m                            Traceback (most recent call last)",
      "Input \u001B[0;32mIn [22]\u001B[0m, in \u001B[0;36m<cell line: 2>\u001B[0;34m()\u001B[0m\n\u001B[1;32m      1\u001B[0m feed_dict \u001B[38;5;241m=\u001B[39m {densehmm\u001B[38;5;241m.\u001B[39momega_gt_ph: omega_emp}\n\u001B[0;32m----> 2\u001B[0m feed_dict[densehmm\u001B[38;5;241m.\u001B[39mA_stationary] \u001B[38;5;241m=\u001B[39m compute_stationary(\u001B[43mdensehmm\u001B[49m\u001B[38;5;241;43m.\u001B[39;49m\u001B[43msession\u001B[49m\u001B[38;5;241;43m.\u001B[39;49m\u001B[43mrun\u001B[49m(densehmm\u001B[38;5;241m.\u001B[39mA_from_reps_hmmlearn), verbose\u001B[38;5;241m=\u001B[39m\u001B[38;5;28;01mFalse\u001B[39;00m)\n\u001B[1;32m      3\u001B[0m feed_dict[densehmm\u001B[38;5;241m.\u001B[39mlr_cooc_placeholder] \u001B[38;5;241m=\u001B[39m \u001B[38;5;241m0.1\u001B[39m\n\u001B[1;32m      4\u001B[0m omega_learned \u001B[38;5;241m=\u001B[39m densehmm\u001B[38;5;241m.\u001B[39msession\u001B[38;5;241m.\u001B[39mrun(densehmm\u001B[38;5;241m.\u001B[39momega, feed_dict)\n",
      "\u001B[0;31mAttributeError\u001B[0m: 'NoneType' object has no attribute 'run'"
     ]
    }
   ],
   "source": [
    "feed_dict = {densehmm.omega_gt_ph: omega_emp}\n",
    "feed_dict[densehmm.A_stationary] = compute_stationary(densehmm.session.run(densehmm.A_from_reps_hmmlearn), verbose=False)\n",
    "feed_dict[densehmm.lr_cooc_placeholder] = 0.1\n",
    "omega_learned = densehmm.session.run(densehmm.omega, feed_dict)"
   ],
   "metadata": {
    "collapsed": false,
    "pycharm": {
     "name": "#%%\n"
    }
   }
  },
  {
   "cell_type": "code",
   "execution_count": 15,
   "outputs": [
    {
     "ename": "NameError",
     "evalue": "name 'omega_learned' is not defined",
     "output_type": "error",
     "traceback": [
      "\u001B[0;31m---------------------------------------------------------------------------\u001B[0m",
      "\u001B[0;31mNameError\u001B[0m                                 Traceback (most recent call last)",
      "Input \u001B[0;32mIn [15]\u001B[0m, in \u001B[0;36m<cell line: 1>\u001B[0;34m()\u001B[0m\n\u001B[0;32m----> 1\u001B[0m vmax \u001B[38;5;241m=\u001B[39m \u001B[38;5;28mmax\u001B[39m(\u001B[43momega_learned\u001B[49m\u001B[38;5;241m.\u001B[39mmax(), omega_gt\u001B[38;5;241m.\u001B[39mmax(), (omega_learned \u001B[38;5;241m-\u001B[39m omega_gt)\u001B[38;5;241m.\u001B[39mmax()) \u001B[38;5;241m+\u001B[39m  \u001B[38;5;241m1e-1\u001B[39m\n\u001B[1;32m      2\u001B[0m visualize_matrix(omega_learned, title\u001B[38;5;241m=\u001B[39m\u001B[38;5;124m\"\u001B[39m\u001B[38;5;124mLearned coocurences\u001B[39m\u001B[38;5;124m\"\u001B[39m, vmax\u001B[38;5;241m=\u001B[39mvmax)\n\u001B[1;32m      3\u001B[0m visualize_matrix(omega_gt, title\u001B[38;5;241m=\u001B[39m\u001B[38;5;124m\"\u001B[39m\u001B[38;5;124mGT distribution coocurences\u001B[39m\u001B[38;5;124m\"\u001B[39m,  vmax\u001B[38;5;241m=\u001B[39mvmax)\n",
      "\u001B[0;31mNameError\u001B[0m: name 'omega_learned' is not defined"
     ]
    }
   ],
   "source": [
    "vmax = max(omega_learned.max(), omega_gt.max(), (omega_learned - omega_gt).max()) +  1e-1\n",
    "visualize_matrix(omega_learned, title=\"Learned coocurences\", vmax=vmax)\n",
    "visualize_matrix(omega_gt, title=\"GT distribution coocurences\",  vmax=vmax)\n",
    "visualize_matrix(omega_emp, title=\"Empirical coocurences\", vmax=vmax)"
   ],
   "metadata": {
    "collapsed": false,
    "pycharm": {
     "name": "#%%\n"
    }
   }
  },
  {
   "cell_type": "code",
   "execution_count": null,
   "outputs": [],
   "source": [
    "plt.vlines(nodes, np.zeros(nodes.shape), np.ones(nodes.shape) * 0.33, color=\"blue\", alpha = 0.8)\n",
    "plt.hist(Y_true, bins=[i for i in range(100)], color=\"black\", density=True)\n",
    "x = np.linspace(min(mu) - 3 * max(sigma), max(mu) + 3*max(sigma), 10000).reshape(-1)\n",
    "for i in range(n):\n",
    "    plt.plot(x, stats.norm.pdf(x, densehmm.means_[i], densehmm.covars_[i, 0]).reshape(-1), label=str(i), color=\"red\")\n",
    "plt.title(\"Distributions and nodes\")\n",
    "plt.show()"
   ],
   "metadata": {
    "collapsed": false,
    "pycharm": {
     "name": "#%%\n"
    }
   }
  },
  {
   "cell_type": "code",
   "execution_count": null,
   "outputs": [],
   "source": [
    "stats.norm.pdf(x, densehmm.means_[i], densehmm.covars_[i, 0]).reshape(-1)"
   ],
   "metadata": {
    "collapsed": false,
    "pycharm": {
     "name": "#%%\n"
    }
   }
  },
  {
   "cell_type": "code",
   "execution_count": null,
   "outputs": [],
   "source": [
    "densehmm.fit(Y_true, lengths)"
   ],
   "metadata": {
    "collapsed": false,
    "pycharm": {
     "name": "#%%\n"
    }
   }
  },
  {
   "cell_type": "code",
   "execution_count": null,
   "outputs": [],
   "source": [
    "densehmm.means_"
   ],
   "metadata": {
    "collapsed": false,
    "pycharm": {
     "name": "#%%\n"
    }
   }
  },
  {
   "cell_type": "code",
   "execution_count": null,
   "outputs": [],
   "source": [
    "plt.vlines(nodes, np.zeros(nodes.shape), np.ones(nodes.shape) * 0.33, color=\"blue\", alpha = 0.8)\n",
    "plt.hist(Y_true, bins=[i for i in range(100)], color=\"black\", density=True)\n",
    "x = np.linspace(min(mu) - 3 * max(sigma), max(mu) + 3*max(sigma), 10000).reshape(-1)\n",
    "for i in range(n):\n",
    "    plt.plot(x, stats.norm.pdf(x, densehmm.means_[i], densehmm.covars_[i, 0]).reshape(-1), label=str(i), color=\"red\")\n",
    "plt.title(\"Distributions and nodes\")\n",
    "plt.show()"
   ],
   "metadata": {
    "collapsed": false,
    "pycharm": {
     "name": "#%%\n"
    }
   }
  },
  {
   "cell_type": "code",
   "execution_count": null,
   "outputs": [],
   "source": [],
   "metadata": {
    "collapsed": false,
    "pycharm": {
     "name": "#%%\n"
    }
   }
  }
 ],
 "metadata": {
  "kernelspec": {
   "display_name": "Python 3",
   "language": "python",
   "name": "python3"
  },
  "language_info": {
   "codemirror_mode": {
    "name": "ipython",
    "version": 2
   },
   "file_extension": ".py",
   "mimetype": "text/x-python",
   "name": "python",
   "nbconvert_exporter": "python",
   "pygments_lexer": "ipython2",
   "version": "2.7.6"
  }
 },
 "nbformat": 4,
 "nbformat_minor": 0
}