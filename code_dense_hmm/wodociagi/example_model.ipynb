{
 "cells": [
  {
   "cell_type": "code",
   "execution_count": 1,
   "outputs": [
    {
     "name": "stderr",
     "output_type": "stream",
     "text": [
      "2022-10-25 08:21:51.999727: I tensorflow/core/platform/cpu_feature_guard.cc:193] This TensorFlow binary is optimized with oneAPI Deep Neural Network Library (oneDNN) to use the following CPU instructions in performance-critical operations:  AVX2 FMA\n",
      "To enable them in other operations, rebuild TensorFlow with the appropriate compiler flags.\n",
      "2022-10-25 08:21:54.802273: W tensorflow/compiler/xla/stream_executor/platform/default/dso_loader.cc:64] Could not load dynamic library 'libcudart.so.11.0'; dlerror: libcudart.so.11.0: cannot open shared object file: No such file or directory\n",
      "2022-10-25 08:21:54.802345: I tensorflow/compiler/xla/stream_executor/cuda/cudart_stub.cc:29] Ignore above cudart dlerror if you do not have a GPU set up on your machine.\n",
      "2022-10-25 08:22:07.150524: W tensorflow/compiler/xla/stream_executor/platform/default/dso_loader.cc:64] Could not load dynamic library 'libnvinfer.so.7'; dlerror: libnvinfer.so.7: cannot open shared object file: No such file or directory\n",
      "2022-10-25 08:22:07.151817: W tensorflow/compiler/xla/stream_executor/platform/default/dso_loader.cc:64] Could not load dynamic library 'libnvinfer_plugin.so.7'; dlerror: libnvinfer_plugin.so.7: cannot open shared object file: No such file or directory\n",
      "2022-10-25 08:22:07.151859: W tensorflow/compiler/tf2tensorrt/utils/py_utils.cc:38] TF-TRT Warning: Cannot dlopen some TensorRT libraries. If you would like to use Nvidia GPU with TensorRT, please make sure the missing libraries mentioned above are installed properly.\n"
     ]
    }
   ],
   "source": [
    "from model_gausian_2d_tf2 import *\n",
    "from eval_utils import *\n",
    "import time"
   ],
   "metadata": {
    "collapsed": false
   }
  },
  {
   "cell_type": "code",
   "execution_count": 2,
   "metadata": {
    "collapsed": true
   },
   "outputs": [],
   "source": [
    "import pandas as pd\n",
    "import numpy as np\n",
    "\n",
    "import matplotlib as mpl\n",
    "import matplotlib.pyplot as plt\n",
    "import seaborn as sns\n",
    "import ssm\n",
    "from ssm.util import find_permutation\n",
    "from ssm.plots import gradient_cmap, white_to_color_cmap\n",
    "\n",
    "color_names = [\n",
    "    \"windows blue\",\n",
    "    \"red\",\n",
    "    \"amber\",\n",
    "    \"faded green\",\n",
    "    \"dusty purple\",\n",
    "    \"orange\"\n",
    "]\n",
    "colors = sns.xkcd_palette(color_names)\n",
    "cmap = gradient_cmap(colors)\n",
    "plt.rcParams[\"figure.figsize\"] = (30, 6)"
   ]
  },
  {
   "cell_type": "markdown",
   "source": [
    "# Preprocessing"
   ],
   "metadata": {
    "collapsed": false
   }
  },
  {
   "cell_type": "code",
   "execution_count": 3,
   "outputs": [],
   "source": [
    "df_weather = pd.read_excel('../data/Dane_Uwr.xlsx', sheet_name='Do analizy')\n",
    "df_main = pd.read_excel('../data/Dane_Uwr.xlsx', sheet_name='Surowe_hydraulika').ffill()\n",
    "\n",
    "# Preprocessing\n",
    "df_weather.drop(['Unnamed: 17', 'Unnamed: 18', 'Unnamed: 19'], axis=1, inplace=True)\n",
    "df_weather.columns = ['mtime', 'weekday', 'notes', 'volume',\n",
    "       'flow rate', 'pressure',\n",
    "       'tmax', 'tmin', 'tmean', 'tmin0', 'P',\n",
    "       'P_positive', 'v', 'f', 'press', 'SD', 'RD']\n",
    "df_main.columns = ['mtime', 'P1', 'V1', 'Q1']"
   ],
   "metadata": {
    "collapsed": false
   }
  },
  {
   "cell_type": "code",
   "execution_count": 4,
   "outputs": [
    {
     "data": {
      "text/plain": "       mtime    weekday notes  volume   flow rate  pressure  tmax  tmin  \\\n0 2014-05-21  Wednesday   NaN  4144.0  172.617187  0.454444  27.3   9.6   \n1 2014-05-22   Thursday   NaN  4037.0  169.533282  0.457605  28.1  14.1   \n2 2014-05-23     Friday   NaN  3916.0  163.326628  0.457086  29.6  16.3   \n3 2014-05-24   Saturday   NaN  4019.0  166.274963  0.455834  25.2  15.6   \n4 2014-05-25     Sunday   NaN  3968.0  164.094300  0.457735  24.3  12.2   \n\n   tmean  tmin0    P  P_positive    v     f   press    SD   RD  \n0   19.5    6.9  0.0           0  3.4  65.0  1017.2  15.2  0.0  \n1   21.4   11.6  0.0           0  6.0  62.9  1013.7  14.1  0.0  \n2   23.0   13.9  0.0           0  5.8  63.3  1009.9  13.6  0.8  \n3   18.8   13.4  9.9           1  2.3  88.4  1013.4   2.9  7.5  \n4   18.8   11.6  0.0           0  2.3  73.4  1019.5  13.4  0.0  ",
      "text/html": "<div>\n<style scoped>\n    .dataframe tbody tr th:only-of-type {\n        vertical-align: middle;\n    }\n\n    .dataframe tbody tr th {\n        vertical-align: top;\n    }\n\n    .dataframe thead th {\n        text-align: right;\n    }\n</style>\n<table border=\"1\" class=\"dataframe\">\n  <thead>\n    <tr style=\"text-align: right;\">\n      <th></th>\n      <th>mtime</th>\n      <th>weekday</th>\n      <th>notes</th>\n      <th>volume</th>\n      <th>flow rate</th>\n      <th>pressure</th>\n      <th>tmax</th>\n      <th>tmin</th>\n      <th>tmean</th>\n      <th>tmin0</th>\n      <th>P</th>\n      <th>P_positive</th>\n      <th>v</th>\n      <th>f</th>\n      <th>press</th>\n      <th>SD</th>\n      <th>RD</th>\n    </tr>\n  </thead>\n  <tbody>\n    <tr>\n      <th>0</th>\n      <td>2014-05-21</td>\n      <td>Wednesday</td>\n      <td>NaN</td>\n      <td>4144.0</td>\n      <td>172.617187</td>\n      <td>0.454444</td>\n      <td>27.3</td>\n      <td>9.6</td>\n      <td>19.5</td>\n      <td>6.9</td>\n      <td>0.0</td>\n      <td>0</td>\n      <td>3.4</td>\n      <td>65.0</td>\n      <td>1017.2</td>\n      <td>15.2</td>\n      <td>0.0</td>\n    </tr>\n    <tr>\n      <th>1</th>\n      <td>2014-05-22</td>\n      <td>Thursday</td>\n      <td>NaN</td>\n      <td>4037.0</td>\n      <td>169.533282</td>\n      <td>0.457605</td>\n      <td>28.1</td>\n      <td>14.1</td>\n      <td>21.4</td>\n      <td>11.6</td>\n      <td>0.0</td>\n      <td>0</td>\n      <td>6.0</td>\n      <td>62.9</td>\n      <td>1013.7</td>\n      <td>14.1</td>\n      <td>0.0</td>\n    </tr>\n    <tr>\n      <th>2</th>\n      <td>2014-05-23</td>\n      <td>Friday</td>\n      <td>NaN</td>\n      <td>3916.0</td>\n      <td>163.326628</td>\n      <td>0.457086</td>\n      <td>29.6</td>\n      <td>16.3</td>\n      <td>23.0</td>\n      <td>13.9</td>\n      <td>0.0</td>\n      <td>0</td>\n      <td>5.8</td>\n      <td>63.3</td>\n      <td>1009.9</td>\n      <td>13.6</td>\n      <td>0.8</td>\n    </tr>\n    <tr>\n      <th>3</th>\n      <td>2014-05-24</td>\n      <td>Saturday</td>\n      <td>NaN</td>\n      <td>4019.0</td>\n      <td>166.274963</td>\n      <td>0.455834</td>\n      <td>25.2</td>\n      <td>15.6</td>\n      <td>18.8</td>\n      <td>13.4</td>\n      <td>9.9</td>\n      <td>1</td>\n      <td>2.3</td>\n      <td>88.4</td>\n      <td>1013.4</td>\n      <td>2.9</td>\n      <td>7.5</td>\n    </tr>\n    <tr>\n      <th>4</th>\n      <td>2014-05-25</td>\n      <td>Sunday</td>\n      <td>NaN</td>\n      <td>3968.0</td>\n      <td>164.094300</td>\n      <td>0.457735</td>\n      <td>24.3</td>\n      <td>12.2</td>\n      <td>18.8</td>\n      <td>11.6</td>\n      <td>0.0</td>\n      <td>0</td>\n      <td>2.3</td>\n      <td>73.4</td>\n      <td>1019.5</td>\n      <td>13.4</td>\n      <td>0.0</td>\n    </tr>\n  </tbody>\n</table>\n</div>"
     },
     "execution_count": 4,
     "metadata": {},
     "output_type": "execute_result"
    }
   ],
   "source": [
    "df_weather.head()"
   ],
   "metadata": {
    "collapsed": false
   }
  },
  {
   "cell_type": "code",
   "execution_count": 5,
   "outputs": [
    {
     "data": {
      "text/plain": "                mtime        P1     V1          Q1\n0 2014-05-20 16:20:00  0.484560   23.0  194.947052\n1 2014-05-20 16:30:00  0.479604   52.0  218.519699\n2 2014-05-20 16:40:00  0.465498   84.0  160.275650\n3 2014-05-20 16:50:00  0.478460  116.0  196.656509\n4 2014-05-20 17:00:00  0.478841  147.0  198.737137",
      "text/html": "<div>\n<style scoped>\n    .dataframe tbody tr th:only-of-type {\n        vertical-align: middle;\n    }\n\n    .dataframe tbody tr th {\n        vertical-align: top;\n    }\n\n    .dataframe thead th {\n        text-align: right;\n    }\n</style>\n<table border=\"1\" class=\"dataframe\">\n  <thead>\n    <tr style=\"text-align: right;\">\n      <th></th>\n      <th>mtime</th>\n      <th>P1</th>\n      <th>V1</th>\n      <th>Q1</th>\n    </tr>\n  </thead>\n  <tbody>\n    <tr>\n      <th>0</th>\n      <td>2014-05-20 16:20:00</td>\n      <td>0.484560</td>\n      <td>23.0</td>\n      <td>194.947052</td>\n    </tr>\n    <tr>\n      <th>1</th>\n      <td>2014-05-20 16:30:00</td>\n      <td>0.479604</td>\n      <td>52.0</td>\n      <td>218.519699</td>\n    </tr>\n    <tr>\n      <th>2</th>\n      <td>2014-05-20 16:40:00</td>\n      <td>0.465498</td>\n      <td>84.0</td>\n      <td>160.275650</td>\n    </tr>\n    <tr>\n      <th>3</th>\n      <td>2014-05-20 16:50:00</td>\n      <td>0.478460</td>\n      <td>116.0</td>\n      <td>196.656509</td>\n    </tr>\n    <tr>\n      <th>4</th>\n      <td>2014-05-20 17:00:00</td>\n      <td>0.478841</td>\n      <td>147.0</td>\n      <td>198.737137</td>\n    </tr>\n  </tbody>\n</table>\n</div>"
     },
     "execution_count": 5,
     "metadata": {},
     "output_type": "execute_result"
    }
   ],
   "source": [
    "df_main = df_main.ffill()\n",
    "df_main.head()"
   ],
   "metadata": {
    "collapsed": false
   }
  },
  {
   "cell_type": "code",
   "execution_count": 6,
   "outputs": [],
   "source": [
    "interval = 24 * 7 * 6\n",
    "df_main[\"V_delta\"] = np.array([0] + (df_main.V1[1:].values - df_main.V1[:-1].values).tolist())\n",
    "\n",
    "df_main.loc[(df_main.V_delta.abs() > 50), \"V_delta\"] = 30  # df_main.loc[(df_main.V_delta.abs() < 50), \"V_delta\"].mean()\n",
    "df_main[\"V_delta\"] = df_main[\"V_delta\"].rolling(6, center=True, min_periods=2).mean()\n",
    "\n",
    "time_range = pd.DataFrame({\"mtime\": pd.date_range(df_main.loc[(df_main.mtime.dt.year == 2018) & (df_main.mtime.dt.month == 3), :].mtime.min(),\n",
    "                                                  df_main.loc[(df_main.mtime.dt.year == 2020) & (df_main.mtime.dt.month == 2) & (df_main.mtime.dt.day == 28), :].mtime.max(), 24*6*(365+365))})\n",
    "df_main = pd.merge(time_range, df_main, on=\"mtime\", how=\"left\")\n",
    "df_main[\"V_delta\"] = (df_main[\"V_delta\"].bfill().ffill() + df_main[\"V_delta\"].ffill().bfill()) / 2\n",
    "\n",
    "df_main[\"V_delta_der\"] = np.concatenate([np.array([0]), np.array([df_main[\"V_delta\"].values[1] - df_main[\"V_delta\"].values[0]]),\n",
    "                                         df_main[\"V_delta\"].values[2:] - df_main[\"V_delta\"].values[:-2] / 2 - df_main[\"V_delta\"].values[1:-1] / 2])\n",
    "\n",
    "seasonal_changes = df_main.V_delta.rolling(interval * 6, center=True, min_periods=2).mean() \\\n",
    "    .rolling(interval, center=True, min_periods=2).mean()\n",
    "\n",
    "data = df_main.loc[:, ['V_delta']]\n",
    "data.V_delta = data.V_delta - seasonal_changes\n",
    "\n",
    "data_train = data[df_main.mtime < df_main.loc[((df_main.mtime.dt.year == 2019) & (df_main.mtime.dt.month == 3)), 'mtime'].min()]\n",
    "data_test = data[df_main.mtime >= df_main.loc[((df_main.mtime.dt.year == 2019) & (df_main.mtime.dt.month == 3)), 'mtime'].min()]\n",
    "\n",
    "lengths = np.array([interval for _ in range(data_train.shape[0] // (interval))] + [\n",
    "    data_train.shape[0] - (data_train.shape[0] // (interval)) * interval])\n",
    "Y = data_train.values.reshape(-1, 1)\n",
    "\n",
    "lengths_test = np.array([interval for _ in range(data_test.shape[0] // (interval))] + [\n",
    "    data_test.shape[0] - (data_test.shape[0] // (interval)) * interval])\n",
    "Y_test = data_test.values.reshape(-1, 1)\n",
    "\n",
    "# target = pd.Series(pd.date_range(df_main.loc[(df_main.mtime.dt.year == 2018) & (df_main.mtime.dt.month == 3), :].mtime.dt.floor('d').min(),\n",
    "#                                  df_main.loc[(df_main.mtime.dt.year == 2019) & (df_main.mtime.dt.month == 2), :].mtime.dt.floor('d').max(),\n",
    "#                                  365)).apply(lambda d: (d in holidays.PL()) | (d.weekday() > 4))\n",
    "#\n",
    "# target_test = pd.Series(pd.date_range(df_main.loc[(df_main.mtime.dt.year == 2019) & (df_main.mtime.dt.month == 3), :].mtime.dt.floor('d').min(),\n",
    "#                                       df_main.loc[(df_main.mtime.dt.year == 2020) & (df_main.mtime.dt.month == 2) & (df_main.mtime.dt.day == 28), :].mtime.dt.floor('d').max(),\n",
    "#                                       365)).apply(lambda d: (d in holidays.PL()) | (d.weekday() > 4))\n",
    "#\n",
    "# target_w = pd.Series(pd.date_range(df_main.loc[(df_main.mtime.dt.year == 2018) & (df_main.mtime.dt.month == 3), :].mtime.dt.floor('d').min(),\n",
    "#                                    df_main.loc[(df_main.mtime.dt.year == 2019) & (df_main.mtime.dt.month == 2), :].mtime.dt.floor('d').max(),\n",
    "#                                    365)).apply(\n",
    "#     lambda d: 7 if d in holidays.PL() else d.weekday())\n",
    "#\n",
    "# target_w_test = pd.Series(pd.date_range(df_main.loc[(df_main.mtime.dt.year == 2019) & (df_main.mtime.dt.month == 3), :].mtime.dt.floor('d').min(),\n",
    "#                                         df_main.loc[(df_main.mtime.dt.year == 2020) & (df_main.mtime.dt.month == 2) & (df_main.mtime.dt.day == 28), :].mtime.dt.floor('d').max(),\n",
    "#                                         365)).apply(\n",
    "#     lambda d: 7 if d in holidays.PL() else d.weekday())"
   ],
   "metadata": {
    "collapsed": false
   }
  },
  {
   "cell_type": "code",
   "execution_count": 7,
   "outputs": [],
   "source": [
    "# df_main[\"V_delta\"] = np.array([0] + (df_main.V1[1:].values - df_main.V1[:-1].values).tolist())\n",
    "# df_main.loc[(df_main.V_delta.abs() > 1e+3), \"V_delta\"] = 0  # TODO: why 0?"
   ],
   "metadata": {
    "collapsed": false
   }
  },
  {
   "cell_type": "code",
   "execution_count": 8,
   "outputs": [],
   "source": [
    "# plt.plot(df_main.mtime[df_main.mtime.dt.year == 2019],\n",
    "#          df_main.V_delta.rolling(6*24*28, center=True, min_periods=2).mean().rolling(6*24*7, center=True, min_periods=2).mean()[df_main.mtime.dt.year == 2019],\n",
    "#          color=\"grey\")\n",
    "#\n",
    "# plt.plot(df_weather.mtime[df_weather.mtime.dt.year == 2019],\n",
    "#          (df_weather.loc[df_weather.mtime.dt.year == 2019, \"notes\"] == \"Holiday\").astype(int)*4 + 16,\n",
    "#          color=\"red\")\n",
    "#\n",
    "# plt.plot(df_main.mtime[df_main.mtime.dt.year == 2019],\n",
    "#          df_main.V_delta.rolling(6*24*7, center=True, min_periods=2).mean()[df_main.mtime.dt.year == 2019])\n",
    "#\n",
    "#\n",
    "# plt.plot(df_main.mtime[df_main.mtime.dt.year == 2019],\n",
    "#          df_main.V_delta.rolling(6*24, center=True, min_periods=2).mean()[df_main.mtime.dt.year == 2019],\n",
    "#         color=\"black\")\n",
    "#\n",
    "# plt.show()"
   ],
   "metadata": {
    "collapsed": false
   }
  },
  {
   "cell_type": "code",
   "execution_count": 9,
   "outputs": [],
   "source": [
    "# seasonal_changes=df_main.V_delta.rolling(6*24*42, center=True, min_periods=2).mean().rolling(6*24*7, center=True, min_periods=2).mean()[df_main.mtime.dt.year == 2019]\n",
    "# data = df_main.V_delta.rolling(24*5, center=True, min_periods=2).mean()[df_main.mtime.dt.year == 2019] - seasonal_changes"
   ],
   "metadata": {
    "collapsed": false
   }
  },
  {
   "cell_type": "code",
   "execution_count": 10,
   "outputs": [],
   "source": [
    "# plt.plot(seasonal_changes)"
   ],
   "metadata": {
    "collapsed": false
   }
  },
  {
   "cell_type": "code",
   "execution_count": 11,
   "outputs": [],
   "source": [
    "# plt.plot(data[:1000])"
   ],
   "metadata": {
    "collapsed": false
   }
  },
  {
   "cell_type": "code",
   "execution_count": 12,
   "outputs": [],
   "source": [
    "# plt.plot(data.rolling(6*24*28, center=True, min_periods=2).mean())"
   ],
   "metadata": {
    "collapsed": false
   }
  },
  {
   "cell_type": "code",
   "execution_count": 13,
   "outputs": [],
   "source": [
    "# data.shape"
   ],
   "metadata": {
    "collapsed": false
   }
  },
  {
   "cell_type": "code",
   "execution_count": 14,
   "outputs": [],
   "source": [
    "# data.shape[0] / (24*7*6)"
   ],
   "metadata": {
    "collapsed": false
   }
  },
  {
   "cell_type": "code",
   "execution_count": 15,
   "outputs": [],
   "source": [
    "# lengths = np.array([24*7*6 for _ in range(data.shape[0] // (24*7*6))] +  [data.shape[0] - (data.shape[0] // (24*7*6)) * 24*7*6])"
   ],
   "metadata": {
    "collapsed": false
   }
  },
  {
   "cell_type": "code",
   "execution_count": 16,
   "outputs": [],
   "source": [
    "# Y = data.values.reshape(-1,  1)"
   ],
   "metadata": {
    "collapsed": false
   }
  },
  {
   "cell_type": "code",
   "execution_count": 17,
   "outputs": [],
   "source": [
    "# T = 24*7*6\n",
    "# s = data.shape[0] // (24*7*6) + 1"
   ],
   "metadata": {
    "collapsed": false
   }
  },
  {
   "cell_type": "code",
   "execution_count": 18,
   "outputs": [],
   "source": [
    "import pickle\n",
    "with open('wodociagi.pkl', 'wb') as f:\n",
    "    pickle.dump({\"Y\": Y, \"lengths\": lengths}, f)\n",
    "\n",
    "with open('wodociagi.pkl', 'rb') as f:\n",
    "    d = pickle.load(f)\n",
    "\n",
    "Y, lengths = d['Y'], d['lengths']"
   ],
   "metadata": {
    "collapsed": false
   }
  },
  {
   "cell_type": "markdown",
   "source": [
    "#  Model training"
   ],
   "metadata": {
    "collapsed": false
   }
  },
  {
   "cell_type": "code",
   "execution_count": 19,
   "outputs": [
    {
     "name": "stderr",
     "output_type": "stream",
     "text": [
      "\u001B[34m\u001B[1mwandb\u001B[0m: Currently logged in as: \u001B[33mkabalce\u001B[0m (\u001B[33mcirglaboratory\u001B[0m). Use \u001B[1m`wandb login --relogin`\u001B[0m to force relogin\n"
     ]
    },
    {
     "data": {
      "text/plain": "<IPython.core.display.HTML object>",
      "text/html": "wandb version 0.13.4 is available!  To upgrade, please run:\n $ pip install wandb --upgrade"
     },
     "metadata": {},
     "output_type": "display_data"
    },
    {
     "data": {
      "text/plain": "<IPython.core.display.HTML object>",
      "text/html": "Tracking run with wandb version 0.12.21"
     },
     "metadata": {},
     "output_type": "display_data"
    },
    {
     "data": {
      "text/plain": "<IPython.core.display.HTML object>",
      "text/html": "Run data is saved locally in <code>/ziob/klaudia/recommender_system/src/models/gaussian_dense_hmm/dense-hmm/code_dense_hmm/wandb/run-20221025_082304-738qsa4o</code>"
     },
     "metadata": {},
     "output_type": "display_data"
    },
    {
     "data": {
      "text/plain": "<IPython.core.display.HTML object>",
      "text/html": "Syncing run <strong><a href=\"https://wandb.ai/cirglaboratory/gaussian-dense-hmm-wodociagi/runs/738qsa4o\" target=\"_blank\">test3</a></strong> to <a href=\"https://wandb.ai/cirglaboratory/gaussian-dense-hmm-wodociagi\" target=\"_blank\">Weights & Biases</a> (<a href=\"https://wandb.me/run\" target=\"_blank\">docs</a>)<br/>"
     },
     "metadata": {},
     "output_type": "display_data"
    },
    {
     "name": "stderr",
     "output_type": "stream",
     "text": [
      "2022-10-25 08:23:12.056903: W tensorflow/compiler/xla/stream_executor/platform/default/dso_loader.cc:64] Could not load dynamic library 'libcuda.so.1'; dlerror: libcuda.so.1: cannot open shared object file: No such file or directory\n",
      "2022-10-25 08:23:12.058892: W tensorflow/compiler/xla/stream_executor/cuda/cuda_driver.cc:265] failed call to cuInit: UNKNOWN ERROR (303)\n",
      "2022-10-25 08:23:12.058914: I tensorflow/compiler/xla/stream_executor/cuda/cuda_diagnostics.cc:156] kernel driver does not appear to be running on this host (cymestmp): /proc/driver/nvidia/version does not exist\n",
      "2022-10-25 08:23:12.065180: I tensorflow/core/platform/cpu_feature_guard.cc:193] This TensorFlow binary is optimized with oneAPI Deep Neural Network Library (oneDNN) to use the following CPU instructions in performance-critical operations:  AVX2 FMA\n",
      "To enable them in other operations, rebuild TensorFlow with the appropriate compiler flags.\n",
      "Fit model:   0%|                                         | 0/20 [00:00<?, ?it/s]"
     ]
    },
    {
     "name": "stdout",
     "output_type": "stream",
     "text": [
      "WARNING:tensorflow:From /ziob/klaudia/miniconda3/envs/hmm/lib/python3.10/site-packages/tensorflow/python/autograph/pyct/static_analysis/liveness.py:83: Analyzer.lamba_check (from tensorflow.python.autograph.pyct.static_analysis.liveness) is deprecated and will be removed after 2023-09-23.\n",
      "Instructions for updating:\n",
      "Lambda fuctions will be no more assumed to be used in the statement where they are used, or at least in the same block. https://github.com/tensorflow/tensorflow/issues/56089\n"
     ]
    },
    {
     "name": "stderr",
     "output_type": "stream",
     "text": [
      "         1     -187472.7762             +nan\n",
      "Fit model:   5%|█▋                               | 1/20 [00:31<10:05, 31.85s/it]         2     -177135.7687      +10337.0076\n",
      "Fit model:  10%|███▎                             | 2/20 [00:57<08:25, 28.07s/it]         3     -171266.7431       +5869.0255\n",
      "Fit model:  15%|████▉                            | 3/20 [01:22<07:34, 26.76s/it]         4     -168180.6877       +3086.0554\n",
      "Fit model:  20%|██████▌                          | 4/20 [01:47<06:56, 26.01s/it]         5     -167261.5657        +919.1221\n",
      "Fit model:  25%|████████▎                        | 5/20 [02:12<06:25, 25.69s/it]         6     -166661.5399        +600.0258\n",
      "Fit model:  30%|█████████▉                       | 6/20 [02:37<05:56, 25.50s/it]         7     -166156.3031        +505.2368\n",
      "Fit model:  35%|███████████▌                     | 7/20 [03:03<05:31, 25.48s/it]         8     -165802.1920        +354.1111\n",
      "Fit model:  40%|█████████████▏                   | 8/20 [03:27<05:03, 25.30s/it]         9     -165526.7879        +275.4041\n",
      "Fit model:  45%|██████████████▊                  | 9/20 [03:53<04:37, 25.24s/it]        10     -165216.9006        +309.8874\n",
      "Fit model:  50%|████████████████                | 10/20 [04:18<04:12, 25.29s/it]        11     -164812.2609        +404.6397\n",
      "Fit model:  55%|█████████████████▌              | 11/20 [04:43<03:47, 25.24s/it]        12     -164306.9814        +505.2794\n",
      "Fit model:  60%|███████████████████▏            | 12/20 [05:08<03:21, 25.18s/it]        13     -163708.1896        +598.7919\n",
      "Fit model:  65%|████████████████████▊           | 13/20 [05:33<02:56, 25.17s/it]        14     -163033.2031        +674.9864\n",
      "Fit model:  70%|██████████████████████▍         | 14/20 [05:59<02:31, 25.22s/it]        15     -162436.1297        +597.0735\n",
      "Fit model:  75%|████████████████████████        | 15/20 [06:24<02:06, 25.21s/it]        16     -162036.3911        +399.7386\n",
      "Fit model:  80%|█████████████████████████▌      | 16/20 [06:49<01:40, 25.22s/it]        17     -161797.8928        +238.4982\n",
      "Fit model:  85%|███████████████████████████▏    | 17/20 [07:14<01:15, 25.30s/it]        18     -161654.7384        +143.1545\n",
      "Fit model:  90%|████████████████████████████▊   | 18/20 [07:40<00:50, 25.31s/it]        19     -161559.7350         +95.0034\n",
      "Fit model:  95%|██████████████████████████████▍ | 19/20 [08:05<00:25, 25.27s/it]        20     -161488.3054         +71.4296\n",
      "Fit model: 100%|████████████████████████████████| 20/20 [08:30<00:00, 25.53s/it]\n"
     ]
    }
   ],
   "source": [
    "n = 10\n",
    "l = 3\n",
    "lr = 0.3\n",
    "ITER = 100\n",
    "TOLERANCE = 1e-4\n",
    "\n",
    "def em_scheduler(max_lr, it):\n",
    "    if it <= np.ceil(2 * ITER / 3):\n",
    "        return max_lr * np.cos((np.ceil(ITER * 2 / 3) - it) / ITER * np.pi * .67)\n",
    "    else:\n",
    "        return max_lr * np.cos(3 * (np.ceil(ITER * 2 / 3) - it) * np.pi * .33 / ITER)  ** 3\n",
    "\n",
    "\n",
    "mstep_cofig = {\"cooc_lr\": lr, \"cooc_epochs\": 10000, \"l_uz\": l,\n",
    "               'loss_type': 'square', \"scheduler\": em_scheduler}\n",
    "\n",
    "t = time.localtime()\n",
    "\n",
    "true_values = None\n",
    "\n",
    "wandb_params = {\n",
    "    \"init\": {\n",
    "        \"project\": \"gaussian-dense-hmm-wodociagi\",\n",
    "        \"entity\": \"cirglaboratory\",\n",
    "        \"save_code\": True,\n",
    "        \"group\": f\"first-runs-2\",\n",
    "        \"job_type\": f\"{t.tm_year}-{t.tm_mon}-{t.tm_mday}\",\n",
    "        \"name\": f\"test3\",\n",
    "        \"reinit\": True\n",
    "    },\n",
    "    \"config\": {\n",
    "        \"n\": n,\n",
    "        \"s\": interval,\n",
    "        \"T\": 53,\n",
    "        \"model\": None,\n",
    "        \"m\": None,\n",
    "        \"l\": None,\n",
    "        \"lr\": lr,\n",
    "        \"em_epochs\": None,\n",
    "        \"em_iter\": None,\n",
    "        \"cooc_epochs\": ITER,\n",
    "        \"simple_model\": None\n",
    "    }\n",
    "}\n",
    "\n",
    "\n",
    "mstep_cofig = {\"cooc_lr\": lr, \"cooc_epochs\": ITER, \"l_uz\": l,\n",
    "               'loss_type': 'square', \"scheduler\": em_scheduler}\n",
    "\n",
    "hmm_monitor = HMMLoggingMonitor(tol=TOLERANCE, n_iter=0, verbose=True,\n",
    "                                wandb_log=True, wandb_params=wandb_params, true_vals=true_values,\n",
    "                                log_config={'metrics_after_convergence': True})\n",
    "densehmm = GaussianDenseHMM(n, mstep_config=mstep_cofig,\n",
    "                            covariance_type='full', opt_schemes={\"cooc\"},\n",
    "                            # nodes=np.concatenate([np.array([-np.infty]), nodes]),\n",
    "                            em_iter=20,\n",
    "                            logging_monitor=hmm_monitor,\n",
    "                            init_params=\"stmc\", params=\"stmc\", early_stopping=True)\n",
    "# densehmm.means_ = mu.reshape(-1, 1)\n",
    "start = time.perf_counter()\n",
    "# densehmm.fit_coocs(Y,lengths)\n",
    "densehmm.fit(Y, lengths)\n",
    "time_tmp = time.perf_counter() - start"
   ],
   "metadata": {
    "collapsed": false
   }
  },
  {
   "cell_type": "markdown",
   "source": [
    "# Evaluation"
   ],
   "metadata": {
    "collapsed": false
   }
  },
  {
   "cell_type": "code",
   "execution_count": 20,
   "outputs": [
    {
     "name": "stderr",
     "output_type": "stream",
     "text": [
      "        21     -161600.8276        -112.5222\n"
     ]
    }
   ],
   "source": [
    "\n",
    "# hmm_monitor = HMMLoggingMonitor(tol=TOLERANCE, n_iter=0, verbose=True,\n",
    "#                                 wandb_log=True, wandb_params=wandb_params, true_vals=true_values,\n",
    "#                                 log_config={'metrics_after_convergence': True})\n",
    "# densehmm = GaussianDenseHMM(n, mstep_config=mstep_cofig,\n",
    "#                             covariance_type='full', opt_schemes={\"cooc\"},\n",
    "#                             # nodes=np.concatenate([np.array([-np.infty]), nodes]),\n",
    "#                             em_iter=20,\n",
    "#                             logging_monitor=hmm_monitor,\n",
    "#                             init_params=\"stmc\", params=\"stmc\", early_stopping=True)\n",
    "# # densehmm.means_ = mu.reshape(-1, 1)\n",
    "# start = time.perf_counter()\n",
    "# densehmm.fit_coocs(Y,lengths)\n",
    "# densehmm.fit(Y, lengths)\n",
    "# time_tmp = time.perf_counter() - start"
   ],
   "metadata": {
    "collapsed": false
   }
  },
  {
   "cell_type": "code",
   "execution_count": 21,
   "outputs": [],
   "source": [
    "from sklearn.decomposition import PCA\n",
    "import multiprocessing as mp\n",
    "from celluloid import Camera\n",
    "import matplotlib.cm as cm\n",
    "from IPython.display import display, Markdown, Latex, HTML"
   ],
   "metadata": {
    "collapsed": false
   }
  },
  {
   "cell_type": "code",
   "execution_count": 22,
   "outputs": [],
   "source": [
    "# # draw embeddings movement\n",
    "# z_init = np.transpose(hmm_monitor.z[-1])\n",
    "# pca_z = PCA(n_components=2).fit(z_init)\n",
    "# z = [pca_z.transform(z_init)] + [pca_z.transform(np.transpose(x)) for x in hmm_monitor.z]\n",
    "#\n",
    "# z0 = list(hmm_monitor.z0)\n",
    "#\n",
    "# u_init = hmm_monitor.u[-1]\n",
    "# pca_u = PCA(n_components=2).fit(u_init)\n",
    "# u = [pca_u.transform(u_init)] + [pca_u.transform(x) for x in hmm_monitor.u]\n"
   ],
   "metadata": {
    "collapsed": false
   }
  },
  {
   "cell_type": "code",
   "execution_count": 23,
   "outputs": [],
   "source": [
    "# import wandb\n",
    "#\n",
    "#\n",
    "# def draw_embeddings(z, name=\"?\"):\n",
    "#     fig = plt.figure(figsize=(5, 5))\n",
    "#     camera = Camera(fig)\n",
    "#     cmap = cm.rainbow(np.linspace(0, 1, len(z[0])))\n",
    "#     for z_el in z:\n",
    "#         if z_el.shape[1] > 1:\n",
    "#             plt.scatter(z_el[:, 0],  z_el[:, 1], color=cmap)\n",
    "#         else:\n",
    "#             plt.scatter(np.arange(z_el.shape[0]), z_el, color=cmap)\n",
    "#         camera.snap()\n",
    "#     plt.title(f\"Embaddings trajectory:  {name}\")\n",
    "#     animation = camera.animate().to_html5_video()\n",
    "#     # wandb.log({f\"Embaddings trajectory:  {name}\": wandb.Html(animation)})\n",
    "#     display(HTML(animation))\n",
    "#     plt.close()"
   ],
   "metadata": {
    "collapsed": false
   }
  },
  {
   "cell_type": "code",
   "execution_count": 24,
   "outputs": [],
   "source": [
    "# draw_embeddings(z, \"z\")\n",
    "# draw_embeddings(z0,\"z0\")\n",
    "# draw_embeddings(u, \"u\")"
   ],
   "metadata": {
    "collapsed": false
   }
  },
  {
   "cell_type": "code",
   "execution_count": 25,
   "outputs": [
    {
     "data": {
      "text/plain": "<Figure size 432x288 with 1 Axes>",
      "image/png": "[encoded data removed]"
     },
     "metadata": {
      "needs_background": "light"
     },
     "output_type": "display_data"
    }
   ],
   "source": [
    "# visualize states\n",
    "X = densehmm.predict(Y)\n",
    "\n",
    "plt.imshow(X.reshape(1, -1)[:, :(24*7*6)], aspect=\"auto\", alpha=0.6, extent=(0, 24*7*6, -15, 15) , cmap=cmap)\n",
    "plt.plot(Y[:(24*7*6), 0])\n",
    "plt.show()"
   ],
   "metadata": {
    "collapsed": false
   }
  },
  {
   "cell_type": "code",
   "execution_count": 26,
   "outputs": [],
   "source": [
    "# visualize nodes"
   ],
   "metadata": {
    "collapsed": false
   }
  },
  {
   "cell_type": "code",
   "execution_count": 27,
   "outputs": [],
   "source": [
    "# compare to hmmlearn"
   ],
   "metadata": {
    "collapsed": false
   }
  },
  {
   "cell_type": "code",
   "execution_count": 28,
   "outputs": [],
   "source": [
    "# # save data for hyper-parameter tuning\n",
    "# import json\n",
    "# with open(\"../data/wodociagi.json\",  \"w\") as f:\n",
    "#     json.dump(Y.tolist(), f, indent=4)"
   ],
   "metadata": {
    "collapsed": false
   }
  },
  {
   "cell_type": "code",
   "execution_count": 28,
   "outputs": [],
   "source": [],
   "metadata": {
    "collapsed": false
   }
  }
 ],
 "metadata": {
  "kernelspec": {
   "display_name": "Python 3",
   "language": "python",
   "name": "python3"
  },
  "language_info": {
   "codemirror_mode": {
    "name": "ipython",
    "version": 2
   },
   "file_extension": ".py",
   "mimetype": "text/x-python",
   "name": "python",
   "nbconvert_exporter": "python",
   "pygments_lexer": "ipython2",
   "version": "2.7.6"
  }
 },
 "nbformat": 4,
 "nbformat_minor": 0
}
