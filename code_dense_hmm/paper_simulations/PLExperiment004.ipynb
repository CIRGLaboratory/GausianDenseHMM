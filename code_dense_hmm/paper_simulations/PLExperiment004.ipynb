{
 "cells": [
  {
   "cell_type": "code",
   "execution_count": 1,
   "id": "178493cb",
   "metadata": {},
   "outputs": [
    {
     "name": "stderr",
     "output_type": "stream",
     "text": [
      "Matplotlib created a temporary config/cache directory at /tmp/matplotlib-w3y1t4go because the default path (/home/lipinski/.cache/matplotlib) is not a writable directory; it is highly recommended to set the MPLCONFIGDIR environment variable to a writable directory, in particular to speed up the import of Matplotlib and to better support multiprocessing.\n"
     ]
    }
   ],
   "source": [
    "import numpy as np\n",
    "\n",
    "from sklearn.metrics import confusion_matrix\n",
    "from hmmlearn import hmm\n",
    "\n",
    "import gzip\n",
    "import itertools\n",
    "import pickle\n",
    "import time\n",
    "\n",
    "import matplotlib.pyplot as plt\n",
    "\n",
    "%matplotlib inline"
   ]
  },
  {
   "cell_type": "code",
   "execution_count": 2,
   "id": "7e959c23",
   "metadata": {},
   "outputs": [],
   "source": [
    "def hill_curve_001(x):\n",
    "    # return 0.185 + (0.867-0.185)*x**1.18 / (68.0**1.18 + x**1.18)\n",
    "    return 0.168 + (1.07-0.168)*x**0.792 / (112.0**0.792 + x**0.792)"
   ]
  },
  {
   "cell_type": "code",
   "execution_count": 3,
   "id": "94916985",
   "metadata": {},
   "outputs": [],
   "source": [
    "def make_plots(Z, Z_hat):\n",
    "    order = Z.argsort()\n",
    "\n",
    "    f, (ax1, ax2) = plt.subplots(2, 1, figsize=(18,2), sharey=True)\n",
    "    ax1.imshow(Z[order].reshape(1, -1), aspect=\"auto\", extent=(-0.5, Z.shape[0] - 0.5, 0, 1), cmap=\"jet\")\n",
    "    ax1.set_xticks([])\n",
    "    ax1.set_yticks([])\n",
    "    ax2.imshow(Z_hat[order].reshape(1, -1), aspect=\"auto\", extent=(-0.5, Z_hat.shape[0] - 0.5, 0, 1), cmap=\"jet\")\n",
    "    ax2.set_xticks([])\n",
    "    ax2.set_yticks([])\n",
    "    plt.show()\n",
    "\n",
    "    cm = confusion_matrix(Z, Z_hat)\n",
    "\n",
    "    cm_best_ = cm.copy()\n",
    "    cm_best_a_ = np.diag(cm_best_).sum()\n",
    "    for p in itertools.permutations(np.arange(cm.shape[0])):\n",
    "        cm_ = cm[p, :].copy()\n",
    "        cm_a_ = np.diag(cm_).sum()\n",
    "        if cm_a_ > cm_best_a_:\n",
    "            cm_best_ = cm_.copy()\n",
    "            cm_best_a_ = cm_a_\n",
    "    print(cm_best_)\n",
    "    print(cm_best_a_ / cm_best_.sum())"
   ]
  },
  {
   "cell_type": "markdown",
   "id": "a0830434",
   "metadata": {},
   "source": [
    "## Generating Data"
   ]
  },
  {
   "cell_type": "code",
   "execution_count": 4,
   "id": "b121c30e",
   "metadata": {},
   "outputs": [
    {
     "name": "stderr",
     "output_type": "stream",
     "text": [
      "/tmp/ipykernel_2361331/913686053.py:3: RuntimeWarning: invalid value encountered in power\n",
      "  return 0.168 + (1.07-0.168)*x**0.792 / (112.0**0.792 + x**0.792)\n"
     ]
    }
   ],
   "source": [
    "K = 3\n",
    "T = 500000\n",
    "\n",
    "model_1 = hmm.GaussianHMM(n_components=K, covariance_type=\"diag\")\n",
    "\n",
    "model_1.startprob_ = np.array([0.6, 0.3, 0.1])\n",
    "model_1.transmat_ = np.array([[0.7, 0.2, 0.1],\n",
    "                            [0.1, 0.8, 0.1],\n",
    "                            [0.05, 0.05, 0.9]])\n",
    "model_1.means_ = np.array([[0.0], [50.0], [100.0]])\n",
    "model_1.covars_ = np.tile(np.ones(1), (K, 1))\n",
    "\n",
    "X, Z = model_1.sample(T)\n",
    "\n",
    "# f = gzip.open('data_hmm_004.pcklz', 'wb')\n",
    "# pickle.dump(X, f)\n",
    "# pickle.dump(Z, f)\n",
    "# f.close()\n",
    "\n",
    "t = 7\n",
    "\n",
    "X_ = X.copy()\n",
    "X_ = X_.cumsum()\n",
    "X_ = (X_[t:] - X_[:-t])\n",
    "X_ = hill_curve_001(X_+10)\n",
    "\n",
    "X, Z = X_.reshape(-1, 1), Z[t:]\n",
    "\n",
    "X[np.isnan(X)] = 0.00\n",
    "\n",
    "f = gzip.open('data_hmm_004a.pcklz', 'wb')\n",
    "pickle.dump(X, f)\n",
    "pickle.dump(Z, f)\n",
    "f.close()"
   ]
  },
  {
   "cell_type": "markdown",
   "id": "20f2d236",
   "metadata": {},
   "source": [
    "## Regular HMM"
   ]
  },
  {
   "cell_type": "code",
   "execution_count": 5,
   "id": "fba2b749",
   "metadata": {},
   "outputs": [
    {
     "data": {
      "image/png": "[encoded data removed]",
      "text/plain": [
       "<Figure size 1296x288 with 1 Axes>"
      ]
     },
     "metadata": {
      "needs_background": "light"
     },
     "output_type": "display_data"
    },
    {
     "name": "stdout",
     "output_type": "stream",
     "text": [
      "17.009414434432983\n"
     ]
    },
    {
     "data": {
      "image/png": "[encoded data removed]",
      "text/plain": [
       "<Figure size 1296x144 with 2 Axes>"
      ]
     },
     "metadata": {},
     "output_type": "display_data"
    },
    {
     "name": "stdout",
     "output_type": "stream",
     "text": [
      "[[122333      0  35605]\n",
      " [107294 131307   8971]\n",
      " [ 45057      0  49426]]\n",
      "0.6061404859668036\n"
     ]
    }
   ],
   "source": [
    "f = gzip.open('data_hmm_004a.pcklz', 'rb')\n",
    "X = pickle.load(f)\n",
    "Z = pickle.load(f)\n",
    "f.close()\n",
    "\n",
    "plt.figure(figsize=(18,4))\n",
    "plt.plot(X[:100])\n",
    "plt.show()\n",
    "\n",
    "model_r = hmm.GaussianHMM(n_components=K, covariance_type=\"diag\", n_iter=10000, tol=0.0001)\n",
    "t0 = time.time()\n",
    "model_r = model_r.fit(X)\n",
    "print(time.time() - t0)\n",
    "Z_hat = model_r.predict(X)\n",
    "\n",
    "make_plots(Z, Z_hat)"
   ]
  },
  {
   "cell_type": "markdown",
   "id": "337c6467",
   "metadata": {},
   "source": [
    "## Gaussian Dense HMM"
   ]
  },
  {
   "cell_type": "code",
   "execution_count": 6,
   "id": "f47368bb",
   "metadata": {},
   "outputs": [
    {
     "name": "stderr",
     "output_type": "stream",
     "text": [
      "2022-12-03 22:13:22.511199: W tensorflow/stream_executor/platform/default/dso_loader.cc:64] Could not load dynamic library 'libcudart.so.11.0'; dlerror: libcudart.so.11.0: cannot open shared object file: No such file or directory\n",
      "2022-12-03 22:13:22.511233: I tensorflow/stream_executor/cuda/cudart_stub.cc:29] Ignore above cudart dlerror if you do not have a GPU set up on your machine.\n"
     ]
    },
    {
     "name": "stdout",
     "output_type": "stream",
     "text": [
      "WARNING:tensorflow:From /Ziob/lipinski/miniconda3/envs/hmm_clone/lib/python3.10/site-packages/tensorflow/python/compat/v2_compat.py:107: disable_resource_variables (from tensorflow.python.ops.variable_scope) is deprecated and will be removed in a future version.\n",
      "Instructions for updating:\n",
      "non-resource variables are not supported in the long term\n"
     ]
    }
   ],
   "source": [
    "from models_gaussian_2d import GaussianDenseHMM\n",
    "from sklearn.cluster import KMeans\n",
    "from sklearn.tree import DecisionTreeClassifier"
   ]
  },
  {
   "cell_type": "code",
   "execution_count": 7,
   "id": "265bea44",
   "metadata": {},
   "outputs": [],
   "source": [
    "def compute_stationary(M, verbose=True):\n",
    "    eigval, eigvec = np.linalg.eig(M.T)\n",
    "    idx = np.asarray(np.isclose(eigval, [1.], rtol=1e-2, atol=1e-3)).nonzero()[0]\n",
    "    if idx.size < 1:\n",
    "        raise Exception(\"No Eigenvalue 1\")\n",
    "    elif idx.size > 1 and verbose:\n",
    "        print(\"Warning: Multiple vectors corresponding to eigenvalue 1.: %s\" % str(idx))\n",
    "    M_stationary = eigvec[:, idx[0]].real\n",
    "    M_stationary = M_stationary / np.sum(M_stationary)\n",
    "    return M_stationary\n",
    "\n",
    "def relu(x):\n",
    "    return x * (x > 0)\n",
    "\n",
    "def compute_loss(nodes, splits, n_, omega_gt, means_, covars_, A_):\n",
    "    B_scalars = None\n",
    "    if d == 1:  # popraw wizualnie\n",
    "        B_scalars_tmp = .5 * (\n",
    "                1 + erf((nodes - np.transpose(a=means_)) / (\n",
    "                relu(np.transpose(a=covars_[:, :, 0])) + 1e-10) / np.sqrt(2)))\n",
    "\n",
    "        B_scalars = np.transpose(a=B_scalars_tmp[1:, :] - B_scalars_tmp[:-1, :])\n",
    "    if d == 2:\n",
    "        B_scalars_tmp = np.prod(.5 * (\n",
    "                1 + erf((np.expand_dims(nodes, axis=-1) - np.expand_dims(\n",
    "            np.transpose(a=means_), axis=0)) / (\n",
    "                                relu(np.expand_dims(np.transpose(np.array(list(map(lambda x: np.diag(np.array(x)), covars_.tolist())))), axis=0)) + 1e-10) / np.sqrt(2))), axis=1)\n",
    "\n",
    "        # B_scalars_tmp = np.prod(input_tensor=.5 * (\n",
    "        #                     1 + erf((np.expand_dims(nodes, axis=-1) - np.expand_dims(\n",
    "        #                 np.transpose(means_), axis=0)) / (relu(np.expand_dims(np.transpose(covars_),\n",
    "        #                                                                       axis=0)) + 1e-10) / np.sqrt(2))), axis=1)\n",
    "\n",
    "            # np.prod(.5 * (\n",
    "            #     1 + erf((np.expand_dims(nodes, axis=-1) - np.expand_dims(np.transpose(a=means_), axis=0)) /\n",
    "            #             (relu(np.expand_dims(np.transpose(np.array(list(map(lambda x: np.diag(np.array(x)), covars_.tolist())))), axis=0)) + 1e-10) /\n",
    "            #             np.sqrt(2))), axis=1)\n",
    "        B_scalars_tmp_wide = np.reshape(B_scalars_tmp, (*[n.shape[0] for n in splits], n_))\n",
    "        B_scalars = np.transpose(a=np.reshape(\n",
    "            B_scalars_tmp_wide[:-1, 1:, :] - B_scalars_tmp_wide[:-1, :-1, :] - B_scalars_tmp_wide[1:, 1:,\n",
    "                                                                               :] + B_scalars_tmp_wide[1:, :-1, :],\n",
    "            (-1, n_)))\n",
    "\n",
    "    A_stationary = compute_stationary(A_, verbose=False)\n",
    "\n",
    "    theta = A_ * A_stationary[:, None]\n",
    "    omega = np.matmul(np.transpose(a=B_scalars), np.matmul(theta, B_scalars))\n",
    "    loss_cooc = np.sum(np.abs(omega_gt - omega)) / 2\n",
    "    return loss_cooc\n",
    "\n",
    "def provide_nodes(n_, Y_train):\n",
    "    kmeans = KMeans(n_).fit(Y_train)\n",
    "    dtree = DecisionTreeClassifier().fit(Y_train, kmeans.labels_)\n",
    "\n",
    "    splits = np.concatenate([dtree.tree_.feature.reshape(-1, 1), dtree.tree_.threshold.reshape(-1, 1)], axis=1)\n",
    "    splits = np.concatenate([splits, np.array([[i, fun(Y_train[:, i])] for i, fun in itertools.product(range(Y_train.shape[1]), [\n",
    "        lambda x: np.min(x) - 1e-3, lambda x: np.max(x) + 1e-3])])])\n",
    "    splits = splits[splits[:, 0] >= 0]\n",
    "\n",
    "    nodes_x = [np.sort(splits[splits[:, 0] == float(i), 1]) for i in np.unique(splits[:, 0])]\n",
    "    nodes = np.array([t for t in itertools.product(*nodes_x)])\n",
    "\n",
    "    splits = nodes_x  # number  of splits  on each axis\n",
    "    discrete_nodes = nodes.astype('float32')\n",
    "    discrete_observables = [n.shape[0] - 1 for n in nodes_x]\n",
    "\n",
    "    indexes = np.arange(np.prod(discrete_observables)).reshape(discrete_observables)  # .transpose()\n",
    "    Y_train_disc = np.array([indexes[i] for i in\n",
    "                       zip(*[(Y_train[:, j].reshape(-1, 1) > splits[j].reshape(1, -1)).sum(axis=1) - 1 for j in\n",
    "                             range(len(splits))])])\n",
    "\n",
    "    return nodes, nodes_x, Y_train_disc\n",
    "\n",
    "def _lengths_iterator(seqs, lengths):\n",
    "    n_seqs = len(lengths)\n",
    "    left, right = 0, 0\n",
    "\n",
    "    for i in range(len(lengths)):\n",
    "        right += lengths[i]\n",
    "        yield seqs[left:right]\n",
    "        left += lengths[i]\n",
    "\n",
    "def empirical_coocs(seqs, m, lengths=None):\n",
    "    freqs = np.zeros((m, m))\n",
    "    seq_iterator = seqs\n",
    "    if lengths is not None:\n",
    "        seq_iterator = _lengths_iterator(seqs, lengths)\n",
    "\n",
    "    for seq in seq_iterator:\n",
    "\n",
    "        if seq.shape[0] <= 1:  # no transitions\n",
    "            continue\n",
    "\n",
    "        seq = seq.reshape(-1)\n",
    "\n",
    "        seq_pairs = np.dstack((seq[:-1], seq[1:]))\n",
    "        seq_pairs, counts = np.unique(seq_pairs, return_counts=True, axis=1)\n",
    "        seq_pre, seq_suc = [arr.flatten() for arr in np.dsplit(seq_pairs, 2)]\n",
    "        freqs[seq_pre, seq_suc] += counts\n",
    "\n",
    "    return freqs, freqs / np.sum(freqs)"
   ]
  },
  {
   "cell_type": "code",
   "execution_count": 8,
   "id": "ff50d9e0",
   "metadata": {
    "scrolled": false
   },
   "outputs": [
    {
     "data": {
      "image/png": "[encoded data removed]",
      "text/plain": [
       "<Figure size 1296x288 with 1 Axes>"
      ]
     },
     "metadata": {
      "needs_background": "light"
     },
     "output_type": "display_data"
    },
    {
     "name": "stderr",
     "output_type": "stream",
     "text": [
      "2022-12-03 22:13:56.329897: I tensorflow/stream_executor/cuda/cuda_gpu_executor.cc:975] successful NUMA node read from SysFS had negative value (-1), but there must be at least one NUMA node, so returning NUMA node zero\n",
      "2022-12-03 22:13:56.334488: W tensorflow/stream_executor/platform/default/dso_loader.cc:64] Could not load dynamic library 'libcudart.so.11.0'; dlerror: libcudart.so.11.0: cannot open shared object file: No such file or directory\n",
      "2022-12-03 22:13:56.338210: W tensorflow/stream_executor/platform/default/dso_loader.cc:64] Could not load dynamic library 'libcublas.so.11'; dlerror: libcublas.so.11: cannot open shared object file: No such file or directory\n",
      "2022-12-03 22:13:56.341635: W tensorflow/stream_executor/platform/default/dso_loader.cc:64] Could not load dynamic library 'libcublasLt.so.11'; dlerror: libcublasLt.so.11: cannot open shared object file: No such file or directory\n",
      "2022-12-03 22:13:56.345011: W tensorflow/stream_executor/platform/default/dso_loader.cc:64] Could not load dynamic library 'libcufft.so.10'; dlerror: libcufft.so.10: cannot open shared object file: No such file or directory\n",
      "2022-12-03 22:13:56.348323: W tensorflow/stream_executor/platform/default/dso_loader.cc:64] Could not load dynamic library 'libcurand.so.10'; dlerror: libcurand.so.10: cannot open shared object file: No such file or directory\n",
      "2022-12-03 22:13:56.351592: W tensorflow/stream_executor/platform/default/dso_loader.cc:64] Could not load dynamic library 'libcusolver.so.11'; dlerror: libcusolver.so.11: cannot open shared object file: No such file or directory\n",
      "2022-12-03 22:13:56.354775: W tensorflow/stream_executor/platform/default/dso_loader.cc:64] Could not load dynamic library 'libcusparse.so.11'; dlerror: libcusparse.so.11: cannot open shared object file: No such file or directory\n",
      "2022-12-03 22:13:56.357978: W tensorflow/stream_executor/platform/default/dso_loader.cc:64] Could not load dynamic library 'libcudnn.so.8'; dlerror: libcudnn.so.8: cannot open shared object file: No such file or directory\n",
      "2022-12-03 22:13:56.357993: W tensorflow/core/common_runtime/gpu/gpu_device.cc:1850] Cannot dlopen some GPU libraries. Please make sure the missing libraries mentioned above are installed properly if you would like to use GPU. Follow the guide at https://www.tensorflow.org/install/gpu for how to download and setup the required libraries for your platform.\n",
      "Skipping registering GPU devices...\n",
      "2022-12-03 22:13:56.360854: I tensorflow/core/platform/cpu_feature_guard.cc:193] This TensorFlow binary is optimized with oneAPI Deep Neural Network Library (oneDNN) to use the following CPU instructions in performance-critical operations:  AVX2 FMA\n",
      "To enable them in other operations, rebuild TensorFlow with the appropriate compiler flags.\n",
      "2022-12-03 22:13:56.385483: I tensorflow/compiler/mlir/mlir_graph_optimization_pass.cc:354] MLIR V1 optimization pass is not enabled\n",
      "         1     -477506.0172             +nan\n"
     ]
    },
    {
     "name": "stdout",
     "output_type": "stream",
     "text": [
      "inf\n"
     ]
    },
    {
     "name": "stderr",
     "output_type": "stream",
     "text": [
      "         2      152052.3484     +629558.3656\n"
     ]
    },
    {
     "name": "stdout",
     "output_type": "stream",
     "text": [
      "inf\n"
     ]
    },
    {
     "name": "stderr",
     "output_type": "stream",
     "text": [
      "         3     -627584.8479     -779637.1963\n"
     ]
    },
    {
     "name": "stdout",
     "output_type": "stream",
     "text": [
      "inf\n"
     ]
    },
    {
     "name": "stderr",
     "output_type": "stream",
     "text": [
      "         4     -760581.5368     -132996.6889\n"
     ]
    },
    {
     "name": "stdout",
     "output_type": "stream",
     "text": [
      "inf\n"
     ]
    },
    {
     "name": "stderr",
     "output_type": "stream",
     "text": [
      "         5    -1877200.1449    -1116618.6082\n"
     ]
    },
    {
     "name": "stdout",
     "output_type": "stream",
     "text": [
      "inf\n"
     ]
    },
    {
     "name": "stderr",
     "output_type": "stream",
     "text": [
      "         6     -986450.7255     +890749.4194\n"
     ]
    },
    {
     "name": "stdout",
     "output_type": "stream",
     "text": [
      "inf\n"
     ]
    },
    {
     "name": "stderr",
     "output_type": "stream",
     "text": [
      "         7    -2013552.4095    -1027101.6840\n"
     ]
    },
    {
     "name": "stdout",
     "output_type": "stream",
     "text": [
      "inf\n"
     ]
    },
    {
     "name": "stderr",
     "output_type": "stream",
     "text": [
      "         8    -2054963.3789      -41410.9695\n"
     ]
    },
    {
     "name": "stdout",
     "output_type": "stream",
     "text": [
      "inf\n"
     ]
    },
    {
     "name": "stderr",
     "output_type": "stream",
     "text": [
      "         9    -2002730.1087      +52233.2703\n"
     ]
    },
    {
     "name": "stdout",
     "output_type": "stream",
     "text": [
      "inf\n"
     ]
    },
    {
     "name": "stderr",
     "output_type": "stream",
     "text": [
      "        10    -1999868.1606       +2861.9481\n"
     ]
    },
    {
     "name": "stdout",
     "output_type": "stream",
     "text": [
      "inf\n"
     ]
    },
    {
     "name": "stderr",
     "output_type": "stream",
     "text": [
      "        11    -1571584.7102     +428283.4504\n"
     ]
    },
    {
     "name": "stdout",
     "output_type": "stream",
     "text": [
      "inf\n"
     ]
    },
    {
     "name": "stderr",
     "output_type": "stream",
     "text": [
      "        12    -1904380.2627     -332795.5526\n"
     ]
    },
    {
     "name": "stdout",
     "output_type": "stream",
     "text": [
      "inf\n"
     ]
    },
    {
     "name": "stderr",
     "output_type": "stream",
     "text": [
      "        13    -1528295.2249     +376085.0378\n"
     ]
    },
    {
     "name": "stdout",
     "output_type": "stream",
     "text": [
      "inf\n"
     ]
    },
    {
     "name": "stderr",
     "output_type": "stream",
     "text": [
      "        14    -1977346.8297     -449051.6048\n"
     ]
    },
    {
     "name": "stdout",
     "output_type": "stream",
     "text": [
      "inf\n"
     ]
    },
    {
     "name": "stderr",
     "output_type": "stream",
     "text": [
      "        15    -1992371.8861      -15025.0564\n"
     ]
    },
    {
     "name": "stdout",
     "output_type": "stream",
     "text": [
      "inf\n"
     ]
    },
    {
     "name": "stderr",
     "output_type": "stream",
     "text": [
      "        16    -2065964.4810      -73592.5949\n"
     ]
    },
    {
     "name": "stdout",
     "output_type": "stream",
     "text": [
      "inf\n"
     ]
    },
    {
     "name": "stderr",
     "output_type": "stream",
     "text": [
      "        17    -1414666.2950     +651298.1860\n"
     ]
    },
    {
     "name": "stdout",
     "output_type": "stream",
     "text": [
      "inf\n"
     ]
    },
    {
     "name": "stderr",
     "output_type": "stream",
     "text": [
      "        18    -1966807.9877     -552141.6927\n"
     ]
    },
    {
     "name": "stdout",
     "output_type": "stream",
     "text": [
      "inf\n"
     ]
    },
    {
     "name": "stderr",
     "output_type": "stream",
     "text": [
      "        19    -1594378.4045     +372429.5832\n"
     ]
    },
    {
     "name": "stdout",
     "output_type": "stream",
     "text": [
      "inf\n"
     ]
    },
    {
     "name": "stderr",
     "output_type": "stream",
     "text": [
      "        20    -1558988.9932      +35389.4114\n"
     ]
    },
    {
     "name": "stdout",
     "output_type": "stream",
     "text": [
      "inf\n"
     ]
    },
    {
     "name": "stderr",
     "output_type": "stream",
     "text": [
      "        21    -1687033.4292     -128044.4360\n"
     ]
    },
    {
     "name": "stdout",
     "output_type": "stream",
     "text": [
      "inf\n"
     ]
    },
    {
     "name": "stderr",
     "output_type": "stream",
     "text": [
      "        22    -1817892.8283     -130859.3991\n"
     ]
    },
    {
     "name": "stdout",
     "output_type": "stream",
     "text": [
      "inf\n"
     ]
    },
    {
     "name": "stderr",
     "output_type": "stream",
     "text": [
      "        23    -1817754.0907        +138.7376\n"
     ]
    },
    {
     "name": "stdout",
     "output_type": "stream",
     "text": [
      "inf\n"
     ]
    },
    {
     "name": "stderr",
     "output_type": "stream",
     "text": [
      "        24    -1725058.0223      +92696.0684\n"
     ]
    },
    {
     "name": "stdout",
     "output_type": "stream",
     "text": [
      "inf\n"
     ]
    },
    {
     "name": "stderr",
     "output_type": "stream",
     "text": [
      "        25    -1876760.1945     -151702.1722\n"
     ]
    },
    {
     "name": "stdout",
     "output_type": "stream",
     "text": [
      "inf\n"
     ]
    },
    {
     "name": "stderr",
     "output_type": "stream",
     "text": [
      "        26    -1825599.1530      +51161.0415\n"
     ]
    },
    {
     "name": "stdout",
     "output_type": "stream",
     "text": [
      "inf\n"
     ]
    },
    {
     "name": "stderr",
     "output_type": "stream",
     "text": [
      "        27    -1869152.1671      -43553.0141\n"
     ]
    },
    {
     "name": "stdout",
     "output_type": "stream",
     "text": [
      "inf\n"
     ]
    },
    {
     "name": "stderr",
     "output_type": "stream",
     "text": [
      "        28    -1833234.7570      +35917.4101\n"
     ]
    },
    {
     "name": "stdout",
     "output_type": "stream",
     "text": [
      "inf\n"
     ]
    },
    {
     "name": "stderr",
     "output_type": "stream",
     "text": [
      "        29    -1852329.7037      -19094.9467\n"
     ]
    },
    {
     "name": "stdout",
     "output_type": "stream",
     "text": [
      "inf\n"
     ]
    },
    {
     "name": "stderr",
     "output_type": "stream",
     "text": [
      "        30    -1999520.7922     -147191.0885\n"
     ]
    },
    {
     "name": "stdout",
     "output_type": "stream",
     "text": [
      "inf\n",
      "28.16254210472107\n"
     ]
    },
    {
     "data": {
      "image/png": "[encoded data removed]",
      "text/plain": [
       "<Figure size 1296x144 with 2 Axes>"
      ]
     },
     "metadata": {},
     "output_type": "display_data"
    },
    {
     "name": "stdout",
     "output_type": "stream",
     "text": [
      "[[     0  68848  25635]\n",
      " [     0 236090  11482]\n",
      " [     0 125668  32270]]\n",
      "0.5367275141851986\n"
     ]
    }
   ],
   "source": [
    "f = gzip.open('data_hmm_004a.pcklz', 'rb')\n",
    "X = pickle.load(f)\n",
    "Z = pickle.load(f)\n",
    "f.close()\n",
    "\n",
    "plt.figure(figsize=(18,4))\n",
    "plt.plot(X[:100])\n",
    "plt.show()\n",
    "\n",
    "n = 3\n",
    "d = 1\n",
    "Y = X\n",
    "lengths = np.array([Y.shape[0]])\n",
    "\n",
    "nodes, splits, Y_disc = provide_nodes(n, Y)\n",
    "_, omega_gt = empirical_coocs(Y_disc.reshape(-1, 1), np.max(Y_disc) + 1, lengths=lengths)\n",
    "model = GaussianDenseHMM(n_hidden_states=n, mstep_config={'cooc_epochs': 10000 * n, 'cooc_lr': 0.002, 'loss_type': 'abs'}, n_dims=d,\n",
    "                         verbose=True, early_stopping=True, convergence_tol=0.0001, covariance_type='diag')\n",
    "t0 = time.time()\n",
    "model.fit_coocs(Y, lengths)\n",
    "print(time.time() - t0)\n",
    "Z_hat = model.predict(Y, lengths)\n",
    "\n",
    "make_plots(Z, Z_hat)"
   ]
  },
  {
   "cell_type": "code",
   "execution_count": null,
   "id": "e952eeee",
   "metadata": {},
   "outputs": [],
   "source": []
  }
 ],
 "metadata": {
  "kernelspec": {
   "display_name": "hmm_clone",
   "language": "python",
   "name": "hmm_clone"
  },
  "language_info": {
   "codemirror_mode": {
    "name": "ipython",
    "version": 3
   },
   "file_extension": ".py",
   "mimetype": "text/x-python",
   "name": "python",
   "nbconvert_exporter": "python",
   "pygments_lexer": "ipython3",
   "version": "3.10.4"
  }
 },
 "nbformat": 4,
 "nbformat_minor": 5
}
