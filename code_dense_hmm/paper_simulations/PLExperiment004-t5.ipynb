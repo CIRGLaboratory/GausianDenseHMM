{
 "cells": [
  {
   "cell_type": "code",
   "execution_count": 1,
   "outputs": [],
   "source": [
    "import numpy as np\n",
    "\n",
    "from sklearn.metrics import confusion_matrix\n",
    "from hmmlearn import hmm\n",
    "\n",
    "import gzip\n",
    "import itertools\n",
    "import pickle\n",
    "import time\n",
    "\n",
    "import matplotlib.pyplot as plt\n",
    "from ssm.util import find_permutation\n",
    "\n",
    "%matplotlib inline"
   ],
   "metadata": {
    "collapsed": false
   }
  },
  {
   "cell_type": "code",
   "execution_count": 2,
   "outputs": [],
   "source": [
    "def hill_curve_001(x):\n",
    "    # return 0.185 + (0.867-0.185)*x**1.18 / (68.0**1.18 + x**1.18)\n",
    "    return (0.168 + (1.07-0.168)*x**0.792 / (112.0**0.792 + x**0.792)) * 100"
   ],
   "metadata": {
    "collapsed": false
   }
  },
  {
   "cell_type": "code",
   "execution_count": 3,
   "outputs": [],
   "source": [
    "def make_plots(Z, Z_hat):\n",
    "    order = Z.argsort()\n",
    "\n",
    "    f, (ax1, ax2) = plt.subplots(2, 1, figsize=(18,2), sharey=True)\n",
    "    ax1.imshow(Z[order].reshape(1, -1), aspect=\"auto\", extent=(-0.5, Z.shape[0] - 0.5, 0, 1), cmap=\"jet\")\n",
    "    ax1.set_xticks([])\n",
    "    ax1.set_yticks([])\n",
    "    ax2.imshow(Z_hat[order].reshape(1, -1), aspect=\"auto\", extent=(-0.5, Z_hat.shape[0] - 0.5, 0, 1), cmap=\"jet\")\n",
    "    ax2.set_xticks([])\n",
    "    ax2.set_yticks([])\n",
    "    plt.show()\n",
    "\n",
    "    cm = confusion_matrix(Z, Z_hat)\n",
    "\n",
    "    cm_best_ = cm.copy()\n",
    "    cm_best_a_ = np.diag(cm_best_).sum()\n",
    "    for p in itertools.permutations(np.arange(cm.shape[0])):\n",
    "        cm_ = cm[p, :].copy()\n",
    "        cm_a_ = np.diag(cm_).sum()\n",
    "        if cm_a_ > cm_best_a_:\n",
    "            cm_best_ = cm_.copy()\n",
    "            cm_best_a_ = cm_a_\n",
    "    print(cm_best_)\n",
    "    print(cm_best_a_ / cm_best_.sum())"
   ],
   "metadata": {
    "collapsed": false
   }
  },
  {
   "cell_type": "markdown",
   "source": [
    "## Generating Data"
   ],
   "metadata": {
    "collapsed": false
   }
  },
  {
   "cell_type": "code",
   "execution_count": 4,
   "outputs": [
    {
     "name": "stderr",
     "output_type": "stream",
     "text": [
      "/tmp/ipykernel_3568607/1592173968.py:3: RuntimeWarning: invalid value encountered in power\n",
      "  return (0.168 + (1.07-0.168)*x**0.792 / (112.0**0.792 + x**0.792)) * 100\n"
     ]
    }
   ],
   "source": [
    "K = 3\n",
    "T = 5000\n",
    "\n",
    "model_1 = hmm.GaussianHMM(n_components=K, covariance_type=\"diag\")\n",
    "\n",
    "model_1.startprob_ = np.array([0.6, 0.3, 0.1])\n",
    "model_1.transmat_ = np.array([[0.7, 0.2, 0.1],\n",
    "                            [0.1, 0.8, 0.1],\n",
    "                            [0.05, 0.05, 0.9]])\n",
    "model_1.means_ = np.array([[0.0], [50.0], [100.0]])\n",
    "model_1.covars_ = np.tile(np.ones(1), (K, 1))\n",
    "\n",
    "def prep_(dat, t=7):\n",
    "    X, Z = dat\n",
    "    X_ = X.copy()\n",
    "    X_ = X_.cumsum()\n",
    "    X_ = (X_[t:] - X_[:-t])\n",
    "    X = hill_curve_001(X_+10)\n",
    "    X, Z = X.reshape(-1, 1), Z[t:]\n",
    "    return X, Z, dat[0]\n",
    "\n",
    "sample = [prep_(model_1.sample(T), t=5) for  _ in range(1000)]\n",
    "\n",
    "X, Z, X_ = np.concatenate([xz[0] for xz  in sample]), np.concatenate([xz[1] for xz  in sample]), np.concatenate([xz[2] for xz  in sample])\n",
    "L = [len(xz[0]) for xz in sample]\n",
    "\n",
    "# f = gzip.open('data_hmm_004.pcklz', 'wb')\n",
    "# pickle.dump(X, f)\n",
    "# pickle.dump(Z, f)\n",
    "# f.close()\n",
    "\n",
    "X[np.isnan(X)] = 0.00\n",
    "\n",
    "f = gzip.open('data_hmm_004c.pcklz', 'wb')\n",
    "pickle.dump(X, f)\n",
    "pickle.dump(Z, f)\n",
    "f.close()"
   ],
   "metadata": {
    "collapsed": false
   }
  },
  {
   "cell_type": "markdown",
   "source": [
    "## Regular HMM"
   ],
   "metadata": {
    "collapsed": false
   }
  },
  {
   "cell_type": "code",
   "execution_count": 4,
   "outputs": [],
   "source": [],
   "metadata": {
    "collapsed": false
   }
  },
  {
   "cell_type": "code",
   "execution_count": 5,
   "outputs": [
    {
     "data": {
      "text/plain": "<Figure size 1296x288 with 1 Axes>",
      "image/png": "[encoded data removed]"
     },
     "metadata": {
      "needs_background": "light"
     },
     "output_type": "display_data"
    },
    {
     "name": "stdout",
     "output_type": "stream",
     "text": [
      "313.0546953678131\n"
     ]
    },
    {
     "data": {
      "text/plain": "<Figure size 1296x144 with 2 Axes>",
      "image/png": "[encoded data removed]"
     },
     "metadata": {},
     "output_type": "display_data"
    },
    {
     "name": "stdout",
     "output_type": "stream",
     "text": [
      "[[ 544660  392279       0]\n",
      " [ 293269 1268281       0]\n",
      " [  50992  812034 1633485]]\n",
      "0.6899751751751751\n"
     ]
    }
   ],
   "source": [
    "f = gzip.open('data_hmm_004c.pcklz', 'rb')\n",
    "X = pickle.load(f)\n",
    "Z = pickle.load(f)\n",
    "f.close()\n",
    "\n",
    "plt.figure(figsize=(18,4))\n",
    "plt.plot(X[:100])\n",
    "plt.show()\n",
    "\n",
    "model_r = hmm.GaussianHMM(n_components=K, covariance_type=\"diag\", n_iter=20000, tol=0.0001)\n",
    "t0 = time.time()\n",
    "model_r = model_r.fit(X, lengths=L)\n",
    "print(time.time() - t0)\n",
    "Z_hat_hmmlearn = model_r.predict(X)\n",
    "\n",
    "perm = find_permutation(Z_hat_hmmlearn, Z)\n",
    "make_plots(Z, perm[Z_hat_hmmlearn])"
   ],
   "metadata": {
    "collapsed": false
   }
  },
  {
   "cell_type": "code",
   "execution_count": 6,
   "outputs": [
    {
     "data": {
      "text/plain": "-10089991.586074969"
     },
     "execution_count": 6,
     "metadata": {},
     "output_type": "execute_result"
    }
   ],
   "source": [
    "model_r.score(X, lengths=L)"
   ],
   "metadata": {
    "collapsed": false
   }
  },
  {
   "cell_type": "code",
   "execution_count": 7,
   "outputs": [
    {
     "data": {
      "text/plain": "<Figure size 1296x144 with 2 Axes>",
      "image/png": "[encoded data removed]"
     },
     "metadata": {},
     "output_type": "display_data"
    },
    {
     "name": "stdout",
     "output_type": "stream",
     "text": [
      "[[ 544660  392279       0]\n",
      " [ 293269 1268281       0]\n",
      " [  50992  812034 1633485]]\n",
      "0.6899751751751751\n"
     ]
    }
   ],
   "source": [
    "perm_hmmlearn = find_permutation(Z_hat_hmmlearn, Z)\n",
    "make_plots(Z, perm_hmmlearn[Z_hat_hmmlearn])"
   ],
   "metadata": {
    "collapsed": false
   }
  },
  {
   "cell_type": "code",
   "execution_count": 8,
   "outputs": [
    {
     "data": {
      "text/plain": "<Figure size 1296x144 with 2 Axes>",
      "image/png": "[encoded data removed]"
     },
     "metadata": {},
     "output_type": "display_data"
    },
    {
     "name": "stdout",
     "output_type": "stream",
     "text": [
      "[[ 603460  318186   15293]\n",
      " [ 272488 1288333     729]\n",
      " [  56368  818160 1621983]]\n",
      "0.7034586586586586\n"
     ]
    }
   ],
   "source": [
    "switch = np.arange(Z_hat_hmmlearn[1:].shape[0])[Z_hat_hmmlearn[1:] != Z_hat_hmmlearn[:-1]] + 1\n",
    "switch = np.concatenate([np.array([0]), switch])\n",
    "real_switch = np.concatenate([np.array([0]), switch[1:][(switch[1:] - switch[:-1]) > 3], np.array([Z_hat_hmmlearn.shape[0]])])\n",
    "Z_hat_post = np.concatenate([(np.bincount(Z_hat_hmmlearn[real_switch[i]:real_switch[i + 1]]).argmax() * np.ones(\n",
    "    Z_hat_hmmlearn[real_switch[i]:real_switch[i + 1]].shape[0])).astype(int) for i in range(real_switch.shape[0] - 1)])\n",
    "perm = find_permutation(Z_hat_post, Z)\n",
    "make_plots(Z, perm[Z_hat_post])"
   ],
   "metadata": {
    "collapsed": false
   }
  },
  {
   "cell_type": "markdown",
   "source": [
    "## Gaussian Dense HMM"
   ],
   "metadata": {
    "collapsed": false
   }
  },
  {
   "cell_type": "code",
   "execution_count": 9,
   "outputs": [
    {
     "name": "stderr",
     "output_type": "stream",
     "text": [
      "2022-12-04 20:24:09.360636: I tensorflow/core/platform/cpu_feature_guard.cc:193] This TensorFlow binary is optimized with oneAPI Deep Neural Network Library (oneDNN) to use the following CPU instructions in performance-critical operations:  AVX2 FMA\n",
      "To enable them in other operations, rebuild TensorFlow with the appropriate compiler flags.\n",
      "2022-12-04 20:24:09.540594: W tensorflow/compiler/xla/stream_executor/platform/default/dso_loader.cc:64] Could not load dynamic library 'libcudart.so.11.0'; dlerror: libcudart.so.11.0: cannot open shared object file: No such file or directory\n",
      "2022-12-04 20:24:09.540620: I tensorflow/compiler/xla/stream_executor/cuda/cudart_stub.cc:29] Ignore above cudart dlerror if you do not have a GPU set up on your machine.\n",
      "2022-12-04 20:24:14.970954: W tensorflow/compiler/xla/stream_executor/platform/default/dso_loader.cc:64] Could not load dynamic library 'libnvinfer.so.7'; dlerror: libnvinfer.so.7: cannot open shared object file: No such file or directory\n",
      "2022-12-04 20:24:14.971258: W tensorflow/compiler/xla/stream_executor/platform/default/dso_loader.cc:64] Could not load dynamic library 'libnvinfer_plugin.so.7'; dlerror: libnvinfer_plugin.so.7: cannot open shared object file: No such file or directory\n",
      "2022-12-04 20:24:14.971286: W tensorflow/compiler/tf2tensorrt/utils/py_utils.cc:38] TF-TRT Warning: Cannot dlopen some TensorRT libraries. If you would like to use Nvidia GPU with TensorRT, please make sure the missing libraries mentioned above are installed properly.\n"
     ]
    },
    {
     "name": "stdout",
     "output_type": "stream",
     "text": [
      "WARNING:tensorflow:From /ziob/klaudia/miniconda3/envs/hmm/lib/python3.10/site-packages/tensorflow/python/compat/v2_compat.py:107: disable_resource_variables (from tensorflow.python.ops.variable_scope) is deprecated and will be removed in a future version.\n",
      "Instructions for updating:\n",
      "non-resource variables are not supported in the long term\n"
     ]
    }
   ],
   "source": [
    "from models_gaussian_2d import GaussianDenseHMM\n",
    "from sklearn.cluster import KMeans\n",
    "from sklearn.tree import DecisionTreeClassifier"
   ],
   "metadata": {
    "collapsed": false
   }
  },
  {
   "cell_type": "code",
   "execution_count": 10,
   "outputs": [],
   "source": [
    "def compute_stationary(M, verbose=True):\n",
    "    eigval, eigvec = np.linalg.eig(M.T)\n",
    "    idx = np.asarray(np.isclose(eigval, [1.], rtol=1e-2, atol=1e-3)).nonzero()[0]\n",
    "    if idx.size < 1:\n",
    "        raise Exception(\"No Eigenvalue 1\")\n",
    "    elif idx.size > 1 and verbose:\n",
    "        print(\"Warning: Multiple vectors corresponding to eigenvalue 1.: %s\" % str(idx))\n",
    "    M_stationary = eigvec[:, idx[0]].real\n",
    "    M_stationary = M_stationary / np.sum(M_stationary)\n",
    "    return M_stationary\n",
    "\n",
    "def relu(x):\n",
    "    return x * (x > 0)\n",
    "\n",
    "def compute_loss(nodes, splits, n_, omega_gt, means_, covars_, A_):\n",
    "    B_scalars = None\n",
    "    if d == 1:  # popraw wizualnie\n",
    "        B_scalars_tmp = .5 * (\n",
    "                1 + erf((nodes - np.transpose(a=means_)) / (\n",
    "                relu(np.transpose(a=covars_[:, :, 0])) + 1e-10) / np.sqrt(2)))\n",
    "\n",
    "        B_scalars = np.transpose(a=B_scalars_tmp[1:, :] - B_scalars_tmp[:-1, :])\n",
    "    if d == 2:\n",
    "        B_scalars_tmp = np.prod(.5 * (\n",
    "                1 + erf((np.expand_dims(nodes, axis=-1) - np.expand_dims(\n",
    "            np.transpose(a=means_), axis=0)) / (\n",
    "                                relu(np.expand_dims(np.transpose(np.array(list(map(lambda x: np.diag(np.array(x)), covars_.tolist())))), axis=0)) + 1e-10) / np.sqrt(2))), axis=1)\n",
    "\n",
    "        # B_scalars_tmp = np.prod(input_tensor=.5 * (\n",
    "        #                     1 + erf((np.expand_dims(nodes, axis=-1) - np.expand_dims(\n",
    "        #                 np.transpose(means_), axis=0)) / (relu(np.expand_dims(np.transpose(covars_),\n",
    "        #                                                                       axis=0)) + 1e-10) / np.sqrt(2))), axis=1)\n",
    "\n",
    "            # np.prod(.5 * (\n",
    "            #     1 + erf((np.expand_dims(nodes, axis=-1) - np.expand_dims(np.transpose(a=means_), axis=0)) /\n",
    "            #             (relu(np.expand_dims(np.transpose(np.array(list(map(lambda x: np.diag(np.array(x)), covars_.tolist())))), axis=0)) + 1e-10) /\n",
    "            #             np.sqrt(2))), axis=1)\n",
    "        B_scalars_tmp_wide = np.reshape(B_scalars_tmp, (*[n.shape[0] for n in splits], n_))\n",
    "        B_scalars = np.transpose(a=np.reshape(\n",
    "            B_scalars_tmp_wide[:-1, 1:, :] - B_scalars_tmp_wide[:-1, :-1, :] - B_scalars_tmp_wide[1:, 1:,\n",
    "                                                                               :] + B_scalars_tmp_wide[1:, :-1, :],\n",
    "            (-1, n_)))\n",
    "\n",
    "    A_stationary = compute_stationary(A_, verbose=False)\n",
    "\n",
    "    theta = A_ * A_stationary[:, None]\n",
    "    omega = np.matmul(np.transpose(a=B_scalars), np.matmul(theta, B_scalars))\n",
    "    loss_cooc = np.sum(np.abs(omega_gt - omega)) / 2\n",
    "    return loss_cooc\n",
    "\n",
    "def provide_nodes(n_, Y_train):\n",
    "    kmeans = KMeans(n_).fit(Y_train)\n",
    "    dtree = DecisionTreeClassifier().fit(Y_train, kmeans.labels_)\n",
    "\n",
    "    splits = np.concatenate([dtree.tree_.feature.reshape(-1, 1), dtree.tree_.threshold.reshape(-1, 1)], axis=1)\n",
    "    splits = np.concatenate([splits, np.array([[i, fun(Y_train[:, i])] for i, fun in itertools.product(range(Y_train.shape[1]), [\n",
    "        lambda x: np.min(x) - 1e-3, lambda x: np.max(x) + 1e-3])])])\n",
    "    splits = splits[splits[:, 0] >= 0]\n",
    "\n",
    "    nodes_x = [np.sort(splits[splits[:, 0] == float(i), 1]) for i in np.unique(splits[:, 0])]\n",
    "    nodes = np.array([t for t in itertools.product(*nodes_x)])\n",
    "\n",
    "    splits = nodes_x  # number  of splits  on each axis\n",
    "    discrete_nodes = nodes.astype('float32')\n",
    "    discrete_observables = [n.shape[0] - 1 for n in nodes_x]\n",
    "\n",
    "    indexes = np.arange(np.prod(discrete_observables)).reshape(discrete_observables)  # .transpose()\n",
    "    Y_train_disc = np.array([indexes[i] for i in\n",
    "                       zip(*[(Y_train[:, j].reshape(-1, 1) > splits[j].reshape(1, -1)).sum(axis=1) - 1 for j in\n",
    "                             range(len(splits))])])\n",
    "\n",
    "    return nodes, nodes_x, Y_train_disc\n",
    "\n",
    "def _lengths_iterator(seqs, lengths):\n",
    "    n_seqs = len(lengths)\n",
    "    left, right = 0, 0\n",
    "\n",
    "    for i in range(len(lengths)):\n",
    "        right += lengths[i]\n",
    "        yield seqs[left:right]\n",
    "        left += lengths[i]\n",
    "\n",
    "def empirical_coocs(seqs, m, lengths=None):\n",
    "    freqs = np.zeros((m, m))\n",
    "    seq_iterator = seqs\n",
    "    if lengths is not None:\n",
    "        seq_iterator = _lengths_iterator(seqs, lengths)\n",
    "\n",
    "    for seq in seq_iterator:\n",
    "\n",
    "        if seq.shape[0] <= 1:  # no transitions\n",
    "            continue\n",
    "\n",
    "        seq = seq.reshape(-1)\n",
    "\n",
    "        seq_pairs = np.dstack((seq[:-1], seq[1:]))\n",
    "        seq_pairs, counts = np.unique(seq_pairs, return_counts=True, axis=1)\n",
    "        seq_pre, seq_suc = [arr.flatten() for arr in np.dsplit(seq_pairs, 2)]\n",
    "        freqs[seq_pre, seq_suc] += counts\n",
    "\n",
    "    return freqs, freqs / np.sum(freqs)"
   ],
   "metadata": {
    "collapsed": false
   }
  },
  {
   "cell_type": "code",
   "execution_count": 11,
   "outputs": [
    {
     "data": {
      "text/plain": "<Figure size 1296x288 with 1 Axes>",
      "image/png": "[encoded data removed]"
     },
     "metadata": {
      "needs_background": "light"
     },
     "output_type": "display_data"
    },
    {
     "name": "stdout",
     "output_type": "stream",
     "text": [
      "WARNING:tensorflow:From /ziob/klaudia/miniconda3/envs/hmm/lib/python3.10/site-packages/tensorflow/python/autograph/pyct/static_analysis/liveness.py:83: Analyzer.lamba_check (from tensorflow.python.autograph.pyct.static_analysis.liveness) is deprecated and will be removed after 2023-09-23.\n",
      "Instructions for updating:\n",
      "Lambda fuctions will be no more assumed to be used in the statement where they are used, or at least in the same block. https://github.com/tensorflow/tensorflow/issues/56089\n"
     ]
    },
    {
     "name": "stderr",
     "output_type": "stream",
     "text": [
      "2022-12-04 20:25:04.253578: W tensorflow/compiler/xla/stream_executor/platform/default/dso_loader.cc:64] Could not load dynamic library 'libcuda.so.1'; dlerror: libcuda.so.1: cannot open shared object file: No such file or directory\n",
      "2022-12-04 20:25:04.253631: W tensorflow/compiler/xla/stream_executor/cuda/cuda_driver.cc:265] failed call to cuInit: UNKNOWN ERROR (303)\n",
      "2022-12-04 20:25:04.253659: I tensorflow/compiler/xla/stream_executor/cuda/cuda_diagnostics.cc:156] kernel driver does not appear to be running on this host (cymestmp): /proc/driver/nvidia/version does not exist\n",
      "2022-12-04 20:25:04.256093: I tensorflow/core/platform/cpu_feature_guard.cc:193] This TensorFlow binary is optimized with oneAPI Deep Neural Network Library (oneDNN) to use the following CPU instructions in performance-critical operations:  AVX2 FMA\n",
      "To enable them in other operations, rebuild TensorFlow with the appropriate compiler flags.\n",
      "2022-12-04 20:25:04.367892: I tensorflow/compiler/mlir/mlir_graph_optimization_pass.cc:357] MLIR V1 optimization pass is not enabled\n",
      "         1   -69716073.0673             +nan\n"
     ]
    },
    {
     "name": "stdout",
     "output_type": "stream",
     "text": [
      "0.43244706698451774\n"
     ]
    },
    {
     "name": "stderr",
     "output_type": "stream",
     "text": [
      "         2   -67671498.9528    +2044574.1146\n"
     ]
    },
    {
     "name": "stdout",
     "output_type": "stream",
     "text": [
      "0.11488592903576873\n"
     ]
    },
    {
     "name": "stderr",
     "output_type": "stream",
     "text": [
      "         3   -67260865.1153     +410633.8374\n"
     ]
    },
    {
     "name": "stdout",
     "output_type": "stream",
     "text": [
      "0.09724372396528524\n"
     ]
    },
    {
     "name": "stderr",
     "output_type": "stream",
     "text": [
      "         4   -66504193.3039     +756671.8114\n"
     ]
    },
    {
     "name": "stdout",
     "output_type": "stream",
     "text": [
      "0.0962833159880006\n"
     ]
    },
    {
     "name": "stderr",
     "output_type": "stream",
     "text": [
      "         5   -65708771.6423     +795421.6616\n"
     ]
    },
    {
     "name": "stdout",
     "output_type": "stream",
     "text": [
      "0.09503614255448414\n"
     ]
    },
    {
     "name": "stderr",
     "output_type": "stream",
     "text": [
      "         6   -64964689.7987     +744081.8436\n"
     ]
    },
    {
     "name": "stdout",
     "output_type": "stream",
     "text": [
      "0.09357788467311053\n"
     ]
    },
    {
     "name": "stderr",
     "output_type": "stream",
     "text": [
      "         7   -64301001.0537     +663688.7451\n"
     ]
    },
    {
     "name": "stdout",
     "output_type": "stream",
     "text": [
      "0.09203066964567437\n"
     ]
    },
    {
     "name": "stderr",
     "output_type": "stream",
     "text": [
      "         8   -63725738.6819     +575262.3718\n"
     ]
    },
    {
     "name": "stdout",
     "output_type": "stream",
     "text": [
      "0.09046649568259524\n"
     ]
    },
    {
     "name": "stderr",
     "output_type": "stream",
     "text": [
      "         9   -63235733.3019     +490005.3800\n"
     ]
    },
    {
     "name": "stdout",
     "output_type": "stream",
     "text": [
      "0.08894603663100478\n"
     ]
    },
    {
     "name": "stderr",
     "output_type": "stream",
     "text": [
      "        10   -62821525.6280     +414207.6738\n"
     ]
    },
    {
     "name": "stdout",
     "output_type": "stream",
     "text": [
      "0.0875160057259716\n"
     ]
    },
    {
     "name": "stderr",
     "output_type": "stream",
     "text": [
      "        11   -62471125.5809     +350400.0472\n"
     ]
    },
    {
     "name": "stdout",
     "output_type": "stream",
     "text": [
      "0.08620380545661344\n"
     ]
    },
    {
     "name": "stderr",
     "output_type": "stream",
     "text": [
      "        12   -62172586.5075     +298539.0734\n"
     ]
    },
    {
     "name": "stdout",
     "output_type": "stream",
     "text": [
      "0.08501815143861302\n"
     ]
    },
    {
     "name": "stderr",
     "output_type": "stream",
     "text": [
      "        13   -61915383.0778     +257203.4296\n"
     ]
    },
    {
     "name": "stdout",
     "output_type": "stream",
     "text": [
      "0.08395366609153823\n"
     ]
    },
    {
     "name": "stderr",
     "output_type": "stream",
     "text": [
      "        14   -61690897.4833     +224485.5945\n"
     ]
    },
    {
     "name": "stdout",
     "output_type": "stream",
     "text": [
      "0.08299626057918434\n"
     ]
    },
    {
     "name": "stderr",
     "output_type": "stream",
     "text": [
      "        15   -61492380.8654     +198516.6179\n"
     ]
    },
    {
     "name": "stdout",
     "output_type": "stream",
     "text": [
      "0.08212754395974338\n"
     ]
    },
    {
     "name": "stderr",
     "output_type": "stream",
     "text": [
      "        16   -61314676.3723     +177704.4932\n"
     ]
    },
    {
     "name": "stdout",
     "output_type": "stream",
     "text": [
      "0.0813277997638067\n"
     ]
    },
    {
     "name": "stderr",
     "output_type": "stream",
     "text": [
      "        17   -61153881.3624     +160795.0099\n"
     ]
    },
    {
     "name": "stdout",
     "output_type": "stream",
     "text": [
      "0.08057771320642655\n"
     ]
    },
    {
     "name": "stderr",
     "output_type": "stream",
     "text": [
      "        18   -61007037.9164     +146843.4459\n"
     ]
    },
    {
     "name": "stdout",
     "output_type": "stream",
     "text": [
      "0.07985921206494256\n"
     ]
    },
    {
     "name": "stderr",
     "output_type": "stream",
     "text": [
      "        19   -60871884.2158     +135153.7006\n"
     ]
    },
    {
     "name": "stdout",
     "output_type": "stream",
     "text": [
      "0.07915575490697949\n"
     ]
    },
    {
     "name": "stderr",
     "output_type": "stream",
     "text": [
      "        20   -60746669.1593     +125215.0565\n"
     ]
    },
    {
     "name": "stdout",
     "output_type": "stream",
     "text": [
      "0.07845231157929154\n"
     ]
    },
    {
     "name": "stderr",
     "output_type": "stream",
     "text": [
      "        21   -60630019.8177     +116649.3416\n"
     ]
    },
    {
     "name": "stdout",
     "output_type": "stream",
     "text": [
      "0.07773519545460328\n"
     ]
    },
    {
     "name": "stderr",
     "output_type": "stream",
     "text": [
      "        22   -60520848.2004     +109171.6172\n"
     ]
    },
    {
     "name": "stdout",
     "output_type": "stream",
     "text": [
      "0.0769918423844986\n"
     ]
    },
    {
     "name": "stderr",
     "output_type": "stream",
     "text": [
      "        23   -60418285.0473     +102563.1531\n"
     ]
    },
    {
     "name": "stdout",
     "output_type": "stream",
     "text": [
      "0.0762105870584186\n"
     ]
    },
    {
     "name": "stderr",
     "output_type": "stream",
     "text": [
      "        24   -60321630.9957      +96654.0516\n"
     ]
    },
    {
     "name": "stdout",
     "output_type": "stream",
     "text": [
      "0.07538045784880561\n"
     ]
    },
    {
     "name": "stderr",
     "output_type": "stream",
     "text": [
      "        25   -60230318.1676      +91312.8281\n"
     ]
    },
    {
     "name": "stdout",
     "output_type": "stream",
     "text": [
      "0.07449099047384146\n"
     ]
    },
    {
     "name": "stderr",
     "output_type": "stream",
     "text": [
      "        26   -60143877.5109      +86440.6567\n"
     ]
    },
    {
     "name": "stdout",
     "output_type": "stream",
     "text": [
      "0.07353204464850956\n"
     ]
    },
    {
     "name": "stderr",
     "output_type": "stream",
     "text": [
      "        27   -60061909.1017      +81968.4092\n"
     ]
    },
    {
     "name": "stdout",
     "output_type": "stream",
     "text": [
      "0.07249359381621724\n"
     ]
    },
    {
     "name": "stderr",
     "output_type": "stream",
     "text": [
      "        28   -59984054.1892      +77854.9126\n"
     ]
    },
    {
     "name": "stdout",
     "output_type": "stream",
     "text": [
      "0.07136544526003553\n"
     ]
    },
    {
     "name": "stderr",
     "output_type": "stream",
     "text": [
      "        29   -59909969.1535      +74085.0357\n"
     ]
    },
    {
     "name": "stdout",
     "output_type": "stream",
     "text": [
      "0.07013683707158927\n"
     ]
    },
    {
     "name": "stderr",
     "output_type": "stream",
     "text": [
      "        30   -59839302.8038      +70666.3497\n"
     ]
    },
    {
     "name": "stdout",
     "output_type": "stream",
     "text": [
      "0.06879585138287872\n"
     ]
    },
    {
     "name": "stderr",
     "output_type": "stream",
     "text": [
      "        31   -59771679.5433      +67623.2605\n"
     ]
    },
    {
     "name": "stdout",
     "output_type": "stream",
     "text": [
      "0.0673285823033723\n"
     ]
    },
    {
     "name": "stderr",
     "output_type": "stream",
     "text": [
      "        32   -59706691.8709      +64987.6723\n"
     ]
    },
    {
     "name": "stdout",
     "output_type": "stream",
     "text": [
      "0.06571800489425604\n"
     ]
    },
    {
     "name": "stderr",
     "output_type": "stream",
     "text": [
      "        33   -59643906.5362      +62785.3348\n"
     ]
    },
    {
     "name": "stdout",
     "output_type": "stream",
     "text": [
      "0.06394251243839846\n"
     ]
    },
    {
     "name": "stderr",
     "output_type": "stream",
     "text": [
      "        34   -59582889.6363      +61016.8998\n"
     ]
    },
    {
     "name": "stdout",
     "output_type": "stream",
     "text": [
      "0.06197413277358902\n"
     ]
    },
    {
     "name": "stderr",
     "output_type": "stream",
     "text": [
      "        35   -59523257.3916      +59632.2447\n"
     ]
    },
    {
     "name": "stdout",
     "output_type": "stream",
     "text": [
      "0.059776524367132496\n"
     ]
    },
    {
     "name": "stderr",
     "output_type": "stream",
     "text": [
      "        36   -59464761.5062      +58495.8854\n"
     ]
    },
    {
     "name": "stdout",
     "output_type": "stream",
     "text": [
      "0.05730304333017427\n",
      "147.9425027370453\n"
     ]
    },
    {
     "data": {
      "text/plain": "<Figure size 1296x144 with 2 Axes>",
      "image/png": "[encoded data removed]"
     },
     "metadata": {},
     "output_type": "display_data"
    },
    {
     "name": "stdout",
     "output_type": "stream",
     "text": [
      "[[ 306410  430756  199773]\n",
      " [  64186 1101043  396321]\n",
      " [      0  177688 2318823]]\n",
      "0.7460012012012012\n"
     ]
    }
   ],
   "source": [
    "f = gzip.open('data_hmm_004c.pcklz', 'rb')\n",
    "X = pickle.load(f)\n",
    "Z = pickle.load(f)\n",
    "f.close()\n",
    "\n",
    "plt.figure(figsize=(18,4))\n",
    "plt.plot(X[:100])\n",
    "plt.show()\n",
    "\n",
    "n = 3\n",
    "d = 1\n",
    "Y = X\n",
    "lengths = np.array([Y.shape[0]])\n",
    "\n",
    "nodes, splits, Y_disc = provide_nodes(n, Y)\n",
    "_, omega_gt = empirical_coocs(Y_disc.reshape(-1, 1), np.max(Y_disc) + 1, lengths=lengths)\n",
    "model = GaussianDenseHMM(n_hidden_states=n, mstep_config={'cooc_epochs': 12000 * n, 'cooc_lr': 0.003, 'loss_type': 'square'}, n_dims=d,\n",
    "                         verbose=True, early_stopping=True, convergence_tol=0.0001, covariance_type='diag')\n",
    "t0 = time.time()\n",
    "model.fit_coocs(Y, lengths=L)\n",
    "print(time.time() - t0)\n",
    "Z_hat = model.predict(Y, L)\n",
    "\n",
    "perm = find_permutation(Z_hat, Z)\n",
    "make_plots(Z, perm[Z_hat])"
   ],
   "metadata": {
    "collapsed": false
   }
  },
  {
   "cell_type": "code",
   "execution_count": 12,
   "outputs": [
    {
     "data": {
      "text/plain": "-59407477.182528004"
     },
     "execution_count": 12,
     "metadata": {},
     "output_type": "execute_result"
    }
   ],
   "source": [
    "model.score(Y, lengths=L)"
   ],
   "metadata": {
    "collapsed": false
   }
  },
  {
   "cell_type": "code",
   "execution_count": 13,
   "outputs": [
    {
     "data": {
      "text/plain": "<Figure size 1296x144 with 2 Axes>",
      "image/png": "[encoded data removed]"
     },
     "metadata": {},
     "output_type": "display_data"
    },
    {
     "name": "stdout",
     "output_type": "stream",
     "text": [
      "[[ 279255  390177  267507]\n",
      " [  33888 1075223  452439]\n",
      " [   2173  100423 2393915]]\n",
      "0.7504290290290291\n"
     ]
    }
   ],
   "source": [
    "switch = np.arange(Z_hat[1:].shape[0])[Z_hat[1:] != Z_hat[:-1]] + 1\n",
    "switch = np.concatenate([np.array([0]), switch])\n",
    "real_switch = np.concatenate([np.array([0]), switch[1:][(switch[1:] - switch[:-1]) > 3], np.array([Z_hat.shape[0]])])\n",
    "Z_hat_post = np.concatenate([(np.bincount(Z_hat[real_switch[i]:real_switch[i + 1]]).argmax() * np.ones(\n",
    "    Z_hat[real_switch[i]:real_switch[i + 1]].shape[0])).astype(int) for i in range(real_switch.shape[0] - 1)])\n",
    "perm = find_permutation(Z_hat_post, Z)\n",
    "make_plots(Z, perm[Z_hat_post])"
   ],
   "metadata": {
    "collapsed": false
   }
  },
  {
   "cell_type": "code",
   "execution_count": 14,
   "outputs": [],
   "source": [
    "def make_plots2(Z, Z_hat, Z_hat2):\n",
    "    order = Z.argsort()\n",
    "\n",
    "    f, (ax1, ax2, ax3) = plt.subplots(3, 1, figsize=(18,2), sharey=True)\n",
    "    ax1.imshow(Z[order].reshape(1, -1), aspect=\"auto\", extent=(-0.5, Z.shape[0] - 0.5, 0, 1), cmap=\"rainbow\")\n",
    "    ax1.set_xticks([])\n",
    "    # plt.sca(ax1)\n",
    "    ax2.set_yticks([])\n",
    "    ax1.set_ylabel(\"Ground Truth\", rotation=0, ha='right')\n",
    "\n",
    "    ax2.imshow(Z_hat[order].reshape(1, -1), aspect=\"auto\", extent=(-0.5, Z_hat.shape[0] - 0.5, 0, 1), cmap=\"rainbow\")\n",
    "    ax2.set_xticks([])\n",
    "    # plt.sca(ax2)\n",
    "    ax2.set_yticks([])\n",
    "    ax2.set_ylabel(\"Standard Gaussian HMM\", rotation=0, ha='right')\n",
    "\n",
    "    ax3.imshow(Z_hat2[order].reshape(1, -1), aspect=\"auto\", extent=(-0.5, Z_hat2.shape[0] - 0.5, 0, 1), cmap=\"rainbow\")\n",
    "    ax3.set_xticks([])\n",
    "    # plt.sca(ax3)\n",
    "    ax2.set_yticks([])\n",
    "    ax3.set_ylabel(\"Gaussian Dense HMM\", rotation=0, ha='right')\n",
    "    plt.suptitle(\"Overall Consistency of the States\")\n",
    "    plt.show()\n",
    "\n",
    "    cm = confusion_matrix(Z_hat2, Z_hat)\n",
    "\n",
    "    cm_best_ = cm.copy()\n",
    "    cm_best_a_ = np.diag(cm_best_).sum()\n",
    "    for p in itertools.permutations(np.arange(cm.shape[0])):\n",
    "        cm_ = cm[p, :].copy()\n",
    "        cm_a_ = np.diag(cm_).sum()\n",
    "        if cm_a_ > cm_best_a_:\n",
    "            cm_best_ = cm_.copy()\n",
    "            cm_best_a_ = cm_a_\n",
    "    print(cm_best_)\n",
    "    print(cm_best_a_ / cm_best_.sum())"
   ],
   "metadata": {
    "collapsed": false
   }
  },
  {
   "cell_type": "code",
   "execution_count": 15,
   "outputs": [],
   "source": [
    "perm = find_permutation(Z_hat, Z)"
   ],
   "metadata": {
    "collapsed": false
   }
  },
  {
   "cell_type": "code",
   "execution_count": 16,
   "outputs": [
    {
     "data": {
      "text/plain": "<Figure size 1296x144 with 3 Axes>",
      "image/png": "[encoded data removed]"
     },
     "metadata": {},
     "output_type": "display_data"
    },
    {
     "name": "stdout",
     "output_type": "stream",
     "text": [
      "[[ 370596       0       0]\n",
      " [ 518321 1191166       0]\n",
      " [      4 1281428 1633485]]\n",
      "0.6396890890890891\n"
     ]
    }
   ],
   "source": [
    "make_plots2(Z, perm_hmmlearn[Z_hat_hmmlearn], perm[Z_hat])"
   ],
   "metadata": {
    "collapsed": false
   }
  },
  {
   "cell_type": "code",
   "execution_count": 17,
   "outputs": [
    {
     "name": "stdout",
     "output_type": "stream",
     "text": [
      "0.5813185276736266\n",
      "0.2933000071357614\n"
     ]
    }
   ],
   "source": [
    "print((Z == perm_hmmlearn[Z_hat_hmmlearn])[Z == 0].mean())\n",
    "print((Z != perm_hmmlearn[Z_hat_hmmlearn])[perm_hmmlearn[Z_hat_hmmlearn] != 0].mean())"
   ],
   "metadata": {
    "collapsed": false
   }
  },
  {
   "cell_type": "code",
   "execution_count": 18,
   "outputs": [
    {
     "name": "stdout",
     "output_type": "stream",
     "text": [
      "0.8121936537414748\n",
      "0.13648120088518662\n"
     ]
    }
   ],
   "source": [
    "print((Z == perm_hmmlearn[Z_hat_hmmlearn])[Z == 1].mean())\n",
    "print((Z != perm_hmmlearn[Z_hat_hmmlearn])[perm_hmmlearn[Z_hat_hmmlearn] != 1].mean())"
   ],
   "metadata": {
    "collapsed": false
   }
  },
  {
   "cell_type": "code",
   "execution_count": 19,
   "outputs": [
    {
     "name": "stdout",
     "output_type": "stream",
     "text": [
      "0.6543071510600194\n",
      "0.4606774028972056\n"
     ]
    }
   ],
   "source": [
    "print((Z == perm_hmmlearn[Z_hat_hmmlearn])[Z == 2].mean())\n",
    "print((Z != perm_hmmlearn[Z_hat_hmmlearn])[perm_hmmlearn[Z_hat_hmmlearn] != 2].mean())"
   ],
   "metadata": {
    "collapsed": false
   }
  },
  {
   "cell_type": "code",
   "execution_count": 20,
   "outputs": [
    {
     "name": "stdout",
     "output_type": "stream",
     "text": [
      "0.32703302989842453\n",
      "0.2604742146231168\n",
      "0.7050962185008485\n",
      "0.20096709402762977\n",
      "0.9288254688242912\n",
      "0.3233669041091149\n"
     ]
    }
   ],
   "source": [
    "print((Z == perm[Z_hat])[Z == 0].mean())\n",
    "print((Z != perm[Z_hat])[perm[Z_hat] != 0].mean())\n",
    "print((Z == perm[Z_hat])[Z == 1].mean())\n",
    "print((Z != perm[Z_hat])[perm[Z_hat] != 1].mean())\n",
    "print((Z == perm[Z_hat])[Z == 2].mean())\n",
    "print((Z != perm[Z_hat])[perm[Z_hat] != 2].mean())"
   ],
   "metadata": {
    "collapsed": false
   }
  },
  {
   "cell_type": "code",
   "execution_count": 31,
   "outputs": [
    {
     "name": "stdout",
     "output_type": "stream",
     "text": [
      "0.5813185276736266\n",
      "0.9151661347623902\n",
      "0.8121936537414748\n",
      "0.6492411422912814\n",
      "0.6543071510600194\n",
      "1.0\n",
      "0.32703302989842453\n",
      "0.9841830864543436\n",
      "0.7050962185008485\n",
      "0.8227893226929182\n",
      "0.9288254688242912\n",
      "0.7614182011607816\n"
     ]
    }
   ],
   "source": [
    "print((Z == perm_hmmlearn[Z_hat_hmmlearn])[Z == 0].mean())\n",
    "print(((Z != 0) == (perm_hmmlearn[Z_hat_hmmlearn] != 0))[Z != 0].mean())\n",
    "print((Z == perm_hmmlearn[Z_hat_hmmlearn])[Z == 1].mean())\n",
    "print(((Z != 1) == (perm_hmmlearn[Z_hat_hmmlearn] != 1))[Z != 1].mean())\n",
    "print((Z == perm_hmmlearn[Z_hat_hmmlearn])[Z == 2].mean())\n",
    "print(((Z != 2) == (perm_hmmlearn[Z_hat_hmmlearn] != 2))[Z != 2].mean())\n",
    "print((Z == perm[Z_hat])[Z == 0].mean())\n",
    "print(((Z != 0) == (perm[Z_hat] != 0))[Z != 0].mean())\n",
    "print((Z == perm[Z_hat])[Z == 1].mean())\n",
    "print(((Z != 1) == (perm[Z_hat] != 1))[Z != 1].mean())\n",
    "print((Z == perm[Z_hat])[Z == 2].mean())\n",
    "print(((Z != 2) == (perm[Z_hat] != 2))[Z != 2].mean())"
   ],
   "metadata": {
    "collapsed": false
   }
  },
  {
   "cell_type": "code",
   "execution_count": 30,
   "outputs": [
    {
     "data": {
      "text/plain": "<Figure size 1296x144 with 3 Axes>",
      "image/png": "[encoded data removed]"
     },
     "metadata": {},
     "output_type": "display_data"
    }
   ],
   "source": [
    "f, (ax1, ax2, ax3) = plt.subplots(3, 1, figsize=(18,2), sharey=True)\n",
    "ax1.plot(X_[5:400], color='Black')\n",
    "ax1.imshow(Z[:395].reshape(1, -1), aspect=\"auto\", extent=(-0.5, Z[:395].shape[0] - 0.5, 0, 110), cmap=\"rainbow\")\n",
    "ax1.set_xticks([])\n",
    "# plt.sca(ax1)\n",
    "ax2.set_yticks([])\n",
    "ax1.set_ylabel(\"Ground Truth\", rotation=0, ha='right')\n",
    "\n",
    "ax2.plot(X[:395], color='Black')\n",
    "ax2.imshow(perm_hmmlearn[Z_hat_hmmlearn][:395].reshape(1, -1)[:100], aspect=\"auto\", extent=(-0.5, Z_hat_hmmlearn[5:400].shape[0] - 0.5, 0, 100), cmap=\"rainbow\")\n",
    "ax2.set_xticks([])\n",
    "# plt.sca(ax2)\n",
    "ax2.set_yticks([])\n",
    "ax2.set_ylabel(\"Standard Gaussian HMM\", rotation=0, ha='right')\n",
    "\n",
    "ax3.plot(X[:395], color='Black')\n",
    "ax3.imshow(perm[Z_hat][:395].reshape(1, -1), aspect=\"auto\", extent=(-0.5, Z_hat[5:400].shape[0] - 0.5, 0, 100), cmap=\"rainbow\")\n",
    "ax3.set_xticks([])\n",
    "# plt.sca(ax3)\n",
    "ax2.set_yticks([])\n",
    "ax3.set_ylabel(\"Gaussian Dense HMM\", rotation=0, ha='right')\n",
    "plt.suptitle(\"Excerpt from the sequence\")\n",
    "plt.show()"
   ],
   "metadata": {
    "collapsed": false
   }
  },
  {
   "cell_type": "code",
   "execution_count": 22,
   "outputs": [
    {
     "data": {
      "text/plain": "104.9871755961221"
     },
     "execution_count": 22,
     "metadata": {},
     "output_type": "execute_result"
    }
   ],
   "source": [
    "X_.max()"
   ],
   "metadata": {
    "collapsed": false
   }
  },
  {
   "cell_type": "code",
   "execution_count": 28,
   "outputs": [
    {
     "data": {
      "text/plain": "<Figure size 1296x288 with 1 Axes>",
      "image/png": "[encoded data removed]"
     },
     "metadata": {
      "needs_background": "light"
     },
     "output_type": "display_data"
    },
    {
     "name": "stderr",
     "output_type": "stream",
     "text": [
      "         1   -76663270.8842             +nan\n"
     ]
    },
    {
     "name": "stdout",
     "output_type": "stream",
     "text": [
      "0.729711105151971\n"
     ]
    },
    {
     "name": "stderr",
     "output_type": "stream",
     "text": [
      "         2   -72659141.5881    +4004129.2962\n"
     ]
    },
    {
     "name": "stdout",
     "output_type": "stream",
     "text": [
      "0.6054769328228201\n"
     ]
    },
    {
     "name": "stderr",
     "output_type": "stream",
     "text": [
      "         3   -68219713.0160    +4439428.5721\n"
     ]
    },
    {
     "name": "stdout",
     "output_type": "stream",
     "text": [
      "0.40383967710284063\n"
     ]
    },
    {
     "name": "stderr",
     "output_type": "stream",
     "text": [
      "         4   -65693667.1129    +2526045.9031\n"
     ]
    },
    {
     "name": "stdout",
     "output_type": "stream",
     "text": [
      "0.2537875388328559\n"
     ]
    },
    {
     "name": "stderr",
     "output_type": "stream",
     "text": [
      "         5   -65045677.4870     +647989.6260\n"
     ]
    },
    {
     "name": "stdout",
     "output_type": "stream",
     "text": [
      "0.1365456399273325\n"
     ]
    },
    {
     "name": "stderr",
     "output_type": "stream",
     "text": [
      "         6   -65365068.6544     -319391.1674\n"
     ]
    },
    {
     "name": "stdout",
     "output_type": "stream",
     "text": [
      "0.0401766106246205\n"
     ]
    },
    {
     "name": "stderr",
     "output_type": "stream",
     "text": [
      "         7   -65756181.2679     -391112.6135\n"
     ]
    },
    {
     "name": "stdout",
     "output_type": "stream",
     "text": [
      "0.014736582531174108\n"
     ]
    },
    {
     "name": "stderr",
     "output_type": "stream",
     "text": [
      "         8   -65946235.7847     -190054.5168\n"
     ]
    },
    {
     "name": "stdout",
     "output_type": "stream",
     "text": [
      "0.00875939761950394\n"
     ]
    },
    {
     "name": "stderr",
     "output_type": "stream",
     "text": [
      "         9   -66026189.7695      -79953.9848\n"
     ]
    },
    {
     "name": "stdout",
     "output_type": "stream",
     "text": [
      "0.006472101320319834\n"
     ]
    },
    {
     "name": "stderr",
     "output_type": "stream",
     "text": [
      "        10   -66050462.8779      -24273.1084\n"
     ]
    },
    {
     "name": "stdout",
     "output_type": "stream",
     "text": [
      "0.005344917355792092\n"
     ]
    },
    {
     "name": "stderr",
     "output_type": "stream",
     "text": [
      "        11   -66042070.2284       +8392.6494\n"
     ]
    },
    {
     "name": "stdout",
     "output_type": "stream",
     "text": [
      "0.004720267236008982\n"
     ]
    },
    {
     "name": "stderr",
     "output_type": "stream",
     "text": [
      "        12   -66012343.4784      +29726.7500\n"
     ]
    },
    {
     "name": "stdout",
     "output_type": "stream",
     "text": [
      "0.004341543881498194\n"
     ]
    },
    {
     "name": "stderr",
     "output_type": "stream",
     "text": [
      "        13   -65968107.7143      +44235.7641\n"
     ]
    },
    {
     "name": "stdout",
     "output_type": "stream",
     "text": [
      "0.004091145583086832\n"
     ]
    },
    {
     "name": "stderr",
     "output_type": "stream",
     "text": [
      "        14   -65914053.6278      +54054.0866\n"
     ]
    },
    {
     "name": "stdout",
     "output_type": "stream",
     "text": [
      "0.00391111132514104\n"
     ]
    },
    {
     "name": "stderr",
     "output_type": "stream",
     "text": [
      "        15   -65853617.5337      +60436.0941\n"
     ]
    },
    {
     "name": "stdout",
     "output_type": "stream",
     "text": [
      "0.003771489309897323\n"
     ]
    },
    {
     "name": "stderr",
     "output_type": "stream",
     "text": [
      "        16   -65789383.5748      +64233.9589\n"
     ]
    },
    {
     "name": "stdout",
     "output_type": "stream",
     "text": [
      "0.0036562418834161555\n"
     ]
    },
    {
     "name": "stderr",
     "output_type": "stream",
     "text": [
      "        17   -65723309.6610      +66073.9138\n"
     ]
    },
    {
     "name": "stdout",
     "output_type": "stream",
     "text": [
      "0.0035565507851012318\n"
     ]
    },
    {
     "name": "stderr",
     "output_type": "stream",
     "text": [
      "        18   -65656873.7474      +66435.9136\n"
     ]
    },
    {
     "name": "stdout",
     "output_type": "stream",
     "text": [
      "0.0034674749135508104\n"
     ]
    },
    {
     "name": "stderr",
     "output_type": "stream",
     "text": [
      "        19   -65591176.7983      +65696.9491\n"
     ]
    },
    {
     "name": "stdout",
     "output_type": "stream",
     "text": [
      "0.0033862087580490054\n"
     ]
    },
    {
     "name": "stderr",
     "output_type": "stream",
     "text": [
      "        20   -65527019.2244      +64157.5739\n"
     ]
    },
    {
     "name": "stdout",
     "output_type": "stream",
     "text": [
      "0.003311141079655906\n"
     ]
    },
    {
     "name": "stderr",
     "output_type": "stream",
     "text": [
      "        21   -65464959.9658      +62059.2587\n"
     ]
    },
    {
     "name": "stdout",
     "output_type": "stream",
     "text": [
      "0.0032413308795091107\n"
     ]
    },
    {
     "name": "stderr",
     "output_type": "stream",
     "text": [
      "        22   -65405363.7170      +59596.2488\n"
     ]
    },
    {
     "name": "stdout",
     "output_type": "stream",
     "text": [
      "0.0031762094501297375\n"
     ]
    },
    {
     "name": "stderr",
     "output_type": "stream",
     "text": [
      "        23   -65348439.6999      +56924.0171\n"
     ]
    },
    {
     "name": "stdout",
     "output_type": "stream",
     "text": [
      "0.0031154091142362645\n"
     ]
    },
    {
     "name": "stderr",
     "output_type": "stream",
     "text": [
      "        24   -65294274.1023      +54165.5976\n"
     ]
    },
    {
     "name": "stdout",
     "output_type": "stream",
     "text": [
      "0.0030586649594906965\n"
     ]
    },
    {
     "name": "stderr",
     "output_type": "stream",
     "text": [
      "        25   -65242857.5013      +51416.6010\n"
     ]
    },
    {
     "name": "stdout",
     "output_type": "stream",
     "text": [
      "0.003005759498513729\n"
     ]
    },
    {
     "name": "stderr",
     "output_type": "stream",
     "text": [
      "        26   -65194108.0987      +48749.4026\n"
     ]
    },
    {
     "name": "stdout",
     "output_type": "stream",
     "text": [
      "0.002956492846175243\n"
     ]
    },
    {
     "name": "stderr",
     "output_type": "stream",
     "text": [
      "        27   -65147891.3167      +46216.7821\n"
     ]
    },
    {
     "name": "stdout",
     "output_type": "stream",
     "text": [
      "0.0029106680445780287\n"
     ]
    },
    {
     "name": "stderr",
     "output_type": "stream",
     "text": [
      "        28   -65104036.1498      +43855.1669\n"
     ]
    },
    {
     "name": "stdout",
     "output_type": "stream",
     "text": [
      "0.0028680852213631984\n"
     ]
    },
    {
     "name": "stderr",
     "output_type": "stream",
     "text": [
      "        29   -65062348.6033      +41687.5465\n"
     ]
    },
    {
     "name": "stdout",
     "output_type": "stream",
     "text": [
      "0.0028285406860892753\n"
     ]
    },
    {
     "name": "stderr",
     "output_type": "stream",
     "text": [
      "        30   -65022622.5205      +39726.0828\n"
     ]
    },
    {
     "name": "stdout",
     "output_type": "stream",
     "text": [
      "0.0027918285589642144\n"
     ]
    },
    {
     "name": "stderr",
     "output_type": "stream",
     "text": [
      "        31   -64984648.0978      +37974.4227\n"
     ]
    },
    {
     "name": "stdout",
     "output_type": "stream",
     "text": [
      "0.002757743467083964\n"
     ]
    },
    {
     "name": "stderr",
     "output_type": "stream",
     "text": [
      "        32   -64948218.3854      +36429.7124\n"
     ]
    },
    {
     "name": "stdout",
     "output_type": "stream",
     "text": [
      "0.0027260834472599667\n"
     ]
    },
    {
     "name": "stderr",
     "output_type": "stream",
     "text": [
      "        33   -64913134.0670      +35084.3184\n"
     ]
    },
    {
     "name": "stdout",
     "output_type": "stream",
     "text": [
      "0.002696652583560247\n"
     ]
    },
    {
     "name": "stderr",
     "output_type": "stream",
     "text": [
      "        34   -64879206.8011      +33927.2658\n"
     ]
    },
    {
     "name": "stdout",
     "output_type": "stream",
     "text": [
      "0.0026692631553770774\n"
     ]
    },
    {
     "name": "stderr",
     "output_type": "stream",
     "text": [
      "        35   -64846261.3876      +32945.4135\n"
     ]
    },
    {
     "name": "stdout",
     "output_type": "stream",
     "text": [
      "0.0026437372247862865\n"
     ]
    },
    {
     "name": "stderr",
     "output_type": "stream",
     "text": [
      "        36   -64814136.9978      +32124.3898\n"
     ]
    },
    {
     "name": "stdout",
     "output_type": "stream",
     "text": [
      "0.002619907681159697\n"
     ]
    },
    {
     "name": "stderr",
     "output_type": "stream",
     "text": [
      "        37   -64782687.6801      +31449.3177\n"
     ]
    },
    {
     "name": "stdout",
     "output_type": "stream",
     "text": [
      "0.002597618807832855\n"
     ]
    },
    {
     "name": "stderr",
     "output_type": "stream",
     "text": [
      "        38   -64751782.3208      +30905.3592\n"
     ]
    },
    {
     "name": "stdout",
     "output_type": "stream",
     "text": [
      "0.0025767264551596306\n"
     ]
    },
    {
     "name": "stderr",
     "output_type": "stream",
     "text": [
      "        39   -64721304.2119      +30478.1089\n"
     ]
    },
    {
     "name": "stdout",
     "output_type": "stream",
     "text": [
      "0.0025570979070917263\n"
     ]
    },
    {
     "name": "stderr",
     "output_type": "stream",
     "text": [
      "        40   -64691150.3476      +30153.8643\n"
     ]
    },
    {
     "name": "stdout",
     "output_type": "stream",
     "text": [
      "0.002538611521812196\n"
     ]
    },
    {
     "name": "stderr",
     "output_type": "stream",
     "text": [
      "        41   -64661230.5487      +29919.7989\n"
     ]
    },
    {
     "name": "stdout",
     "output_type": "stream",
     "text": [
      "0.002521156215805142\n"
     ]
    },
    {
     "name": "stderr",
     "output_type": "stream",
     "text": [
      "        42   -64631466.4899      +29764.0588\n"
     ]
    },
    {
     "name": "stdout",
     "output_type": "stream",
     "text": [
      "0.002504630848153464\n"
     ]
    },
    {
     "name": "stderr",
     "output_type": "stream",
     "text": [
      "        43   -64601790.6867      +29675.8031\n"
     ]
    },
    {
     "name": "stdout",
     "output_type": "stream",
     "text": [
      "0.002488943549641018\n"
     ]
    },
    {
     "name": "stderr",
     "output_type": "stream",
     "text": [
      "        44   -64572145.4847      +29645.2020\n"
     ]
    },
    {
     "name": "stdout",
     "output_type": "stream",
     "text": [
      "0.0024740110303466127\n"
     ]
    },
    {
     "name": "stderr",
     "output_type": "stream",
     "text": [
      "        45   -64542482.0785      +29663.4062\n"
     ]
    },
    {
     "name": "stdout",
     "output_type": "stream",
     "text": [
      "0.0024597578902400474\n"
     ]
    },
    {
     "name": "stderr",
     "output_type": "stream",
     "text": [
      "        46   -64512759.5820      +29722.4964\n"
     ]
    },
    {
     "name": "stdout",
     "output_type": "stream",
     "text": [
      "0.002446115949873838\n"
     ]
    },
    {
     "name": "stderr",
     "output_type": "stream",
     "text": [
      "        47   -64482944.1604      +29815.4216\n"
     ]
    },
    {
     "name": "stdout",
     "output_type": "stream",
     "text": [
      "0.002433023612464686\n"
     ]
    },
    {
     "name": "stderr",
     "output_type": "stream",
     "text": [
      "        48   -64453008.2301      +29935.9303\n"
     ]
    },
    {
     "name": "stdout",
     "output_type": "stream",
     "text": [
      "0.0024204252642572237\n"
     ]
    },
    {
     "name": "stderr",
     "output_type": "stream",
     "text": [
      "        49   -64422929.7299      +30078.5002\n"
     ]
    },
    {
     "name": "stdout",
     "output_type": "stream",
     "text": [
      "0.0024082707168080982\n"
     ]
    },
    {
     "name": "stderr",
     "output_type": "stream",
     "text": [
      "        50   -64392691.4617      +30238.2682\n"
     ]
    },
    {
     "name": "stdout",
     "output_type": "stream",
     "text": [
      "0.002396514692490651\n"
     ]
    },
    {
     "name": "stderr",
     "output_type": "stream",
     "text": [
      "        51   -64362280.4983      +30410.9633\n"
     ]
    },
    {
     "name": "stdout",
     "output_type": "stream",
     "text": [
      "0.0023851163528896286\n"
     ]
    },
    {
     "name": "stderr",
     "output_type": "stream",
     "text": [
      "        52   -64331687.6548      +30592.8436\n"
     ]
    },
    {
     "name": "stdout",
     "output_type": "stream",
     "text": [
      "0.002374038868663264\n"
     ]
    },
    {
     "name": "stderr",
     "output_type": "stream",
     "text": [
      "        53   -64300907.0174      +30780.6373\n"
     ]
    },
    {
     "name": "stdout",
     "output_type": "stream",
     "text": [
      "0.0023632490287555682\n"
     ]
    },
    {
     "name": "stderr",
     "output_type": "stream",
     "text": [
      "        54   -64269935.5274      +30971.4901\n"
     ]
    },
    {
     "name": "stdout",
     "output_type": "stream",
     "text": [
      "0.0023527168864362165\n"
     ]
    },
    {
     "name": "stderr",
     "output_type": "stream",
     "text": [
      "        55   -64238772.6119      +31162.9155\n"
     ]
    },
    {
     "name": "stdout",
     "output_type": "stream",
     "text": [
      "0.002342415439450173\n"
     ]
    },
    {
     "name": "stderr",
     "output_type": "stream",
     "text": [
      "        56   -64207419.8593      +31352.7525\n"
     ]
    },
    {
     "name": "stdout",
     "output_type": "stream",
     "text": [
      "0.002332320341504884\n"
     ]
    },
    {
     "name": "stderr",
     "output_type": "stream",
     "text": [
      "        57   -64175880.7332      +31539.1262\n"
     ]
    },
    {
     "name": "stdout",
     "output_type": "stream",
     "text": [
      "0.00232240964236882\n"
     ]
    },
    {
     "name": "stderr",
     "output_type": "stream",
     "text": [
      "        58   -64144160.3201      +31720.4131\n"
     ]
    },
    {
     "name": "stdout",
     "output_type": "stream",
     "text": [
      "0.0023126635539632303\n"
     ]
    },
    {
     "name": "stderr",
     "output_type": "stream",
     "text": [
      "        59   -64112265.1089      +31895.2112\n"
     ]
    },
    {
     "name": "stdout",
     "output_type": "stream",
     "text": [
      "0.0023030642399776077\n"
     ]
    },
    {
     "name": "stderr",
     "output_type": "stream",
     "text": [
      "        60   -64080202.7960      +32062.3129\n"
     ]
    },
    {
     "name": "stdout",
     "output_type": "stream",
     "text": [
      "0.00229359562670859\n",
      "206.86433482170105\n"
     ]
    },
    {
     "data": {
      "text/plain": "<Figure size 1296x144 with 2 Axes>",
      "image/png": "[encoded data removed]"
     },
     "metadata": {},
     "output_type": "display_data"
    },
    {
     "name": "stdout",
     "output_type": "stream",
     "text": [
      "[[ 306410  430796  199733]\n",
      " [  64186 1101251  396113]\n",
      " [      0  177690 2318821]]\n",
      "0.7460424424424424\n"
     ]
    }
   ],
   "source": [
    "f = gzip.open('data_hmm_004c.pcklz', 'rb')\n",
    "X = pickle.load(f)\n",
    "Z = pickle.load(f)\n",
    "f.close()\n",
    "\n",
    "plt.figure(figsize=(18,4))\n",
    "plt.plot(X[:100])\n",
    "plt.show()\n",
    "\n",
    "n = 3\n",
    "d = 1\n",
    "Y = X\n",
    "lengths = np.array([Y.shape[0]])\n",
    "\n",
    "nodes, splits, Y_disc = provide_nodes(n, Y)\n",
    "_, omega_gt = empirical_coocs(Y_disc.reshape(-1, 1), np.max(Y_disc) + 1, lengths=lengths)\n",
    "model2 = GaussianDenseHMM(n_hidden_states=n, mstep_config={'cooc_epochs': 20000 * n, 'cooc_lr': 0.003, 'loss_type': 'square'}, n_dims=d,\n",
    "                         verbose=True, early_stopping=True, convergence_tol=0.0001, covariance_type='diag')\n",
    "t0 = time.time()\n",
    "model2.fit_coocs(Y, lengths=L)\n",
    "print(time.time() - t0)\n",
    "Z_hat2 = model2.predict(Y, L)\n",
    "\n",
    "perm2 = find_permutation(Z_hat2, Z)\n",
    "make_plots(Z, perm2[Z_hat2])"
   ],
   "metadata": {
    "collapsed": false
   }
  },
  {
   "cell_type": "code",
   "execution_count": null,
   "outputs": [],
   "source": [],
   "metadata": {
    "collapsed": false
   }
  }
 ],
 "metadata": {
  "kernelspec": {
   "display_name": "Python 3",
   "language": "python",
   "name": "python3"
  },
  "language_info": {
   "codemirror_mode": {
    "name": "ipython",
    "version": 3
   },
   "file_extension": ".py",
   "mimetype": "text/x-python",
   "name": "python",
   "nbconvert_exporter": "python",
   "pygments_lexer": "ipython2",
   "version": "2.7.6"
  }
 },
 "nbformat": 4,
 "nbformat_minor": 5
}
