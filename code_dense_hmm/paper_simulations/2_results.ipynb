{
 "cells": [
  {
   "cell_type": "code",
   "execution_count": 20,
   "metadata": {
    "collapsed": true
   },
   "outputs": [],
   "source": [
    "import numpy as np\n",
    "import pickle as pkl\n",
    "import pandas as pd\n",
    "import os\n",
    "from IPython.display import display, Markdown, Latex"
   ]
  },
  {
   "cell_type": "code",
   "execution_count": 5,
   "outputs": [],
   "source": [
    "DIR = '/ziob/kabalce/GausianDenseHMM/data/benchmark_artificial-2022-11-16-full'"
   ],
   "metadata": {
    "collapsed": false
   }
  },
  {
   "cell_type": "code",
   "execution_count": 7,
   "outputs": [],
   "source": [
    "FILES = os.listdir(DIR)"
   ],
   "metadata": {
    "collapsed": false
   }
  },
  {
   "cell_type": "code",
   "execution_count": 8,
   "outputs": [
    {
     "data": {
      "text/plain": "['n_7_T1000_d1_result_multiple.pkl',\n 'n_2_T100_d2_result_multiple.pkl',\n 'n_3_T100_d2_result_multiple.pkl',\n 'n_20_T1000000_d1_result_multiple.pkl',\n 'n_3_T1000_d2_result_multiple.pkl',\n 'n_10_T100000_d1_result_multiple.pkl',\n 'n_5_T1000_d2_result_multiple.pkl',\n 'n_10_T100000_d2_result_multiple.pkl',\n 'n_5_T1000_d1_result_multiple.pkl',\n 'n_3_T1000_d1_result_multiple.pkl',\n 'n_2_T100_d1_result_multiple.pkl',\n 'n_7_T1000_d2_result_multiple.pkl',\n 'n_3_T100_d1_result_multiple.pkl']"
     },
     "execution_count": 8,
     "metadata": {},
     "output_type": "execute_result"
    }
   ],
   "source": [
    "FILES"
   ],
   "metadata": {
    "collapsed": false
   }
  },
  {
   "cell_type": "code",
   "execution_count": 9,
   "outputs": [],
   "source": [
    "res = dict()\n",
    "for fn in FILES:\n",
    "    with open(f\"{DIR}/{fn}\", 'rb') as f:\n",
    "        res[fn.split(\".\")[0]] = pkl.load(f)"
   ],
   "metadata": {
    "collapsed": false
   }
  },
  {
   "cell_type": "code",
   "execution_count": 22,
   "outputs": [
    {
     "data": {
      "text/plain": "<IPython.core.display.Markdown object>",
      "text/markdown": "\n\n## n_7_T1000_d1_result_multiple"
     },
     "metadata": {},
     "output_type": "display_data"
    },
    {
     "data": {
      "text/plain": "   loglikelihood  omega_loss  accuracy      time\n0    -3157.70383    0.003848       1.0  0.447624",
      "text/html": "<div>\n<style scoped>\n    .dataframe tbody tr th:only-of-type {\n        vertical-align: middle;\n    }\n\n    .dataframe tbody tr th {\n        vertical-align: top;\n    }\n\n    .dataframe thead th {\n        text-align: right;\n    }\n</style>\n<table border=\"1\" class=\"dataframe\">\n  <thead>\n    <tr style=\"text-align: right;\">\n      <th></th>\n      <th>loglikelihood</th>\n      <th>omega_loss</th>\n      <th>accuracy</th>\n      <th>time</th>\n    </tr>\n  </thead>\n  <tbody>\n    <tr>\n      <th>0</th>\n      <td>-3157.70383</td>\n      <td>0.003848</td>\n      <td>1.0</td>\n      <td>0.447624</td>\n    </tr>\n  </tbody>\n</table>\n</div>"
     },
     "metadata": {},
     "output_type": "display_data"
    },
    {
     "data": {
      "text/plain": "   loglikelihood  omega_loss  accuracy      time\n0   -4757.432526    0.498018     0.341  3.027601",
      "text/html": "<div>\n<style scoped>\n    .dataframe tbody tr th:only-of-type {\n        vertical-align: middle;\n    }\n\n    .dataframe tbody tr th {\n        vertical-align: top;\n    }\n\n    .dataframe thead th {\n        text-align: right;\n    }\n</style>\n<table border=\"1\" class=\"dataframe\">\n  <thead>\n    <tr style=\"text-align: right;\">\n      <th></th>\n      <th>loglikelihood</th>\n      <th>omega_loss</th>\n      <th>accuracy</th>\n      <th>time</th>\n    </tr>\n  </thead>\n  <tbody>\n    <tr>\n      <th>0</th>\n      <td>-4757.432526</td>\n      <td>0.498018</td>\n      <td>0.341</td>\n      <td>3.027601</td>\n    </tr>\n  </tbody>\n</table>\n</div>"
     },
     "metadata": {},
     "output_type": "display_data"
    },
    {
     "data": {
      "text/plain": "<IPython.core.display.Markdown object>",
      "text/markdown": "\n\n## n_2_T100_d2_result_multiple"
     },
     "metadata": {},
     "output_type": "display_data"
    },
    {
     "data": {
      "text/plain": "   loglikelihood  omega_loss  accuracy      time\n0    -403.662112    0.153222       1.0  0.011323",
      "text/html": "<div>\n<style scoped>\n    .dataframe tbody tr th:only-of-type {\n        vertical-align: middle;\n    }\n\n    .dataframe tbody tr th {\n        vertical-align: top;\n    }\n\n    .dataframe thead th {\n        text-align: right;\n    }\n</style>\n<table border=\"1\" class=\"dataframe\">\n  <thead>\n    <tr style=\"text-align: right;\">\n      <th></th>\n      <th>loglikelihood</th>\n      <th>omega_loss</th>\n      <th>accuracy</th>\n      <th>time</th>\n    </tr>\n  </thead>\n  <tbody>\n    <tr>\n      <th>0</th>\n      <td>-403.662112</td>\n      <td>0.153222</td>\n      <td>1.0</td>\n      <td>0.011323</td>\n    </tr>\n  </tbody>\n</table>\n</div>"
     },
     "metadata": {},
     "output_type": "display_data"
    },
    {
     "data": {
      "text/plain": "   loglikelihood  omega_loss  accuracy      time\n0    -606.565511    0.499328       1.0  4.397146",
      "text/html": "<div>\n<style scoped>\n    .dataframe tbody tr th:only-of-type {\n        vertical-align: middle;\n    }\n\n    .dataframe tbody tr th {\n        vertical-align: top;\n    }\n\n    .dataframe thead th {\n        text-align: right;\n    }\n</style>\n<table border=\"1\" class=\"dataframe\">\n  <thead>\n    <tr style=\"text-align: right;\">\n      <th></th>\n      <th>loglikelihood</th>\n      <th>omega_loss</th>\n      <th>accuracy</th>\n      <th>time</th>\n    </tr>\n  </thead>\n  <tbody>\n    <tr>\n      <th>0</th>\n      <td>-606.565511</td>\n      <td>0.499328</td>\n      <td>1.0</td>\n      <td>4.397146</td>\n    </tr>\n  </tbody>\n</table>\n</div>"
     },
     "metadata": {},
     "output_type": "display_data"
    },
    {
     "data": {
      "text/plain": "<IPython.core.display.Markdown object>",
      "text/markdown": "\n\n## n_3_T100_d2_result_multiple"
     },
     "metadata": {},
     "output_type": "display_data"
    },
    {
     "data": {
      "text/plain": "   loglikelihood  omega_loss  accuracy     time\n0    -411.224345    0.062557       1.0  0.01622",
      "text/html": "<div>\n<style scoped>\n    .dataframe tbody tr th:only-of-type {\n        vertical-align: middle;\n    }\n\n    .dataframe tbody tr th {\n        vertical-align: top;\n    }\n\n    .dataframe thead th {\n        text-align: right;\n    }\n</style>\n<table border=\"1\" class=\"dataframe\">\n  <thead>\n    <tr style=\"text-align: right;\">\n      <th></th>\n      <th>loglikelihood</th>\n      <th>omega_loss</th>\n      <th>accuracy</th>\n      <th>time</th>\n    </tr>\n  </thead>\n  <tbody>\n    <tr>\n      <th>0</th>\n      <td>-411.224345</td>\n      <td>0.062557</td>\n      <td>1.0</td>\n      <td>0.01622</td>\n    </tr>\n  </tbody>\n</table>\n</div>"
     },
     "metadata": {},
     "output_type": "display_data"
    },
    {
     "data": {
      "text/plain": "   loglikelihood  omega_loss  accuracy      time\n0    -644.505877    0.499563      0.68  3.575049",
      "text/html": "<div>\n<style scoped>\n    .dataframe tbody tr th:only-of-type {\n        vertical-align: middle;\n    }\n\n    .dataframe tbody tr th {\n        vertical-align: top;\n    }\n\n    .dataframe thead th {\n        text-align: right;\n    }\n</style>\n<table border=\"1\" class=\"dataframe\">\n  <thead>\n    <tr style=\"text-align: right;\">\n      <th></th>\n      <th>loglikelihood</th>\n      <th>omega_loss</th>\n      <th>accuracy</th>\n      <th>time</th>\n    </tr>\n  </thead>\n  <tbody>\n    <tr>\n      <th>0</th>\n      <td>-644.505877</td>\n      <td>0.499563</td>\n      <td>0.68</td>\n      <td>3.575049</td>\n    </tr>\n  </tbody>\n</table>\n</div>"
     },
     "metadata": {},
     "output_type": "display_data"
    },
    {
     "data": {
      "text/plain": "<IPython.core.display.Markdown object>",
      "text/markdown": "\n\n## n_20_T1000000_d1_result_multiple"
     },
     "metadata": {},
     "output_type": "display_data"
    },
    {
     "data": {
      "text/plain": "   loglikelihood  omega_loss  accuracy          time\n0  -4.743355e+06    0.245854  0.761618  19353.952557",
      "text/html": "<div>\n<style scoped>\n    .dataframe tbody tr th:only-of-type {\n        vertical-align: middle;\n    }\n\n    .dataframe tbody tr th {\n        vertical-align: top;\n    }\n\n    .dataframe thead th {\n        text-align: right;\n    }\n</style>\n<table border=\"1\" class=\"dataframe\">\n  <thead>\n    <tr style=\"text-align: right;\">\n      <th></th>\n      <th>loglikelihood</th>\n      <th>omega_loss</th>\n      <th>accuracy</th>\n      <th>time</th>\n    </tr>\n  </thead>\n  <tbody>\n    <tr>\n      <th>0</th>\n      <td>-4.743355e+06</td>\n      <td>0.245854</td>\n      <td>0.761618</td>\n      <td>19353.952557</td>\n    </tr>\n  </tbody>\n</table>\n</div>"
     },
     "metadata": {},
     "output_type": "display_data"
    },
    {
     "data": {
      "text/plain": "   loglikelihood  omega_loss  accuracy       time\n0  -5.579606e+06    0.499696  0.130067  18.722714",
      "text/html": "<div>\n<style scoped>\n    .dataframe tbody tr th:only-of-type {\n        vertical-align: middle;\n    }\n\n    .dataframe tbody tr th {\n        vertical-align: top;\n    }\n\n    .dataframe thead th {\n        text-align: right;\n    }\n</style>\n<table border=\"1\" class=\"dataframe\">\n  <thead>\n    <tr style=\"text-align: right;\">\n      <th></th>\n      <th>loglikelihood</th>\n      <th>omega_loss</th>\n      <th>accuracy</th>\n      <th>time</th>\n    </tr>\n  </thead>\n  <tbody>\n    <tr>\n      <th>0</th>\n      <td>-5.579606e+06</td>\n      <td>0.499696</td>\n      <td>0.130067</td>\n      <td>18.722714</td>\n    </tr>\n  </tbody>\n</table>\n</div>"
     },
     "metadata": {},
     "output_type": "display_data"
    },
    {
     "data": {
      "text/plain": "<IPython.core.display.Markdown object>",
      "text/markdown": "\n\n## n_3_T1000_d2_result_multiple"
     },
     "metadata": {},
     "output_type": "display_data"
    },
    {
     "data": {
      "text/plain": "   loglikelihood  omega_loss  accuracy      time\n0   -4176.167825    0.008876       1.0  0.193801",
      "text/html": "<div>\n<style scoped>\n    .dataframe tbody tr th:only-of-type {\n        vertical-align: middle;\n    }\n\n    .dataframe tbody tr th {\n        vertical-align: top;\n    }\n\n    .dataframe thead th {\n        text-align: right;\n    }\n</style>\n<table border=\"1\" class=\"dataframe\">\n  <thead>\n    <tr style=\"text-align: right;\">\n      <th></th>\n      <th>loglikelihood</th>\n      <th>omega_loss</th>\n      <th>accuracy</th>\n      <th>time</th>\n    </tr>\n  </thead>\n  <tbody>\n    <tr>\n      <th>0</th>\n      <td>-4176.167825</td>\n      <td>0.008876</td>\n      <td>1.0</td>\n      <td>0.193801</td>\n    </tr>\n  </tbody>\n</table>\n</div>"
     },
     "metadata": {},
     "output_type": "display_data"
    },
    {
     "data": {
      "text/plain": "   loglikelihood  omega_loss  accuracy       time\n0   -6106.018304    0.356572     0.967  68.718516",
      "text/html": "<div>\n<style scoped>\n    .dataframe tbody tr th:only-of-type {\n        vertical-align: middle;\n    }\n\n    .dataframe tbody tr th {\n        vertical-align: top;\n    }\n\n    .dataframe thead th {\n        text-align: right;\n    }\n</style>\n<table border=\"1\" class=\"dataframe\">\n  <thead>\n    <tr style=\"text-align: right;\">\n      <th></th>\n      <th>loglikelihood</th>\n      <th>omega_loss</th>\n      <th>accuracy</th>\n      <th>time</th>\n    </tr>\n  </thead>\n  <tbody>\n    <tr>\n      <th>0</th>\n      <td>-6106.018304</td>\n      <td>0.356572</td>\n      <td>0.967</td>\n      <td>68.718516</td>\n    </tr>\n  </tbody>\n</table>\n</div>"
     },
     "metadata": {},
     "output_type": "display_data"
    },
    {
     "data": {
      "text/plain": "<IPython.core.display.Markdown object>",
      "text/markdown": "\n\n## n_10_T100000_d1_result_multiple"
     },
     "metadata": {},
     "output_type": "display_data"
    },
    {
     "data": {
      "text/plain": "   loglikelihood  omega_loss  accuracy        time\n0 -412508.084101    0.313931    0.8113  156.918389",
      "text/html": "<div>\n<style scoped>\n    .dataframe tbody tr th:only-of-type {\n        vertical-align: middle;\n    }\n\n    .dataframe tbody tr th {\n        vertical-align: top;\n    }\n\n    .dataframe thead th {\n        text-align: right;\n    }\n</style>\n<table border=\"1\" class=\"dataframe\">\n  <thead>\n    <tr style=\"text-align: right;\">\n      <th></th>\n      <th>loglikelihood</th>\n      <th>omega_loss</th>\n      <th>accuracy</th>\n      <th>time</th>\n    </tr>\n  </thead>\n  <tbody>\n    <tr>\n      <th>0</th>\n      <td>-412508.084101</td>\n      <td>0.313931</td>\n      <td>0.8113</td>\n      <td>156.918389</td>\n    </tr>\n  </tbody>\n</table>\n</div>"
     },
     "metadata": {},
     "output_type": "display_data"
    },
    {
     "data": {
      "text/plain": "   loglikelihood  omega_loss  accuracy      time\n0 -486486.946262    0.498828    0.2443  5.265517",
      "text/html": "<div>\n<style scoped>\n    .dataframe tbody tr th:only-of-type {\n        vertical-align: middle;\n    }\n\n    .dataframe tbody tr th {\n        vertical-align: top;\n    }\n\n    .dataframe thead th {\n        text-align: right;\n    }\n</style>\n<table border=\"1\" class=\"dataframe\">\n  <thead>\n    <tr style=\"text-align: right;\">\n      <th></th>\n      <th>loglikelihood</th>\n      <th>omega_loss</th>\n      <th>accuracy</th>\n      <th>time</th>\n    </tr>\n  </thead>\n  <tbody>\n    <tr>\n      <th>0</th>\n      <td>-486486.946262</td>\n      <td>0.498828</td>\n      <td>0.2443</td>\n      <td>5.265517</td>\n    </tr>\n  </tbody>\n</table>\n</div>"
     },
     "metadata": {},
     "output_type": "display_data"
    },
    {
     "data": {
      "text/plain": "<IPython.core.display.Markdown object>",
      "text/markdown": "\n\n## n_5_T1000_d2_result_multiple"
     },
     "metadata": {},
     "output_type": "display_data"
    },
    {
     "data": {
      "text/plain": "   loglikelihood  omega_loss  accuracy      time\n0   -4697.497988    0.008393       1.0  0.192546",
      "text/html": "<div>\n<style scoped>\n    .dataframe tbody tr th:only-of-type {\n        vertical-align: middle;\n    }\n\n    .dataframe tbody tr th {\n        vertical-align: top;\n    }\n\n    .dataframe thead th {\n        text-align: right;\n    }\n</style>\n<table border=\"1\" class=\"dataframe\">\n  <thead>\n    <tr style=\"text-align: right;\">\n      <th></th>\n      <th>loglikelihood</th>\n      <th>omega_loss</th>\n      <th>accuracy</th>\n      <th>time</th>\n    </tr>\n  </thead>\n  <tbody>\n    <tr>\n      <th>0</th>\n      <td>-4697.497988</td>\n      <td>0.008393</td>\n      <td>1.0</td>\n      <td>0.192546</td>\n    </tr>\n  </tbody>\n</table>\n</div>"
     },
     "metadata": {},
     "output_type": "display_data"
    },
    {
     "data": {
      "text/plain": "   loglikelihood  omega_loss  accuracy      time\n0   -7979.581691    0.499949     0.596  3.718191",
      "text/html": "<div>\n<style scoped>\n    .dataframe tbody tr th:only-of-type {\n        vertical-align: middle;\n    }\n\n    .dataframe tbody tr th {\n        vertical-align: top;\n    }\n\n    .dataframe thead th {\n        text-align: right;\n    }\n</style>\n<table border=\"1\" class=\"dataframe\">\n  <thead>\n    <tr style=\"text-align: right;\">\n      <th></th>\n      <th>loglikelihood</th>\n      <th>omega_loss</th>\n      <th>accuracy</th>\n      <th>time</th>\n    </tr>\n  </thead>\n  <tbody>\n    <tr>\n      <th>0</th>\n      <td>-7979.581691</td>\n      <td>0.499949</td>\n      <td>0.596</td>\n      <td>3.718191</td>\n    </tr>\n  </tbody>\n</table>\n</div>"
     },
     "metadata": {},
     "output_type": "display_data"
    },
    {
     "data": {
      "text/plain": "<IPython.core.display.Markdown object>",
      "text/markdown": "\n\n## n_10_T100000_d2_result_multiple"
     },
     "metadata": {},
     "output_type": "display_data"
    },
    {
     "data": {
      "text/plain": "   loglikelihood  omega_loss  accuracy     time\n0 -544411.532478    0.084278       1.0  8.98765",
      "text/html": "<div>\n<style scoped>\n    .dataframe tbody tr th:only-of-type {\n        vertical-align: middle;\n    }\n\n    .dataframe tbody tr th {\n        vertical-align: top;\n    }\n\n    .dataframe thead th {\n        text-align: right;\n    }\n</style>\n<table border=\"1\" class=\"dataframe\">\n  <thead>\n    <tr style=\"text-align: right;\">\n      <th></th>\n      <th>loglikelihood</th>\n      <th>omega_loss</th>\n      <th>accuracy</th>\n      <th>time</th>\n    </tr>\n  </thead>\n  <tbody>\n    <tr>\n      <th>0</th>\n      <td>-544411.532478</td>\n      <td>0.084278</td>\n      <td>1.0</td>\n      <td>8.98765</td>\n    </tr>\n  </tbody>\n</table>\n</div>"
     },
     "metadata": {},
     "output_type": "display_data"
    },
    {
     "data": {
      "text/plain": "   loglikelihood  omega_loss  accuracy      time\n0 -943805.387475    0.500002   0.25541  6.716385",
      "text/html": "<div>\n<style scoped>\n    .dataframe tbody tr th:only-of-type {\n        vertical-align: middle;\n    }\n\n    .dataframe tbody tr th {\n        vertical-align: top;\n    }\n\n    .dataframe thead th {\n        text-align: right;\n    }\n</style>\n<table border=\"1\" class=\"dataframe\">\n  <thead>\n    <tr style=\"text-align: right;\">\n      <th></th>\n      <th>loglikelihood</th>\n      <th>omega_loss</th>\n      <th>accuracy</th>\n      <th>time</th>\n    </tr>\n  </thead>\n  <tbody>\n    <tr>\n      <th>0</th>\n      <td>-943805.387475</td>\n      <td>0.500002</td>\n      <td>0.25541</td>\n      <td>6.716385</td>\n    </tr>\n  </tbody>\n</table>\n</div>"
     },
     "metadata": {},
     "output_type": "display_data"
    },
    {
     "data": {
      "text/plain": "<IPython.core.display.Markdown object>",
      "text/markdown": "\n\n## n_5_T1000_d1_result_multiple"
     },
     "metadata": {},
     "output_type": "display_data"
    },
    {
     "data": {
      "text/plain": "   loglikelihood  omega_loss  accuracy      time\n0   -3144.747036    0.012764       1.0  0.315444",
      "text/html": "<div>\n<style scoped>\n    .dataframe tbody tr th:only-of-type {\n        vertical-align: middle;\n    }\n\n    .dataframe tbody tr th {\n        vertical-align: top;\n    }\n\n    .dataframe thead th {\n        text-align: right;\n    }\n</style>\n<table border=\"1\" class=\"dataframe\">\n  <thead>\n    <tr style=\"text-align: right;\">\n      <th></th>\n      <th>loglikelihood</th>\n      <th>omega_loss</th>\n      <th>accuracy</th>\n      <th>time</th>\n    </tr>\n  </thead>\n  <tbody>\n    <tr>\n      <th>0</th>\n      <td>-3144.747036</td>\n      <td>0.012764</td>\n      <td>1.0</td>\n      <td>0.315444</td>\n    </tr>\n  </tbody>\n</table>\n</div>"
     },
     "metadata": {},
     "output_type": "display_data"
    },
    {
     "data": {
      "text/plain": "   loglikelihood  omega_loss  accuracy    time\n0   -4210.119772    0.494979     0.463  4.6247",
      "text/html": "<div>\n<style scoped>\n    .dataframe tbody tr th:only-of-type {\n        vertical-align: middle;\n    }\n\n    .dataframe tbody tr th {\n        vertical-align: top;\n    }\n\n    .dataframe thead th {\n        text-align: right;\n    }\n</style>\n<table border=\"1\" class=\"dataframe\">\n  <thead>\n    <tr style=\"text-align: right;\">\n      <th></th>\n      <th>loglikelihood</th>\n      <th>omega_loss</th>\n      <th>accuracy</th>\n      <th>time</th>\n    </tr>\n  </thead>\n  <tbody>\n    <tr>\n      <th>0</th>\n      <td>-4210.119772</td>\n      <td>0.494979</td>\n      <td>0.463</td>\n      <td>4.6247</td>\n    </tr>\n  </tbody>\n</table>\n</div>"
     },
     "metadata": {},
     "output_type": "display_data"
    },
    {
     "data": {
      "text/plain": "<IPython.core.display.Markdown object>",
      "text/markdown": "\n\n## n_3_T1000_d1_result_multiple"
     },
     "metadata": {},
     "output_type": "display_data"
    },
    {
     "data": {
      "text/plain": "   loglikelihood  omega_loss  accuracy      time\n0   -2494.472163    0.003141       1.0  0.246112",
      "text/html": "<div>\n<style scoped>\n    .dataframe tbody tr th:only-of-type {\n        vertical-align: middle;\n    }\n\n    .dataframe tbody tr th {\n        vertical-align: top;\n    }\n\n    .dataframe thead th {\n        text-align: right;\n    }\n</style>\n<table border=\"1\" class=\"dataframe\">\n  <thead>\n    <tr style=\"text-align: right;\">\n      <th></th>\n      <th>loglikelihood</th>\n      <th>omega_loss</th>\n      <th>accuracy</th>\n      <th>time</th>\n    </tr>\n  </thead>\n  <tbody>\n    <tr>\n      <th>0</th>\n      <td>-2494.472163</td>\n      <td>0.003141</td>\n      <td>1.0</td>\n      <td>0.246112</td>\n    </tr>\n  </tbody>\n</table>\n</div>"
     },
     "metadata": {},
     "output_type": "display_data"
    },
    {
     "data": {
      "text/plain": "   loglikelihood  omega_loss  accuracy       time\n0   -3401.341242    0.346511     0.745  68.812625",
      "text/html": "<div>\n<style scoped>\n    .dataframe tbody tr th:only-of-type {\n        vertical-align: middle;\n    }\n\n    .dataframe tbody tr th {\n        vertical-align: top;\n    }\n\n    .dataframe thead th {\n        text-align: right;\n    }\n</style>\n<table border=\"1\" class=\"dataframe\">\n  <thead>\n    <tr style=\"text-align: right;\">\n      <th></th>\n      <th>loglikelihood</th>\n      <th>omega_loss</th>\n      <th>accuracy</th>\n      <th>time</th>\n    </tr>\n  </thead>\n  <tbody>\n    <tr>\n      <th>0</th>\n      <td>-3401.341242</td>\n      <td>0.346511</td>\n      <td>0.745</td>\n      <td>68.812625</td>\n    </tr>\n  </tbody>\n</table>\n</div>"
     },
     "metadata": {},
     "output_type": "display_data"
    },
    {
     "data": {
      "text/plain": "<IPython.core.display.Markdown object>",
      "text/markdown": "\n\n## n_2_T100_d1_result_multiple"
     },
     "metadata": {},
     "output_type": "display_data"
    },
    {
     "data": {
      "text/plain": "   loglikelihood  omega_loss  accuracy      time\n0    -204.035998    0.051193       1.0  0.011637",
      "text/html": "<div>\n<style scoped>\n    .dataframe tbody tr th:only-of-type {\n        vertical-align: middle;\n    }\n\n    .dataframe tbody tr th {\n        vertical-align: top;\n    }\n\n    .dataframe thead th {\n        text-align: right;\n    }\n</style>\n<table border=\"1\" class=\"dataframe\">\n  <thead>\n    <tr style=\"text-align: right;\">\n      <th></th>\n      <th>loglikelihood</th>\n      <th>omega_loss</th>\n      <th>accuracy</th>\n      <th>time</th>\n    </tr>\n  </thead>\n  <tbody>\n    <tr>\n      <th>0</th>\n      <td>-204.035998</td>\n      <td>0.051193</td>\n      <td>1.0</td>\n      <td>0.011637</td>\n    </tr>\n  </tbody>\n</table>\n</div>"
     },
     "metadata": {},
     "output_type": "display_data"
    },
    {
     "data": {
      "text/plain": "   loglikelihood  omega_loss  accuracy      time\n0     -343.98047    0.482305      0.84  4.995692",
      "text/html": "<div>\n<style scoped>\n    .dataframe tbody tr th:only-of-type {\n        vertical-align: middle;\n    }\n\n    .dataframe tbody tr th {\n        vertical-align: top;\n    }\n\n    .dataframe thead th {\n        text-align: right;\n    }\n</style>\n<table border=\"1\" class=\"dataframe\">\n  <thead>\n    <tr style=\"text-align: right;\">\n      <th></th>\n      <th>loglikelihood</th>\n      <th>omega_loss</th>\n      <th>accuracy</th>\n      <th>time</th>\n    </tr>\n  </thead>\n  <tbody>\n    <tr>\n      <th>0</th>\n      <td>-343.98047</td>\n      <td>0.482305</td>\n      <td>0.84</td>\n      <td>4.995692</td>\n    </tr>\n  </tbody>\n</table>\n</div>"
     },
     "metadata": {},
     "output_type": "display_data"
    },
    {
     "data": {
      "text/plain": "<IPython.core.display.Markdown object>",
      "text/markdown": "\n\n## n_7_T1000_d2_result_multiple"
     },
     "metadata": {},
     "output_type": "display_data"
    },
    {
     "data": {
      "text/plain": "   loglikelihood  omega_loss  accuracy      time\n0   -4995.005413    0.009336       1.0  0.180866",
      "text/html": "<div>\n<style scoped>\n    .dataframe tbody tr th:only-of-type {\n        vertical-align: middle;\n    }\n\n    .dataframe tbody tr th {\n        vertical-align: top;\n    }\n\n    .dataframe thead th {\n        text-align: right;\n    }\n</style>\n<table border=\"1\" class=\"dataframe\">\n  <thead>\n    <tr style=\"text-align: right;\">\n      <th></th>\n      <th>loglikelihood</th>\n      <th>omega_loss</th>\n      <th>accuracy</th>\n      <th>time</th>\n    </tr>\n  </thead>\n  <tbody>\n    <tr>\n      <th>0</th>\n      <td>-4995.005413</td>\n      <td>0.009336</td>\n      <td>1.0</td>\n      <td>0.180866</td>\n    </tr>\n  </tbody>\n</table>\n</div>"
     },
     "metadata": {},
     "output_type": "display_data"
    },
    {
     "data": {
      "text/plain": "   loglikelihood  omega_loss  accuracy      time\n0   -8767.295176    0.500003     0.279  3.031991",
      "text/html": "<div>\n<style scoped>\n    .dataframe tbody tr th:only-of-type {\n        vertical-align: middle;\n    }\n\n    .dataframe tbody tr th {\n        vertical-align: top;\n    }\n\n    .dataframe thead th {\n        text-align: right;\n    }\n</style>\n<table border=\"1\" class=\"dataframe\">\n  <thead>\n    <tr style=\"text-align: right;\">\n      <th></th>\n      <th>loglikelihood</th>\n      <th>omega_loss</th>\n      <th>accuracy</th>\n      <th>time</th>\n    </tr>\n  </thead>\n  <tbody>\n    <tr>\n      <th>0</th>\n      <td>-8767.295176</td>\n      <td>0.500003</td>\n      <td>0.279</td>\n      <td>3.031991</td>\n    </tr>\n  </tbody>\n</table>\n</div>"
     },
     "metadata": {},
     "output_type": "display_data"
    },
    {
     "data": {
      "text/plain": "<IPython.core.display.Markdown object>",
      "text/markdown": "\n\n## n_3_T100_d1_result_multiple"
     },
     "metadata": {},
     "output_type": "display_data"
    },
    {
     "data": {
      "text/plain": "   loglikelihood  omega_loss  accuracy      time\n0    -234.038621    0.041142       1.0  0.027328",
      "text/html": "<div>\n<style scoped>\n    .dataframe tbody tr th:only-of-type {\n        vertical-align: middle;\n    }\n\n    .dataframe tbody tr th {\n        vertical-align: top;\n    }\n\n    .dataframe thead th {\n        text-align: right;\n    }\n</style>\n<table border=\"1\" class=\"dataframe\">\n  <thead>\n    <tr style=\"text-align: right;\">\n      <th></th>\n      <th>loglikelihood</th>\n      <th>omega_loss</th>\n      <th>accuracy</th>\n      <th>time</th>\n    </tr>\n  </thead>\n  <tbody>\n    <tr>\n      <th>0</th>\n      <td>-234.038621</td>\n      <td>0.041142</td>\n      <td>1.0</td>\n      <td>0.027328</td>\n    </tr>\n  </tbody>\n</table>\n</div>"
     },
     "metadata": {},
     "output_type": "display_data"
    },
    {
     "data": {
      "text/plain": "   loglikelihood  omega_loss  accuracy      time\n0    -368.146466     0.48967      0.55  5.000981",
      "text/html": "<div>\n<style scoped>\n    .dataframe tbody tr th:only-of-type {\n        vertical-align: middle;\n    }\n\n    .dataframe tbody tr th {\n        vertical-align: top;\n    }\n\n    .dataframe thead th {\n        text-align: right;\n    }\n</style>\n<table border=\"1\" class=\"dataframe\">\n  <thead>\n    <tr style=\"text-align: right;\">\n      <th></th>\n      <th>loglikelihood</th>\n      <th>omega_loss</th>\n      <th>accuracy</th>\n      <th>time</th>\n    </tr>\n  </thead>\n  <tbody>\n    <tr>\n      <th>0</th>\n      <td>-368.146466</td>\n      <td>0.48967</td>\n      <td>0.55</td>\n      <td>5.000981</td>\n    </tr>\n  </tbody>\n</table>\n</div>"
     },
     "metadata": {},
     "output_type": "display_data"
    }
   ],
   "source": [
    "for k, i in res.items():\n",
    "    display(Markdown(f\"\\n\\n## {k}\"))\n",
    "    display(pd.DataFrame([r['hmmlearn'] for r in res[k]]))\n",
    "    display(pd.DataFrame([r['dense'] for r in res[k]]))"
   ],
   "metadata": {
    "collapsed": false
   }
  },
  {
   "cell_type": "code",
   "execution_count": 19,
   "outputs": [
    {
     "data": {
      "text/plain": "[{'startprob': array([0.22480539, 0.3056796 , 0.46951501]),\n  'transmat': array([[0.06174313, 0.33264133, 0.60561554],\n         [0.0915645 , 0.27943317, 0.62900233],\n         [0.38962716, 0.30985807, 0.30051477]]),\n  'means': array([[ 8.91219501],\n         [19.43448295],\n         [29.39412015]]),\n  'covars': array([[2.22876659],\n         [0.82413435],\n         [1.1100524 ]]),\n  'n': 3,\n  'd': 1,\n  'T': 100,\n  'Y': array([[17.51149973],\n         [28.87451398],\n         [ 8.03767305],\n         [29.43196104],\n         [28.37173847],\n         [31.60930832],\n         [18.53738901],\n         [27.16103729],\n         [20.06605703],\n         [ 9.84495557],\n         [ 9.3443293 ],\n         [30.56872522],\n         [27.23319837],\n         [29.67365061],\n         [ 9.31582001],\n         [29.63989746],\n         [ 8.76497814],\n         [18.94803419],\n         [28.67926492],\n         [ 8.24576579],\n         [ 8.51459949],\n         [18.00655686],\n         [29.80931871],\n         [20.13746437],\n         [29.23049973],\n         [20.07402701],\n         [28.95780273],\n         [18.53902255],\n         [28.05706969],\n         [18.87707034],\n         [ 9.21200211],\n         [29.48648477],\n         [31.63778492],\n         [28.66101896],\n         [19.45483168],\n         [28.4822513 ],\n         [20.79477409],\n         [29.97657694],\n         [ 9.75675432],\n         [18.55634537],\n         [28.9763216 ],\n         [31.95309833],\n         [18.13972803],\n         [19.45741805],\n         [30.39282673],\n         [ 9.0984097 ],\n         [29.12547012],\n         [11.62634038],\n         [19.64048465],\n         [30.4704081 ],\n         [28.6650649 ],\n         [29.14890029],\n         [30.05274868],\n         [18.6344213 ],\n         [28.85431689],\n         [10.47250033],\n         [28.71512318],\n         [28.58600499],\n         [28.20686806],\n         [19.57898782],\n         [26.47376387],\n         [20.9088718 ],\n         [28.95566979],\n         [30.41847669],\n         [19.76768731],\n         [26.96049567],\n         [19.33053132],\n         [29.83528285],\n         [20.82663964],\n         [27.90756042],\n         [28.67344138],\n         [ 7.93991874],\n         [28.76025145],\n         [ 9.29426614],\n         [28.92473693],\n         [18.80894481],\n         [28.075004  ],\n         [30.87948254],\n         [30.07468322],\n         [28.34098475],\n         [ 6.67667142],\n         [28.79018719],\n         [28.65396106],\n         [19.09849826],\n         [28.54650869],\n         [ 8.81210773],\n         [20.680152  ],\n         [30.14337943],\n         [ 7.8665085 ],\n         [19.09008599],\n         [ 7.91588835],\n         [19.57503901],\n         [27.53092678],\n         [30.40045983],\n         [ 8.8591591 ],\n         [19.03561893],\n         [28.06480203],\n         [21.19227316],\n         [19.36079013],\n         [19.17309562]]),\n  'X': array([1, 2, 0, 2, 2, 2, 1, 2, 1, 0, 0, 2, 2, 2, 0, 2, 0, 1, 2, 0, 0, 1,\n         2, 1, 2, 1, 2, 1, 2, 1, 0, 2, 2, 2, 1, 2, 1, 2, 0, 1, 2, 2, 1, 1,\n         2, 0, 2, 0, 1, 2, 2, 2, 2, 1, 2, 0, 2, 2, 2, 1, 2, 1, 2, 2, 1, 2,\n         1, 2, 1, 2, 2, 0, 2, 0, 2, 1, 2, 2, 2, 2, 0, 2, 2, 1, 2, 0, 1, 2,\n         0, 1, 0, 1, 2, 2, 0, 1, 2, 1, 1, 1]),\n  'hmmlearn': {'loglikelihood': -234.03862145216826,\n   'omega_loss': 0.04114169918129121,\n   'accuracy': 1.0,\n   'time': 0.027327775955200195},\n  'dense': {'loglikelihood': -368.14646591562985,\n   'omega_loss': 0.48966959141992994,\n   'accuracy': 0.55,\n   'time': 5.000980854034424}}]"
     },
     "execution_count": 19,
     "metadata": {},
     "output_type": "execute_result"
    }
   ],
   "source": [
    "res[k]"
   ],
   "metadata": {
    "collapsed": false
   }
  }
 ],
 "metadata": {
  "kernelspec": {
   "display_name": "Python 3",
   "language": "python",
   "name": "python3"
  },
  "language_info": {
   "codemirror_mode": {
    "name": "ipython",
    "version": 2
   },
   "file_extension": ".py",
   "mimetype": "text/x-python",
   "name": "python",
   "nbconvert_exporter": "python",
   "pygments_lexer": "ipython2",
   "version": "2.7.6"
  }
 },
 "nbformat": 4,
 "nbformat_minor": 0
}
