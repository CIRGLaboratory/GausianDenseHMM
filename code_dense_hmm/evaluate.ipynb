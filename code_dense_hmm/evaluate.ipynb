{
 "cells": [
  {
   "cell_type": "code",
   "execution_count": null,
   "metadata": {},
   "outputs": [],
   "source": [
    "import os\n",
    "import plots\n",
    "import numpy as np\n",
    "\n",
    "import imp\n",
    "plots = imp.reload(plots)"
   ]
  },
  {
   "cell_type": "code",
   "execution_count": null,
   "metadata": {
    "scrolled": true
   },
   "outputs": [],
   "source": [
    "verbose = True\n",
    "\n",
    "# Specify the path to the experiment folder here\n",
    "# It should contain a \"experiment_directories.npy\" file\n",
    "# They must not end with /\n",
    "exp_dir = ''\n",
    "\n",
    "experiment_directories = np.load('%s/experiment_directories.npy' % exp_dir, allow_pickle=True).item()\n",
    "dict_file = '%s/test_data.npz' % exp_dir\n",
    "exp_list = list(experiment_directories.values())"
   ]
  },
  {
   "cell_type": "code",
   "execution_count": null,
   "metadata": {
    "scrolled": true
   },
   "outputs": [],
   "source": [
    "# This loads data from the experiments / computes co-occurrences and stores them to dict_file\n",
    "# Has only to be computed once per experiment series (load from dict_file afterwards in plot_exp_data)\n",
    "exp_dict = plots.evaluate_exp_series(exp_list, dict_file)"
   ]
  },
  {
   "cell_type": "code",
   "execution_count": null,
   "metadata": {},
   "outputs": [],
   "source": [
    "# Specify a path to store the plot files here; If None, they are shown only in notebook\n",
    "# The must not end with /\n",
    "plot_path = None\n",
    "\n",
    "_ = plots.plot_exp_data(dict_file, plot_path=plot_path) # Load from the dict_file like this\n",
    "# _ = plots.plot_exp_data(exp_dict, file=plot_file) # This is also possible"
   ]
  }
 ],
 "metadata": {
  "kernelspec": {
   "display_name": "Python [conda env:.conda-tf-2-gpu] *",
   "language": "python",
   "name": "conda-env-.conda-tf-2-gpu-py"
  },
  "language_info": {
   "codemirror_mode": {
    "name": "ipython",
    "version": 2
   },
   "file_extension": ".py",
   "mimetype": "text/x-python",
   "name": "python",
   "nbconvert_exporter": "python",
   "pygments_lexer": "ipython2",
   "version": "2.7.16"
  }
 },
 "nbformat": 4,
 "nbformat_minor": 2
}
