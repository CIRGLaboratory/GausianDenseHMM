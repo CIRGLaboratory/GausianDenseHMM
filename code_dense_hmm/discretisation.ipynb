{
 "cells": [
  {
   "cell_type": "code",
   "execution_count": 16,
   "metadata": {
    "collapsed": true,
    "pycharm": {
     "name": "#%%\n"
    }
   },
   "outputs": [],
   "source": [
    "import numpy as np\n",
    "import itertools\n",
    "from hmmlearn import hmm\n",
    "from models_gaussian import StandardGaussianHMM, GaussianDenseHMM, HMMLoggingMonitor\n",
    "import time\n",
    "from tqdm import tqdm\n",
    "from ssm.util import find_permutation\n",
    "import pickle\n",
    "import json\n",
    "from pathlib import Path\n",
    "import wandb\n",
    "from utils import dtv, permute_embeddings, compute_stationary,  empirical_coocs\n",
    "import scipy.stats as stats\n",
    "import matplotlib.pyplot as plt\n",
    "import seaborn as sns\n",
    "from scipy.special import erf\n",
    "from sklearn.cluster import KMeans"
   ]
  },
  {
   "cell_type": "code",
   "execution_count": 17,
   "outputs": [],
   "source": [
    "np.random.seed(2022)\n",
    "\n",
    "simple_model = {\"mu\": 10,\n",
    "                \"sigma\": 1}\n",
    "\n",
    "complicated_model = {\"mu\": 5,\n",
    "                     \"sigma\": 2}\n",
    "\n",
    "data_sizes = [(100, 400, 4)]  # (s, T, n) TODO:  fill\n",
    "\n",
    "ls = (2, 3, 4,  5)\n",
    "ms = (4, 8, 12, 64, 128)"
   ],
   "metadata": {
    "collapsed": false,
    "pycharm": {
     "name": "#%%\n"
    }
   }
  },
  {
   "cell_type": "code",
   "execution_count": 18,
   "outputs": [],
   "source": [
    "def prepare_params(n, simple_model=True):\n",
    "    A = np.exp(np.random.uniform(0, 5, size=(n, n)))\n",
    "    A /= A.sum(axis=1)[:, np.newaxis]\n",
    "\n",
    "    pi = compute_stationary(A)\n",
    "\n",
    "    if simple_model:\n",
    "        mu = np.arange(n) * 10\n",
    "        sigma = np.ones(shape=n)\n",
    "    else:\n",
    "        mu = np.random.uniform(0, n * 3, size=n)\n",
    "        sigma = np.random.uniform(.5, 1.75, size=n)\n",
    "    return pi, A, mu, sigma\n",
    "\n",
    "\n",
    "def my_hmm_sampler(pi, A, mu, sigma, T):\n",
    "    n = pi.shape[0]\n",
    "    X = [np.random.choice(np.arange(n), 1, replace=True, p=pi)]\n",
    "    for t in range(T - 1):\n",
    "        X.append(np.random.choice(np.arange(n), 1, replace=True, p=A[X[t][0], :]))\n",
    "    Y = np.concatenate([np.random.normal(mu[s[0]], sigma[s[0]], 1) for s in X]).reshape(-1, 1)\n",
    "    return X, Y\n",
    "\n",
    "\n",
    "def init_experiment(dsize, simple_model):\n",
    "    s = dsize[0]\n",
    "    T = dsize[1]\n",
    "    n = dsize[2]\n",
    "    pi, A, mu, sigma = prepare_params(n, simple_model)\n",
    "\n",
    "    data = [my_hmm_sampler(pi, A, mu, sigma, T) for _ in range(s)]\n",
    "    X_true = np.concatenate([np.concatenate(y[0]) for y in data])  # states\n",
    "    Y_true = np.concatenate([x[1] for x in data])  # observations\n",
    "    lengths = [len(x[1]) for x in data]\n",
    "\n",
    "    return s, T, n, pi, A, mu, sigma, X_true, Y_true, lengths"
   ],
   "metadata": {
    "collapsed": false,
    "pycharm": {
     "name": "#%%\n"
    }
   }
  },
  {
   "cell_type": "code",
   "execution_count": 19,
   "outputs": [],
   "source": [
    "def to_discrete_q(X, m):\n",
    "    nodes = np.concatenate([np.quantile(X, [i / m for i in range(1, m)]), np.array([np.infty])])\n",
    "    return (X > nodes.reshape(1, -1)).sum(axis=-1).reshape(-1, 1), nodes.reshape(-1)\n",
    "\n",
    "def to_discrete(X, m):\n",
    "    kmeans = KMeans(n_clusters=m, random_state=0).fit(Y_true)\n",
    "    nodes_tmp = np.sort(kmeans.cluster_centers_, axis=0)\n",
    "    nodes = np.concatenate([(nodes_tmp[1:] + nodes_tmp[:-1]) / 2, np.array([[np.infty]])])\n",
    "    return (X > nodes.reshape(1, -1)).sum(axis=-1).reshape(-1, 1), nodes.reshape(-1)\n",
    "\n",
    "def empirical_cooc_prob(Xd, m, lengths):\n",
    "    freqs, gt_omega_emp = empirical_coocs(Xd, m, lengths=lengths)\n",
    "    return np.reshape(gt_omega_emp, newshape=(m, m))\n",
    "\n",
    "def normal_cooc_prob(means, covars, Qs, A):\n",
    "    A_stationary = compute_stationary(A, False)\n",
    "    B_scalars_tmp = .5 * (1 + erf((Qs[:-1, np.newaxis] - np.transpose(means)) / np.transpose(covars) / np.sqrt(2)))\n",
    "    B_scalars_tmp = np.concatenate([np.zeros((1, B_scalars_tmp.shape[1])), B_scalars_tmp, np.ones((1, B_scalars_tmp.shape[1]))], axis=0)\n",
    "    B_scalars = np.transpose(B_scalars_tmp[1:, :] - B_scalars_tmp[:-1, :])\n",
    "    theta = A * A_stationary[:, None]\n",
    "    return np.matmul(np.transpose(B_scalars), np.matmul(theta, B_scalars))"
   ],
   "metadata": {
    "collapsed": false,
    "pycharm": {
     "name": "#%%\n"
    }
   }
  },
  {
   "cell_type": "code",
   "execution_count": 20,
   "outputs": [],
   "source": [
    "def visualize_distribution(mu, sigma, n, simple_model):\n",
    "    x = np.linspace(min(mu) - 3 * max(sigma), max(mu) + 3 * max(sigma), 10000)\n",
    "    for i in range(n):\n",
    "        plt.plot(x, stats.norm.pdf(x, mu[i], sigma[i]), label=str(i))\n",
    "    plt.title(f\"Normal PDFs n={n}-s={s}-T={T}-simple={simple_model}\")\n",
    "    plt.show()\n",
    "\n",
    "def visualize_matrix(mat, title=\"\", vmax=1):\n",
    "    sns.heatmap(mat, cmap=\"hot\", vmax=vmax)\n",
    "    plt.title(title)\n",
    "    plt.show()"
   ],
   "metadata": {
    "collapsed": false,
    "pycharm": {
     "name": "#%%\n"
    }
   }
  },
  {
   "cell_type": "code",
   "execution_count": 21,
   "outputs": [],
   "source": [
    "M=10\n",
    "EM_ITER = 20\n",
    "l = 8\n",
    "ITER = 100000\n",
    "TOLERANCE = 1e-4\n",
    "\n",
    "def em_scheduler(max_lr, it):\n",
    "    if it <= np.ceil(ITER / 3):\n",
    "        return max_lr * np.cos(3 * (np.ceil(ITER / 3) - it) * np.pi * .33 / ITER)\n",
    "    else:\n",
    "        return max_lr * np.cos((it - np.ceil(ITER / 3)) * np.pi * .66 / ITER) ** 3\n",
    "\n",
    "mstep_cofig = {\"cooc_lr\": 0.1, \"cooc_epochs\": ITER, \"l_uz\": 10,\n",
    "               \"em_lr\":  0.01, \"em_epochs\":20, 'loss_type': 'square', \"scheduler\": em_scheduler}\n",
    "s, T, n, pi, A, mu, sigma, X_true, Y_true, lengths = init_experiment(dsize=(100, 100, 10), simple_model=True)"
   ],
   "metadata": {
    "collapsed": false,
    "pycharm": {
     "name": "#%%\n"
    }
   }
  },
  {
   "cell_type": "code",
   "execution_count": 22,
   "outputs": [
    {
     "data": {
      "text/plain": "<IPython.core.display.HTML object>",
      "text/html": "Finishing last run (ID:1z1t52eu) before initializing another..."
     },
     "metadata": {},
     "output_type": "display_data"
    },
    {
     "data": {
      "text/plain": "<IPython.core.display.HTML object>",
      "text/html": "Waiting for W&B process to finish... <strong style=\"color:green\">(success).</strong>"
     },
     "metadata": {},
     "output_type": "display_data"
    },
    {
     "data": {
      "text/plain": "VBox(children=(Label(value='0.052 MB of 0.052 MB uploaded (0.000 MB deduped)\\r'), FloatProgress(value=1.0, max…",
      "application/vnd.jupyter.widget-view+json": {
       "version_major": 2,
       "version_minor": 0,
       "model_id": "ee1762feb4ae48559dcc24cf19ea7de5"
      }
     },
     "metadata": {},
     "output_type": "display_data"
    },
    {
     "data": {
      "text/plain": "<IPython.core.display.HTML object>",
      "text/html": "<style>\n    table.wandb td:nth-child(1) { padding: 0 10px; text-align: left ; width: auto;} td:nth-child(2) {text-align: left ; width: 100%}\n    .wandb-row { display: flex; flex-direction: row; flex-wrap: wrap; justify-content: flex-start; width: 100% }\n    .wandb-col { display: flex; flex-direction: column; flex-basis: 100%; flex: 1; padding: 10px; }\n    </style>\n<div class=\"wandb-row\"><div class=\"wandb-col\"><h3>Run history:</h3><br/><table class=\"wandb\"><tr><td>accuracy</td><td>▁▁▁▁▁▁▁▁▁▁▁▁▁▁▁▁▁▁▁▁▁▁▁▁▁▁▁▁▁▁▁▁▁▁▁▁▁▁▁▁</td></tr><tr><td>covars_mae</td><td>▂▂▂▁▁▁▁▁▁▁▁▁▁▁▁▂▂▂▃▃▄▄▅▅▆▆▆▇▇▇██████████</td></tr><tr><td>means_mae</td><td>▁▁▂▂▂▁▁▂████████████████████████████████</td></tr><tr><td>omage_dtv</td><td>█▂▂▃▄▄▄▄▂▂▁▅▅▅▅▅▅▅▅▅▅▅▅▅▅▅▅▅▅▅▅▅▅▅▅▅▅▅▅▅</td></tr><tr><td>startprob_dtv</td><td>▁▇▆▃▅▅▅▄▃▂▄▇████████████████████████████</td></tr><tr><td>time</td><td>▁▁▁▁▂▂▂▂▂▃▃▃▃▃▄▄▄▄▄▄▅▅▅▅▅▆▆▆▆▆▆▇▇▇▇▇████</td></tr><tr><td>total_log_prob</td><td>▁▁▁▁▁▁▁▁▁▁▁▁▁▁▁▁▁▁▁▁▁▁▁▁▁▁▁▁▁▁▁▁▁▁▁▁▁▁▁▁</td></tr><tr><td>transmat_dtv</td><td>███▇▇▇▅▃▁▁▁▄▄▄▄▄▄▄▄▄▄▄▄▄▄▄▄▄▄▄▄▄▄▄▄▄▄▄▄▄</td></tr></table><br/></div><div class=\"wandb-col\"><h3>Run summary:</h3><br/><table class=\"wandb\"><tr><td>accuracy</td><td>0.3017</td></tr><tr><td>covars_mae</td><td>1124.77778</td></tr><tr><td>means_mae</td><td>30.99093</td></tr><tr><td>omage_dtv</td><td>0.0568</td></tr><tr><td>startprob_dtv</td><td>0.04582</td></tr><tr><td>time</td><td>208.90213</td></tr><tr><td>total_log_prob</td><td>0</td></tr><tr><td>transmat_dtv</td><td>0.59735</td></tr></table><br/></div></div>"
     },
     "metadata": {},
     "output_type": "display_data"
    },
    {
     "data": {
      "text/plain": "<IPython.core.display.HTML object>",
      "text/html": "Synced <strong style=\"color:#cdcd00\">dense--l=8-lr=0.3-epochs=100000-Mon Aug  8 07:44:54 2022</strong>: <a href=\"https://wandb.ai/cirglaboratory/gaussian-dense-hmm/runs/1z1t52eu\" target=\"_blank\">https://wandb.ai/cirglaboratory/gaussian-dense-hmm/runs/1z1t52eu</a><br/>Synced 7 W&B file(s), 0 media file(s), 0 artifact file(s) and 1 other file(s)"
     },
     "metadata": {},
     "output_type": "display_data"
    },
    {
     "data": {
      "text/plain": "<IPython.core.display.HTML object>",
      "text/html": "Find logs at: <code>./wandb/run-20220808_074454-1z1t52eu/logs</code>"
     },
     "metadata": {},
     "output_type": "display_data"
    },
    {
     "data": {
      "text/plain": "<IPython.core.display.HTML object>",
      "text/html": "Successfully finished last run (ID:1z1t52eu). Initializing new run:<br/>"
     },
     "metadata": {},
     "output_type": "display_data"
    },
    {
     "data": {
      "text/plain": "<IPython.core.display.HTML object>",
      "text/html": "wandb version 0.13.1 is available!  To upgrade, please run:\n $ pip install wandb --upgrade"
     },
     "metadata": {},
     "output_type": "display_data"
    },
    {
     "data": {
      "text/plain": "<IPython.core.display.HTML object>",
      "text/html": "Tracking run with wandb version 0.12.21"
     },
     "metadata": {},
     "output_type": "display_data"
    },
    {
     "data": {
      "text/plain": "<IPython.core.display.HTML object>",
      "text/html": "Run data is saved locally in <code>/ziob/klaudia/recommender_system/src/models/gaussian_dense_hmm/dense-hmm/code_dense_hmm/wandb/run-20220808_074830-3nao6q8d</code>"
     },
     "metadata": {},
     "output_type": "display_data"
    },
    {
     "data": {
      "text/plain": "<IPython.core.display.HTML object>",
      "text/html": "Syncing run <strong><a href=\"https://wandb.ai/cirglaboratory/gaussian-dense-hmm/runs/3nao6q8d\" target=\"_blank\">PDFs</a></strong> to <a href=\"https://wandb.ai/cirglaboratory/gaussian-dense-hmm\" target=\"_blank\">Weights & Biases</a> (<a href=\"https://wandb.me/run\" target=\"_blank\">docs</a>)<br/>"
     },
     "metadata": {},
     "output_type": "display_data"
    },
    {
     "data": {
      "text/plain": "<IPython.core.display.HTML object>",
      "text/html": "Finishing last run (ID:3nao6q8d) before initializing another..."
     },
     "metadata": {},
     "output_type": "display_data"
    },
    {
     "data": {
      "text/plain": "<IPython.core.display.HTML object>",
      "text/html": "Waiting for W&B process to finish... <strong style=\"color:green\">(success).</strong>"
     },
     "metadata": {},
     "output_type": "display_data"
    },
    {
     "data": {
      "text/plain": "VBox(children=(Label(value='0.000 MB of 0.000 MB uploaded (0.000 MB deduped)\\r'), FloatProgress(value=1.0, max…",
      "application/vnd.jupyter.widget-view+json": {
       "version_major": 2,
       "version_minor": 0,
       "model_id": "3081de10c5c24587925cc7334b2d63b5"
      }
     },
     "metadata": {},
     "output_type": "display_data"
    },
    {
     "data": {
      "text/plain": "<IPython.core.display.HTML object>",
      "text/html": "Synced <strong style=\"color:#cdcd00\">PDFs</strong>: <a href=\"https://wandb.ai/cirglaboratory/gaussian-dense-hmm/runs/3nao6q8d\" target=\"_blank\">https://wandb.ai/cirglaboratory/gaussian-dense-hmm/runs/3nao6q8d</a><br/>Synced 6 W&B file(s), 0 media file(s), 0 artifact file(s) and 0 other file(s)"
     },
     "metadata": {},
     "output_type": "display_data"
    },
    {
     "data": {
      "text/plain": "<IPython.core.display.HTML object>",
      "text/html": "Find logs at: <code>./wandb/run-20220808_074830-3nao6q8d/logs</code>"
     },
     "metadata": {},
     "output_type": "display_data"
    },
    {
     "data": {
      "text/plain": "<IPython.core.display.HTML object>",
      "text/html": "Successfully finished last run (ID:3nao6q8d). Initializing new run:<br/>"
     },
     "metadata": {},
     "output_type": "display_data"
    },
    {
     "data": {
      "text/plain": "<IPython.core.display.HTML object>",
      "text/html": "wandb version 0.13.1 is available!  To upgrade, please run:\n $ pip install wandb --upgrade"
     },
     "metadata": {},
     "output_type": "display_data"
    },
    {
     "data": {
      "text/plain": "<IPython.core.display.HTML object>",
      "text/html": "Tracking run with wandb version 0.12.21"
     },
     "metadata": {},
     "output_type": "display_data"
    },
    {
     "data": {
      "text/plain": "<IPython.core.display.HTML object>",
      "text/html": "Run data is saved locally in <code>/ziob/klaudia/recommender_system/src/models/gaussian_dense_hmm/dense-hmm/code_dense_hmm/wandb/run-20220808_074854-24e1glxx</code>"
     },
     "metadata": {},
     "output_type": "display_data"
    },
    {
     "data": {
      "text/plain": "<IPython.core.display.HTML object>",
      "text/html": "Syncing run <strong><a href=\"https://wandb.ai/cirglaboratory/gaussian-dense-hmm/runs/24e1glxx\" target=\"_blank\">dense--l=8-lr=0.1-epochs=100000-Mon Aug  8 07:48:54 2022</a></strong> to <a href=\"https://wandb.ai/cirglaboratory/gaussian-dense-hmm\" target=\"_blank\">Weights & Biases</a> (<a href=\"https://wandb.me/run\" target=\"_blank\">docs</a>)<br/>"
     },
     "metadata": {},
     "output_type": "display_data"
    },
    {
     "data": {
      "text/html": "<button onClick=\"this.nextSibling.style.display='block';this.style.display='none';\">Display W&B run</button><iframe src=\"https://wandb.ai/cirglaboratory/gaussian-dense-hmm/runs/24e1glxx?jupyter=true\" style=\"border:none;width:100%;height:420px;display:none;\"></iframe>",
      "text/plain": "<wandb.sdk.wandb_run.Run at 0x7fcaabd24a60>"
     },
     "execution_count": 22,
     "metadata": {},
     "output_type": "execute_result"
    }
   ],
   "source": [
    "t = time.localtime()\n",
    "\n",
    "true_values = {\n",
    "    \"states\": X_true,\n",
    "    \"transmat\": A,\n",
    "    \"startprob\": pi,\n",
    "    \"means\": mu,\n",
    "    \"covars\": sigma\n",
    "}\n",
    "\n",
    "wandb_params = {\n",
    "    \"init\": {\n",
    "        \"project\": \"gaussian-dense-hmm\",\n",
    "        \"entity\": \"cirglaboratory\",\n",
    "        \"save_code\": True,\n",
    "        \"group\": f\"benchmark-{t.tm_year}-{t.tm_mon}-{t.tm_mday}-debug4\",\n",
    "        \"job_type\": f\"n={n}-s={s}-T={T}-simple={simple_model}\",\n",
    "        \"name\": f\"PDFs\",\n",
    "        \"reinit\": True\n",
    "    },\n",
    "    \"config\": {\n",
    "        \"n\": n,\n",
    "        \"s\": s,\n",
    "        \"T\": T,\n",
    "        \"model\": None,\n",
    "        \"m\": None,\n",
    "        \"l\": None,\n",
    "        \"lr\":  0,\n",
    "        \"em_epochs\":  0,\n",
    "        \"em_iter\": EM_ITER,\n",
    "        \"cooc_epochs\": ITER,\n",
    "        \"epochs\": 0,\n",
    "        \"simple_model\": simple_model\n",
    "    }\n",
    "}\n",
    "\n",
    "wandb.init(**wandb_params[\"init\"], config=wandb_params[\"config\"])\n",
    "\n",
    "wandb_params[\"init\"].update({\"job_type\": f\"n={n}-s={s}-T={s}-simple={simple_model}\",\n",
    "                             \"name\": f\"dense--l={l}-lr={mstep_cofig['cooc_lr']}-epochs={mstep_cofig['cooc_epochs']}-{time.asctime()}\"})\n",
    "wandb_params[\"config\"].update(dict(model=\"dense_cooc_em_penalty\", m=n, l=l, lr=mstep_cofig['cooc_lr'], em_epochs=10,\n",
    "                                   em_iter=EM_ITER, cooc_epochs=mstep_cofig['cooc_epochs'], epochs=mstep_cofig['cooc_epochs'],\n",
    "                                   loss_type='square', scheduler=True))\n",
    "\n",
    "wandb.init(**wandb_params[\"init\"], config=wandb_params[\"config\"])\n"
   ],
   "metadata": {
    "collapsed": false,
    "pycharm": {
     "name": "#%%\n"
    }
   }
  },
  {
   "cell_type": "code",
   "execution_count": 32,
   "outputs": [],
   "source": [
    "nodes = np.concatenate([np.array([-np.infty, Y_true.min() +  1e-3]), nodes, np.array([Y_true.max() - 1e-3])])"
   ],
   "metadata": {
    "collapsed": false,
    "pycharm": {
     "name": "#%%\n"
    }
   }
  },
  {
   "cell_type": "code",
   "execution_count": 33,
   "outputs": [
    {
     "data": {
      "text/plain": "<IPython.core.display.HTML object>",
      "text/html": "Finishing last run (ID:36nnk6vb) before initializing another..."
     },
     "metadata": {},
     "output_type": "display_data"
    },
    {
     "data": {
      "text/plain": "<IPython.core.display.HTML object>",
      "text/html": "Waiting for W&B process to finish... <strong style=\"color:green\">(success).</strong>"
     },
     "metadata": {},
     "output_type": "display_data"
    },
    {
     "data": {
      "text/plain": "VBox(children=(Label(value='0.052 MB of 0.052 MB uploaded (0.000 MB deduped)\\r'), FloatProgress(value=1.0, max…",
      "application/vnd.jupyter.widget-view+json": {
       "version_major": 2,
       "version_minor": 0,
       "model_id": "e284aa2e85384929acf05e77624a6a5c"
      }
     },
     "metadata": {},
     "output_type": "display_data"
    },
    {
     "data": {
      "text/plain": "<IPython.core.display.HTML object>",
      "text/html": "<style>\n    table.wandb td:nth-child(1) { padding: 0 10px; text-align: left ; width: auto;} td:nth-child(2) {text-align: left ; width: 100%}\n    .wandb-row { display: flex; flex-direction: row; flex-wrap: wrap; justify-content: flex-start; width: 100% }\n    .wandb-col { display: flex; flex-direction: column; flex-basis: 100%; flex: 1; padding: 10px; }\n    </style>\n<div class=\"wandb-row\"><div class=\"wandb-col\"><h3>Run history:</h3><br/><table class=\"wandb\"><tr><td>accuracy</td><td>▁</td></tr><tr><td>means_mae</td><td>▁</td></tr><tr><td>startprob_dtv</td><td>▁</td></tr><tr><td>time</td><td>▁</td></tr><tr><td>total_log_prob</td><td>▁</td></tr><tr><td>transmat_dtv</td><td>▁</td></tr></table><br/></div><div class=\"wandb-col\"><h3>Run summary:</h3><br/><table class=\"wandb\"><tr><td>accuracy</td><td>0.2684</td></tr><tr><td>covars_mae</td><td>nan</td></tr><tr><td>means_mae</td><td>31.21324</td></tr><tr><td>omage_dtv</td><td>nan</td></tr><tr><td>startprob_dtv</td><td>0.06173</td></tr><tr><td>time</td><td>38.50912</td></tr><tr><td>total_log_prob</td><td>0</td></tr><tr><td>transmat_dtv</td><td>0.72005</td></tr></table><br/></div></div>"
     },
     "metadata": {},
     "output_type": "display_data"
    },
    {
     "data": {
      "text/plain": "<IPython.core.display.HTML object>",
      "text/html": "Synced <strong style=\"color:#cdcd00\">dense--l=8-lr=0.3-epochs=100000-Mon Aug  8 07:50:14 2022</strong>: <a href=\"https://wandb.ai/cirglaboratory/gaussian-dense-hmm/runs/36nnk6vb\" target=\"_blank\">https://wandb.ai/cirglaboratory/gaussian-dense-hmm/runs/36nnk6vb</a><br/>Synced 7 W&B file(s), 0 media file(s), 0 artifact file(s) and 1 other file(s)"
     },
     "metadata": {},
     "output_type": "display_data"
    },
    {
     "data": {
      "text/plain": "<IPython.core.display.HTML object>",
      "text/html": "Find logs at: <code>./wandb/run-20220808_075014-36nnk6vb/logs</code>"
     },
     "metadata": {},
     "output_type": "display_data"
    },
    {
     "data": {
      "text/plain": "<IPython.core.display.HTML object>",
      "text/html": "Successfully finished last run (ID:36nnk6vb). Initializing new run:<br/>"
     },
     "metadata": {},
     "output_type": "display_data"
    },
    {
     "data": {
      "text/plain": "<IPython.core.display.HTML object>",
      "text/html": "wandb version 0.13.1 is available!  To upgrade, please run:\n $ pip install wandb --upgrade"
     },
     "metadata": {},
     "output_type": "display_data"
    },
    {
     "data": {
      "text/plain": "<IPython.core.display.HTML object>",
      "text/html": "Tracking run with wandb version 0.12.21"
     },
     "metadata": {},
     "output_type": "display_data"
    },
    {
     "data": {
      "text/plain": "<IPython.core.display.HTML object>",
      "text/html": "Run data is saved locally in <code>/ziob/klaudia/recommender_system/src/models/gaussian_dense_hmm/dense-hmm/code_dense_hmm/wandb/run-20220808_075122-yzfw7gxd</code>"
     },
     "metadata": {},
     "output_type": "display_data"
    },
    {
     "data": {
      "text/plain": "<IPython.core.display.HTML object>",
      "text/html": "Syncing run <strong><a href=\"https://wandb.ai/cirglaboratory/gaussian-dense-hmm/runs/yzfw7gxd\" target=\"_blank\">dense--l=8-lr=0.3-epochs=100000-Mon Aug  8 07:51:22 2022</a></strong> to <a href=\"https://wandb.ai/cirglaboratory/gaussian-dense-hmm\" target=\"_blank\">Weights & Biases</a> (<a href=\"https://wandb.me/run\" target=\"_blank\">docs</a>)<br/>"
     },
     "metadata": {},
     "output_type": "display_data"
    },
    {
     "ename": "ValueError",
     "evalue": "Dimensions must be equal, but are 12 and 15 for '{{node sub_6}} = Sub[T=DT_DOUBLE](Placeholder, MatMul_1)' with input shapes: [12,12], [15,15].",
     "output_type": "error",
     "traceback": [
      "\u001B[0;31m---------------------------------------------------------------------------\u001B[0m",
      "\u001B[0;31mValueError\u001B[0m                                Traceback (most recent call last)",
      "Input \u001B[0;32mIn [33]\u001B[0m, in \u001B[0;36m<cell line: 1>\u001B[0;34m()\u001B[0m\n\u001B[1;32m     14\u001B[0m densehmm\u001B[38;5;241m.\u001B[39mmeans_ \u001B[38;5;241m=\u001B[39m mu\u001B[38;5;241m.\u001B[39mreshape(\u001B[38;5;241m-\u001B[39m\u001B[38;5;241m1\u001B[39m, \u001B[38;5;241m1\u001B[39m)\n\u001B[1;32m     15\u001B[0m start \u001B[38;5;241m=\u001B[39m time\u001B[38;5;241m.\u001B[39mperf_counter()\n\u001B[0;32m---> 16\u001B[0m \u001B[43mdensehmm\u001B[49m\u001B[38;5;241;43m.\u001B[39;49m\u001B[43mfit_coocs\u001B[49m\u001B[43m(\u001B[49m\u001B[43mY_true\u001B[49m\u001B[43m,\u001B[49m\u001B[43m \u001B[49m\u001B[43mlengths\u001B[49m\u001B[43m)\u001B[49m\n\u001B[1;32m     17\u001B[0m \u001B[38;5;66;03m# densehmm.fit(Y_true, lengths)\u001B[39;00m\n\u001B[1;32m     18\u001B[0m time_tmp \u001B[38;5;241m=\u001B[39m time\u001B[38;5;241m.\u001B[39mperf_counter() \u001B[38;5;241m-\u001B[39m start\n",
      "File \u001B[0;32m/ziob/klaudia/recommender_system/src/models/gaussian_dense_hmm/dense-hmm/code_dense_hmm/models_gaussian.py:1093\u001B[0m, in \u001B[0;36mGaussianDenseHMM.fit_coocs\u001B[0;34m(self, X, lengths, val, val_lengths, gt_AB)\u001B[0m\n\u001B[1;32m   1092\u001B[0m \u001B[38;5;28;01mdef\u001B[39;00m \u001B[38;5;21mfit_coocs\u001B[39m(\u001B[38;5;28mself\u001B[39m, X, lengths, val\u001B[38;5;241m=\u001B[39m\u001B[38;5;28;01mNone\u001B[39;00m, val_lengths\u001B[38;5;241m=\u001B[39m\u001B[38;5;28;01mNone\u001B[39;00m, gt_AB\u001B[38;5;241m=\u001B[39m\u001B[38;5;28;01mNone\u001B[39;00m):  \u001B[38;5;66;03m# TODO: translate parameters into coocurences and update parameters\u001B[39;00m\n\u001B[0;32m-> 1093\u001B[0m     X, n_seqs, max_seqlen \u001B[38;5;241m=\u001B[39m \u001B[38;5;28;43mself\u001B[39;49m\u001B[38;5;241;43m.\u001B[39;49m\u001B[43m_init\u001B[49m\u001B[43m(\u001B[49m\u001B[43mX\u001B[49m\u001B[43m,\u001B[49m\u001B[43m \u001B[49m\u001B[43mlengths\u001B[49m\u001B[43m)\u001B[49m\n\u001B[1;32m   1095\u001B[0m     gt_omega \u001B[38;5;241m=\u001B[39m \u001B[38;5;28;01mNone\u001B[39;00m\n\u001B[1;32m   1096\u001B[0m     freqs, gt_omega_emp \u001B[38;5;241m=\u001B[39m empirical_coocs(\u001B[38;5;28mself\u001B[39m\u001B[38;5;241m.\u001B[39m_to_discrete(X), \u001B[38;5;28mself\u001B[39m\u001B[38;5;241m.\u001B[39mdiscrete_observables, lengths\u001B[38;5;241m=\u001B[39mlengths)\n",
      "File \u001B[0;32m/ziob/klaudia/recommender_system/src/models/gaussian_dense_hmm/dense-hmm/code_dense_hmm/models_gaussian.py:930\u001B[0m, in \u001B[0;36mGaussianDenseHMM._init\u001B[0;34m(self, X, lengths)\u001B[0m\n\u001B[1;32m    928\u001B[0m \u001B[38;5;28mself\u001B[39m\u001B[38;5;241m.\u001B[39mtilde_O \u001B[38;5;241m=\u001B[39m np\u001B[38;5;241m.\u001B[39mones((O\u001B[38;5;241m.\u001B[39mshape[\u001B[38;5;241m0\u001B[39m], O\u001B[38;5;241m.\u001B[39mshape[\u001B[38;5;241m1\u001B[39m], \u001B[38;5;28mself\u001B[39m\u001B[38;5;241m.\u001B[39mn_dims))\n\u001B[1;32m    929\u001B[0m \u001B[38;5;66;03m# INFO:  np.eye - miacierz identycznościowa\u001B[39;00m\n\u001B[0;32m--> 930\u001B[0m \u001B[38;5;28;43mself\u001B[39;49m\u001B[38;5;241;43m.\u001B[39;49m\u001B[43m_init_tf\u001B[49m\u001B[43m(\u001B[49m\u001B[43mO\u001B[49m\u001B[43m)\u001B[49m\n\u001B[1;32m    931\u001B[0m \u001B[38;5;28;01mreturn\u001B[39;00m X, n_seqs, max_seqlen\n",
      "File \u001B[0;32m/ziob/klaudia/recommender_system/src/models/gaussian_dense_hmm/dense-hmm/code_dense_hmm/models_gaussian.py:916\u001B[0m, in \u001B[0;36mGaussianDenseHMM._init_tf\u001B[0;34m(self, X)\u001B[0m\n\u001B[1;32m    914\u001B[0m \u001B[38;5;28;01mif\u001B[39;00m \u001B[38;5;28mself\u001B[39m\u001B[38;5;241m.\u001B[39mgraph \u001B[38;5;129;01mis\u001B[39;00m \u001B[38;5;129;01mnot\u001B[39;00m \u001B[38;5;28;01mNone\u001B[39;00m:\n\u001B[1;32m    915\u001B[0m     \u001B[38;5;28;01mreturn\u001B[39;00m \u001B[38;5;28;01mNone\u001B[39;00m\n\u001B[0;32m--> 916\u001B[0m \u001B[38;5;28;43mself\u001B[39;49m\u001B[38;5;241;43m.\u001B[39;49m\u001B[43m_build_tf_graph\u001B[49m\u001B[43m(\u001B[49m\u001B[43mX\u001B[49m\u001B[43m)\u001B[49m\n\u001B[1;32m    917\u001B[0m \u001B[38;5;28mself\u001B[39m\u001B[38;5;241m.\u001B[39msession \u001B[38;5;241m=\u001B[39m tf\u001B[38;5;241m.\u001B[39mSession(graph\u001B[38;5;241m=\u001B[39m\u001B[38;5;28mself\u001B[39m\u001B[38;5;241m.\u001B[39mgraph)\n\u001B[1;32m    918\u001B[0m \u001B[38;5;28mself\u001B[39m\u001B[38;5;241m.\u001B[39msession\u001B[38;5;241m.\u001B[39mrun(\u001B[38;5;28mself\u001B[39m\u001B[38;5;241m.\u001B[39minit_)\n",
      "File \u001B[0;32m/ziob/klaudia/recommender_system/src/models/gaussian_dense_hmm/dense-hmm/code_dense_hmm/models_gaussian.py:908\u001B[0m, in \u001B[0;36mGaussianDenseHMM._build_tf_graph\u001B[0;34m(self, X)\u001B[0m\n\u001B[1;32m    906\u001B[0m     B_scalars \u001B[38;5;241m=\u001B[39m tf\u001B[38;5;241m.\u001B[39mtranspose(B_scalars_tmp[\u001B[38;5;241m1\u001B[39m:, :] \u001B[38;5;241m-\u001B[39m B_scalars_tmp[:\u001B[38;5;241m-\u001B[39m\u001B[38;5;241m1\u001B[39m, :], name\u001B[38;5;241m=\u001B[39m\u001B[38;5;124m\"\u001B[39m\u001B[38;5;124mB_scalars_cooc\u001B[39m\u001B[38;5;124m\"\u001B[39m)\n\u001B[1;32m    907\u001B[0m     \u001B[38;5;66;03m# self.B_scalars_cooc = B_scalars  # TODO: remove\u001B[39;00m\n\u001B[0;32m--> 908\u001B[0m     \u001B[38;5;28mself\u001B[39m\u001B[38;5;241m.\u001B[39mloss_cooc, \u001B[38;5;28mself\u001B[39m\u001B[38;5;241m.\u001B[39mloss_cooc_update, \u001B[38;5;28mself\u001B[39m\u001B[38;5;241m.\u001B[39mA_stationary, \u001B[38;5;28mself\u001B[39m\u001B[38;5;241m.\u001B[39momega, \u001B[38;5;28mself\u001B[39m\u001B[38;5;241m.\u001B[39mlr_cooc_placeholder \u001B[38;5;241m=\u001B[39m \u001B[38;5;28mself\u001B[39m\u001B[38;5;241m.\u001B[39m_build_tf_coocs_graph(\n\u001B[1;32m    909\u001B[0m         A_from_reps_hmmlearn, B_scalars, \u001B[38;5;28mself\u001B[39m\u001B[38;5;241m.\u001B[39momega_gt_ph, \u001B[38;5;28mself\u001B[39m\u001B[38;5;241m.\u001B[39mpenalty)\n\u001B[1;32m    911\u001B[0m \u001B[38;5;28mself\u001B[39m\u001B[38;5;241m.\u001B[39minit_ \u001B[38;5;241m=\u001B[39m tf\u001B[38;5;241m.\u001B[39mglobal_variables_initializer()\n",
      "File \u001B[0;32m/ziob/klaudia/recommender_system/src/models/gaussian_dense_hmm/dense-hmm/code_dense_hmm/models_gaussian.py:783\u001B[0m, in \u001B[0;36mGaussianDenseHMM._build_tf_coocs_graph\u001B[0;34m(self, A_from_reps_hmmlearn, B_scalars, omega_gt, penalty)\u001B[0m\n\u001B[1;32m    781\u001B[0m omega \u001B[38;5;241m=\u001B[39m tf\u001B[38;5;241m.\u001B[39mmatmul(tf\u001B[38;5;241m.\u001B[39mtranspose(B_scalars), tf\u001B[38;5;241m.\u001B[39mmatmul(theta, B_scalars))\n\u001B[1;32m    782\u001B[0m \u001B[38;5;28;01mif\u001B[39;00m \u001B[38;5;28mself\u001B[39m\u001B[38;5;241m.\u001B[39mloss_type \u001B[38;5;241m==\u001B[39m \u001B[38;5;124m\"\u001B[39m\u001B[38;5;124msquare\u001B[39m\u001B[38;5;124m\"\u001B[39m:\n\u001B[0;32m--> 783\u001B[0m     loss_cooc \u001B[38;5;241m=\u001B[39m tf\u001B[38;5;241m.\u001B[39mreduce_sum(tf\u001B[38;5;241m.\u001B[39msquare(\u001B[43momega_gt\u001B[49m\u001B[43m \u001B[49m\u001B[38;5;241;43m-\u001B[39;49m\u001B[43m \u001B[49m\u001B[43momega\u001B[49m))\n\u001B[1;32m    784\u001B[0m \u001B[38;5;28;01melif\u001B[39;00m \u001B[38;5;28mself\u001B[39m\u001B[38;5;241m.\u001B[39mloss_type \u001B[38;5;241m==\u001B[39m \u001B[38;5;124m\"\u001B[39m\u001B[38;5;124msquare_log\u001B[39m\u001B[38;5;124m\"\u001B[39m:\n\u001B[1;32m    785\u001B[0m     loss_cooc \u001B[38;5;241m=\u001B[39m tf\u001B[38;5;241m.\u001B[39mreduce_sum(tf\u001B[38;5;241m.\u001B[39msquare(tf\u001B[38;5;241m.\u001B[39mlog(omega_gt) \u001B[38;5;241m-\u001B[39m tf\u001B[38;5;241m.\u001B[39mlog(omega)))\n",
      "File \u001B[0;32m/ziob/klaudia/miniconda3/envs/hmm/lib/python3.10/site-packages/tensorflow/python/util/traceback_utils.py:153\u001B[0m, in \u001B[0;36mfilter_traceback.<locals>.error_handler\u001B[0;34m(*args, **kwargs)\u001B[0m\n\u001B[1;32m    151\u001B[0m \u001B[38;5;28;01mexcept\u001B[39;00m \u001B[38;5;167;01mException\u001B[39;00m \u001B[38;5;28;01mas\u001B[39;00m e:\n\u001B[1;32m    152\u001B[0m   filtered_tb \u001B[38;5;241m=\u001B[39m _process_traceback_frames(e\u001B[38;5;241m.\u001B[39m__traceback__)\n\u001B[0;32m--> 153\u001B[0m   \u001B[38;5;28;01mraise\u001B[39;00m e\u001B[38;5;241m.\u001B[39mwith_traceback(filtered_tb) \u001B[38;5;28;01mfrom\u001B[39;00m \u001B[38;5;28mNone\u001B[39m\n\u001B[1;32m    154\u001B[0m \u001B[38;5;28;01mfinally\u001B[39;00m:\n\u001B[1;32m    155\u001B[0m   \u001B[38;5;28;01mdel\u001B[39;00m filtered_tb\n",
      "File \u001B[0;32m/ziob/klaudia/miniconda3/envs/hmm/lib/python3.10/site-packages/tensorflow/python/framework/ops.py:1963\u001B[0m, in \u001B[0;36m_create_c_op\u001B[0;34m(graph, node_def, inputs, control_inputs, op_def)\u001B[0m\n\u001B[1;32m   1960\u001B[0m   c_op \u001B[38;5;241m=\u001B[39m pywrap_tf_session\u001B[38;5;241m.\u001B[39mTF_FinishOperation(op_desc)\n\u001B[1;32m   1961\u001B[0m \u001B[38;5;28;01mexcept\u001B[39;00m errors\u001B[38;5;241m.\u001B[39mInvalidArgumentError \u001B[38;5;28;01mas\u001B[39;00m e:\n\u001B[1;32m   1962\u001B[0m   \u001B[38;5;66;03m# Convert to ValueError for backwards compatibility.\u001B[39;00m\n\u001B[0;32m-> 1963\u001B[0m   \u001B[38;5;28;01mraise\u001B[39;00m \u001B[38;5;167;01mValueError\u001B[39;00m(e\u001B[38;5;241m.\u001B[39mmessage)\n\u001B[1;32m   1965\u001B[0m \u001B[38;5;28;01mreturn\u001B[39;00m c_op\n",
      "\u001B[0;31mValueError\u001B[0m: Dimensions must be equal, but are 12 and 15 for '{{node sub_6}} = Sub[T=DT_DOUBLE](Placeholder, MatMul_1)' with input shapes: [12,12], [15,15]."
     ]
    }
   ],
   "source": [
    "for  _  in range(10):\n",
    "    mstep_cofig = {\"cooc_lr\": 0.3, \"cooc_epochs\": ITER, \"l_uz\": 10,\n",
    "               \"em_lr\":  0.01, \"em_epochs\":20, 'loss_type': 'square', \"scheduler\": em_scheduler}\n",
    "    wandb_params[\"init\"].update({\"name\": f\"dense--l={l}-lr={mstep_cofig['cooc_lr']}-epochs={mstep_cofig['cooc_epochs']}-{time.asctime()}\"})\n",
    "    hmm_monitor = HMMLoggingMonitor(tol=TOLERANCE, n_iter=0, verbose=True,\n",
    "                                    wandb_log=True, wandb_params=wandb_params, true_vals=true_values,\n",
    "                                    log_config={'metrics_after_convergence': True})\n",
    "    densehmm = GaussianDenseHMM(n, mstep_config=mstep_cofig,\n",
    "                                covariance_type='diag', opt_schemes={\"cooc\", \"em\"},\n",
    "                                nodes=nodes,\n",
    "                                discrete_observables=n+2, em_iter=20,\n",
    "                                logging_monitor=hmm_monitor,\n",
    "                                init_params=\"\", params=\"stmc\", early_stopping=True)\n",
    "    densehmm.means_ = mu.reshape(-1, 1)\n",
    "    start = time.perf_counter()\n",
    "    densehmm.fit_coocs(Y_true, lengths)\n",
    "    # densehmm.fit(Y_true, lengths)\n",
    "    time_tmp = time.perf_counter() - start"
   ],
   "metadata": {
    "collapsed": false,
    "pycharm": {
     "name": "#%%\n"
    }
   }
  },
  {
   "cell_type": "code",
   "execution_count": null,
   "outputs": [],
   "source": [
    "feed_dict = {densehmm.omega_gt_ph: omega_emp}\n",
    "feed_dict[densehmm.A_stationary] = compute_stationary(densehmm.session.run(densehmm.A_from_reps_hmmlearn), verbose=False)\n",
    "feed_dict[densehmm.lr_cooc_placeholder] = 0.1\n",
    "omega_learned = densehmm.session.run(densehmm.omega, feed_dict)"
   ],
   "metadata": {
    "collapsed": false,
    "pycharm": {
     "name": "#%%\n"
    }
   }
  },
  {
   "cell_type": "code",
   "execution_count": null,
   "outputs": [],
   "source": [
    "vmax = max(omega_learned.max(), omega_gt.max(), (omega_learned - omega_gt).max()) +  1e-1\n",
    "visualize_matrix(omega_learned, title=\"Learned coocurences\", vmax=vmax)\n",
    "visualize_matrix(omega_gt, title=\"GT distribution coocurences\",  vmax=vmax)\n",
    "visualize_matrix(omega_emp, title=\"Empirical coocurences\", vmax=vmax)"
   ],
   "metadata": {
    "collapsed": false,
    "pycharm": {
     "name": "#%%\n"
    }
   }
  },
  {
   "cell_type": "code",
   "execution_count": null,
   "outputs": [],
   "source": [
    "plt.vlines(nodes, np.zeros(nodes.shape), np.ones(nodes.shape) * 0.33, color=\"blue\", alpha = 0.8)\n",
    "plt.hist(Y_true, bins=[i for i in range(100)], color=\"black\", density=True)\n",
    "x = np.linspace(min(mu) - 3 * max(sigma), max(mu) + 3*max(sigma), 10000).reshape(-1)\n",
    "for i in range(n):\n",
    "    plt.plot(x, stats.norm.pdf(x, densehmm.means_[i], densehmm.covars_[i, 0]).reshape(-1), label=str(i), color=\"red\")\n",
    "plt.title(\"Distributions and nodes\")\n",
    "plt.show()"
   ],
   "metadata": {
    "collapsed": false,
    "pycharm": {
     "name": "#%%\n"
    }
   }
  },
  {
   "cell_type": "code",
   "execution_count": null,
   "outputs": [],
   "source": [
    "stats.norm.pdf(x, densehmm.means_[i], densehmm.covars_[i, 0]).reshape(-1)"
   ],
   "metadata": {
    "collapsed": false,
    "pycharm": {
     "name": "#%%\n"
    }
   }
  },
  {
   "cell_type": "code",
   "execution_count": null,
   "outputs": [],
   "source": [
    "densehmm.fit(Y_true, lengths)"
   ],
   "metadata": {
    "collapsed": false,
    "pycharm": {
     "name": "#%%\n"
    }
   }
  },
  {
   "cell_type": "code",
   "execution_count": null,
   "outputs": [],
   "source": [
    "densehmm.means_"
   ],
   "metadata": {
    "collapsed": false,
    "pycharm": {
     "name": "#%%\n"
    }
   }
  },
  {
   "cell_type": "code",
   "execution_count": null,
   "outputs": [],
   "source": [
    "plt.vlines(nodes, np.zeros(nodes.shape), np.ones(nodes.shape) * 0.33, color=\"blue\", alpha = 0.8)\n",
    "plt.hist(Y_true, bins=[i for i in range(100)], color=\"black\", density=True)\n",
    "x = np.linspace(min(mu) - 3 * max(sigma), max(mu) + 3*max(sigma), 10000).reshape(-1)\n",
    "for i in range(n):\n",
    "    plt.plot(x, stats.norm.pdf(x, densehmm.means_[i], densehmm.covars_[i, 0]).reshape(-1), label=str(i), color=\"red\")\n",
    "plt.title(\"Distributions and nodes\")\n",
    "plt.show()"
   ],
   "metadata": {
    "collapsed": false,
    "pycharm": {
     "name": "#%%\n"
    }
   }
  },
  {
   "cell_type": "code",
   "execution_count": null,
   "outputs": [],
   "source": [],
   "metadata": {
    "collapsed": false,
    "pycharm": {
     "name": "#%%\n"
    }
   }
  }
 ],
 "metadata": {
  "kernelspec": {
   "display_name": "Python 3",
   "language": "python",
   "name": "python3"
  },
  "language_info": {
   "codemirror_mode": {
    "name": "ipython",
    "version": 2
   },
   "file_extension": ".py",
   "mimetype": "text/x-python",
   "name": "python",
   "nbconvert_exporter": "python",
   "pygments_lexer": "ipython2",
   "version": "2.7.6"
  }
 },
 "nbformat": 4,
 "nbformat_minor": 0
}